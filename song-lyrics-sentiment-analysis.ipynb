{
 "cells": [
  {
   "cell_type": "markdown",
   "metadata": {},
   "source": [
    "# Sentiment Analysis with Song Lyrics"
   ]
  },
  {
   "cell_type": "code",
   "execution_count": 335,
   "metadata": {},
   "outputs": [
    {
     "data": {
      "text/html": [
       "<div>\n",
       "<style scoped>\n",
       "    .dataframe tbody tr th:only-of-type {\n",
       "        vertical-align: middle;\n",
       "    }\n",
       "\n",
       "    .dataframe tbody tr th {\n",
       "        vertical-align: top;\n",
       "    }\n",
       "\n",
       "    .dataframe thead th {\n",
       "        text-align: right;\n",
       "    }\n",
       "</style>\n",
       "<table border=\"1\" class=\"dataframe\">\n",
       "  <thead>\n",
       "    <tr style=\"text-align: right;\">\n",
       "      <th></th>\n",
       "      <th>Year</th>\n",
       "      <th>Album</th>\n",
       "      <th>Song</th>\n",
       "      <th>Lyrics</th>\n",
       "    </tr>\n",
       "  </thead>\n",
       "  <tbody>\n",
       "    <tr>\n",
       "      <th>0</th>\n",
       "      <td>2006</td>\n",
       "      <td>Taylor-Swift</td>\n",
       "      <td>Mary's-Song-(Oh-My-My-My)</td>\n",
       "      <td>She said, I was seven and you were nine\\nI loo...</td>\n",
       "    </tr>\n",
       "    <tr>\n",
       "      <th>1</th>\n",
       "      <td>2006</td>\n",
       "      <td>Taylor-Swift</td>\n",
       "      <td>Sugar,-We're-Going-Down</td>\n",
       "      <td>Am I more than you bargained for yet?\\nI've be...</td>\n",
       "    </tr>\n",
       "    <tr>\n",
       "      <th>2</th>\n",
       "      <td>2006</td>\n",
       "      <td>Taylor-Swift</td>\n",
       "      <td>A-Perfectly-Good-Heart</td>\n",
       "      <td>Why would you wanna break a perfectly good hea...</td>\n",
       "    </tr>\n",
       "    <tr>\n",
       "      <th>3</th>\n",
       "      <td>2006</td>\n",
       "      <td>Taylor-Swift</td>\n",
       "      <td>Tim-McGraw</td>\n",
       "      <td>He said the way my blue eyes shined\\nPut those...</td>\n",
       "    </tr>\n",
       "    <tr>\n",
       "      <th>4</th>\n",
       "      <td>2006</td>\n",
       "      <td>Taylor-Swift</td>\n",
       "      <td>I’m-Only-Me-When-I’m-with-You</td>\n",
       "      <td>Friday night beneath the stars\\nIn a field beh...</td>\n",
       "    </tr>\n",
       "    <tr>\n",
       "      <th>...</th>\n",
       "      <td>...</td>\n",
       "      <td>...</td>\n",
       "      <td>...</td>\n",
       "      <td>...</td>\n",
       "    </tr>\n",
       "    <tr>\n",
       "      <th>145</th>\n",
       "      <td>2020</td>\n",
       "      <td>evermore</td>\n",
       "      <td>​tolerate-it</td>\n",
       "      <td>I sit and watch you reading with your head low...</td>\n",
       "    </tr>\n",
       "    <tr>\n",
       "      <th>146</th>\n",
       "      <td>2020</td>\n",
       "      <td>evermore</td>\n",
       "      <td>​no-body,-no-crime</td>\n",
       "      <td>He did it\\nHe did it\\n\\nEste's a friend of min...</td>\n",
       "    </tr>\n",
       "    <tr>\n",
       "      <th>147</th>\n",
       "      <td>2020</td>\n",
       "      <td>evermore</td>\n",
       "      <td>​coney-island</td>\n",
       "      <td>Break my soul in two looking for you\\nBut you'...</td>\n",
       "    </tr>\n",
       "    <tr>\n",
       "      <th>148</th>\n",
       "      <td>2020</td>\n",
       "      <td>evermore</td>\n",
       "      <td>​champagne-problems</td>\n",
       "      <td>You booked the night train for a reason\\nSo yo...</td>\n",
       "    </tr>\n",
       "    <tr>\n",
       "      <th>149</th>\n",
       "      <td>2020</td>\n",
       "      <td>evermore</td>\n",
       "      <td>​ivy</td>\n",
       "      <td>How's one to know?\\nI'd meet you where the spi...</td>\n",
       "    </tr>\n",
       "  </tbody>\n",
       "</table>\n",
       "<p>150 rows × 4 columns</p>\n",
       "</div>"
      ],
      "text/plain": [
       "     Year         Album                           Song  \\\n",
       "0    2006  Taylor-Swift      Mary's-Song-(Oh-My-My-My)   \n",
       "1    2006  Taylor-Swift        Sugar,-We're-Going-Down   \n",
       "2    2006  Taylor-Swift         A-Perfectly-Good-Heart   \n",
       "3    2006  Taylor-Swift                     Tim-McGraw   \n",
       "4    2006  Taylor-Swift  I’m-Only-Me-When-I’m-with-You   \n",
       "..    ...           ...                            ...   \n",
       "145  2020      evermore                   ​tolerate-it   \n",
       "146  2020      evermore             ​no-body,-no-crime   \n",
       "147  2020      evermore                  ​coney-island   \n",
       "148  2020      evermore            ​champagne-problems   \n",
       "149  2020      evermore                           ​ivy   \n",
       "\n",
       "                                                Lyrics  \n",
       "0    She said, I was seven and you were nine\\nI loo...  \n",
       "1    Am I more than you bargained for yet?\\nI've be...  \n",
       "2    Why would you wanna break a perfectly good hea...  \n",
       "3    He said the way my blue eyes shined\\nPut those...  \n",
       "4    Friday night beneath the stars\\nIn a field beh...  \n",
       "..                                                 ...  \n",
       "145  I sit and watch you reading with your head low...  \n",
       "146  He did it\\nHe did it\\n\\nEste's a friend of min...  \n",
       "147  Break my soul in two looking for you\\nBut you'...  \n",
       "148  You booked the night train for a reason\\nSo yo...  \n",
       "149  How's one to know?\\nI'd meet you where the spi...  \n",
       "\n",
       "[150 rows x 4 columns]"
      ]
     },
     "execution_count": 335,
     "metadata": {},
     "output_type": "execute_result"
    }
   ],
   "source": [
    "#import the corpus csv file\n",
    "import pandas as pd\n",
    "\n",
    "AlbumLyricsDF = pd.read_csv(\"TaylorSwiftCorpus.csv\", index_col=0)\n",
    "AlbumLyricsDF\n",
    "#AlbumLyricsLIST = list(AlbumLyricsDF[\"Lyrics\"])\n",
    "#AlbumLyricsLIST\n",
    "#len(AlbumLyricsLIST)"
   ]
  },
  {
   "cell_type": "markdown",
   "metadata": {},
   "source": [
    "## Preprocessing"
   ]
  },
  {
   "cell_type": "markdown",
   "metadata": {},
   "source": [
    "The incredible thing about `VADER` is that it doesn’t require\n",
    "- tokenisation\n",
    "- stemming/lemmatisation\n",
    "- expanding contraction\n",
    "You can pretty much plug in any body of text and it will determine the sentiment.\n",
    "\n",
    "What makes `VADER` so good at analysing social media text is that it is even smart enough to understand\n",
    "- the valence of non-conventional text, including emojis (i.e. :-( )\n",
    "- capitalisation (i.e. sad vs SAD)\n",
    "- extended punctuation (i.e. ? vs ???)\n",
    "\n",
    "Additionally, VADER removes stop words automatically so there is no need to do so yourself.\n",
    "\n",
    "Unless you are considering the impact of rhetorical structure on the calculation of sentiment, you don't have to do sentence tokenization either."
   ]
  },
  {
   "cell_type": "code",
   "execution_count": 336,
   "metadata": {},
   "outputs": [
    {
     "data": {
      "text/html": [
       "<div>\n",
       "<style scoped>\n",
       "    .dataframe tbody tr th:only-of-type {\n",
       "        vertical-align: middle;\n",
       "    }\n",
       "\n",
       "    .dataframe tbody tr th {\n",
       "        vertical-align: top;\n",
       "    }\n",
       "\n",
       "    .dataframe thead th {\n",
       "        text-align: right;\n",
       "    }\n",
       "</style>\n",
       "<table border=\"1\" class=\"dataframe\">\n",
       "  <thead>\n",
       "    <tr style=\"text-align: right;\">\n",
       "      <th></th>\n",
       "      <th>Year</th>\n",
       "      <th>Album</th>\n",
       "      <th>Song</th>\n",
       "      <th>Lyrics</th>\n",
       "      <th>Lyrics_Parsed</th>\n",
       "    </tr>\n",
       "  </thead>\n",
       "  <tbody>\n",
       "    <tr>\n",
       "      <th>0</th>\n",
       "      <td>2006</td>\n",
       "      <td>Taylor-Swift</td>\n",
       "      <td>Mary's-Song-(Oh-My-My-My)</td>\n",
       "      <td>She said, I was seven and you were nine\\nI loo...</td>\n",
       "      <td>She said, I was seven and you were nine I look...</td>\n",
       "    </tr>\n",
       "    <tr>\n",
       "      <th>1</th>\n",
       "      <td>2006</td>\n",
       "      <td>Taylor-Swift</td>\n",
       "      <td>Sugar,-We're-Going-Down</td>\n",
       "      <td>Am I more than you bargained for yet?\\nI've be...</td>\n",
       "      <td>Am I more than you bargained for yet? I've bee...</td>\n",
       "    </tr>\n",
       "    <tr>\n",
       "      <th>2</th>\n",
       "      <td>2006</td>\n",
       "      <td>Taylor-Swift</td>\n",
       "      <td>A-Perfectly-Good-Heart</td>\n",
       "      <td>Why would you wanna break a perfectly good hea...</td>\n",
       "      <td>Why would you wanna break a perfectly good hea...</td>\n",
       "    </tr>\n",
       "    <tr>\n",
       "      <th>3</th>\n",
       "      <td>2006</td>\n",
       "      <td>Taylor-Swift</td>\n",
       "      <td>Tim-McGraw</td>\n",
       "      <td>He said the way my blue eyes shined\\nPut those...</td>\n",
       "      <td>He said the way my blue eyes shined Put those ...</td>\n",
       "    </tr>\n",
       "    <tr>\n",
       "      <th>4</th>\n",
       "      <td>2006</td>\n",
       "      <td>Taylor-Swift</td>\n",
       "      <td>I’m-Only-Me-When-I’m-with-You</td>\n",
       "      <td>Friday night beneath the stars\\nIn a field beh...</td>\n",
       "      <td>Friday night beneath the stars In a field behi...</td>\n",
       "    </tr>\n",
       "    <tr>\n",
       "      <th>...</th>\n",
       "      <td>...</td>\n",
       "      <td>...</td>\n",
       "      <td>...</td>\n",
       "      <td>...</td>\n",
       "      <td>...</td>\n",
       "    </tr>\n",
       "    <tr>\n",
       "      <th>145</th>\n",
       "      <td>2020</td>\n",
       "      <td>evermore</td>\n",
       "      <td>​tolerate-it</td>\n",
       "      <td>I sit and watch you reading with your head low...</td>\n",
       "      <td>I sit and watch you reading with your head low...</td>\n",
       "    </tr>\n",
       "    <tr>\n",
       "      <th>146</th>\n",
       "      <td>2020</td>\n",
       "      <td>evermore</td>\n",
       "      <td>​no-body,-no-crime</td>\n",
       "      <td>He did it\\nHe did it\\n\\nEste's a friend of min...</td>\n",
       "      <td>He did it He did it  Este's a friend of mine W...</td>\n",
       "    </tr>\n",
       "    <tr>\n",
       "      <th>147</th>\n",
       "      <td>2020</td>\n",
       "      <td>evermore</td>\n",
       "      <td>​coney-island</td>\n",
       "      <td>Break my soul in two looking for you\\nBut you'...</td>\n",
       "      <td>Break my soul in two looking for you But you'r...</td>\n",
       "    </tr>\n",
       "    <tr>\n",
       "      <th>148</th>\n",
       "      <td>2020</td>\n",
       "      <td>evermore</td>\n",
       "      <td>​champagne-problems</td>\n",
       "      <td>You booked the night train for a reason\\nSo yo...</td>\n",
       "      <td>You booked the night train for a reason So you...</td>\n",
       "    </tr>\n",
       "    <tr>\n",
       "      <th>149</th>\n",
       "      <td>2020</td>\n",
       "      <td>evermore</td>\n",
       "      <td>​ivy</td>\n",
       "      <td>How's one to know?\\nI'd meet you where the spi...</td>\n",
       "      <td>How's one to know? I'd meet you where the spir...</td>\n",
       "    </tr>\n",
       "  </tbody>\n",
       "</table>\n",
       "<p>150 rows × 5 columns</p>\n",
       "</div>"
      ],
      "text/plain": [
       "     Year         Album                           Song  \\\n",
       "0    2006  Taylor-Swift      Mary's-Song-(Oh-My-My-My)   \n",
       "1    2006  Taylor-Swift        Sugar,-We're-Going-Down   \n",
       "2    2006  Taylor-Swift         A-Perfectly-Good-Heart   \n",
       "3    2006  Taylor-Swift                     Tim-McGraw   \n",
       "4    2006  Taylor-Swift  I’m-Only-Me-When-I’m-with-You   \n",
       "..    ...           ...                            ...   \n",
       "145  2020      evermore                   ​tolerate-it   \n",
       "146  2020      evermore             ​no-body,-no-crime   \n",
       "147  2020      evermore                  ​coney-island   \n",
       "148  2020      evermore            ​champagne-problems   \n",
       "149  2020      evermore                           ​ivy   \n",
       "\n",
       "                                                Lyrics  \\\n",
       "0    She said, I was seven and you were nine\\nI loo...   \n",
       "1    Am I more than you bargained for yet?\\nI've be...   \n",
       "2    Why would you wanna break a perfectly good hea...   \n",
       "3    He said the way my blue eyes shined\\nPut those...   \n",
       "4    Friday night beneath the stars\\nIn a field beh...   \n",
       "..                                                 ...   \n",
       "145  I sit and watch you reading with your head low...   \n",
       "146  He did it\\nHe did it\\n\\nEste's a friend of min...   \n",
       "147  Break my soul in two looking for you\\nBut you'...   \n",
       "148  You booked the night train for a reason\\nSo yo...   \n",
       "149  How's one to know?\\nI'd meet you where the spi...   \n",
       "\n",
       "                                         Lyrics_Parsed  \n",
       "0    She said, I was seven and you were nine I look...  \n",
       "1    Am I more than you bargained for yet? I've bee...  \n",
       "2    Why would you wanna break a perfectly good hea...  \n",
       "3    He said the way my blue eyes shined Put those ...  \n",
       "4    Friday night beneath the stars In a field behi...  \n",
       "..                                                 ...  \n",
       "145  I sit and watch you reading with your head low...  \n",
       "146  He did it He did it  Este's a friend of mine W...  \n",
       "147  Break my soul in two looking for you But you'r...  \n",
       "148  You booked the night train for a reason So you...  \n",
       "149  How's one to know? I'd meet you where the spir...  \n",
       "\n",
       "[150 rows x 5 columns]"
      ]
     },
     "execution_count": 336,
     "metadata": {},
     "output_type": "execute_result"
    }
   ],
   "source": [
    "#contraction\n",
    "import TAWP\n",
    "from TAWP.contractions import CONTRACTION_MAP\n",
    "import re\n",
    "\n",
    "def expand_contractions(text, contraction_mapping=CONTRACTION_MAP):\n",
    "    ## create a regex pattern of all contracted forms\n",
    "    contractions_pattern = re.compile('({})'.format('|'.join(\n",
    "        contraction_mapping.keys())),\n",
    "                                      flags=re.IGNORECASE | re.DOTALL)\n",
    "\n",
    "    def expand_match(contraction):\n",
    "        match = contraction.group(0)  # the whole matched contraction\n",
    "\n",
    "        # if the matched contraction (=keys) exists in the dict,\n",
    "        # get its corresponding uncontracted form (=values)\n",
    "        expanded_contraction = contraction_mapping.get(match)\\\n",
    "                                if contraction_mapping.get(match)\\\n",
    "                                else contraction_mapping.get(match.lower())\n",
    "\n",
    "        return expanded_contraction\n",
    "\n",
    "    # find each contraction in the pattern,\n",
    "    # find it from text,\n",
    "    # and replace it using the output of\n",
    "    # expand_match\n",
    "    expanded_text = contractions_pattern.sub(expand_match, text)\n",
    "    expanded_text = re.sub(\"'\", \"\", expanded_text)\n",
    "    return expanded_text\n",
    "\n",
    "\n",
    "#wrap the above in a function\n",
    "import re\n",
    "#wrap it all in one function\n",
    "def normalize_document(doc):\n",
    "    #remove line breaks\n",
    "    doc = re.sub(\"\\n\", \" \", doc)\n",
    "    #contraction \n",
    "    #doc = expand_contractions(doc)\n",
    "    #remove lower case and remove special characters\\whitespaces\n",
    "    #doc = re.sub(r'[^a-zA-Z\\s]', '', doc, re.I | re.A)\n",
    "    #remove numeric\n",
    "    #doc = doc.split()\n",
    "    #doc = ' '.join([i for i in doc if not i.isdigit()])\n",
    "    #remove puncs/symbols\n",
    "    #doc = ''.join([word for word in doc if unicodedata.category(word)[0] not in [\"P\", \"S\"]])\n",
    "    #remove extra whitespaces at both ends\n",
    "    doc = doc.strip()\n",
    "    #doc = doc.lower() #要把 I 轉換成 i\n",
    "\n",
    "    #tokenize\n",
    "    #doc = tokenizer.tokenize(doc)\n",
    "\n",
    "    #remove stopwords\n",
    "    #doc = ' '.join([word for word in doc if word not in stop_words])\n",
    "    \n",
    "    #lemmatize document\n",
    "    #doc = nlp(doc)\n",
    "    #doc = ' '.join([word.lemma_ if word.lemma_ != '-PRON-' else word.text for word in doc])\n",
    "    \n",
    "    #re-create document from filtered tokens\n",
    "    #doc = ' '.join(tokens)\n",
    "    return (doc)\n",
    "\n",
    "\n",
    "#normalize texts\n",
    "AlbumLyricsLIST = AlbumLyricsDF[\"Lyrics\"]\n",
    "\n",
    "norm_LyricsLIST = [normalize_document(i) for i in AlbumLyricsLIST]\n",
    "#norm_LyricsLIST = [\" \".join(i.split(\"\\n\")) for i in norm_LyricsLIST]\n",
    "AlbumLyricsDF[\"Lyrics_Parsed\"] = norm_LyricsLIST\n",
    "AlbumLyricsDF"
   ]
  },
  {
   "cell_type": "markdown",
   "metadata": {},
   "source": [
    "## Sentiment Analysis using `Vader`"
   ]
  },
  {
   "cell_type": "code",
   "execution_count": 337,
   "metadata": {},
   "outputs": [
    {
     "name": "stderr",
     "output_type": "stream",
     "text": [
      "[nltk_data] Downloading package vader_lexicon to\n",
      "[nltk_data]     /Users/marcwu/nltk_data...\n",
      "[nltk_data]   Package vader_lexicon is already up-to-date!\n"
     ]
    }
   ],
   "source": [
    "import nltk\n",
    "from nltk.sentiment.vader import SentimentIntensityAnalyzer\n",
    "import nltk.data\n",
    "nltk.download('vader_lexicon')\n",
    "\n",
    "#import VADER\n",
    "vader = SentimentIntensityAnalyzer()"
   ]
  },
  {
   "cell_type": "code",
   "execution_count": 55,
   "metadata": {},
   "outputs": [
    {
     "data": {
      "text/plain": [
       "'She said, I was seven and you were nine I looked at you like the stars that shined In the sky, the pretty lights And our daddies used to joke about the two of us Growing up and falling in love and our mamas smiled And rolled their eyes and said, \"Oh my, my, my\"  Take me back to the house in the backyard tree Said you\\'d beat me up, you were bigger than me You never did, you never did Take me back when our world was one block wide I dared you to kiss me and ran when you tried Just two kids, you and I Oh my, my, my, my  Well, I was sixteen when suddenly I wasn\\'t that little girl you used to see But your eyes still shined like pretty lights And our daddies used to joke about the two of us They never believed we\\'d really fall in love And our mamas smiled and rolled their eyes And said, \"Oh my, my, my\" Take me back to the creek beds we turned up Two A.M. riding in your truck, and all I need is you next to me Take me back to the time we had our very first fight The slamming of doors instead of kissing goodnight You stayed outside \\'til the morning light Oh my, my, my, my  A few years had gone and come around We were sitting at our favorite spot in town And you looked at me, got down on one knee  Take me back to the time when we walked down the aisle Our whole town came and our mamas cried You said \"I do\" and I did too Take me home where we met so many years before We\\'ll rock our babies on that very front porch After all this time, you and I  I\\'ll be eighty-seven; you\\'ll be eighty-nine I\\'ll still look at you like the stars that shine In the sky, oh my, my, my'"
      ]
     },
     "execution_count": 55,
     "metadata": {},
     "output_type": "execute_result"
    }
   ],
   "source": [
    "AlbumLyricsDF[\"Lyrics_Parsed\"][0]"
   ]
  },
  {
   "cell_type": "code",
   "execution_count": 56,
   "metadata": {},
   "outputs": [
    {
     "data": {
      "text/plain": [
       "{'neg': 0.028, 'neu': 0.84, 'pos': 0.132, 'compound': 0.9882}"
      ]
     },
     "execution_count": 56,
     "metadata": {},
     "output_type": "execute_result"
    }
   ],
   "source": [
    "sentiment = vader.polarity_scores(AlbumLyricsDF[\"Lyrics_Parsed\"][0])\n",
    "sentiment"
   ]
  },
  {
   "cell_type": "code",
   "execution_count": 57,
   "metadata": {},
   "outputs": [
    {
     "data": {
      "text/plain": [
       "Int64Index([  0,   1,   2,   3,   4,   5,   6,   7,   8,   9,\n",
       "            ...\n",
       "            140, 141, 142, 143, 144, 145, 146, 147, 148, 149],\n",
       "           dtype='int64', length=150)"
      ]
     },
     "execution_count": 57,
     "metadata": {},
     "output_type": "execute_result"
    }
   ],
   "source": [
    "AlbumLyricsDF.index"
   ]
  },
  {
   "cell_type": "code",
   "execution_count": 338,
   "metadata": {},
   "outputs": [],
   "source": [
    "#Create lists to store the different scores for each word\n",
    "negative = []\n",
    "neutral = []\n",
    "positive = []\n",
    "compound = []\n",
    "#Initialize the model\n",
    "vader = SentimentIntensityAnalyzer()\n",
    "#Iterate for each row of lyrics and append the scores\n",
    "for i in AlbumLyricsDF.index:\n",
    "    scores = vader.polarity_scores(AlbumLyricsDF['Lyrics_Parsed'].iloc[i])\n",
    "    negative.append(scores['neg'])\n",
    "    neutral.append(scores['neu'])\n",
    "    positive.append(scores['pos'])\n",
    "    compound.append(scores['compound'])\n",
    "#Create 4 columns to the main data frame  for each score\n",
    "AlbumLyricsDF['Negative_Sentiment'] = negative\n",
    "AlbumLyricsDF['Neutral_Sentiment'] = neutral\n",
    "AlbumLyricsDF['Positive_Sentiment'] = positive\n",
    "AlbumLyricsDF['Normalized_Sentiment'] = compound"
   ]
  },
  {
   "cell_type": "code",
   "execution_count": 339,
   "metadata": {},
   "outputs": [
    {
     "data": {
      "text/html": [
       "<div>\n",
       "<style scoped>\n",
       "    .dataframe tbody tr th:only-of-type {\n",
       "        vertical-align: middle;\n",
       "    }\n",
       "\n",
       "    .dataframe tbody tr th {\n",
       "        vertical-align: top;\n",
       "    }\n",
       "\n",
       "    .dataframe thead th {\n",
       "        text-align: right;\n",
       "    }\n",
       "</style>\n",
       "<table border=\"1\" class=\"dataframe\">\n",
       "  <thead>\n",
       "    <tr style=\"text-align: right;\">\n",
       "      <th></th>\n",
       "      <th>Year</th>\n",
       "      <th>Album</th>\n",
       "      <th>Song</th>\n",
       "      <th>Lyrics</th>\n",
       "      <th>Lyrics_Parsed</th>\n",
       "      <th>Negative_Sentiment</th>\n",
       "      <th>Neutral_Sentiment</th>\n",
       "      <th>Positive_Sentiment</th>\n",
       "      <th>Normalized_Sentiment</th>\n",
       "    </tr>\n",
       "  </thead>\n",
       "  <tbody>\n",
       "    <tr>\n",
       "      <th>75</th>\n",
       "      <td>2014</td>\n",
       "      <td>1989</td>\n",
       "      <td>This-Love</td>\n",
       "      <td>Clear blue water\\nHigh tide came and brought y...</td>\n",
       "      <td>Clear blue water High tide came and brought yo...</td>\n",
       "      <td>0.059</td>\n",
       "      <td>0.522</td>\n",
       "      <td>0.418</td>\n",
       "      <td>0.9997</td>\n",
       "    </tr>\n",
       "    <tr>\n",
       "      <th>80</th>\n",
       "      <td>2014</td>\n",
       "      <td>1989</td>\n",
       "      <td>Welcome-to-New-York</td>\n",
       "      <td>Walking through a crowd, the village is aglow\\...</td>\n",
       "      <td>Walking through a crowd, the village is aglow ...</td>\n",
       "      <td>0.015</td>\n",
       "      <td>0.603</td>\n",
       "      <td>0.381</td>\n",
       "      <td>0.9995</td>\n",
       "    </tr>\n",
       "    <tr>\n",
       "      <th>103</th>\n",
       "      <td>2019</td>\n",
       "      <td>Lover</td>\n",
       "      <td>London-Boy</td>\n",
       "      <td>We can go driving in, on my scooter\\nUh, you k...</td>\n",
       "      <td>We can go driving in, on my scooter Uh, you kn...</td>\n",
       "      <td>0.003</td>\n",
       "      <td>0.719</td>\n",
       "      <td>0.278</td>\n",
       "      <td>0.9992</td>\n",
       "    </tr>\n",
       "    <tr>\n",
       "      <th>12</th>\n",
       "      <td>2006</td>\n",
       "      <td>Taylor-Swift</td>\n",
       "      <td>Stay-Beautiful</td>\n",
       "      <td>Corey's eyes are like a jungle\\nHe smiles, it'...</td>\n",
       "      <td>Corey's eyes are like a jungle He smiles, it's...</td>\n",
       "      <td>0.009</td>\n",
       "      <td>0.684</td>\n",
       "      <td>0.307</td>\n",
       "      <td>0.9988</td>\n",
       "    </tr>\n",
       "    <tr>\n",
       "      <th>97</th>\n",
       "      <td>2017</td>\n",
       "      <td>reputation</td>\n",
       "      <td>Call-It-What-You-Want</td>\n",
       "      <td>My castle crumbled overnight\\nI brought a knif...</td>\n",
       "      <td>My castle crumbled overnight I brought a knife...</td>\n",
       "      <td>0.032</td>\n",
       "      <td>0.708</td>\n",
       "      <td>0.261</td>\n",
       "      <td>0.9987</td>\n",
       "    </tr>\n",
       "    <tr>\n",
       "      <th>101</th>\n",
       "      <td>2017</td>\n",
       "      <td>reputation</td>\n",
       "      <td>I-Did-Something-Bad</td>\n",
       "      <td>I never trust a narcissist, but they love me\\n...</td>\n",
       "      <td>I never trust a narcissist, but they love me S...</td>\n",
       "      <td>0.090</td>\n",
       "      <td>0.665</td>\n",
       "      <td>0.245</td>\n",
       "      <td>0.9987</td>\n",
       "    </tr>\n",
       "    <tr>\n",
       "      <th>23</th>\n",
       "      <td>2008</td>\n",
       "      <td>Fearless-Taylor-s-Version</td>\n",
       "      <td>Fearless-(Taylor's-Version)</td>\n",
       "      <td>There's something 'bout the way\\nThe street lo...</td>\n",
       "      <td>There's something 'bout the way The street loo...</td>\n",
       "      <td>0.031</td>\n",
       "      <td>0.687</td>\n",
       "      <td>0.282</td>\n",
       "      <td>0.9986</td>\n",
       "    </tr>\n",
       "    <tr>\n",
       "      <th>83</th>\n",
       "      <td>2014</td>\n",
       "      <td>1989</td>\n",
       "      <td>Out-of-the-Woods</td>\n",
       "      <td>Looking at it now\\nIt all seems so simple\\nWe ...</td>\n",
       "      <td>Looking at it now It all seems so simple We we...</td>\n",
       "      <td>0.012</td>\n",
       "      <td>0.814</td>\n",
       "      <td>0.174</td>\n",
       "      <td>0.9986</td>\n",
       "    </tr>\n",
       "    <tr>\n",
       "      <th>2</th>\n",
       "      <td>2006</td>\n",
       "      <td>Taylor-Swift</td>\n",
       "      <td>A-Perfectly-Good-Heart</td>\n",
       "      <td>Why would you wanna break a perfectly good hea...</td>\n",
       "      <td>Why would you wanna break a perfectly good hea...</td>\n",
       "      <td>0.006</td>\n",
       "      <td>0.708</td>\n",
       "      <td>0.287</td>\n",
       "      <td>0.9979</td>\n",
       "    </tr>\n",
       "    <tr>\n",
       "      <th>61</th>\n",
       "      <td>2012</td>\n",
       "      <td>Red</td>\n",
       "      <td>Everything-Has-Changed</td>\n",
       "      <td>(You good to go?)\\n\\nAll I knew this morning w...</td>\n",
       "      <td>(You good to go?)  All I knew this morning whe...</td>\n",
       "      <td>0.010</td>\n",
       "      <td>0.790</td>\n",
       "      <td>0.200</td>\n",
       "      <td>0.9978</td>\n",
       "    </tr>\n",
       "  </tbody>\n",
       "</table>\n",
       "</div>"
      ],
      "text/plain": [
       "     Year                      Album                         Song  \\\n",
       "75   2014                       1989                    This-Love   \n",
       "80   2014                       1989          Welcome-to-New-York   \n",
       "103  2019                      Lover                   London-Boy   \n",
       "12   2006               Taylor-Swift               Stay-Beautiful   \n",
       "97   2017                 reputation        Call-It-What-You-Want   \n",
       "101  2017                 reputation          I-Did-Something-Bad   \n",
       "23   2008  Fearless-Taylor-s-Version  Fearless-(Taylor's-Version)   \n",
       "83   2014                       1989             Out-of-the-Woods   \n",
       "2    2006               Taylor-Swift       A-Perfectly-Good-Heart   \n",
       "61   2012                        Red       Everything-Has-Changed   \n",
       "\n",
       "                                                Lyrics  \\\n",
       "75   Clear blue water\\nHigh tide came and brought y...   \n",
       "80   Walking through a crowd, the village is aglow\\...   \n",
       "103  We can go driving in, on my scooter\\nUh, you k...   \n",
       "12   Corey's eyes are like a jungle\\nHe smiles, it'...   \n",
       "97   My castle crumbled overnight\\nI brought a knif...   \n",
       "101  I never trust a narcissist, but they love me\\n...   \n",
       "23   There's something 'bout the way\\nThe street lo...   \n",
       "83   Looking at it now\\nIt all seems so simple\\nWe ...   \n",
       "2    Why would you wanna break a perfectly good hea...   \n",
       "61   (You good to go?)\\n\\nAll I knew this morning w...   \n",
       "\n",
       "                                         Lyrics_Parsed  Negative_Sentiment  \\\n",
       "75   Clear blue water High tide came and brought yo...               0.059   \n",
       "80   Walking through a crowd, the village is aglow ...               0.015   \n",
       "103  We can go driving in, on my scooter Uh, you kn...               0.003   \n",
       "12   Corey's eyes are like a jungle He smiles, it's...               0.009   \n",
       "97   My castle crumbled overnight I brought a knife...               0.032   \n",
       "101  I never trust a narcissist, but they love me S...               0.090   \n",
       "23   There's something 'bout the way The street loo...               0.031   \n",
       "83   Looking at it now It all seems so simple We we...               0.012   \n",
       "2    Why would you wanna break a perfectly good hea...               0.006   \n",
       "61   (You good to go?)  All I knew this morning whe...               0.010   \n",
       "\n",
       "     Neutral_Sentiment  Positive_Sentiment  Normalized_Sentiment  \n",
       "75               0.522               0.418                0.9997  \n",
       "80               0.603               0.381                0.9995  \n",
       "103              0.719               0.278                0.9992  \n",
       "12               0.684               0.307                0.9988  \n",
       "97               0.708               0.261                0.9987  \n",
       "101              0.665               0.245                0.9987  \n",
       "23               0.687               0.282                0.9986  \n",
       "83               0.814               0.174                0.9986  \n",
       "2                0.708               0.287                0.9979  \n",
       "61               0.790               0.200                0.9978  "
      ]
     },
     "execution_count": 339,
     "metadata": {},
     "output_type": "execute_result"
    }
   ],
   "source": [
    "AlbumLyricsDF.sort_values('Normalized_Sentiment', ascending = False).head(10)"
   ]
  },
  {
   "cell_type": "code",
   "execution_count": 340,
   "metadata": {},
   "outputs": [
    {
     "data": {
      "text/html": [
       "<div>\n",
       "<style scoped>\n",
       "    .dataframe tbody tr th:only-of-type {\n",
       "        vertical-align: middle;\n",
       "    }\n",
       "\n",
       "    .dataframe tbody tr th {\n",
       "        vertical-align: top;\n",
       "    }\n",
       "\n",
       "    .dataframe thead th {\n",
       "        text-align: right;\n",
       "    }\n",
       "</style>\n",
       "<table border=\"1\" class=\"dataframe\">\n",
       "  <thead>\n",
       "    <tr style=\"text-align: right;\">\n",
       "      <th></th>\n",
       "      <th>Year</th>\n",
       "      <th>Album</th>\n",
       "      <th>Song</th>\n",
       "      <th>Lyrics</th>\n",
       "      <th>Lyrics_Parsed</th>\n",
       "      <th>Negative_Sentiment</th>\n",
       "      <th>Neutral_Sentiment</th>\n",
       "      <th>Positive_Sentiment</th>\n",
       "      <th>Normalized_Sentiment</th>\n",
       "    </tr>\n",
       "  </thead>\n",
       "  <tbody>\n",
       "    <tr>\n",
       "      <th>90</th>\n",
       "      <td>2017</td>\n",
       "      <td>reputation</td>\n",
       "      <td>Getaway-Car</td>\n",
       "      <td>No, nothing good starts in a getaway car\\n\\nIt...</td>\n",
       "      <td>No, nothing good starts in a getaway car  It w...</td>\n",
       "      <td>0.116</td>\n",
       "      <td>0.829</td>\n",
       "      <td>0.054</td>\n",
       "      <td>-0.9831</td>\n",
       "    </tr>\n",
       "    <tr>\n",
       "      <th>48</th>\n",
       "      <td>2010</td>\n",
       "      <td>Speak-Now</td>\n",
       "      <td>The-Story-of-Us</td>\n",
       "      <td>I used to think one day, we'd tell the story o...</td>\n",
       "      <td>I used to think one day, we'd tell the story o...</td>\n",
       "      <td>0.173</td>\n",
       "      <td>0.694</td>\n",
       "      <td>0.133</td>\n",
       "      <td>-0.9838</td>\n",
       "    </tr>\n",
       "    <tr>\n",
       "      <th>119</th>\n",
       "      <td>2020</td>\n",
       "      <td>folklore</td>\n",
       "      <td>​mad-woman</td>\n",
       "      <td>What did you think I'd say to that?\\nDoes a sc...</td>\n",
       "      <td>What did you think I'd say to that? Does a sco...</td>\n",
       "      <td>0.222</td>\n",
       "      <td>0.654</td>\n",
       "      <td>0.123</td>\n",
       "      <td>-0.9862</td>\n",
       "    </tr>\n",
       "    <tr>\n",
       "      <th>110</th>\n",
       "      <td>2019</td>\n",
       "      <td>Lover</td>\n",
       "      <td>Afterglow</td>\n",
       "      <td>I blew things out of proportion, now you're bl...</td>\n",
       "      <td>I blew things out of proportion, now you're bl...</td>\n",
       "      <td>0.181</td>\n",
       "      <td>0.717</td>\n",
       "      <td>0.103</td>\n",
       "      <td>-0.9884</td>\n",
       "    </tr>\n",
       "    <tr>\n",
       "      <th>144</th>\n",
       "      <td>2020</td>\n",
       "      <td>evermore</td>\n",
       "      <td>​evermore</td>\n",
       "      <td>Gray November\\nI've been down since July\\nMoti...</td>\n",
       "      <td>Gray November I've been down since July Motion...</td>\n",
       "      <td>0.178</td>\n",
       "      <td>0.772</td>\n",
       "      <td>0.050</td>\n",
       "      <td>-0.9944</td>\n",
       "    </tr>\n",
       "    <tr>\n",
       "      <th>82</th>\n",
       "      <td>2014</td>\n",
       "      <td>1989</td>\n",
       "      <td>Bad-Blood</td>\n",
       "      <td>’Cause baby, now we've got bad blood\\nYou know...</td>\n",
       "      <td>’Cause baby, now we've got bad blood You know ...</td>\n",
       "      <td>0.202</td>\n",
       "      <td>0.691</td>\n",
       "      <td>0.108</td>\n",
       "      <td>-0.9953</td>\n",
       "    </tr>\n",
       "    <tr>\n",
       "      <th>11</th>\n",
       "      <td>2006</td>\n",
       "      <td>Taylor-Swift</td>\n",
       "      <td>Picture-to-Burn</td>\n",
       "      <td>State the obvious, I didn't get my perfect fan...</td>\n",
       "      <td>State the obvious, I didn't get my perfect fan...</td>\n",
       "      <td>0.314</td>\n",
       "      <td>0.619</td>\n",
       "      <td>0.067</td>\n",
       "      <td>-0.9980</td>\n",
       "    </tr>\n",
       "    <tr>\n",
       "      <th>105</th>\n",
       "      <td>2019</td>\n",
       "      <td>Lover</td>\n",
       "      <td>Miss-Americana-&amp;-The-Heartbreak-Prince</td>\n",
       "      <td>You know I adore you, I'm crazier for you\\nTha...</td>\n",
       "      <td>You know I adore you, I'm crazier for you Than...</td>\n",
       "      <td>0.255</td>\n",
       "      <td>0.667</td>\n",
       "      <td>0.077</td>\n",
       "      <td>-0.9989</td>\n",
       "    </tr>\n",
       "    <tr>\n",
       "      <th>69</th>\n",
       "      <td>2012</td>\n",
       "      <td>Red</td>\n",
       "      <td>I-Knew-You-Were-Trouble.</td>\n",
       "      <td>Once upon a time, a few mistakes ago\\nI was in...</td>\n",
       "      <td>Once upon a time, a few mistakes ago I was in ...</td>\n",
       "      <td>0.310</td>\n",
       "      <td>0.670</td>\n",
       "      <td>0.021</td>\n",
       "      <td>-0.9990</td>\n",
       "    </tr>\n",
       "    <tr>\n",
       "      <th>78</th>\n",
       "      <td>2014</td>\n",
       "      <td>1989</td>\n",
       "      <td>Shake-It-Off</td>\n",
       "      <td>I stay out too late\\nGot nothing in my brain\\n...</td>\n",
       "      <td>I stay out too late Got nothing in my brain Th...</td>\n",
       "      <td>0.380</td>\n",
       "      <td>0.535</td>\n",
       "      <td>0.085</td>\n",
       "      <td>-0.9995</td>\n",
       "    </tr>\n",
       "  </tbody>\n",
       "</table>\n",
       "</div>"
      ],
      "text/plain": [
       "     Year         Album                                    Song  \\\n",
       "90   2017    reputation                             Getaway-Car   \n",
       "48   2010     Speak-Now                         The-Story-of-Us   \n",
       "119  2020      folklore                              ​mad-woman   \n",
       "110  2019         Lover                               Afterglow   \n",
       "144  2020      evermore                               ​evermore   \n",
       "82   2014          1989                               Bad-Blood   \n",
       "11   2006  Taylor-Swift                         Picture-to-Burn   \n",
       "105  2019         Lover  Miss-Americana-&-The-Heartbreak-Prince   \n",
       "69   2012           Red                I-Knew-You-Were-Trouble.   \n",
       "78   2014          1989                            Shake-It-Off   \n",
       "\n",
       "                                                Lyrics  \\\n",
       "90   No, nothing good starts in a getaway car\\n\\nIt...   \n",
       "48   I used to think one day, we'd tell the story o...   \n",
       "119  What did you think I'd say to that?\\nDoes a sc...   \n",
       "110  I blew things out of proportion, now you're bl...   \n",
       "144  Gray November\\nI've been down since July\\nMoti...   \n",
       "82   ’Cause baby, now we've got bad blood\\nYou know...   \n",
       "11   State the obvious, I didn't get my perfect fan...   \n",
       "105  You know I adore you, I'm crazier for you\\nTha...   \n",
       "69   Once upon a time, a few mistakes ago\\nI was in...   \n",
       "78   I stay out too late\\nGot nothing in my brain\\n...   \n",
       "\n",
       "                                         Lyrics_Parsed  Negative_Sentiment  \\\n",
       "90   No, nothing good starts in a getaway car  It w...               0.116   \n",
       "48   I used to think one day, we'd tell the story o...               0.173   \n",
       "119  What did you think I'd say to that? Does a sco...               0.222   \n",
       "110  I blew things out of proportion, now you're bl...               0.181   \n",
       "144  Gray November I've been down since July Motion...               0.178   \n",
       "82   ’Cause baby, now we've got bad blood You know ...               0.202   \n",
       "11   State the obvious, I didn't get my perfect fan...               0.314   \n",
       "105  You know I adore you, I'm crazier for you Than...               0.255   \n",
       "69   Once upon a time, a few mistakes ago I was in ...               0.310   \n",
       "78   I stay out too late Got nothing in my brain Th...               0.380   \n",
       "\n",
       "     Neutral_Sentiment  Positive_Sentiment  Normalized_Sentiment  \n",
       "90               0.829               0.054               -0.9831  \n",
       "48               0.694               0.133               -0.9838  \n",
       "119              0.654               0.123               -0.9862  \n",
       "110              0.717               0.103               -0.9884  \n",
       "144              0.772               0.050               -0.9944  \n",
       "82               0.691               0.108               -0.9953  \n",
       "11               0.619               0.067               -0.9980  \n",
       "105              0.667               0.077               -0.9989  \n",
       "69               0.670               0.021               -0.9990  \n",
       "78               0.535               0.085               -0.9995  "
      ]
     },
     "execution_count": 340,
     "metadata": {},
     "output_type": "execute_result"
    }
   ],
   "source": [
    "AlbumLyricsDF.sort_values('Normalized_Sentiment', ascending = False).tail(10)"
   ]
  },
  {
   "cell_type": "code",
   "execution_count": 341,
   "metadata": {
    "scrolled": true
   },
   "outputs": [
    {
     "data": {
      "text/html": [
       "<div>\n",
       "<style scoped>\n",
       "    .dataframe tbody tr th:only-of-type {\n",
       "        vertical-align: middle;\n",
       "    }\n",
       "\n",
       "    .dataframe tbody tr th {\n",
       "        vertical-align: top;\n",
       "    }\n",
       "\n",
       "    .dataframe thead th {\n",
       "        text-align: right;\n",
       "    }\n",
       "</style>\n",
       "<table border=\"1\" class=\"dataframe\">\n",
       "  <thead>\n",
       "    <tr style=\"text-align: right;\">\n",
       "      <th></th>\n",
       "      <th>Year</th>\n",
       "      <th>Album</th>\n",
       "      <th>Song</th>\n",
       "      <th>Lyrics</th>\n",
       "      <th>Lyrics_Parsed</th>\n",
       "      <th>Negative_Sentiment</th>\n",
       "      <th>Neutral_Sentiment</th>\n",
       "      <th>Positive_Sentiment</th>\n",
       "      <th>Normalized_Sentiment</th>\n",
       "      <th>Sentiment_Label</th>\n",
       "    </tr>\n",
       "  </thead>\n",
       "  <tbody>\n",
       "    <tr>\n",
       "      <th>0</th>\n",
       "      <td>2006</td>\n",
       "      <td>Taylor-Swift</td>\n",
       "      <td>Mary's-Song-(Oh-My-My-My)</td>\n",
       "      <td>She said, I was seven and you were nine\\nI loo...</td>\n",
       "      <td>She said, I was seven and you were nine I look...</td>\n",
       "      <td>0.028</td>\n",
       "      <td>0.840</td>\n",
       "      <td>0.132</td>\n",
       "      <td>0.9882</td>\n",
       "      <td>Positive</td>\n",
       "    </tr>\n",
       "    <tr>\n",
       "      <th>1</th>\n",
       "      <td>2006</td>\n",
       "      <td>Taylor-Swift</td>\n",
       "      <td>Sugar,-We're-Going-Down</td>\n",
       "      <td>Am I more than you bargained for yet?\\nI've be...</td>\n",
       "      <td>Am I more than you bargained for yet? I've bee...</td>\n",
       "      <td>0.079</td>\n",
       "      <td>0.835</td>\n",
       "      <td>0.086</td>\n",
       "      <td>-0.5541</td>\n",
       "      <td>Negative</td>\n",
       "    </tr>\n",
       "    <tr>\n",
       "      <th>2</th>\n",
       "      <td>2006</td>\n",
       "      <td>Taylor-Swift</td>\n",
       "      <td>A-Perfectly-Good-Heart</td>\n",
       "      <td>Why would you wanna break a perfectly good hea...</td>\n",
       "      <td>Why would you wanna break a perfectly good hea...</td>\n",
       "      <td>0.006</td>\n",
       "      <td>0.708</td>\n",
       "      <td>0.287</td>\n",
       "      <td>0.9979</td>\n",
       "      <td>Positive</td>\n",
       "    </tr>\n",
       "    <tr>\n",
       "      <th>3</th>\n",
       "      <td>2006</td>\n",
       "      <td>Taylor-Swift</td>\n",
       "      <td>Tim-McGraw</td>\n",
       "      <td>He said the way my blue eyes shined\\nPut those...</td>\n",
       "      <td>He said the way my blue eyes shined Put those ...</td>\n",
       "      <td>0.032</td>\n",
       "      <td>0.810</td>\n",
       "      <td>0.158</td>\n",
       "      <td>0.9935</td>\n",
       "      <td>Positive</td>\n",
       "    </tr>\n",
       "    <tr>\n",
       "      <th>4</th>\n",
       "      <td>2006</td>\n",
       "      <td>Taylor-Swift</td>\n",
       "      <td>I’m-Only-Me-When-I’m-with-You</td>\n",
       "      <td>Friday night beneath the stars\\nIn a field beh...</td>\n",
       "      <td>Friday night beneath the stars In a field behi...</td>\n",
       "      <td>0.072</td>\n",
       "      <td>0.813</td>\n",
       "      <td>0.115</td>\n",
       "      <td>0.8705</td>\n",
       "      <td>Positive</td>\n",
       "    </tr>\n",
       "    <tr>\n",
       "      <th>...</th>\n",
       "      <td>...</td>\n",
       "      <td>...</td>\n",
       "      <td>...</td>\n",
       "      <td>...</td>\n",
       "      <td>...</td>\n",
       "      <td>...</td>\n",
       "      <td>...</td>\n",
       "      <td>...</td>\n",
       "      <td>...</td>\n",
       "      <td>...</td>\n",
       "    </tr>\n",
       "    <tr>\n",
       "      <th>145</th>\n",
       "      <td>2020</td>\n",
       "      <td>evermore</td>\n",
       "      <td>​tolerate-it</td>\n",
       "      <td>I sit and watch you reading with your head low...</td>\n",
       "      <td>I sit and watch you reading with your head low...</td>\n",
       "      <td>0.073</td>\n",
       "      <td>0.776</td>\n",
       "      <td>0.151</td>\n",
       "      <td>0.9759</td>\n",
       "      <td>Positive</td>\n",
       "    </tr>\n",
       "    <tr>\n",
       "      <th>146</th>\n",
       "      <td>2020</td>\n",
       "      <td>evermore</td>\n",
       "      <td>​no-body,-no-crime</td>\n",
       "      <td>He did it\\nHe did it\\n\\nEste's a friend of min...</td>\n",
       "      <td>He did it He did it  Este's a friend of mine W...</td>\n",
       "      <td>0.169</td>\n",
       "      <td>0.701</td>\n",
       "      <td>0.130</td>\n",
       "      <td>-0.9799</td>\n",
       "      <td>Negative</td>\n",
       "    </tr>\n",
       "    <tr>\n",
       "      <th>147</th>\n",
       "      <td>2020</td>\n",
       "      <td>evermore</td>\n",
       "      <td>​coney-island</td>\n",
       "      <td>Break my soul in two looking for you\\nBut you'...</td>\n",
       "      <td>Break my soul in two looking for you But you'r...</td>\n",
       "      <td>0.102</td>\n",
       "      <td>0.789</td>\n",
       "      <td>0.110</td>\n",
       "      <td>0.8550</td>\n",
       "      <td>Positive</td>\n",
       "    </tr>\n",
       "    <tr>\n",
       "      <th>148</th>\n",
       "      <td>2020</td>\n",
       "      <td>evermore</td>\n",
       "      <td>​champagne-problems</td>\n",
       "      <td>You booked the night train for a reason\\nSo yo...</td>\n",
       "      <td>You booked the night train for a reason So you...</td>\n",
       "      <td>0.152</td>\n",
       "      <td>0.708</td>\n",
       "      <td>0.141</td>\n",
       "      <td>-0.6832</td>\n",
       "      <td>Negative</td>\n",
       "    </tr>\n",
       "    <tr>\n",
       "      <th>149</th>\n",
       "      <td>2020</td>\n",
       "      <td>evermore</td>\n",
       "      <td>​ivy</td>\n",
       "      <td>How's one to know?\\nI'd meet you where the spi...</td>\n",
       "      <td>How's one to know? I'd meet you where the spir...</td>\n",
       "      <td>0.169</td>\n",
       "      <td>0.696</td>\n",
       "      <td>0.135</td>\n",
       "      <td>-0.9615</td>\n",
       "      <td>Negative</td>\n",
       "    </tr>\n",
       "  </tbody>\n",
       "</table>\n",
       "<p>150 rows × 10 columns</p>\n",
       "</div>"
      ],
      "text/plain": [
       "     Year         Album                           Song  \\\n",
       "0    2006  Taylor-Swift      Mary's-Song-(Oh-My-My-My)   \n",
       "1    2006  Taylor-Swift        Sugar,-We're-Going-Down   \n",
       "2    2006  Taylor-Swift         A-Perfectly-Good-Heart   \n",
       "3    2006  Taylor-Swift                     Tim-McGraw   \n",
       "4    2006  Taylor-Swift  I’m-Only-Me-When-I’m-with-You   \n",
       "..    ...           ...                            ...   \n",
       "145  2020      evermore                   ​tolerate-it   \n",
       "146  2020      evermore             ​no-body,-no-crime   \n",
       "147  2020      evermore                  ​coney-island   \n",
       "148  2020      evermore            ​champagne-problems   \n",
       "149  2020      evermore                           ​ivy   \n",
       "\n",
       "                                                Lyrics  \\\n",
       "0    She said, I was seven and you were nine\\nI loo...   \n",
       "1    Am I more than you bargained for yet?\\nI've be...   \n",
       "2    Why would you wanna break a perfectly good hea...   \n",
       "3    He said the way my blue eyes shined\\nPut those...   \n",
       "4    Friday night beneath the stars\\nIn a field beh...   \n",
       "..                                                 ...   \n",
       "145  I sit and watch you reading with your head low...   \n",
       "146  He did it\\nHe did it\\n\\nEste's a friend of min...   \n",
       "147  Break my soul in two looking for you\\nBut you'...   \n",
       "148  You booked the night train for a reason\\nSo yo...   \n",
       "149  How's one to know?\\nI'd meet you where the spi...   \n",
       "\n",
       "                                         Lyrics_Parsed  Negative_Sentiment  \\\n",
       "0    She said, I was seven and you were nine I look...               0.028   \n",
       "1    Am I more than you bargained for yet? I've bee...               0.079   \n",
       "2    Why would you wanna break a perfectly good hea...               0.006   \n",
       "3    He said the way my blue eyes shined Put those ...               0.032   \n",
       "4    Friday night beneath the stars In a field behi...               0.072   \n",
       "..                                                 ...                 ...   \n",
       "145  I sit and watch you reading with your head low...               0.073   \n",
       "146  He did it He did it  Este's a friend of mine W...               0.169   \n",
       "147  Break my soul in two looking for you But you'r...               0.102   \n",
       "148  You booked the night train for a reason So you...               0.152   \n",
       "149  How's one to know? I'd meet you where the spir...               0.169   \n",
       "\n",
       "     Neutral_Sentiment  Positive_Sentiment  Normalized_Sentiment  \\\n",
       "0                0.840               0.132                0.9882   \n",
       "1                0.835               0.086               -0.5541   \n",
       "2                0.708               0.287                0.9979   \n",
       "3                0.810               0.158                0.9935   \n",
       "4                0.813               0.115                0.8705   \n",
       "..                 ...                 ...                   ...   \n",
       "145              0.776               0.151                0.9759   \n",
       "146              0.701               0.130               -0.9799   \n",
       "147              0.789               0.110                0.8550   \n",
       "148              0.708               0.141               -0.6832   \n",
       "149              0.696               0.135               -0.9615   \n",
       "\n",
       "    Sentiment_Label  \n",
       "0          Positive  \n",
       "1          Negative  \n",
       "2          Positive  \n",
       "3          Positive  \n",
       "4          Positive  \n",
       "..              ...  \n",
       "145        Positive  \n",
       "146        Negative  \n",
       "147        Positive  \n",
       "148        Negative  \n",
       "149        Negative  \n",
       "\n",
       "[150 rows x 10 columns]"
      ]
     },
     "execution_count": 341,
     "metadata": {},
     "output_type": "execute_result"
    }
   ],
   "source": [
    "#Convert the sentiment scores to labels\n",
    "Sentiment = []\n",
    "for i in AlbumLyricsDF['Normalized_Sentiment']:\n",
    "    if i >= 0.5:\n",
    "        Sentiment.append('Positive')\n",
    "    elif i < 0.5 and i > -0.5:\n",
    "        Sentiment.append('Neutral')\n",
    "    elif i < -0.5:\n",
    "        Sentiment.append('Negative')\n",
    "    else:\n",
    "        Sentiment.append('Non')\n",
    "\n",
    "AlbumLyricsDF['Sentiment_Label'] = Sentiment\n",
    "AlbumLyricsDF"
   ]
  },
  {
   "cell_type": "markdown",
   "metadata": {},
   "source": [
    "### Visualization"
   ]
  },
  {
   "cell_type": "markdown",
   "metadata": {},
   "source": [
    "#### Scatterplot"
   ]
  },
  {
   "cell_type": "markdown",
   "metadata": {},
   "source": [
    "##### Method 1 using `matplotlib`"
   ]
  },
  {
   "cell_type": "code",
   "execution_count": 342,
   "metadata": {},
   "outputs": [
    {
     "data": {
      "image/png": "[encoded data removed]",
      "text/plain": [
       "<Figure size 576x396 with 1 Axes>"
      ]
     },
     "metadata": {},
     "output_type": "display_data"
    }
   ],
   "source": [
    "import matplotlib.pyplot as plt\n",
    "#plt.style.use('seaborn') \n",
    "plt.style.use('fivethirtyeight')\n",
    "\n",
    "for name, group in AlbumLyricsDF.groupby('Year'):\n",
    "    plt.scatter(group['Positive_Sentiment'],group['Negative_Sentiment'],label=name)\n",
    "    plt.legend(fontsize=15)\n",
    "plt.xlim([-0.05,0.7])\n",
    "plt.ylim([-0.05,0.7])\n",
    "plt.title(\"Sentiments in Taylor Swift Songs by Year\")\n",
    "plt.xlabel('Positive Valence')\n",
    "plt.ylabel('Negative Valence')\n",
    "plt.show()"
   ]
  },
  {
   "cell_type": "markdown",
   "metadata": {},
   "source": [
    "##### Method 2 using `plotly`"
   ]
  },
  {
   "cell_type": "code",
   "execution_count": 346,
   "metadata": {},
   "outputs": [
    {
     "data": {
      "application/vnd.plotly.v1+json": {
       "config": {
        "plotlyServerURL": "https://plot.ly"
       },
       "data": [
        {
         "customdata": [
          [
           0.028
          ]
         ],
         "hovertemplate": "Song=Mary's-Song-(Oh-My-My-My)<br>Year=%{x}<br>Normalized_Sentiment=%{y}<br>Positive_Sentiment=%{marker.size}<br>Negative_Sentiment=%{customdata[0]}<extra></extra>",
         "legendgroup": "Mary's-Song-(Oh-My-My-My)",
         "marker": {
          "color": "rgb(102, 197, 204)",
          "size": [
           0.132
          ],
          "sizemode": "area",
          "sizeref": 0.001045,
          "symbol": "circle"
         },
         "mode": "markers",
         "name": "Mary's-Song-(Oh-My-My-My)",
         "orientation": "v",
         "showlegend": true,
         "type": "scatter",
         "x": [
          2006
         ],
         "xaxis": "x",
         "y": [
          0.9882
         ],
         "yaxis": "y"
        },
        {
         "customdata": [
          [
           0.079
          ]
         ],
         "hovertemplate": "Song=Sugar,-We're-Going-Down<br>Year=%{x}<br>Normalized_Sentiment=%{y}<br>Positive_Sentiment=%{marker.size}<br>Negative_Sentiment=%{customdata[0]}<extra></extra>",
         "legendgroup": "Sugar,-We're-Going-Down",
         "marker": {
          "color": "rgb(246, 207, 113)",
          "size": [
           0.086
          ],
          "sizemode": "area",
          "sizeref": 0.001045,
          "symbol": "circle"
         },
         "mode": "markers",
         "name": "Sugar,-We're-Going-Down",
         "orientation": "v",
         "showlegend": true,
         "type": "scatter",
         "x": [
          2006
         ],
         "xaxis": "x",
         "y": [
          -0.5541
         ],
         "yaxis": "y"
        },
        {
         "customdata": [
          [
           0.006
          ]
         ],
         "hovertemplate": "Song=A-Perfectly-Good-Heart<br>Year=%{x}<br>Normalized_Sentiment=%{y}<br>Positive_Sentiment=%{marker.size}<br>Negative_Sentiment=%{customdata[0]}<extra></extra>",
         "legendgroup": "A-Perfectly-Good-Heart",
         "marker": {
          "color": "rgb(248, 156, 116)",
          "size": [
           0.287
          ],
          "sizemode": "area",
          "sizeref": 0.001045,
          "symbol": "circle"
         },
         "mode": "markers",
         "name": "A-Perfectly-Good-Heart",
         "orientation": "v",
         "showlegend": true,
         "type": "scatter",
         "x": [
          2006
         ],
         "xaxis": "x",
         "y": [
          0.9979
         ],
         "yaxis": "y"
        },
        {
         "customdata": [
          [
           0.032
          ]
         ],
         "hovertemplate": "Song=Tim-McGraw<br>Year=%{x}<br>Normalized_Sentiment=%{y}<br>Positive_Sentiment=%{marker.size}<br>Negative_Sentiment=%{customdata[0]}<extra></extra>",
         "legendgroup": "Tim-McGraw",
         "marker": {
          "color": "rgb(220, 176, 242)",
          "size": [
           0.158
          ],
          "sizemode": "area",
          "sizeref": 0.001045,
          "symbol": "circle"
         },
         "mode": "markers",
         "name": "Tim-McGraw",
         "orientation": "v",
         "showlegend": true,
         "type": "scatter",
         "x": [
          2006
         ],
         "xaxis": "x",
         "y": [
          0.9935
         ],
         "yaxis": "y"
        },
        {
         "customdata": [
          [
           0.072
          ]
         ],
         "hovertemplate": "Song=I’m-Only-Me-When-I’m-with-You<br>Year=%{x}<br>Normalized_Sentiment=%{y}<br>Positive_Sentiment=%{marker.size}<br>Negative_Sentiment=%{customdata[0]}<extra></extra>",
         "legendgroup": "I’m-Only-Me-When-I’m-with-You",
         "marker": {
          "color": "rgb(135, 197, 95)",
          "size": [
           0.115
          ],
          "sizemode": "area",
          "sizeref": 0.001045,
          "symbol": "circle"
         },
         "mode": "markers",
         "name": "I’m-Only-Me-When-I’m-with-You",
         "orientation": "v",
         "showlegend": true,
         "type": "scatter",
         "x": [
          2006
         ],
         "xaxis": "x",
         "y": [
          0.8705
         ],
         "yaxis": "y"
        },
        {
         "customdata": [
          [
           0.039
          ]
         ],
         "hovertemplate": "Song=Teardrops-on-My-Guitar<br>Year=%{x}<br>Normalized_Sentiment=%{y}<br>Positive_Sentiment=%{marker.size}<br>Negative_Sentiment=%{customdata[0]}<extra></extra>",
         "legendgroup": "Teardrops-on-My-Guitar",
         "marker": {
          "color": "rgb(158, 185, 243)",
          "size": [
           0.126
          ],
          "sizemode": "area",
          "sizeref": 0.001045,
          "symbol": "circle"
         },
         "mode": "markers",
         "name": "Teardrops-on-My-Guitar",
         "orientation": "v",
         "showlegend": true,
         "type": "scatter",
         "x": [
          2006
         ],
         "xaxis": "x",
         "y": [
          0.9599
         ],
         "yaxis": "y"
        },
        {
         "customdata": [
          [
           0.138
          ]
         ],
         "hovertemplate": "Song=Cold-as-You<br>Year=%{x}<br>Normalized_Sentiment=%{y}<br>Positive_Sentiment=%{marker.size}<br>Negative_Sentiment=%{customdata[0]}<extra></extra>",
         "legendgroup": "Cold-as-You",
         "marker": {
          "color": "rgb(254, 136, 177)",
          "size": [
           0.115
          ],
          "sizemode": "area",
          "sizeref": 0.001045,
          "symbol": "circle"
         },
         "mode": "markers",
         "name": "Cold-as-You",
         "orientation": "v",
         "showlegend": true,
         "type": "scatter",
         "x": [
          2006
         ],
         "xaxis": "x",
         "y": [
          -0.8357
         ],
         "yaxis": "y"
        },
        {
         "customdata": [
          [
           0.098
          ]
         ],
         "hovertemplate": "Song=The-Outside<br>Year=%{x}<br>Normalized_Sentiment=%{y}<br>Positive_Sentiment=%{marker.size}<br>Negative_Sentiment=%{customdata[0]}<extra></extra>",
         "legendgroup": "The-Outside",
         "marker": {
          "color": "rgb(201, 219, 116)",
          "size": [
           0.052
          ],
          "sizemode": "area",
          "sizeref": 0.001045,
          "symbol": "circle"
         },
         "mode": "markers",
         "name": "The-Outside",
         "orientation": "v",
         "showlegend": true,
         "type": "scatter",
         "x": [
          2006
         ],
         "xaxis": "x",
         "y": [
          -0.8967
         ],
         "yaxis": "y"
        },
        {
         "customdata": [
          [
           0.093
          ]
         ],
         "hovertemplate": "Song=Should've-Said-No<br>Year=%{x}<br>Normalized_Sentiment=%{y}<br>Positive_Sentiment=%{marker.size}<br>Negative_Sentiment=%{customdata[0]}<extra></extra>",
         "legendgroup": "Should've-Said-No",
         "marker": {
          "color": "rgb(139, 224, 164)",
          "size": [
           0.054
          ],
          "sizemode": "area",
          "sizeref": 0.001045,
          "symbol": "circle"
         },
         "mode": "markers",
         "name": "Should've-Said-No",
         "orientation": "v",
         "showlegend": true,
         "type": "scatter",
         "x": [
          2006
         ],
         "xaxis": "x",
         "y": [
          -0.9254
         ],
         "yaxis": "y"
        },
        {
         "customdata": [
          [
           0.083
          ]
         ],
         "hovertemplate": "Song=A-Place-In-This-World<br>Year=%{x}<br>Normalized_Sentiment=%{y}<br>Positive_Sentiment=%{marker.size}<br>Negative_Sentiment=%{customdata[0]}<extra></extra>",
         "legendgroup": "A-Place-In-This-World",
         "marker": {
          "color": "rgb(180, 151, 231)",
          "size": [
           0.125
          ],
          "sizemode": "area",
          "sizeref": 0.001045,
          "symbol": "circle"
         },
         "mode": "markers",
         "name": "A-Place-In-This-World",
         "orientation": "v",
         "showlegend": true,
         "type": "scatter",
         "x": [
          2006
         ],
         "xaxis": "x",
         "y": [
          0.923
         ],
         "yaxis": "y"
        },
        {
         "customdata": [
          [
           0.033
          ]
         ],
         "hovertemplate": "Song=Our-Song<br>Year=%{x}<br>Normalized_Sentiment=%{y}<br>Positive_Sentiment=%{marker.size}<br>Negative_Sentiment=%{customdata[0]}<extra></extra>",
         "legendgroup": "Our-Song",
         "marker": {
          "color": "rgb(179, 179, 179)",
          "size": [
           0.095
          ],
          "sizemode": "area",
          "sizeref": 0.001045,
          "symbol": "circle"
         },
         "mode": "markers",
         "name": "Our-Song",
         "orientation": "v",
         "showlegend": true,
         "type": "scatter",
         "x": [
          2006
         ],
         "xaxis": "x",
         "y": [
          0.9652
         ],
         "yaxis": "y"
        },
        {
         "customdata": [
          [
           0.314
          ]
         ],
         "hovertemplate": "Song=Picture-to-Burn<br>Year=%{x}<br>Normalized_Sentiment=%{y}<br>Positive_Sentiment=%{marker.size}<br>Negative_Sentiment=%{customdata[0]}<extra></extra>",
         "legendgroup": "Picture-to-Burn",
         "marker": {
          "color": "rgb(102, 197, 204)",
          "size": [
           0.067
          ],
          "sizemode": "area",
          "sizeref": 0.001045,
          "symbol": "circle"
         },
         "mode": "markers",
         "name": "Picture-to-Burn",
         "orientation": "v",
         "showlegend": true,
         "type": "scatter",
         "x": [
          2006
         ],
         "xaxis": "x",
         "y": [
          -0.998
         ],
         "yaxis": "y"
        },
        {
         "customdata": [
          [
           0.009
          ]
         ],
         "hovertemplate": "Song=Stay-Beautiful<br>Year=%{x}<br>Normalized_Sentiment=%{y}<br>Positive_Sentiment=%{marker.size}<br>Negative_Sentiment=%{customdata[0]}<extra></extra>",
         "legendgroup": "Stay-Beautiful",
         "marker": {
          "color": "rgb(246, 207, 113)",
          "size": [
           0.307
          ],
          "sizemode": "area",
          "sizeref": 0.001045,
          "symbol": "circle"
         },
         "mode": "markers",
         "name": "Stay-Beautiful",
         "orientation": "v",
         "showlegend": true,
         "type": "scatter",
         "x": [
          2006
         ],
         "xaxis": "x",
         "y": [
          0.9988
         ],
         "yaxis": "y"
        },
        {
         "customdata": [
          [
           0.067
          ]
         ],
         "hovertemplate": "Song=Invisible<br>Year=%{x}<br>Normalized_Sentiment=%{y}<br>Positive_Sentiment=%{marker.size}<br>Negative_Sentiment=%{customdata[0]}<extra></extra>",
         "legendgroup": "Invisible",
         "marker": {
          "color": "rgb(248, 156, 116)",
          "size": [
           0.198
          ],
          "sizemode": "area",
          "sizeref": 0.001045,
          "symbol": "circle"
         },
         "mode": "markers",
         "name": "Invisible",
         "orientation": "v",
         "showlegend": true,
         "type": "scatter",
         "x": [
          2006
         ],
         "xaxis": "x",
         "y": [
          0.9858
         ],
         "yaxis": "y"
        },
        {
         "customdata": [
          [
           0.131
          ]
         ],
         "hovertemplate": "Song=Tied-Together-with-a-Smile<br>Year=%{x}<br>Normalized_Sentiment=%{y}<br>Positive_Sentiment=%{marker.size}<br>Negative_Sentiment=%{customdata[0]}<extra></extra>",
         "legendgroup": "Tied-Together-with-a-Smile",
         "marker": {
          "color": "rgb(220, 176, 242)",
          "size": [
           0.123
          ],
          "sizemode": "area",
          "sizeref": 0.001045,
          "symbol": "circle"
         },
         "mode": "markers",
         "name": "Tied-Together-with-a-Smile",
         "orientation": "v",
         "showlegend": true,
         "type": "scatter",
         "x": [
          2006
         ],
         "xaxis": "x",
         "y": [
          0.5402
         ],
         "yaxis": "y"
        },
        {
         "customdata": [
          [
           0.031
          ]
         ],
         "hovertemplate": "Song=Teardrops-on-My-Guitar-(Pop-Version)<br>Year=%{x}<br>Normalized_Sentiment=%{y}<br>Positive_Sentiment=%{marker.size}<br>Negative_Sentiment=%{customdata[0]}<extra></extra>",
         "legendgroup": "Teardrops-on-My-Guitar-(Pop-Version)",
         "marker": {
          "color": "rgb(135, 197, 95)",
          "size": [
           0.127
          ],
          "sizemode": "area",
          "sizeref": 0.001045,
          "symbol": "circle"
         },
         "mode": "markers",
         "name": "Teardrops-on-My-Guitar-(Pop-Version)",
         "orientation": "v",
         "showlegend": true,
         "type": "scatter",
         "x": [
          2006
         ],
         "xaxis": "x",
         "y": [
          0.9674
         ],
         "yaxis": "y"
        },
        {
         "customdata": [
          [
           0.053
          ]
         ],
         "hovertemplate": "Song=Bye-Bye-Baby-(Taylor's-Version)-[From-the-Vault]<br>Year=%{x}<br>Normalized_Sentiment=%{y}<br>Positive_Sentiment=%{marker.size}<br>Negative_Sentiment=%{customdata[0]}<extra></extra>",
         "legendgroup": "Bye-Bye-Baby-(Taylor's-Version)-[From-the-Vault]",
         "marker": {
          "color": "rgb(158, 185, 243)",
          "size": [
           0.082
          ],
          "sizemode": "area",
          "sizeref": 0.001045,
          "symbol": "circle"
         },
         "mode": "markers",
         "name": "Bye-Bye-Baby-(Taylor's-Version)-[From-the-Vault]",
         "orientation": "v",
         "showlegend": true,
         "type": "scatter",
         "x": [
          2008
         ],
         "xaxis": "x",
         "y": [
          0.7884
         ],
         "yaxis": "y"
        },
        {
         "customdata": [
          [
           0.022
          ]
         ],
         "hovertemplate": "Song=The-Best-Day-(Taylor's-Version)<br>Year=%{x}<br>Normalized_Sentiment=%{y}<br>Positive_Sentiment=%{marker.size}<br>Negative_Sentiment=%{customdata[0]}<extra></extra>",
         "legendgroup": "The-Best-Day-(Taylor's-Version)",
         "marker": {
          "color": "rgb(254, 136, 177)",
          "size": [
           0.194
          ],
          "sizemode": "area",
          "sizeref": 0.001045,
          "symbol": "circle"
         },
         "mode": "markers",
         "name": "The-Best-Day-(Taylor's-Version)",
         "orientation": "v",
         "showlegend": true,
         "type": "scatter",
         "x": [
          2008
         ],
         "xaxis": "x",
         "y": [
          0.9963
         ],
         "yaxis": "y"
        },
        {
         "customdata": [
          [
           0.006
          ]
         ],
         "hovertemplate": "Song=Fifteen-(Taylor's-Version)<br>Year=%{x}<br>Normalized_Sentiment=%{y}<br>Positive_Sentiment=%{marker.size}<br>Negative_Sentiment=%{customdata[0]}<extra></extra>",
         "legendgroup": "Fifteen-(Taylor's-Version)",
         "marker": {
          "color": "rgb(201, 219, 116)",
          "size": [
           0.113
          ],
          "sizemode": "area",
          "sizeref": 0.001045,
          "symbol": "circle"
         },
         "mode": "markers",
         "name": "Fifteen-(Taylor's-Version)",
         "orientation": "v",
         "showlegend": true,
         "type": "scatter",
         "x": [
          2008
         ],
         "xaxis": "x",
         "y": [
          0.9911
         ],
         "yaxis": "y"
        },
        {
         "customdata": [
          [
           0.073
          ]
         ],
         "hovertemplate": "Song=That's-When-(Taylor's-Version)-[From-the-Vault]<br>Year=%{x}<br>Normalized_Sentiment=%{y}<br>Positive_Sentiment=%{marker.size}<br>Negative_Sentiment=%{customdata[0]}<extra></extra>",
         "legendgroup": "That's-When-(Taylor's-Version)-[From-the-Vault]",
         "marker": {
          "color": "rgb(139, 224, 164)",
          "size": [
           0.1
          ],
          "sizemode": "area",
          "sizeref": 0.001045,
          "symbol": "circle"
         },
         "mode": "markers",
         "name": "That's-When-(Taylor's-Version)-[From-the-Vault]",
         "orientation": "v",
         "showlegend": true,
         "type": "scatter",
         "x": [
          2008
         ],
         "xaxis": "x",
         "y": [
          0.8988
         ],
         "yaxis": "y"
        },
        {
         "customdata": [
          [
           0.083
          ]
         ],
         "hovertemplate": "Song=The-Other-Side-of-the-Door-(Taylor's-Version)<br>Year=%{x}<br>Normalized_Sentiment=%{y}<br>Positive_Sentiment=%{marker.size}<br>Negative_Sentiment=%{customdata[0]}<extra></extra>",
         "legendgroup": "The-Other-Side-of-the-Door-(Taylor's-Version)",
         "marker": {
          "color": "rgb(180, 151, 231)",
          "size": [
           0.116
          ],
          "sizemode": "area",
          "sizeref": 0.001045,
          "symbol": "circle"
         },
         "mode": "markers",
         "name": "The-Other-Side-of-the-Door-(Taylor's-Version)",
         "orientation": "v",
         "showlegend": true,
         "type": "scatter",
         "x": [
          2008
         ],
         "xaxis": "x",
         "y": [
          0.9198
         ],
         "yaxis": "y"
        },
        {
         "customdata": [
          [
           0.113
          ]
         ],
         "hovertemplate": "Song=The-Way-I-Loved-You-(Taylor's-Version)<br>Year=%{x}<br>Normalized_Sentiment=%{y}<br>Positive_Sentiment=%{marker.size}<br>Negative_Sentiment=%{customdata[0]}<extra></extra>",
         "legendgroup": "The-Way-I-Loved-You-(Taylor's-Version)",
         "marker": {
          "color": "rgb(179, 179, 179)",
          "size": [
           0.208
          ],
          "sizemode": "area",
          "sizeref": 0.001045,
          "symbol": "circle"
         },
         "mode": "markers",
         "name": "The-Way-I-Loved-You-(Taylor's-Version)",
         "orientation": "v",
         "showlegend": true,
         "type": "scatter",
         "x": [
          2008
         ],
         "xaxis": "x",
         "y": [
          0.9936
         ],
         "yaxis": "y"
        },
        {
         "customdata": [
          [
           0.03
          ]
         ],
         "hovertemplate": "Song=You-Belong-With-Me-(Taylor's-Version)<br>Year=%{x}<br>Normalized_Sentiment=%{y}<br>Positive_Sentiment=%{marker.size}<br>Negative_Sentiment=%{customdata[0]}<extra></extra>",
         "legendgroup": "You-Belong-With-Me-(Taylor's-Version)",
         "marker": {
          "color": "rgb(102, 197, 204)",
          "size": [
           0.09
          ],
          "sizemode": "area",
          "sizeref": 0.001045,
          "symbol": "circle"
         },
         "mode": "markers",
         "name": "You-Belong-With-Me-(Taylor's-Version)",
         "orientation": "v",
         "showlegend": true,
         "type": "scatter",
         "x": [
          2008
         ],
         "xaxis": "x",
         "y": [
          0.9742
         ],
         "yaxis": "y"
        },
        {
         "customdata": [
          [
           0.031
          ]
         ],
         "hovertemplate": "Song=Fearless-(Taylor's-Version)<br>Year=%{x}<br>Normalized_Sentiment=%{y}<br>Positive_Sentiment=%{marker.size}<br>Negative_Sentiment=%{customdata[0]}<extra></extra>",
         "legendgroup": "Fearless-(Taylor's-Version)",
         "marker": {
          "color": "rgb(246, 207, 113)",
          "size": [
           0.282
          ],
          "sizemode": "area",
          "sizeref": 0.001045,
          "symbol": "circle"
         },
         "mode": "markers",
         "name": "Fearless-(Taylor's-Version)",
         "orientation": "v",
         "showlegend": true,
         "type": "scatter",
         "x": [
          2008
         ],
         "xaxis": "x",
         "y": [
          0.9986
         ],
         "yaxis": "y"
        },
        {
         "customdata": [
          [
           0
          ]
         ],
         "hovertemplate": "Song=Untouchable-(Taylor's-Version)<br>Year=%{x}<br>Normalized_Sentiment=%{y}<br>Positive_Sentiment=%{marker.size}<br>Negative_Sentiment=%{customdata[0]}<extra></extra>",
         "legendgroup": "Untouchable-(Taylor's-Version)",
         "marker": {
          "color": "rgb(248, 156, 116)",
          "size": [
           0.151
          ],
          "sizemode": "area",
          "sizeref": 0.001045,
          "symbol": "circle"
         },
         "mode": "markers",
         "name": "Untouchable-(Taylor's-Version)",
         "orientation": "v",
         "showlegend": true,
         "type": "scatter",
         "x": [
          2008
         ],
         "xaxis": "x",
         "y": [
          0.9947
         ],
         "yaxis": "y"
        },
        {
         "customdata": [
          [
           0.056
          ]
         ],
         "hovertemplate": "Song=White-Horse-(Taylor's-Version)<br>Year=%{x}<br>Normalized_Sentiment=%{y}<br>Positive_Sentiment=%{marker.size}<br>Negative_Sentiment=%{customdata[0]}<extra></extra>",
         "legendgroup": "White-Horse-(Taylor's-Version)",
         "marker": {
          "color": "rgb(220, 176, 242)",
          "size": [
           0.086
          ],
          "sizemode": "area",
          "sizeref": 0.001045,
          "symbol": "circle"
         },
         "mode": "markers",
         "name": "White-Horse-(Taylor's-Version)",
         "orientation": "v",
         "showlegend": true,
         "type": "scatter",
         "x": [
          2008
         ],
         "xaxis": "x",
         "y": [
          0.9068
         ],
         "yaxis": "y"
        },
        {
         "customdata": [
          [
           0.07
          ]
         ],
         "hovertemplate": "Song=Change-(Taylor's-Version)<br>Year=%{x}<br>Normalized_Sentiment=%{y}<br>Positive_Sentiment=%{marker.size}<br>Negative_Sentiment=%{customdata[0]}<extra></extra>",
         "legendgroup": "Change-(Taylor's-Version)",
         "marker": {
          "color": "rgb(135, 197, 95)",
          "size": [
           0.163
          ],
          "sizemode": "area",
          "sizeref": 0.001045,
          "symbol": "circle"
         },
         "mode": "markers",
         "name": "Change-(Taylor's-Version)",
         "orientation": "v",
         "showlegend": true,
         "type": "scatter",
         "x": [
          2008
         ],
         "xaxis": "x",
         "y": [
          0.9895
         ],
         "yaxis": "y"
        },
        {
         "customdata": [
          [
           0.056
          ]
         ],
         "hovertemplate": "Song=Love-Story-(Taylor's-Version)<br>Year=%{x}<br>Normalized_Sentiment=%{y}<br>Positive_Sentiment=%{marker.size}<br>Negative_Sentiment=%{customdata[0]}<extra></extra>",
         "legendgroup": "Love-Story-(Taylor's-Version)",
         "marker": {
          "color": "rgb(158, 185, 243)",
          "size": [
           0.111
          ],
          "sizemode": "area",
          "sizeref": 0.001045,
          "symbol": "circle"
         },
         "mode": "markers",
         "name": "Love-Story-(Taylor's-Version)",
         "orientation": "v",
         "showlegend": true,
         "type": "scatter",
         "x": [
          2008
         ],
         "xaxis": "x",
         "y": [
          0.9733
         ],
         "yaxis": "y"
        },
        {
         "customdata": [
          [
           0.036
          ]
         ],
         "hovertemplate": "Song=Jump-Then-Fall-(Taylor's-Version)<br>Year=%{x}<br>Normalized_Sentiment=%{y}<br>Positive_Sentiment=%{marker.size}<br>Negative_Sentiment=%{customdata[0]}<extra></extra>",
         "legendgroup": "Jump-Then-Fall-(Taylor's-Version)",
         "marker": {
          "color": "rgb(254, 136, 177)",
          "size": [
           0.141
          ],
          "sizemode": "area",
          "sizeref": 0.001045,
          "symbol": "circle"
         },
         "mode": "markers",
         "name": "Jump-Then-Fall-(Taylor's-Version)",
         "orientation": "v",
         "showlegend": true,
         "type": "scatter",
         "x": [
          2008
         ],
         "xaxis": "x",
         "y": [
          0.9879
         ],
         "yaxis": "y"
        },
        {
         "customdata": [
          [
           0.125
          ]
         ],
         "hovertemplate": "Song=Hey-Stephen-(Taylor's-Version)<br>Year=%{x}<br>Normalized_Sentiment=%{y}<br>Positive_Sentiment=%{marker.size}<br>Negative_Sentiment=%{customdata[0]}<extra></extra>",
         "legendgroup": "Hey-Stephen-(Taylor's-Version)",
         "marker": {
          "color": "rgb(201, 219, 116)",
          "size": [
           0.111
          ],
          "sizemode": "area",
          "sizeref": 0.001045,
          "symbol": "circle"
         },
         "mode": "markers",
         "name": "Hey-Stephen-(Taylor's-Version)",
         "orientation": "v",
         "showlegend": true,
         "type": "scatter",
         "x": [
          2008
         ],
         "xaxis": "x",
         "y": [
          -0.2325
         ],
         "yaxis": "y"
        },
        {
         "customdata": [
          [
           0.076
          ]
         ],
         "hovertemplate": "Song=Breathe-(Taylor's-Version)<br>Year=%{x}<br>Normalized_Sentiment=%{y}<br>Positive_Sentiment=%{marker.size}<br>Negative_Sentiment=%{customdata[0]}<extra></extra>",
         "legendgroup": "Breathe-(Taylor's-Version)",
         "marker": {
          "color": "rgb(139, 224, 164)",
          "size": [
           0.231
          ],
          "sizemode": "area",
          "sizeref": 0.001045,
          "symbol": "circle"
         },
         "mode": "markers",
         "name": "Breathe-(Taylor's-Version)",
         "orientation": "v",
         "showlegend": true,
         "type": "scatter",
         "x": [
          2008
         ],
         "xaxis": "x",
         "y": [
          0.9951
         ],
         "yaxis": "y"
        },
        {
         "customdata": [
          [
           0.105
          ]
         ],
         "hovertemplate": "Song=Superstar-(Taylor's-Version)<br>Year=%{x}<br>Normalized_Sentiment=%{y}<br>Positive_Sentiment=%{marker.size}<br>Negative_Sentiment=%{customdata[0]}<extra></extra>",
         "legendgroup": "Superstar-(Taylor's-Version)",
         "marker": {
          "color": "rgb(180, 151, 231)",
          "size": [
           0.238
          ],
          "sizemode": "area",
          "sizeref": 0.001045,
          "symbol": "circle"
         },
         "mode": "markers",
         "name": "Superstar-(Taylor's-Version)",
         "orientation": "v",
         "showlegend": true,
         "type": "scatter",
         "x": [
          2008
         ],
         "xaxis": "x",
         "y": [
          0.9945
         ],
         "yaxis": "y"
        },
        {
         "customdata": [
          [
           0.146
          ]
         ],
         "hovertemplate": "Song=You-All-Over-Me-(Taylor's-Version)-[From-the-Vault]<br>Year=%{x}<br>Normalized_Sentiment=%{y}<br>Positive_Sentiment=%{marker.size}<br>Negative_Sentiment=%{customdata[0]}<extra></extra>",
         "legendgroup": "You-All-Over-Me-(Taylor's-Version)-[From-the-Vault]",
         "marker": {
          "color": "rgb(179, 179, 179)",
          "size": [
           0.162
          ],
          "sizemode": "area",
          "sizeref": 0.001045,
          "symbol": "circle"
         },
         "mode": "markers",
         "name": "You-All-Over-Me-(Taylor's-Version)-[From-the-Vault]",
         "orientation": "v",
         "showlegend": true,
         "type": "scatter",
         "x": [
          2008
         ],
         "xaxis": "x",
         "y": [
          0.8926
         ],
         "yaxis": "y"
        },
        {
         "customdata": [
          [
           0.026
          ]
         ],
         "hovertemplate": "Song=Today-Was-a-Fairytale-(Taylor's-Version)<br>Year=%{x}<br>Normalized_Sentiment=%{y}<br>Positive_Sentiment=%{marker.size}<br>Negative_Sentiment=%{customdata[0]}<extra></extra>",
         "legendgroup": "Today-Was-a-Fairytale-(Taylor's-Version)",
         "marker": {
          "color": "rgb(102, 197, 204)",
          "size": [
           0.127
          ],
          "sizemode": "area",
          "sizeref": 0.001045,
          "symbol": "circle"
         },
         "mode": "markers",
         "name": "Today-Was-a-Fairytale-(Taylor's-Version)",
         "orientation": "v",
         "showlegend": true,
         "type": "scatter",
         "x": [
          2008
         ],
         "xaxis": "x",
         "y": [
          0.9873
         ],
         "yaxis": "y"
        },
        {
         "customdata": [
          [
           0.103
          ]
         ],
         "hovertemplate": "Song=Mr.-Perfectly-Fine-(Taylor's-Version)-[From-the-Vault]<br>Year=%{x}<br>Normalized_Sentiment=%{y}<br>Positive_Sentiment=%{marker.size}<br>Negative_Sentiment=%{customdata[0]}<extra></extra>",
         "legendgroup": "Mr.-Perfectly-Fine-(Taylor's-Version)-[From-the-Vault]",
         "marker": {
          "color": "rgb(246, 207, 113)",
          "size": [
           0.175
          ],
          "sizemode": "area",
          "sizeref": 0.001045,
          "symbol": "circle"
         },
         "mode": "markers",
         "name": "Mr.-Perfectly-Fine-(Taylor's-Version)-[From-the-Vault]",
         "orientation": "v",
         "showlegend": true,
         "type": "scatter",
         "x": [
          2008
         ],
         "xaxis": "x",
         "y": [
          0.9865
         ],
         "yaxis": "y"
        },
        {
         "customdata": [
          [
           0.169
          ]
         ],
         "hovertemplate": "Song=Tell-Me-Why-(Taylor's-Version)<br>Year=%{x}<br>Normalized_Sentiment=%{y}<br>Positive_Sentiment=%{marker.size}<br>Negative_Sentiment=%{customdata[0]}<extra></extra>",
         "legendgroup": "Tell-Me-Why-(Taylor's-Version)",
         "marker": {
          "color": "rgb(248, 156, 116)",
          "size": [
           0.129
          ],
          "sizemode": "area",
          "sizeref": 0.001045,
          "symbol": "circle"
         },
         "mode": "markers",
         "name": "Tell-Me-Why-(Taylor's-Version)",
         "orientation": "v",
         "showlegend": true,
         "type": "scatter",
         "x": [
          2008
         ],
         "xaxis": "x",
         "y": [
          -0.9643
         ],
         "yaxis": "y"
        },
        {
         "customdata": [
          [
           0.08
          ]
         ],
         "hovertemplate": "Song=Don't-You-(Taylor's-Version)-[From-the-Vault]<br>Year=%{x}<br>Normalized_Sentiment=%{y}<br>Positive_Sentiment=%{marker.size}<br>Negative_Sentiment=%{customdata[0]}<extra></extra>",
         "legendgroup": "Don't-You-(Taylor's-Version)-[From-the-Vault]",
         "marker": {
          "color": "rgb(220, 176, 242)",
          "size": [
           0.117
          ],
          "sizemode": "area",
          "sizeref": 0.001045,
          "symbol": "circle"
         },
         "mode": "markers",
         "name": "Don't-You-(Taylor's-Version)-[From-the-Vault]",
         "orientation": "v",
         "showlegend": true,
         "type": "scatter",
         "x": [
          2008
         ],
         "xaxis": "x",
         "y": [
          0.9368
         ],
         "yaxis": "y"
        },
        {
         "customdata": [
          [
           0.058
          ]
         ],
         "hovertemplate": "Song=You're-Not-Sorry-(Taylor's-Version)<br>Year=%{x}<br>Normalized_Sentiment=%{y}<br>Positive_Sentiment=%{marker.size}<br>Negative_Sentiment=%{customdata[0]}<extra></extra>",
         "legendgroup": "You're-Not-Sorry-(Taylor's-Version)",
         "marker": {
          "color": "rgb(135, 197, 95)",
          "size": [
           0.273
          ],
          "sizemode": "area",
          "sizeref": 0.001045,
          "symbol": "circle"
         },
         "mode": "markers",
         "name": "You're-Not-Sorry-(Taylor's-Version)",
         "orientation": "v",
         "showlegend": true,
         "type": "scatter",
         "x": [
          2008
         ],
         "xaxis": "x",
         "y": [
          0.9971
         ],
         "yaxis": "y"
        },
        {
         "customdata": [
          [
           0.071
          ]
         ],
         "hovertemplate": "Song=Come-In-With-the-Rain-(Taylor's-Version)<br>Year=%{x}<br>Normalized_Sentiment=%{y}<br>Positive_Sentiment=%{marker.size}<br>Negative_Sentiment=%{customdata[0]}<extra></extra>",
         "legendgroup": "Come-In-With-the-Rain-(Taylor's-Version)",
         "marker": {
          "color": "rgb(158, 185, 243)",
          "size": [
           0.077
          ],
          "sizemode": "area",
          "sizeref": 0.001045,
          "symbol": "circle"
         },
         "mode": "markers",
         "name": "Come-In-With-the-Rain-(Taylor's-Version)",
         "orientation": "v",
         "showlegend": true,
         "type": "scatter",
         "x": [
          2008
         ],
         "xaxis": "x",
         "y": [
          0.6621
         ],
         "yaxis": "y"
        },
        {
         "customdata": [
          [
           0.091
          ]
         ],
         "hovertemplate": "Song=Forever-&-Always-(Taylor's-Version)<br>Year=%{x}<br>Normalized_Sentiment=%{y}<br>Positive_Sentiment=%{marker.size}<br>Negative_Sentiment=%{customdata[0]}<extra></extra>",
         "legendgroup": "Forever-&-Always-(Taylor's-Version)",
         "marker": {
          "color": "rgb(254, 136, 177)",
          "size": [
           0.035
          ],
          "sizemode": "area",
          "sizeref": 0.001045,
          "symbol": "circle"
         },
         "mode": "markers",
         "name": "Forever-&-Always-(Taylor's-Version)",
         "orientation": "v",
         "showlegend": true,
         "type": "scatter",
         "x": [
          2008
         ],
         "xaxis": "x",
         "y": [
          -0.9729
         ],
         "yaxis": "y"
        },
        {
         "customdata": [
          [
           0.051
          ]
         ],
         "hovertemplate": "Song=We-Were-Happy-(Taylor's-Version)-[From-the-Vault]<br>Year=%{x}<br>Normalized_Sentiment=%{y}<br>Positive_Sentiment=%{marker.size}<br>Negative_Sentiment=%{customdata[0]}<extra></extra>",
         "legendgroup": "We-Were-Happy-(Taylor's-Version)-[From-the-Vault]",
         "marker": {
          "color": "rgb(201, 219, 116)",
          "size": [
           0.241
          ],
          "sizemode": "area",
          "sizeref": 0.001045,
          "symbol": "circle"
         },
         "mode": "markers",
         "name": "We-Were-Happy-(Taylor's-Version)-[From-the-Vault]",
         "orientation": "v",
         "showlegend": true,
         "type": "scatter",
         "x": [
          2008
         ],
         "xaxis": "x",
         "y": [
          0.9956
         ],
         "yaxis": "y"
        },
        {
         "customdata": [
          [
           0.098
          ]
         ],
         "hovertemplate": "Song=Mine<br>Year=%{x}<br>Normalized_Sentiment=%{y}<br>Positive_Sentiment=%{marker.size}<br>Negative_Sentiment=%{customdata[0]}<extra></extra>",
         "legendgroup": "Mine",
         "marker": {
          "color": "rgb(139, 224, 164)",
          "size": [
           0.147
          ],
          "sizemode": "area",
          "sizeref": 0.001045,
          "symbol": "circle"
         },
         "mode": "markers",
         "name": "Mine",
         "orientation": "v",
         "showlegend": true,
         "type": "scatter",
         "x": [
          2010
         ],
         "xaxis": "x",
         "y": [
          0.9753
         ],
         "yaxis": "y"
        },
        {
         "customdata": [
          [
           0.059
          ]
         ],
         "hovertemplate": "Song=Back-to-December<br>Year=%{x}<br>Normalized_Sentiment=%{y}<br>Positive_Sentiment=%{marker.size}<br>Negative_Sentiment=%{customdata[0]}<extra></extra>",
         "legendgroup": "Back-to-December",
         "marker": {
          "color": "rgb(180, 151, 231)",
          "size": [
           0.176
          ],
          "sizemode": "area",
          "sizeref": 0.001045,
          "symbol": "circle"
         },
         "mode": "markers",
         "name": "Back-to-December",
         "orientation": "v",
         "showlegend": true,
         "type": "scatter",
         "x": [
          2010
         ],
         "xaxis": "x",
         "y": [
          0.9963
         ],
         "yaxis": "y"
        },
        {
         "customdata": [
          [
           0.138
          ]
         ],
         "hovertemplate": "Song=Dear-John<br>Year=%{x}<br>Normalized_Sentiment=%{y}<br>Positive_Sentiment=%{marker.size}<br>Negative_Sentiment=%{customdata[0]}<extra></extra>",
         "legendgroup": "Dear-John",
         "marker": {
          "color": "rgb(179, 179, 179)",
          "size": [
           0.091
          ],
          "sizemode": "area",
          "sizeref": 0.001045,
          "symbol": "circle"
         },
         "mode": "markers",
         "name": "Dear-John",
         "orientation": "v",
         "showlegend": true,
         "type": "scatter",
         "x": [
          2010
         ],
         "xaxis": "x",
         "y": [
          -0.9384
         ],
         "yaxis": "y"
        },
        {
         "customdata": [
          [
           0.072
          ]
         ],
         "hovertemplate": "Song=Better-Than-Revenge<br>Year=%{x}<br>Normalized_Sentiment=%{y}<br>Positive_Sentiment=%{marker.size}<br>Negative_Sentiment=%{customdata[0]}<extra></extra>",
         "legendgroup": "Better-Than-Revenge",
         "marker": {
          "color": "rgb(102, 197, 204)",
          "size": [
           0.129
          ],
          "sizemode": "area",
          "sizeref": 0.001045,
          "symbol": "circle"
         },
         "mode": "markers",
         "name": "Better-Than-Revenge",
         "orientation": "v",
         "showlegend": true,
         "type": "scatter",
         "x": [
          2010
         ],
         "xaxis": "x",
         "y": [
          0.9831
         ],
         "yaxis": "y"
        },
        {
         "customdata": [
          [
           0.096
          ]
         ],
         "hovertemplate": "Song=Sparks-Fly<br>Year=%{x}<br>Normalized_Sentiment=%{y}<br>Positive_Sentiment=%{marker.size}<br>Negative_Sentiment=%{customdata[0]}<extra></extra>",
         "legendgroup": "Sparks-Fly",
         "marker": {
          "color": "rgb(246, 207, 113)",
          "size": [
           0.123
          ],
          "sizemode": "area",
          "sizeref": 0.001045,
          "symbol": "circle"
         },
         "mode": "markers",
         "name": "Sparks-Fly",
         "orientation": "v",
         "showlegend": true,
         "type": "scatter",
         "x": [
          2010
         ],
         "xaxis": "x",
         "y": [
          0.8571
         ],
         "yaxis": "y"
        },
        {
         "customdata": [
          [
           0.067
          ]
         ],
         "hovertemplate": "Song=Long-Live<br>Year=%{x}<br>Normalized_Sentiment=%{y}<br>Positive_Sentiment=%{marker.size}<br>Negative_Sentiment=%{customdata[0]}<extra></extra>",
         "legendgroup": "Long-Live",
         "marker": {
          "color": "rgb(248, 156, 116)",
          "size": [
           0.048
          ],
          "sizemode": "area",
          "sizeref": 0.001045,
          "symbol": "circle"
         },
         "mode": "markers",
         "name": "Long-Live",
         "orientation": "v",
         "showlegend": true,
         "type": "scatter",
         "x": [
          2010
         ],
         "xaxis": "x",
         "y": [
          -0.8113
         ],
         "yaxis": "y"
        },
        {
         "customdata": [
          [
           0.025
          ]
         ],
         "hovertemplate": "Song=Never-Grow-Up<br>Year=%{x}<br>Normalized_Sentiment=%{y}<br>Positive_Sentiment=%{marker.size}<br>Negative_Sentiment=%{customdata[0]}<extra></extra>",
         "legendgroup": "Never-Grow-Up",
         "marker": {
          "color": "rgb(220, 176, 242)",
          "size": [
           0.136
          ],
          "sizemode": "area",
          "sizeref": 0.001045,
          "symbol": "circle"
         },
         "mode": "markers",
         "name": "Never-Grow-Up",
         "orientation": "v",
         "showlegend": true,
         "type": "scatter",
         "x": [
          2010
         ],
         "xaxis": "x",
         "y": [
          0.9934
         ],
         "yaxis": "y"
        },
        {
         "customdata": [
          [
           0.173
          ]
         ],
         "hovertemplate": "Song=The-Story-of-Us<br>Year=%{x}<br>Normalized_Sentiment=%{y}<br>Positive_Sentiment=%{marker.size}<br>Negative_Sentiment=%{customdata[0]}<extra></extra>",
         "legendgroup": "The-Story-of-Us",
         "marker": {
          "color": "rgb(135, 197, 95)",
          "size": [
           0.133
          ],
          "sizemode": "area",
          "sizeref": 0.001045,
          "symbol": "circle"
         },
         "mode": "markers",
         "name": "The-Story-of-Us",
         "orientation": "v",
         "showlegend": true,
         "type": "scatter",
         "x": [
          2010
         ],
         "xaxis": "x",
         "y": [
          -0.9838
         ],
         "yaxis": "y"
        },
        {
         "customdata": [
          [
           0.081
          ]
         ],
         "hovertemplate": "Song=Speak-Now<br>Year=%{x}<br>Normalized_Sentiment=%{y}<br>Positive_Sentiment=%{marker.size}<br>Negative_Sentiment=%{customdata[0]}<extra></extra>",
         "legendgroup": "Speak-Now",
         "marker": {
          "color": "rgb(158, 185, 243)",
          "size": [
           0.085
          ],
          "sizemode": "area",
          "sizeref": 0.001045,
          "symbol": "circle"
         },
         "mode": "markers",
         "name": "Speak-Now",
         "orientation": "v",
         "showlegend": true,
         "type": "scatter",
         "x": [
          2010
         ],
         "xaxis": "x",
         "y": [
          0.3513
         ],
         "yaxis": "y"
        },
        {
         "customdata": [
          [
           0.031
          ]
         ],
         "hovertemplate": "Song=Last-Kiss<br>Year=%{x}<br>Normalized_Sentiment=%{y}<br>Positive_Sentiment=%{marker.size}<br>Negative_Sentiment=%{customdata[0]}<extra></extra>",
         "legendgroup": "Last-Kiss",
         "marker": {
          "color": "rgb(254, 136, 177)",
          "size": [
           0.165
          ],
          "sizemode": "area",
          "sizeref": 0.001045,
          "symbol": "circle"
         },
         "mode": "markers",
         "name": "Last-Kiss",
         "orientation": "v",
         "showlegend": true,
         "type": "scatter",
         "x": [
          2010
         ],
         "xaxis": "x",
         "y": [
          0.9952
         ],
         "yaxis": "y"
        },
        {
         "customdata": [
          [
           0.033
          ]
         ],
         "hovertemplate": "Song=Enchanted<br>Year=%{x}<br>Normalized_Sentiment=%{y}<br>Positive_Sentiment=%{marker.size}<br>Negative_Sentiment=%{customdata[0]}<extra></extra>",
         "legendgroup": "Enchanted",
         "marker": {
          "color": "rgb(201, 219, 116)",
          "size": [
           0.192
          ],
          "sizemode": "area",
          "sizeref": 0.001045,
          "symbol": "circle"
         },
         "mode": "markers",
         "name": "Enchanted",
         "orientation": "v",
         "showlegend": true,
         "type": "scatter",
         "x": [
          2010
         ],
         "xaxis": "x",
         "y": [
          0.9966
         ],
         "yaxis": "y"
        },
        {
         "customdata": [
          [
           0.078
          ]
         ],
         "hovertemplate": "Song=Mean<br>Year=%{x}<br>Normalized_Sentiment=%{y}<br>Positive_Sentiment=%{marker.size}<br>Negative_Sentiment=%{customdata[0]}<extra></extra>",
         "legendgroup": "Mean",
         "marker": {
          "color": "rgb(139, 224, 164)",
          "size": [
           0.036
          ],
          "sizemode": "area",
          "sizeref": 0.001045,
          "symbol": "circle"
         },
         "mode": "markers",
         "name": "Mean",
         "orientation": "v",
         "showlegend": true,
         "type": "scatter",
         "x": [
          2010
         ],
         "xaxis": "x",
         "y": [
          -0.9616
         ],
         "yaxis": "y"
        },
        {
         "customdata": [
          [
           0.111
          ]
         ],
         "hovertemplate": "Song=Haunted<br>Year=%{x}<br>Normalized_Sentiment=%{y}<br>Positive_Sentiment=%{marker.size}<br>Negative_Sentiment=%{customdata[0]}<extra></extra>",
         "legendgroup": "Haunted",
         "marker": {
          "color": "rgb(180, 151, 231)",
          "size": [
           0.097
          ],
          "sizemode": "area",
          "sizeref": 0.001045,
          "symbol": "circle"
         },
         "mode": "markers",
         "name": "Haunted",
         "orientation": "v",
         "showlegend": true,
         "type": "scatter",
         "x": [
          2010
         ],
         "xaxis": "x",
         "y": [
          -0.9309
         ],
         "yaxis": "y"
        },
        {
         "customdata": [
          [
           0.077
          ]
         ],
         "hovertemplate": "Song=Innocent<br>Year=%{x}<br>Normalized_Sentiment=%{y}<br>Positive_Sentiment=%{marker.size}<br>Negative_Sentiment=%{customdata[0]}<extra></extra>",
         "legendgroup": "Innocent",
         "marker": {
          "color": "rgb(179, 179, 179)",
          "size": [
           0.138
          ],
          "sizemode": "area",
          "sizeref": 0.001045,
          "symbol": "circle"
         },
         "mode": "markers",
         "name": "Innocent",
         "orientation": "v",
         "showlegend": true,
         "type": "scatter",
         "x": [
          2010
         ],
         "xaxis": "x",
         "y": [
          0.9482
         ],
         "yaxis": "y"
        },
        {
         "customdata": [
          [
           0.033
          ]
         ],
         "hovertemplate": "Song=The-Lucky-One<br>Year=%{x}<br>Normalized_Sentiment=%{y}<br>Positive_Sentiment=%{marker.size}<br>Negative_Sentiment=%{customdata[0]}<extra></extra>",
         "legendgroup": "The-Lucky-One",
         "marker": {
          "color": "rgb(102, 197, 204)",
          "size": [
           0.205
          ],
          "sizemode": "area",
          "sizeref": 0.001045,
          "symbol": "circle"
         },
         "mode": "markers",
         "name": "The-Lucky-One",
         "orientation": "v",
         "showlegend": true,
         "type": "scatter",
         "x": [
          2012
         ],
         "xaxis": "x",
         "y": [
          0.9955
         ],
         "yaxis": "y"
        },
        {
         "customdata": [
          [
           0.086
          ]
         ],
         "hovertemplate": "Song=State-of-Grace<br>Year=%{x}<br>Normalized_Sentiment=%{y}<br>Positive_Sentiment=%{marker.size}<br>Negative_Sentiment=%{customdata[0]}<extra></extra>",
         "legendgroup": "State-of-Grace",
         "marker": {
          "color": "rgb(246, 207, 113)",
          "size": [
           0.205
          ],
          "sizemode": "area",
          "sizeref": 0.001045,
          "symbol": "circle"
         },
         "mode": "markers",
         "name": "State-of-Grace",
         "orientation": "v",
         "showlegend": true,
         "type": "scatter",
         "x": [
          2012
         ],
         "xaxis": "x",
         "y": [
          0.9902
         ],
         "yaxis": "y"
        },
        {
         "customdata": [
          [
           0.069
          ]
         ],
         "hovertemplate": "Song=The-Moment-I-Knew<br>Year=%{x}<br>Normalized_Sentiment=%{y}<br>Positive_Sentiment=%{marker.size}<br>Negative_Sentiment=%{customdata[0]}<extra></extra>",
         "legendgroup": "The-Moment-I-Knew",
         "marker": {
          "color": "rgb(248, 156, 116)",
          "size": [
           0.142
          ],
          "sizemode": "area",
          "sizeref": 0.001045,
          "symbol": "circle"
         },
         "mode": "markers",
         "name": "The-Moment-I-Knew",
         "orientation": "v",
         "showlegend": true,
         "type": "scatter",
         "x": [
          2012
         ],
         "xaxis": "x",
         "y": [
          0.9842
         ],
         "yaxis": "y"
        },
        {
         "customdata": [
          [
           0.06
          ]
         ],
         "hovertemplate": "Song=We-Are-Never-Ever-Getting-Back-Together<br>Year=%{x}<br>Normalized_Sentiment=%{y}<br>Positive_Sentiment=%{marker.size}<br>Negative_Sentiment=%{customdata[0]}<extra></extra>",
         "legendgroup": "We-Are-Never-Ever-Getting-Back-Together",
         "marker": {
          "color": "rgb(220, 176, 242)",
          "size": [
           0.159
          ],
          "sizemode": "area",
          "sizeref": 0.001045,
          "symbol": "circle"
         },
         "mode": "markers",
         "name": "We-Are-Never-Ever-Getting-Back-Together",
         "orientation": "v",
         "showlegend": true,
         "type": "scatter",
         "x": [
          2012
         ],
         "xaxis": "x",
         "y": [
          0.9939
         ],
         "yaxis": "y"
        },
        {
         "customdata": [
          [
           0.075
          ]
         ],
         "hovertemplate": "Song=Treacherous<br>Year=%{x}<br>Normalized_Sentiment=%{y}<br>Positive_Sentiment=%{marker.size}<br>Negative_Sentiment=%{customdata[0]}<extra></extra>",
         "legendgroup": "Treacherous",
         "marker": {
          "color": "rgb(135, 197, 95)",
          "size": [
           0.058
          ],
          "sizemode": "area",
          "sizeref": 0.001045,
          "symbol": "circle"
         },
         "mode": "markers",
         "name": "Treacherous",
         "orientation": "v",
         "showlegend": true,
         "type": "scatter",
         "x": [
          2012
         ],
         "xaxis": "x",
         "y": [
          -0.3907
         ],
         "yaxis": "y"
        },
        {
         "customdata": [
          [
           0.072
          ]
         ],
         "hovertemplate": "Song=I-Almost-Do<br>Year=%{x}<br>Normalized_Sentiment=%{y}<br>Positive_Sentiment=%{marker.size}<br>Negative_Sentiment=%{customdata[0]}<extra></extra>",
         "legendgroup": "I-Almost-Do",
         "marker": {
          "color": "rgb(158, 185, 243)",
          "size": [
           0.117
          ],
          "sizemode": "area",
          "sizeref": 0.001045,
          "symbol": "circle"
         },
         "mode": "markers",
         "name": "I-Almost-Do",
         "orientation": "v",
         "showlegend": true,
         "type": "scatter",
         "x": [
          2012
         ],
         "xaxis": "x",
         "y": [
          0.8484
         ],
         "yaxis": "y"
        },
        {
         "customdata": [
          [
           0.01
          ]
         ],
         "hovertemplate": "Song=Everything-Has-Changed<br>Year=%{x}<br>Normalized_Sentiment=%{y}<br>Positive_Sentiment=%{marker.size}<br>Negative_Sentiment=%{customdata[0]}<extra></extra>",
         "legendgroup": "Everything-Has-Changed",
         "marker": {
          "color": "rgb(254, 136, 177)",
          "size": [
           0.2
          ],
          "sizemode": "area",
          "sizeref": 0.001045,
          "symbol": "circle"
         },
         "mode": "markers",
         "name": "Everything-Has-Changed",
         "orientation": "v",
         "showlegend": true,
         "type": "scatter",
         "x": [
          2012
         ],
         "xaxis": "x",
         "y": [
          0.9978
         ],
         "yaxis": "y"
        },
        {
         "customdata": [
          [
           0.057
          ]
         ],
         "hovertemplate": "Song=Come-Back...-Be-Here<br>Year=%{x}<br>Normalized_Sentiment=%{y}<br>Positive_Sentiment=%{marker.size}<br>Negative_Sentiment=%{customdata[0]}<extra></extra>",
         "legendgroup": "Come-Back...-Be-Here",
         "marker": {
          "color": "rgb(201, 219, 116)",
          "size": [
           0.106
          ],
          "sizemode": "area",
          "sizeref": 0.001045,
          "symbol": "circle"
         },
         "mode": "markers",
         "name": "Come-Back...-Be-Here",
         "orientation": "v",
         "showlegend": true,
         "type": "scatter",
         "x": [
          2012
         ],
         "xaxis": "x",
         "y": [
          0.892
         ],
         "yaxis": "y"
        },
        {
         "customdata": [
          [
           0.07
          ]
         ],
         "hovertemplate": "Song=Begin-Again<br>Year=%{x}<br>Normalized_Sentiment=%{y}<br>Positive_Sentiment=%{marker.size}<br>Negative_Sentiment=%{customdata[0]}<extra></extra>",
         "legendgroup": "Begin-Again",
         "marker": {
          "color": "rgb(139, 224, 164)",
          "size": [
           0.131
          ],
          "sizemode": "area",
          "sizeref": 0.001045,
          "symbol": "circle"
         },
         "mode": "markers",
         "name": "Begin-Again",
         "orientation": "v",
         "showlegend": true,
         "type": "scatter",
         "x": [
          2012
         ],
         "xaxis": "x",
         "y": [
          0.9831
         ],
         "yaxis": "y"
        },
        {
         "customdata": [
          [
           0.039
          ]
         ],
         "hovertemplate": "Song=The-Last-Time<br>Year=%{x}<br>Normalized_Sentiment=%{y}<br>Positive_Sentiment=%{marker.size}<br>Negative_Sentiment=%{customdata[0]}<extra></extra>",
         "legendgroup": "The-Last-Time",
         "marker": {
          "color": "rgb(180, 151, 231)",
          "size": [
           0.065
          ],
          "sizemode": "area",
          "sizeref": 0.001045,
          "symbol": "circle"
         },
         "mode": "markers",
         "name": "The-Last-Time",
         "orientation": "v",
         "showlegend": true,
         "type": "scatter",
         "x": [
          2012
         ],
         "xaxis": "x",
         "y": [
          0.8668
         ],
         "yaxis": "y"
        },
        {
         "customdata": [
          [
           0.042
          ]
         ],
         "hovertemplate": "Song=Starlight<br>Year=%{x}<br>Normalized_Sentiment=%{y}<br>Positive_Sentiment=%{marker.size}<br>Negative_Sentiment=%{customdata[0]}<extra></extra>",
         "legendgroup": "Starlight",
         "marker": {
          "color": "rgb(179, 179, 179)",
          "size": [
           0.219
          ],
          "sizemode": "area",
          "sizeref": 0.001045,
          "symbol": "circle"
         },
         "mode": "markers",
         "name": "Starlight",
         "orientation": "v",
         "showlegend": true,
         "type": "scatter",
         "x": [
          2012
         ],
         "xaxis": "x",
         "y": [
          0.9965
         ],
         "yaxis": "y"
        },
        {
         "customdata": [
          [
           0.064
          ]
         ],
         "hovertemplate": "Song=All-Too-Well<br>Year=%{x}<br>Normalized_Sentiment=%{y}<br>Positive_Sentiment=%{marker.size}<br>Negative_Sentiment=%{customdata[0]}<extra></extra>",
         "legendgroup": "All-Too-Well",
         "marker": {
          "color": "rgb(102, 197, 204)",
          "size": [
           0.139
          ],
          "sizemode": "area",
          "sizeref": 0.001045,
          "symbol": "circle"
         },
         "mode": "markers",
         "name": "All-Too-Well",
         "orientation": "v",
         "showlegend": true,
         "type": "scatter",
         "x": [
          2012
         ],
         "xaxis": "x",
         "y": [
          0.9881
         ],
         "yaxis": "y"
        },
        {
         "customdata": [
          [
           0.101
          ]
         ],
         "hovertemplate": "Song=Red<br>Year=%{x}<br>Normalized_Sentiment=%{y}<br>Positive_Sentiment=%{marker.size}<br>Negative_Sentiment=%{customdata[0]}<extra></extra>",
         "legendgroup": "Red",
         "marker": {
          "color": "rgb(246, 207, 113)",
          "size": [
           0.267
          ],
          "sizemode": "area",
          "sizeref": 0.001045,
          "symbol": "circle"
         },
         "mode": "markers",
         "name": "Red",
         "orientation": "v",
         "showlegend": true,
         "type": "scatter",
         "x": [
          2012
         ],
         "xaxis": "x",
         "y": [
          0.9948
         ],
         "yaxis": "y"
        },
        {
         "customdata": [
          [
           0.059
          ]
         ],
         "hovertemplate": "Song=Girl-at-Home<br>Year=%{x}<br>Normalized_Sentiment=%{y}<br>Positive_Sentiment=%{marker.size}<br>Negative_Sentiment=%{customdata[0]}<extra></extra>",
         "legendgroup": "Girl-at-Home",
         "marker": {
          "color": "rgb(248, 156, 116)",
          "size": [
           0.072
          ],
          "sizemode": "area",
          "sizeref": 0.001045,
          "symbol": "circle"
         },
         "mode": "markers",
         "name": "Girl-at-Home",
         "orientation": "v",
         "showlegend": true,
         "type": "scatter",
         "x": [
          2012
         ],
         "xaxis": "x",
         "y": [
          -0.1547
         ],
         "yaxis": "y"
        },
        {
         "customdata": [
          [
           0.31
          ]
         ],
         "hovertemplate": "Song=I-Knew-You-Were-Trouble.<br>Year=%{x}<br>Normalized_Sentiment=%{y}<br>Positive_Sentiment=%{marker.size}<br>Negative_Sentiment=%{customdata[0]}<extra></extra>",
         "legendgroup": "I-Knew-You-Were-Trouble.",
         "marker": {
          "color": "rgb(220, 176, 242)",
          "size": [
           0.021
          ],
          "sizemode": "area",
          "sizeref": 0.001045,
          "symbol": "circle"
         },
         "mode": "markers",
         "name": "I-Knew-You-Were-Trouble.",
         "orientation": "v",
         "showlegend": true,
         "type": "scatter",
         "x": [
          2012
         ],
         "xaxis": "x",
         "y": [
          -0.999
         ],
         "yaxis": "y"
        },
        {
         "customdata": [
          [
           0.094
          ]
         ],
         "hovertemplate": "Song=22<br>Year=%{x}<br>Normalized_Sentiment=%{y}<br>Positive_Sentiment=%{marker.size}<br>Negative_Sentiment=%{customdata[0]}<extra></extra>",
         "legendgroup": "22",
         "marker": {
          "color": "rgb(135, 197, 95)",
          "size": [
           0.227
          ],
          "sizemode": "area",
          "sizeref": 0.001045,
          "symbol": "circle"
         },
         "mode": "markers",
         "name": "22",
         "orientation": "v",
         "showlegend": true,
         "type": "scatter",
         "x": [
          2012
         ],
         "xaxis": "x",
         "y": [
          0.9951
         ],
         "yaxis": "y"
        },
        {
         "customdata": [
          [
           0.16
          ]
         ],
         "hovertemplate": "Song=Stay-Stay-Stay<br>Year=%{x}<br>Normalized_Sentiment=%{y}<br>Positive_Sentiment=%{marker.size}<br>Negative_Sentiment=%{customdata[0]}<extra></extra>",
         "legendgroup": "Stay-Stay-Stay",
         "marker": {
          "color": "rgb(158, 185, 243)",
          "size": [
           0.22
          ],
          "sizemode": "area",
          "sizeref": 0.001045,
          "symbol": "circle"
         },
         "mode": "markers",
         "name": "Stay-Stay-Stay",
         "orientation": "v",
         "showlegend": true,
         "type": "scatter",
         "x": [
          2012
         ],
         "xaxis": "x",
         "y": [
          0.9818
         ],
         "yaxis": "y"
        },
        {
         "customdata": [
          [
           0.141
          ]
         ],
         "hovertemplate": "Song=Sad-Beautiful-Tragic<br>Year=%{x}<br>Normalized_Sentiment=%{y}<br>Positive_Sentiment=%{marker.size}<br>Negative_Sentiment=%{customdata[0]}<extra></extra>",
         "legendgroup": "Sad-Beautiful-Tragic",
         "marker": {
          "color": "rgb(254, 136, 177)",
          "size": [
           0.392
          ],
          "sizemode": "area",
          "sizeref": 0.001045,
          "symbol": "circle"
         },
         "mode": "markers",
         "name": "Sad-Beautiful-Tragic",
         "orientation": "v",
         "showlegend": true,
         "type": "scatter",
         "x": [
          2012
         ],
         "xaxis": "x",
         "y": [
          0.9973
         ],
         "yaxis": "y"
        },
        {
         "customdata": [
          [
           0.023
          ]
         ],
         "hovertemplate": "Song=Holy-Ground<br>Year=%{x}<br>Normalized_Sentiment=%{y}<br>Positive_Sentiment=%{marker.size}<br>Negative_Sentiment=%{customdata[0]}<extra></extra>",
         "legendgroup": "Holy-Ground",
         "marker": {
          "color": "rgb(201, 219, 116)",
          "size": [
           0.124
          ],
          "sizemode": "area",
          "sizeref": 0.001045,
          "symbol": "circle"
         },
         "mode": "markers",
         "name": "Holy-Ground",
         "orientation": "v",
         "showlegend": true,
         "type": "scatter",
         "x": [
          2012
         ],
         "xaxis": "x",
         "y": [
          0.9806
         ],
         "yaxis": "y"
        },
        {
         "customdata": [
          [
           0.066
          ]
         ],
         "hovertemplate": "Song=How-You-Get-the-Girl<br>Year=%{x}<br>Normalized_Sentiment=%{y}<br>Positive_Sentiment=%{marker.size}<br>Negative_Sentiment=%{customdata[0]}<extra></extra>",
         "legendgroup": "How-You-Get-the-Girl",
         "marker": {
          "color": "rgb(139, 224, 164)",
          "size": [
           0.076
          ],
          "sizemode": "area",
          "sizeref": 0.001045,
          "symbol": "circle"
         },
         "mode": "markers",
         "name": "How-You-Get-the-Girl",
         "orientation": "v",
         "showlegend": true,
         "type": "scatter",
         "x": [
          2014
         ],
         "xaxis": "x",
         "y": [
          -0.1779
         ],
         "yaxis": "y"
        },
        {
         "customdata": [
          [
           0.059
          ]
         ],
         "hovertemplate": "Song=This-Love<br>Year=%{x}<br>Normalized_Sentiment=%{y}<br>Positive_Sentiment=%{marker.size}<br>Negative_Sentiment=%{customdata[0]}<extra></extra>",
         "legendgroup": "This-Love",
         "marker": {
          "color": "rgb(180, 151, 231)",
          "size": [
           0.418
          ],
          "sizemode": "area",
          "sizeref": 0.001045,
          "symbol": "circle"
         },
         "mode": "markers",
         "name": "This-Love",
         "orientation": "v",
         "showlegend": true,
         "type": "scatter",
         "x": [
          2014
         ],
         "xaxis": "x",
         "y": [
          0.9997
         ],
         "yaxis": "y"
        },
        {
         "customdata": [
          [
           0.053
          ]
         ],
         "hovertemplate": "Song=I-Know-Places<br>Year=%{x}<br>Normalized_Sentiment=%{y}<br>Positive_Sentiment=%{marker.size}<br>Negative_Sentiment=%{customdata[0]}<extra></extra>",
         "legendgroup": "I-Know-Places",
         "marker": {
          "color": "rgb(179, 179, 179)",
          "size": [
           0.05
          ],
          "sizemode": "area",
          "sizeref": 0.001045,
          "symbol": "circle"
         },
         "mode": "markers",
         "name": "I-Know-Places",
         "orientation": "v",
         "showlegend": true,
         "type": "scatter",
         "x": [
          2014
         ],
         "xaxis": "x",
         "y": [
          -0.4687
         ],
         "yaxis": "y"
        },
        {
         "customdata": [
          [
           0.063
          ]
         ],
         "hovertemplate": "Song=Wildest-Dreams<br>Year=%{x}<br>Normalized_Sentiment=%{y}<br>Positive_Sentiment=%{marker.size}<br>Negative_Sentiment=%{customdata[0]}<extra></extra>",
         "legendgroup": "Wildest-Dreams",
         "marker": {
          "color": "rgb(102, 197, 204)",
          "size": [
           0.214
          ],
          "sizemode": "area",
          "sizeref": 0.001045,
          "symbol": "circle"
         },
         "mode": "markers",
         "name": "Wildest-Dreams",
         "orientation": "v",
         "showlegend": true,
         "type": "scatter",
         "x": [
          2014
         ],
         "xaxis": "x",
         "y": [
          0.9968
         ],
         "yaxis": "y"
        },
        {
         "customdata": [
          [
           0.38
          ]
         ],
         "hovertemplate": "Song=Shake-It-Off<br>Year=%{x}<br>Normalized_Sentiment=%{y}<br>Positive_Sentiment=%{marker.size}<br>Negative_Sentiment=%{customdata[0]}<extra></extra>",
         "legendgroup": "Shake-It-Off",
         "marker": {
          "color": "rgb(246, 207, 113)",
          "size": [
           0.085
          ],
          "sizemode": "area",
          "sizeref": 0.001045,
          "symbol": "circle"
         },
         "mode": "markers",
         "name": "Shake-It-Off",
         "orientation": "v",
         "showlegend": true,
         "type": "scatter",
         "x": [
          2014
         ],
         "xaxis": "x",
         "y": [
          -0.9995
         ],
         "yaxis": "y"
        },
        {
         "customdata": [
          [
           0.167
          ]
         ],
         "hovertemplate": "Song=Blank-Space<br>Year=%{x}<br>Normalized_Sentiment=%{y}<br>Positive_Sentiment=%{marker.size}<br>Negative_Sentiment=%{customdata[0]}<extra></extra>",
         "legendgroup": "Blank-Space",
         "marker": {
          "color": "rgb(248, 156, 116)",
          "size": [
           0.147
          ],
          "sizemode": "area",
          "sizeref": 0.001045,
          "symbol": "circle"
         },
         "mode": "markers",
         "name": "Blank-Space",
         "orientation": "v",
         "showlegend": true,
         "type": "scatter",
         "x": [
          2014
         ],
         "xaxis": "x",
         "y": [
          -0.7785
         ],
         "yaxis": "y"
        },
        {
         "customdata": [
          [
           0.015
          ]
         ],
         "hovertemplate": "Song=Welcome-to-New-York<br>Year=%{x}<br>Normalized_Sentiment=%{y}<br>Positive_Sentiment=%{marker.size}<br>Negative_Sentiment=%{customdata[0]}<extra></extra>",
         "legendgroup": "Welcome-to-New-York",
         "marker": {
          "color": "rgb(220, 176, 242)",
          "size": [
           0.381
          ],
          "sizemode": "area",
          "sizeref": 0.001045,
          "symbol": "circle"
         },
         "mode": "markers",
         "name": "Welcome-to-New-York",
         "orientation": "v",
         "showlegend": true,
         "type": "scatter",
         "x": [
          2014
         ],
         "xaxis": "x",
         "y": [
          0.9995
         ],
         "yaxis": "y"
        },
        {
         "customdata": [
          [
           0.007
          ]
         ],
         "hovertemplate": "Song=Style<br>Year=%{x}<br>Normalized_Sentiment=%{y}<br>Positive_Sentiment=%{marker.size}<br>Negative_Sentiment=%{customdata[0]}<extra></extra>",
         "legendgroup": "Style",
         "marker": {
          "color": "rgb(135, 197, 95)",
          "size": [
           0.091
          ],
          "sizemode": "area",
          "sizeref": 0.001045,
          "symbol": "circle"
         },
         "mode": "markers",
         "name": "Style",
         "orientation": "v",
         "showlegend": true,
         "type": "scatter",
         "x": [
          2014
         ],
         "xaxis": "x",
         "y": [
          0.9878
         ],
         "yaxis": "y"
        },
        {
         "customdata": [
          [
           0.202
          ]
         ],
         "hovertemplate": "Song=Bad-Blood<br>Year=%{x}<br>Normalized_Sentiment=%{y}<br>Positive_Sentiment=%{marker.size}<br>Negative_Sentiment=%{customdata[0]}<extra></extra>",
         "legendgroup": "Bad-Blood",
         "marker": {
          "color": "rgb(158, 185, 243)",
          "size": [
           0.108
          ],
          "sizemode": "area",
          "sizeref": 0.001045,
          "symbol": "circle"
         },
         "mode": "markers",
         "name": "Bad-Blood",
         "orientation": "v",
         "showlegend": true,
         "type": "scatter",
         "x": [
          2014
         ],
         "xaxis": "x",
         "y": [
          -0.9953
         ],
         "yaxis": "y"
        },
        {
         "customdata": [
          [
           0.012
          ]
         ],
         "hovertemplate": "Song=Out-of-the-Woods<br>Year=%{x}<br>Normalized_Sentiment=%{y}<br>Positive_Sentiment=%{marker.size}<br>Negative_Sentiment=%{customdata[0]}<extra></extra>",
         "legendgroup": "Out-of-the-Woods",
         "marker": {
          "color": "rgb(254, 136, 177)",
          "size": [
           0.174
          ],
          "sizemode": "area",
          "sizeref": 0.001045,
          "symbol": "circle"
         },
         "mode": "markers",
         "name": "Out-of-the-Woods",
         "orientation": "v",
         "showlegend": true,
         "type": "scatter",
         "x": [
          2014
         ],
         "xaxis": "x",
         "y": [
          0.9986
         ],
         "yaxis": "y"
        },
        {
         "customdata": [
          [
           0.005
          ]
         ],
         "hovertemplate": "Song=All-You-Had-to-Do-Was-Stay<br>Year=%{x}<br>Normalized_Sentiment=%{y}<br>Positive_Sentiment=%{marker.size}<br>Negative_Sentiment=%{customdata[0]}<extra></extra>",
         "legendgroup": "All-You-Had-to-Do-Was-Stay",
         "marker": {
          "color": "rgb(201, 219, 116)",
          "size": [
           0.138
          ],
          "sizemode": "area",
          "sizeref": 0.001045,
          "symbol": "circle"
         },
         "mode": "markers",
         "name": "All-You-Had-to-Do-Was-Stay",
         "orientation": "v",
         "showlegend": true,
         "type": "scatter",
         "x": [
          2014
         ],
         "xaxis": "x",
         "y": [
          0.9952
         ],
         "yaxis": "y"
        },
        {
         "customdata": [
          [
           0.077
          ]
         ],
         "hovertemplate": "Song=Clean<br>Year=%{x}<br>Normalized_Sentiment=%{y}<br>Positive_Sentiment=%{marker.size}<br>Negative_Sentiment=%{customdata[0]}<extra></extra>",
         "legendgroup": "Clean",
         "marker": {
          "color": "rgb(139, 224, 164)",
          "size": [
           0.124
          ],
          "sizemode": "area",
          "sizeref": 0.001045,
          "symbol": "circle"
         },
         "mode": "markers",
         "name": "Clean",
         "orientation": "v",
         "showlegend": true,
         "type": "scatter",
         "x": [
          2014
         ],
         "xaxis": "x",
         "y": [
          0.8887
         ],
         "yaxis": "y"
        },
        {
         "customdata": [
          [
           0.21
          ]
         ],
         "hovertemplate": "Song=I-Wish-You-Would<br>Year=%{x}<br>Normalized_Sentiment=%{y}<br>Positive_Sentiment=%{marker.size}<br>Negative_Sentiment=%{customdata[0]}<extra></extra>",
         "legendgroup": "I-Wish-You-Would",
         "marker": {
          "color": "rgb(180, 151, 231)",
          "size": [
           0.153
          ],
          "sizemode": "area",
          "sizeref": 0.001045,
          "symbol": "circle"
         },
         "mode": "markers",
         "name": "I-Wish-You-Would",
         "orientation": "v",
         "showlegend": true,
         "type": "scatter",
         "x": [
          2014
         ],
         "xaxis": "x",
         "y": [
          -0.9729
         ],
         "yaxis": "y"
        },
        {
         "customdata": [
          [
           0.098
          ]
         ],
         "hovertemplate": "Song=...Ready-for-It?<br>Year=%{x}<br>Normalized_Sentiment=%{y}<br>Positive_Sentiment=%{marker.size}<br>Negative_Sentiment=%{customdata[0]}<extra></extra>",
         "legendgroup": "...Ready-for-It?",
         "marker": {
          "color": "rgb(179, 179, 179)",
          "size": [
           0.128
          ],
          "sizemode": "area",
          "sizeref": 0.001045,
          "symbol": "circle"
         },
         "mode": "markers",
         "name": "...Ready-for-It?",
         "orientation": "v",
         "showlegend": true,
         "type": "scatter",
         "x": [
          2017
         ],
         "xaxis": "x",
         "y": [
          0.9429
         ],
         "yaxis": "y"
        },
        {
         "customdata": [
          [
           0.047
          ]
         ],
         "hovertemplate": "Song=Delicate<br>Year=%{x}<br>Normalized_Sentiment=%{y}<br>Positive_Sentiment=%{marker.size}<br>Negative_Sentiment=%{customdata[0]}<extra></extra>",
         "legendgroup": "Delicate",
         "marker": {
          "color": "rgb(102, 197, 204)",
          "size": [
           0.147
          ],
          "sizemode": "area",
          "sizeref": 0.001045,
          "symbol": "circle"
         },
         "mode": "markers",
         "name": "Delicate",
         "orientation": "v",
         "showlegend": true,
         "type": "scatter",
         "x": [
          2017
         ],
         "xaxis": "x",
         "y": [
          0.9883
         ],
         "yaxis": "y"
        },
        {
         "customdata": [
          [
           0.05
          ]
         ],
         "hovertemplate": "Song=This-Is-Why-We-Can’t-Have-Nice-Things<br>Year=%{x}<br>Normalized_Sentiment=%{y}<br>Positive_Sentiment=%{marker.size}<br>Negative_Sentiment=%{customdata[0]}<extra></extra>",
         "legendgroup": "This-Is-Why-We-Can’t-Have-Nice-Things",
         "marker": {
          "color": "rgb(246, 207, 113)",
          "size": [
           0.205
          ],
          "sizemode": "area",
          "sizeref": 0.001045,
          "symbol": "circle"
         },
         "mode": "markers",
         "name": "This-Is-Why-We-Can’t-Have-Nice-Things",
         "orientation": "v",
         "showlegend": true,
         "type": "scatter",
         "x": [
          2017
         ],
         "xaxis": "x",
         "y": [
          0.9971
         ],
         "yaxis": "y"
        },
        {
         "customdata": [
          [
           0.116
          ]
         ],
         "hovertemplate": "Song=Getaway-Car<br>Year=%{x}<br>Normalized_Sentiment=%{y}<br>Positive_Sentiment=%{marker.size}<br>Negative_Sentiment=%{customdata[0]}<extra></extra>",
         "legendgroup": "Getaway-Car",
         "marker": {
          "color": "rgb(248, 156, 116)",
          "size": [
           0.054
          ],
          "sizemode": "area",
          "sizeref": 0.001045,
          "symbol": "circle"
         },
         "mode": "markers",
         "name": "Getaway-Car",
         "orientation": "v",
         "showlegend": true,
         "type": "scatter",
         "x": [
          2017
         ],
         "xaxis": "x",
         "y": [
          -0.9831
         ],
         "yaxis": "y"
        },
        {
         "customdata": [
          [
           0.114
          ]
         ],
         "hovertemplate": "Song=Don't-Blame-Me<br>Year=%{x}<br>Normalized_Sentiment=%{y}<br>Positive_Sentiment=%{marker.size}<br>Negative_Sentiment=%{customdata[0]}<extra></extra>",
         "legendgroup": "Don't-Blame-Me",
         "marker": {
          "color": "rgb(220, 176, 242)",
          "size": [
           0.098
          ],
          "sizemode": "area",
          "sizeref": 0.001045,
          "symbol": "circle"
         },
         "mode": "markers",
         "name": "Don't-Blame-Me",
         "orientation": "v",
         "showlegend": true,
         "type": "scatter",
         "x": [
          2017
         ],
         "xaxis": "x",
         "y": [
          -0.8158
         ],
         "yaxis": "y"
        },
        {
         "customdata": [
          [
           0.07
          ]
         ],
         "hovertemplate": "Song=End-Game<br>Year=%{x}<br>Normalized_Sentiment=%{y}<br>Positive_Sentiment=%{marker.size}<br>Negative_Sentiment=%{customdata[0]}<extra></extra>",
         "legendgroup": "End-Game",
         "marker": {
          "color": "rgb(135, 197, 95)",
          "size": [
           0.08
          ],
          "sizemode": "area",
          "sizeref": 0.001045,
          "symbol": "circle"
         },
         "mode": "markers",
         "name": "End-Game",
         "orientation": "v",
         "showlegend": true,
         "type": "scatter",
         "x": [
          2017
         ],
         "xaxis": "x",
         "y": [
          0.9494
         ],
         "yaxis": "y"
        },
        {
         "customdata": [
          [
           0.112
          ]
         ],
         "hovertemplate": "Song=Dancing-with-Our-Hands-Tied<br>Year=%{x}<br>Normalized_Sentiment=%{y}<br>Positive_Sentiment=%{marker.size}<br>Negative_Sentiment=%{customdata[0]}<extra></extra>",
         "legendgroup": "Dancing-with-Our-Hands-Tied",
         "marker": {
          "color": "rgb(158, 185, 243)",
          "size": [
           0.146
          ],
          "sizemode": "area",
          "sizeref": 0.001045,
          "symbol": "circle"
         },
         "mode": "markers",
         "name": "Dancing-with-Our-Hands-Tied",
         "orientation": "v",
         "showlegend": true,
         "type": "scatter",
         "x": [
          2017
         ],
         "xaxis": "x",
         "y": [
          0.7998
         ],
         "yaxis": "y"
        },
        {
         "customdata": [
          [
           0.014
          ]
         ],
         "hovertemplate": "Song=King-of-My-Heart<br>Year=%{x}<br>Normalized_Sentiment=%{y}<br>Positive_Sentiment=%{marker.size}<br>Negative_Sentiment=%{customdata[0]}<extra></extra>",
         "legendgroup": "King-of-My-Heart",
         "marker": {
          "color": "rgb(254, 136, 177)",
          "size": [
           0.056
          ],
          "sizemode": "area",
          "sizeref": 0.001045,
          "symbol": "circle"
         },
         "mode": "markers",
         "name": "King-of-My-Heart",
         "orientation": "v",
         "showlegend": true,
         "type": "scatter",
         "x": [
          2017
         ],
         "xaxis": "x",
         "y": [
          0.9559
         ],
         "yaxis": "y"
        },
        {
         "customdata": [
          [
           0.066
          ]
         ],
         "hovertemplate": "Song=New-Year's-Day<br>Year=%{x}<br>Normalized_Sentiment=%{y}<br>Positive_Sentiment=%{marker.size}<br>Negative_Sentiment=%{customdata[0]}<extra></extra>",
         "legendgroup": "New-Year's-Day",
         "marker": {
          "color": "rgb(201, 219, 116)",
          "size": [
           0.119
          ],
          "sizemode": "area",
          "sizeref": 0.001045,
          "symbol": "circle"
         },
         "mode": "markers",
         "name": "New-Year's-Day",
         "orientation": "v",
         "showlegend": true,
         "type": "scatter",
         "x": [
          2017
         ],
         "xaxis": "x",
         "y": [
          0.9643
         ],
         "yaxis": "y"
        },
        {
         "customdata": [
          [
           0.174
          ]
         ],
         "hovertemplate": "Song=Gorgeous<br>Year=%{x}<br>Normalized_Sentiment=%{y}<br>Positive_Sentiment=%{marker.size}<br>Negative_Sentiment=%{customdata[0]}<extra></extra>",
         "legendgroup": "Gorgeous",
         "marker": {
          "color": "rgb(139, 224, 164)",
          "size": [
           0.217
          ],
          "sizemode": "area",
          "sizeref": 0.001045,
          "symbol": "circle"
         },
         "mode": "markers",
         "name": "Gorgeous",
         "orientation": "v",
         "showlegend": true,
         "type": "scatter",
         "x": [
          2017
         ],
         "xaxis": "x",
         "y": [
          0.9882
         ],
         "yaxis": "y"
        },
        {
         "customdata": [
          [
           0.032
          ]
         ],
         "hovertemplate": "Song=Call-It-What-You-Want<br>Year=%{x}<br>Normalized_Sentiment=%{y}<br>Positive_Sentiment=%{marker.size}<br>Negative_Sentiment=%{customdata[0]}<extra></extra>",
         "legendgroup": "Call-It-What-You-Want",
         "marker": {
          "color": "rgb(180, 151, 231)",
          "size": [
           0.261
          ],
          "sizemode": "area",
          "sizeref": 0.001045,
          "symbol": "circle"
         },
         "mode": "markers",
         "name": "Call-It-What-You-Want",
         "orientation": "v",
         "showlegend": true,
         "type": "scatter",
         "x": [
          2017
         ],
         "xaxis": "x",
         "y": [
          0.9987
         ],
         "yaxis": "y"
        },
        {
         "customdata": [
          [
           0.097
          ]
         ],
         "hovertemplate": "Song=Dress<br>Year=%{x}<br>Normalized_Sentiment=%{y}<br>Positive_Sentiment=%{marker.size}<br>Negative_Sentiment=%{customdata[0]}<extra></extra>",
         "legendgroup": "Dress",
         "marker": {
          "color": "rgb(179, 179, 179)",
          "size": [
           0.181
          ],
          "sizemode": "area",
          "sizeref": 0.001045,
          "symbol": "circle"
         },
         "mode": "markers",
         "name": "Dress",
         "orientation": "v",
         "showlegend": true,
         "type": "scatter",
         "x": [
          2017
         ],
         "xaxis": "x",
         "y": [
          0.9949
         ],
         "yaxis": "y"
        },
        {
         "customdata": [
          [
           0.11
          ]
         ],
         "hovertemplate": "Song=Look-What-You-Made-Me-Do<br>Year=%{x}<br>Normalized_Sentiment=%{y}<br>Positive_Sentiment=%{marker.size}<br>Negative_Sentiment=%{customdata[0]}<extra></extra>",
         "legendgroup": "Look-What-You-Made-Me-Do",
         "marker": {
          "color": "rgb(102, 197, 204)",
          "size": [
           0.073
          ],
          "sizemode": "area",
          "sizeref": 0.001045,
          "symbol": "circle"
         },
         "mode": "markers",
         "name": "Look-What-You-Made-Me-Do",
         "orientation": "v",
         "showlegend": true,
         "type": "scatter",
         "x": [
          2017
         ],
         "xaxis": "x",
         "y": [
          -0.949
         ],
         "yaxis": "y"
        },
        {
         "customdata": [
          [
           0.049
          ]
         ],
         "hovertemplate": "Song=So-It-Goes...<br>Year=%{x}<br>Normalized_Sentiment=%{y}<br>Positive_Sentiment=%{marker.size}<br>Negative_Sentiment=%{customdata[0]}<extra></extra>",
         "legendgroup": "So-It-Goes...",
         "marker": {
          "color": "rgb(246, 207, 113)",
          "size": [
           0.11
          ],
          "sizemode": "area",
          "sizeref": 0.001045,
          "symbol": "circle"
         },
         "mode": "markers",
         "name": "So-It-Goes...",
         "orientation": "v",
         "showlegend": true,
         "type": "scatter",
         "x": [
          2017
         ],
         "xaxis": "x",
         "y": [
          0.9795
         ],
         "yaxis": "y"
        },
        {
         "customdata": [
          [
           0.09
          ]
         ],
         "hovertemplate": "Song=I-Did-Something-Bad<br>Year=%{x}<br>Normalized_Sentiment=%{y}<br>Positive_Sentiment=%{marker.size}<br>Negative_Sentiment=%{customdata[0]}<extra></extra>",
         "legendgroup": "I-Did-Something-Bad",
         "marker": {
          "color": "rgb(248, 156, 116)",
          "size": [
           0.245
          ],
          "sizemode": "area",
          "sizeref": 0.001045,
          "symbol": "circle"
         },
         "mode": "markers",
         "name": "I-Did-Something-Bad",
         "orientation": "v",
         "showlegend": true,
         "type": "scatter",
         "x": [
          2017
         ],
         "xaxis": "x",
         "y": [
          0.9987
         ],
         "yaxis": "y"
        },
        {
         "customdata": [
          [
           0.016
          ]
         ],
         "hovertemplate": "Song=I-Think-He-Knows<br>Year=%{x}<br>Normalized_Sentiment=%{y}<br>Positive_Sentiment=%{marker.size}<br>Negative_Sentiment=%{customdata[0]}<extra></extra>",
         "legendgroup": "I-Think-He-Knows",
         "marker": {
          "color": "rgb(220, 176, 242)",
          "size": [
           0.236
          ],
          "sizemode": "area",
          "sizeref": 0.001045,
          "symbol": "circle"
         },
         "mode": "markers",
         "name": "I-Think-He-Knows",
         "orientation": "v",
         "showlegend": true,
         "type": "scatter",
         "x": [
          2019
         ],
         "xaxis": "x",
         "y": [
          0.9969
         ],
         "yaxis": "y"
        },
        {
         "customdata": [
          [
           0.003
          ]
         ],
         "hovertemplate": "Song=London-Boy<br>Year=%{x}<br>Normalized_Sentiment=%{y}<br>Positive_Sentiment=%{marker.size}<br>Negative_Sentiment=%{customdata[0]}<extra></extra>",
         "legendgroup": "London-Boy",
         "marker": {
          "color": "rgb(135, 197, 95)",
          "size": [
           0.278
          ],
          "sizemode": "area",
          "sizeref": 0.001045,
          "symbol": "circle"
         },
         "mode": "markers",
         "name": "London-Boy",
         "orientation": "v",
         "showlegend": true,
         "type": "scatter",
         "x": [
          2019
         ],
         "xaxis": "x",
         "y": [
          0.9992
         ],
         "yaxis": "y"
        },
        {
         "customdata": [
          [
           0.087
          ]
         ],
         "hovertemplate": "Song=Paper-Rings<br>Year=%{x}<br>Normalized_Sentiment=%{y}<br>Positive_Sentiment=%{marker.size}<br>Negative_Sentiment=%{customdata[0]}<extra></extra>",
         "legendgroup": "Paper-Rings",
         "marker": {
          "color": "rgb(158, 185, 243)",
          "size": [
           0.231
          ],
          "sizemode": "area",
          "sizeref": 0.001045,
          "symbol": "circle"
         },
         "mode": "markers",
         "name": "Paper-Rings",
         "orientation": "v",
         "showlegend": true,
         "type": "scatter",
         "x": [
          2019
         ],
         "xaxis": "x",
         "y": [
          0.9963
         ],
         "yaxis": "y"
        },
        {
         "customdata": [
          [
           0.255
          ]
         ],
         "hovertemplate": "Song=Miss-Americana-&-The-Heartbreak-Prince<br>Year=%{x}<br>Normalized_Sentiment=%{y}<br>Positive_Sentiment=%{marker.size}<br>Negative_Sentiment=%{customdata[0]}<extra></extra>",
         "legendgroup": "Miss-Americana-&-The-Heartbreak-Prince",
         "marker": {
          "color": "rgb(254, 136, 177)",
          "size": [
           0.077
          ],
          "sizemode": "area",
          "sizeref": 0.001045,
          "symbol": "circle"
         },
         "mode": "markers",
         "name": "Miss-Americana-&-The-Heartbreak-Prince",
         "orientation": "v",
         "showlegend": true,
         "type": "scatter",
         "x": [
          2019
         ],
         "xaxis": "x",
         "y": [
          -0.9989
         ],
         "yaxis": "y"
        },
        {
         "customdata": [
          [
           0.035
          ]
         ],
         "hovertemplate": "Song=Lover<br>Year=%{x}<br>Normalized_Sentiment=%{y}<br>Positive_Sentiment=%{marker.size}<br>Negative_Sentiment=%{customdata[0]}<extra></extra>",
         "legendgroup": "Lover",
         "marker": {
          "color": "rgb(201, 219, 116)",
          "size": [
           0.229
          ],
          "sizemode": "area",
          "sizeref": 0.001045,
          "symbol": "circle"
         },
         "mode": "markers",
         "name": "Lover",
         "orientation": "v",
         "showlegend": true,
         "type": "scatter",
         "x": [
          2019
         ],
         "xaxis": "x",
         "y": [
          0.9963
         ],
         "yaxis": "y"
        },
        {
         "customdata": [
          [
           0.119
          ]
         ],
         "hovertemplate": "Song=False-God<br>Year=%{x}<br>Normalized_Sentiment=%{y}<br>Positive_Sentiment=%{marker.size}<br>Negative_Sentiment=%{customdata[0]}<extra></extra>",
         "legendgroup": "False-God",
         "marker": {
          "color": "rgb(139, 224, 164)",
          "size": [
           0.262
          ],
          "sizemode": "area",
          "sizeref": 0.001045,
          "symbol": "circle"
         },
         "mode": "markers",
         "name": "False-God",
         "orientation": "v",
         "showlegend": true,
         "type": "scatter",
         "x": [
          2019
         ],
         "xaxis": "x",
         "y": [
          0.9956
         ],
         "yaxis": "y"
        },
        {
         "customdata": [
          [
           0.036
          ]
         ],
         "hovertemplate": "Song=It’s-Nice-to-Have-a-Friend<br>Year=%{x}<br>Normalized_Sentiment=%{y}<br>Positive_Sentiment=%{marker.size}<br>Negative_Sentiment=%{customdata[0]}<extra></extra>",
         "legendgroup": "It’s-Nice-to-Have-a-Friend",
         "marker": {
          "color": "rgb(180, 151, 231)",
          "size": [
           0.335
          ],
          "sizemode": "area",
          "sizeref": 0.001045,
          "symbol": "circle"
         },
         "mode": "markers",
         "name": "It’s-Nice-to-Have-a-Friend",
         "orientation": "v",
         "showlegend": true,
         "type": "scatter",
         "x": [
          2019
         ],
         "xaxis": "x",
         "y": [
          0.9948
         ],
         "yaxis": "y"
        },
        {
         "customdata": [
          [
           0.077
          ]
         ],
         "hovertemplate": "Song=Cornelia-Street<br>Year=%{x}<br>Normalized_Sentiment=%{y}<br>Positive_Sentiment=%{marker.size}<br>Negative_Sentiment=%{customdata[0]}<extra></extra>",
         "legendgroup": "Cornelia-Street",
         "marker": {
          "color": "rgb(179, 179, 179)",
          "size": [
           0.111
          ],
          "sizemode": "area",
          "sizeref": 0.001045,
          "symbol": "circle"
         },
         "mode": "markers",
         "name": "Cornelia-Street",
         "orientation": "v",
         "showlegend": true,
         "type": "scatter",
         "x": [
          2019
         ],
         "xaxis": "x",
         "y": [
          0.7862
         ],
         "yaxis": "y"
        },
        {
         "customdata": [
          [
           0.181
          ]
         ],
         "hovertemplate": "Song=Afterglow<br>Year=%{x}<br>Normalized_Sentiment=%{y}<br>Positive_Sentiment=%{marker.size}<br>Negative_Sentiment=%{customdata[0]}<extra></extra>",
         "legendgroup": "Afterglow",
         "marker": {
          "color": "rgb(102, 197, 204)",
          "size": [
           0.103
          ],
          "sizemode": "area",
          "sizeref": 0.001045,
          "symbol": "circle"
         },
         "mode": "markers",
         "name": "Afterglow",
         "orientation": "v",
         "showlegend": true,
         "type": "scatter",
         "x": [
          2019
         ],
         "xaxis": "x",
         "y": [
          -0.9884
         ],
         "yaxis": "y"
        },
        {
         "customdata": [
          [
           0.142
          ]
         ],
         "hovertemplate": "Song=I-Forgot-That-You-Existed<br>Year=%{x}<br>Normalized_Sentiment=%{y}<br>Positive_Sentiment=%{marker.size}<br>Negative_Sentiment=%{customdata[0]}<extra></extra>",
         "legendgroup": "I-Forgot-That-You-Existed",
         "marker": {
          "color": "rgb(246, 207, 113)",
          "size": [
           0.189
          ],
          "sizemode": "area",
          "sizeref": 0.001045,
          "symbol": "circle"
         },
         "mode": "markers",
         "name": "I-Forgot-That-You-Existed",
         "orientation": "v",
         "showlegend": true,
         "type": "scatter",
         "x": [
          2019
         ],
         "xaxis": "x",
         "y": [
          0.975
         ],
         "yaxis": "y"
        },
        {
         "customdata": [
          [
           0.126
          ]
         ],
         "hovertemplate": "Song=The-Man<br>Year=%{x}<br>Normalized_Sentiment=%{y}<br>Positive_Sentiment=%{marker.size}<br>Negative_Sentiment=%{customdata[0]}<extra></extra>",
         "legendgroup": "The-Man",
         "marker": {
          "color": "rgb(248, 156, 116)",
          "size": [
           0.071
          ],
          "sizemode": "area",
          "sizeref": 0.001045,
          "symbol": "circle"
         },
         "mode": "markers",
         "name": "The-Man",
         "orientation": "v",
         "showlegend": true,
         "type": "scatter",
         "x": [
          2019
         ],
         "xaxis": "x",
         "y": [
          -0.9829
         ],
         "yaxis": "y"
        },
        {
         "customdata": [
          [
           0.076
          ]
         ],
         "hovertemplate": "Song=ME!<br>Year=%{x}<br>Normalized_Sentiment=%{y}<br>Positive_Sentiment=%{marker.size}<br>Negative_Sentiment=%{customdata[0]}<extra></extra>",
         "legendgroup": "ME!",
         "marker": {
          "color": "rgb(220, 176, 242)",
          "size": [
           0.178
          ],
          "sizemode": "area",
          "sizeref": 0.001045,
          "symbol": "circle"
         },
         "mode": "markers",
         "name": "ME!",
         "orientation": "v",
         "showlegend": true,
         "type": "scatter",
         "x": [
          2019
         ],
         "xaxis": "x",
         "y": [
          0.9944
         ],
         "yaxis": "y"
        },
        {
         "customdata": [
          [
           0.06
          ]
         ],
         "hovertemplate": "Song=Soon-You'll-Get-Better<br>Year=%{x}<br>Normalized_Sentiment=%{y}<br>Positive_Sentiment=%{marker.size}<br>Negative_Sentiment=%{customdata[0]}<extra></extra>",
         "legendgroup": "Soon-You'll-Get-Better",
         "marker": {
          "color": "rgb(135, 197, 95)",
          "size": [
           0.218
          ],
          "sizemode": "area",
          "sizeref": 0.001045,
          "symbol": "circle"
         },
         "mode": "markers",
         "name": "Soon-You'll-Get-Better",
         "orientation": "v",
         "showlegend": true,
         "type": "scatter",
         "x": [
          2019
         ],
         "xaxis": "x",
         "y": [
          0.9905
         ],
         "yaxis": "y"
        },
        {
         "customdata": [
          [
           0.168
          ]
         ],
         "hovertemplate": "Song=Death-by-a-Thousand-Cuts<br>Year=%{x}<br>Normalized_Sentiment=%{y}<br>Positive_Sentiment=%{marker.size}<br>Negative_Sentiment=%{customdata[0]}<extra></extra>",
         "legendgroup": "Death-by-a-Thousand-Cuts",
         "marker": {
          "color": "rgb(158, 185, 243)",
          "size": [
           0.165
          ],
          "sizemode": "area",
          "sizeref": 0.001045,
          "symbol": "circle"
         },
         "mode": "markers",
         "name": "Death-by-a-Thousand-Cuts",
         "orientation": "v",
         "showlegend": true,
         "type": "scatter",
         "x": [
          2019
         ],
         "xaxis": "x",
         "y": [
          0.6016
         ],
         "yaxis": "y"
        },
        {
         "customdata": [
          [
           0.065
          ]
         ],
         "hovertemplate": "Song=You-Need-To-Calm-Down<br>Year=%{x}<br>Normalized_Sentiment=%{y}<br>Positive_Sentiment=%{marker.size}<br>Negative_Sentiment=%{customdata[0]}<extra></extra>",
         "legendgroup": "You-Need-To-Calm-Down",
         "marker": {
          "color": "rgb(254, 136, 177)",
          "size": [
           0.164
          ],
          "sizemode": "area",
          "sizeref": 0.001045,
          "symbol": "circle"
         },
         "mode": "markers",
         "name": "You-Need-To-Calm-Down",
         "orientation": "v",
         "showlegend": true,
         "type": "scatter",
         "x": [
          2019
         ],
         "xaxis": "x",
         "y": [
          0.9856
         ],
         "yaxis": "y"
        },
        {
         "customdata": [
          [
           0.144
          ]
         ],
         "hovertemplate": "Song=Cruel-Summer<br>Year=%{x}<br>Normalized_Sentiment=%{y}<br>Positive_Sentiment=%{marker.size}<br>Negative_Sentiment=%{customdata[0]}<extra></extra>",
         "legendgroup": "Cruel-Summer",
         "marker": {
          "color": "rgb(201, 219, 116)",
          "size": [
           0.159
          ],
          "sizemode": "area",
          "sizeref": 0.001045,
          "symbol": "circle"
         },
         "mode": "markers",
         "name": "Cruel-Summer",
         "orientation": "v",
         "showlegend": true,
         "type": "scatter",
         "x": [
          2019
         ],
         "xaxis": "x",
         "y": [
          0.2197
         ],
         "yaxis": "y"
        },
        {
         "customdata": [
          [
           0.158
          ]
         ],
         "hovertemplate": "Song=The-Archer<br>Year=%{x}<br>Normalized_Sentiment=%{y}<br>Positive_Sentiment=%{marker.size}<br>Negative_Sentiment=%{customdata[0]}<extra></extra>",
         "legendgroup": "The-Archer",
         "marker": {
          "color": "rgb(139, 224, 164)",
          "size": [
           0.17
          ],
          "sizemode": "area",
          "sizeref": 0.001045,
          "symbol": "circle"
         },
         "mode": "markers",
         "name": "The-Archer",
         "orientation": "v",
         "showlegend": true,
         "type": "scatter",
         "x": [
          2019
         ],
         "xaxis": "x",
         "y": [
          0.9042
         ],
         "yaxis": "y"
        },
        {
         "customdata": [
          [
           0.222
          ]
         ],
         "hovertemplate": "Song=​mad-woman<br>Year=%{x}<br>Normalized_Sentiment=%{y}<br>Positive_Sentiment=%{marker.size}<br>Negative_Sentiment=%{customdata[0]}<extra></extra>",
         "legendgroup": "​mad-woman",
         "marker": {
          "color": "rgb(180, 151, 231)",
          "size": [
           0.123
          ],
          "sizemode": "area",
          "sizeref": 0.001045,
          "symbol": "circle"
         },
         "mode": "markers",
         "name": "​mad-woman",
         "orientation": "v",
         "showlegend": true,
         "type": "scatter",
         "x": [
          2020
         ],
         "xaxis": "x",
         "y": [
          -0.9862
         ],
         "yaxis": "y"
        },
        {
         "customdata": [
          [
           0.1
          ]
         ],
         "hovertemplate": "Song=​this-is-me-trying<br>Year=%{x}<br>Normalized_Sentiment=%{y}<br>Positive_Sentiment=%{marker.size}<br>Negative_Sentiment=%{customdata[0]}<extra></extra>",
         "legendgroup": "​this-is-me-trying",
         "marker": {
          "color": "rgb(179, 179, 179)",
          "size": [
           0.05
          ],
          "sizemode": "area",
          "sizeref": 0.001045,
          "symbol": "circle"
         },
         "mode": "markers",
         "name": "​this-is-me-trying",
         "orientation": "v",
         "showlegend": true,
         "type": "scatter",
         "x": [
          2020
         ],
         "xaxis": "x",
         "y": [
          -0.9012
         ],
         "yaxis": "y"
        },
        {
         "customdata": [
          [
           0
          ]
         ],
         "hovertemplate": "Song=​epiphany<br>Year=%{x}<br>Normalized_Sentiment=%{y}<br>Positive_Sentiment=%{marker.size}<br>Negative_Sentiment=%{customdata[0]}<extra></extra>",
         "legendgroup": "​epiphany",
         "marker": {
          "color": "rgb(102, 197, 204)",
          "size": [
           0.074
          ],
          "sizemode": "area",
          "sizeref": 0.001045,
          "symbol": "circle"
         },
         "mode": "markers",
         "name": "​epiphany",
         "orientation": "v",
         "showlegend": true,
         "type": "scatter",
         "x": [
          2020
         ],
         "xaxis": "x",
         "y": [
          0.9081
         ],
         "yaxis": "y"
        },
        {
         "customdata": [
          [
           0.052
          ]
         ],
         "hovertemplate": "Song=​invisible-string<br>Year=%{x}<br>Normalized_Sentiment=%{y}<br>Positive_Sentiment=%{marker.size}<br>Negative_Sentiment=%{customdata[0]}<extra></extra>",
         "legendgroup": "​invisible-string",
         "marker": {
          "color": "rgb(246, 207, 113)",
          "size": [
           0.095
          ],
          "sizemode": "area",
          "sizeref": 0.001045,
          "symbol": "circle"
         },
         "mode": "markers",
         "name": "​invisible-string",
         "orientation": "v",
         "showlegend": true,
         "type": "scatter",
         "x": [
          2020
         ],
         "xaxis": "x",
         "y": [
          0.947
         ],
         "yaxis": "y"
        },
        {
         "customdata": [
          [
           0.043
          ]
         ],
         "hovertemplate": "Song=​mirrorball<br>Year=%{x}<br>Normalized_Sentiment=%{y}<br>Positive_Sentiment=%{marker.size}<br>Negative_Sentiment=%{customdata[0]}<extra></extra>",
         "legendgroup": "​mirrorball",
         "marker": {
          "color": "rgb(248, 156, 116)",
          "size": [
           0.087
          ],
          "sizemode": "area",
          "sizeref": 0.001045,
          "symbol": "circle"
         },
         "mode": "markers",
         "name": "​mirrorball",
         "orientation": "v",
         "showlegend": true,
         "type": "scatter",
         "x": [
          2020
         ],
         "xaxis": "x",
         "y": [
          0.8566
         ],
         "yaxis": "y"
        },
        {
         "customdata": [
          [
           0.091
          ]
         ],
         "hovertemplate": "Song=​exile<br>Year=%{x}<br>Normalized_Sentiment=%{y}<br>Positive_Sentiment=%{marker.size}<br>Negative_Sentiment=%{customdata[0]}<extra></extra>",
         "legendgroup": "​exile",
         "marker": {
          "color": "rgb(220, 176, 242)",
          "size": [
           0.081
          ],
          "sizemode": "area",
          "sizeref": 0.001045,
          "symbol": "circle"
         },
         "mode": "markers",
         "name": "​exile",
         "orientation": "v",
         "showlegend": true,
         "type": "scatter",
         "x": [
          2020
         ],
         "xaxis": "x",
         "y": [
          -0.7698
         ],
         "yaxis": "y"
        },
        {
         "customdata": [
          [
           0.181
          ]
         ],
         "hovertemplate": "Song=​my-tears-ricochet<br>Year=%{x}<br>Normalized_Sentiment=%{y}<br>Positive_Sentiment=%{marker.size}<br>Negative_Sentiment=%{customdata[0]}<extra></extra>",
         "legendgroup": "​my-tears-ricochet",
         "marker": {
          "color": "rgb(135, 197, 95)",
          "size": [
           0.088
          ],
          "sizemode": "area",
          "sizeref": 0.001045,
          "symbol": "circle"
         },
         "mode": "markers",
         "name": "​my-tears-ricochet",
         "orientation": "v",
         "showlegend": true,
         "type": "scatter",
         "x": [
          2020
         ],
         "xaxis": "x",
         "y": [
          -0.9829
         ],
         "yaxis": "y"
        },
        {
         "customdata": [
          [
           0.135
          ]
         ],
         "hovertemplate": "Song=​peace<br>Year=%{x}<br>Normalized_Sentiment=%{y}<br>Positive_Sentiment=%{marker.size}<br>Negative_Sentiment=%{customdata[0]}<extra></extra>",
         "legendgroup": "​peace",
         "marker": {
          "color": "rgb(158, 185, 243)",
          "size": [
           0.119
          ],
          "sizemode": "area",
          "sizeref": 0.001045,
          "symbol": "circle"
         },
         "mode": "markers",
         "name": "​peace",
         "orientation": "v",
         "showlegend": true,
         "type": "scatter",
         "x": [
          2020
         ],
         "xaxis": "x",
         "y": [
          -0.5022
         ],
         "yaxis": "y"
        },
        {
         "customdata": [
          [
           0.063
          ]
         ],
         "hovertemplate": "Song=​seven<br>Year=%{x}<br>Normalized_Sentiment=%{y}<br>Positive_Sentiment=%{marker.size}<br>Negative_Sentiment=%{customdata[0]}<extra></extra>",
         "legendgroup": "​seven",
         "marker": {
          "color": "rgb(254, 136, 177)",
          "size": [
           0.224
          ],
          "sizemode": "area",
          "sizeref": 0.001045,
          "symbol": "circle"
         },
         "mode": "markers",
         "name": "​seven",
         "orientation": "v",
         "showlegend": true,
         "type": "scatter",
         "x": [
          2020
         ],
         "xaxis": "x",
         "y": [
          0.9908
         ],
         "yaxis": "y"
        },
        {
         "customdata": [
          [
           0.092
          ]
         ],
         "hovertemplate": "Song=​the-last-great-american-dynasty<br>Year=%{x}<br>Normalized_Sentiment=%{y}<br>Positive_Sentiment=%{marker.size}<br>Negative_Sentiment=%{customdata[0]}<extra></extra>",
         "legendgroup": "​the-last-great-american-dynasty",
         "marker": {
          "color": "rgb(201, 219, 116)",
          "size": [
           0.157
          ],
          "sizemode": "area",
          "sizeref": 0.001045,
          "symbol": "circle"
         },
         "mode": "markers",
         "name": "​the-last-great-american-dynasty",
         "orientation": "v",
         "showlegend": true,
         "type": "scatter",
         "x": [
          2020
         ],
         "xaxis": "x",
         "y": [
          0.9825
         ],
         "yaxis": "y"
        },
        {
         "customdata": [
          [
           0.051
          ]
         ],
         "hovertemplate": "Song=​cardigan<br>Year=%{x}<br>Normalized_Sentiment=%{y}<br>Positive_Sentiment=%{marker.size}<br>Negative_Sentiment=%{customdata[0]}<extra></extra>",
         "legendgroup": "​cardigan",
         "marker": {
          "color": "rgb(139, 224, 164)",
          "size": [
           0.157
          ],
          "sizemode": "area",
          "sizeref": 0.001045,
          "symbol": "circle"
         },
         "mode": "markers",
         "name": "​cardigan",
         "orientation": "v",
         "showlegend": true,
         "type": "scatter",
         "x": [
          2020
         ],
         "xaxis": "x",
         "y": [
          0.9867
         ],
         "yaxis": "y"
        },
        {
         "customdata": [
          [
           0.228
          ]
         ],
         "hovertemplate": "Song=​hoax<br>Year=%{x}<br>Normalized_Sentiment=%{y}<br>Positive_Sentiment=%{marker.size}<br>Negative_Sentiment=%{customdata[0]}<extra></extra>",
         "legendgroup": "​hoax",
         "marker": {
          "color": "rgb(180, 151, 231)",
          "size": [
           0.104
          ],
          "sizemode": "area",
          "sizeref": 0.001045,
          "symbol": "circle"
         },
         "mode": "markers",
         "name": "​hoax",
         "orientation": "v",
         "showlegend": true,
         "type": "scatter",
         "x": [
          2020
         ],
         "xaxis": "x",
         "y": [
          -0.9825
         ],
         "yaxis": "y"
        },
        {
         "customdata": [
          [
           0.027
          ]
         ],
         "hovertemplate": "Song=​august<br>Year=%{x}<br>Normalized_Sentiment=%{y}<br>Positive_Sentiment=%{marker.size}<br>Negative_Sentiment=%{customdata[0]}<extra></extra>",
         "legendgroup": "​august",
         "marker": {
          "color": "rgb(179, 179, 179)",
          "size": [
           0.126
          ],
          "sizemode": "area",
          "sizeref": 0.001045,
          "symbol": "circle"
         },
         "mode": "markers",
         "name": "​august",
         "orientation": "v",
         "showlegend": true,
         "type": "scatter",
         "x": [
          2020
         ],
         "xaxis": "x",
         "y": [
          0.9905
         ],
         "yaxis": "y"
        },
        {
         "customdata": [
          [
           0.117
          ]
         ],
         "hovertemplate": "Song=​illicit-affairs<br>Year=%{x}<br>Normalized_Sentiment=%{y}<br>Positive_Sentiment=%{marker.size}<br>Negative_Sentiment=%{customdata[0]}<extra></extra>",
         "legendgroup": "​illicit-affairs",
         "marker": {
          "color": "rgb(102, 197, 204)",
          "size": [
           0.067
          ],
          "sizemode": "area",
          "sizeref": 0.001045,
          "symbol": "circle"
         },
         "mode": "markers",
         "name": "​illicit-affairs",
         "orientation": "v",
         "showlegend": true,
         "type": "scatter",
         "x": [
          2020
         ],
         "xaxis": "x",
         "y": [
          -0.8987
         ],
         "yaxis": "y"
        },
        {
         "customdata": [
          [
           0.064
          ]
         ],
         "hovertemplate": "Song=​the-1<br>Year=%{x}<br>Normalized_Sentiment=%{y}<br>Positive_Sentiment=%{marker.size}<br>Negative_Sentiment=%{customdata[0]}<extra></extra>",
         "legendgroup": "​the-1",
         "marker": {
          "color": "rgb(246, 207, 113)",
          "size": [
           0.15
          ],
          "sizemode": "area",
          "sizeref": 0.001045,
          "symbol": "circle"
         },
         "mode": "markers",
         "name": "​the-1",
         "orientation": "v",
         "showlegend": true,
         "type": "scatter",
         "x": [
          2020
         ],
         "xaxis": "x",
         "y": [
          0.9808
         ],
         "yaxis": "y"
        },
        {
         "customdata": [
          [
           0.114
          ]
         ],
         "hovertemplate": "Song=​betty<br>Year=%{x}<br>Normalized_Sentiment=%{y}<br>Positive_Sentiment=%{marker.size}<br>Negative_Sentiment=%{customdata[0]}<extra></extra>",
         "legendgroup": "​betty",
         "marker": {
          "color": "rgb(248, 156, 116)",
          "size": [
           0.155
          ],
          "sizemode": "area",
          "sizeref": 0.001045,
          "symbol": "circle"
         },
         "mode": "markers",
         "name": "​betty",
         "orientation": "v",
         "showlegend": true,
         "type": "scatter",
         "x": [
          2020
         ],
         "xaxis": "x",
         "y": [
          0.9572
         ],
         "yaxis": "y"
        },
        {
         "customdata": [
          [
           0.098
          ]
         ],
         "hovertemplate": "Song=​closure<br>Year=%{x}<br>Normalized_Sentiment=%{y}<br>Positive_Sentiment=%{marker.size}<br>Negative_Sentiment=%{customdata[0]}<extra></extra>",
         "legendgroup": "​closure",
         "marker": {
          "color": "rgb(220, 176, 242)",
          "size": [
           0.231
          ],
          "sizemode": "area",
          "sizeref": 0.001045,
          "symbol": "circle"
         },
         "mode": "markers",
         "name": "​closure",
         "orientation": "v",
         "showlegend": true,
         "type": "scatter",
         "x": [
          2020
         ],
         "xaxis": "x",
         "y": [
          0.9859
         ],
         "yaxis": "y"
        },
        {
         "customdata": [
          [
           0.117
          ]
         ],
         "hovertemplate": "Song=​l​ong-story-short<br>Year=%{x}<br>Normalized_Sentiment=%{y}<br>Positive_Sentiment=%{marker.size}<br>Negative_Sentiment=%{customdata[0]}<extra></extra>",
         "legendgroup": "​l​ong-story-short",
         "marker": {
          "color": "rgb(135, 197, 95)",
          "size": [
           0.112
          ],
          "sizemode": "area",
          "sizeref": 0.001045,
          "symbol": "circle"
         },
         "mode": "markers",
         "name": "​l​ong-story-short",
         "orientation": "v",
         "showlegend": true,
         "type": "scatter",
         "x": [
          2020
         ],
         "xaxis": "x",
         "y": [
          -0.8145
         ],
         "yaxis": "y"
        },
        {
         "customdata": [
          [
           0.087
          ]
         ],
         "hovertemplate": "Song=​willow<br>Year=%{x}<br>Normalized_Sentiment=%{y}<br>Positive_Sentiment=%{marker.size}<br>Negative_Sentiment=%{customdata[0]}<extra></extra>",
         "legendgroup": "​willow",
         "marker": {
          "color": "rgb(158, 185, 243)",
          "size": [
           0.145
          ],
          "sizemode": "area",
          "sizeref": 0.001045,
          "symbol": "circle"
         },
         "mode": "markers",
         "name": "​willow",
         "orientation": "v",
         "showlegend": true,
         "type": "scatter",
         "x": [
          2020
         ],
         "xaxis": "x",
         "y": [
          0.9829
         ],
         "yaxis": "y"
        },
        {
         "customdata": [
          [
           0.107
          ]
         ],
         "hovertemplate": "Song=​dorothea<br>Year=%{x}<br>Normalized_Sentiment=%{y}<br>Positive_Sentiment=%{marker.size}<br>Negative_Sentiment=%{customdata[0]}<extra></extra>",
         "legendgroup": "​dorothea",
         "marker": {
          "color": "rgb(254, 136, 177)",
          "size": [
           0.068
          ],
          "sizemode": "area",
          "sizeref": 0.001045,
          "symbol": "circle"
         },
         "mode": "markers",
         "name": "​dorothea",
         "orientation": "v",
         "showlegend": true,
         "type": "scatter",
         "x": [
          2020
         ],
         "xaxis": "x",
         "y": [
          -0.8534
         ],
         "yaxis": "y"
        },
        {
         "customdata": [
          [
           0.074
          ]
         ],
         "hovertemplate": "Song=​'tis-the-damn-season<br>Year=%{x}<br>Normalized_Sentiment=%{y}<br>Positive_Sentiment=%{marker.size}<br>Negative_Sentiment=%{customdata[0]}<extra></extra>",
         "legendgroup": "​'tis-the-damn-season",
         "marker": {
          "color": "rgb(201, 219, 116)",
          "size": [
           0.098
          ],
          "sizemode": "area",
          "sizeref": 0.001045,
          "symbol": "circle"
         },
         "mode": "markers",
         "name": "​'tis-the-damn-season",
         "orientation": "v",
         "showlegend": true,
         "type": "scatter",
         "x": [
          2020
         ],
         "xaxis": "x",
         "y": [
          0.9313
         ],
         "yaxis": "y"
        },
        {
         "customdata": [
          [
           0.051
          ]
         ],
         "hovertemplate": "Song=​gold-rush<br>Year=%{x}<br>Normalized_Sentiment=%{y}<br>Positive_Sentiment=%{marker.size}<br>Negative_Sentiment=%{customdata[0]}<extra></extra>",
         "legendgroup": "​gold-rush",
         "marker": {
          "color": "rgb(139, 224, 164)",
          "size": [
           0.258
          ],
          "sizemode": "area",
          "sizeref": 0.001045,
          "symbol": "circle"
         },
         "mode": "markers",
         "name": "​gold-rush",
         "orientation": "v",
         "showlegend": true,
         "type": "scatter",
         "x": [
          2020
         ],
         "xaxis": "x",
         "y": [
          0.9969
         ],
         "yaxis": "y"
        },
        {
         "customdata": [
          [
           0.175
          ]
         ],
         "hovertemplate": "Song=​marjorie<br>Year=%{x}<br>Normalized_Sentiment=%{y}<br>Positive_Sentiment=%{marker.size}<br>Negative_Sentiment=%{customdata[0]}<extra></extra>",
         "legendgroup": "​marjorie",
         "marker": {
          "color": "rgb(180, 151, 231)",
          "size": [
           0.223
          ],
          "sizemode": "area",
          "sizeref": 0.001045,
          "symbol": "circle"
         },
         "mode": "markers",
         "name": "​marjorie",
         "orientation": "v",
         "showlegend": true,
         "type": "scatter",
         "x": [
          2020
         ],
         "xaxis": "x",
         "y": [
          0.9684
         ],
         "yaxis": "y"
        },
        {
         "customdata": [
          [
           0.114
          ]
         ],
         "hovertemplate": "Song=​happiness<br>Year=%{x}<br>Normalized_Sentiment=%{y}<br>Positive_Sentiment=%{marker.size}<br>Negative_Sentiment=%{customdata[0]}<extra></extra>",
         "legendgroup": "​happiness",
         "marker": {
          "color": "rgb(179, 179, 179)",
          "size": [
           0.208
          ],
          "sizemode": "area",
          "sizeref": 0.001045,
          "symbol": "circle"
         },
         "mode": "markers",
         "name": "​happiness",
         "orientation": "v",
         "showlegend": true,
         "type": "scatter",
         "x": [
          2020
         ],
         "xaxis": "x",
         "y": [
          0.9949
         ],
         "yaxis": "y"
        },
        {
         "customdata": [
          [
           0.128
          ]
         ],
         "hovertemplate": "Song=​cowboy-like-me<br>Year=%{x}<br>Normalized_Sentiment=%{y}<br>Positive_Sentiment=%{marker.size}<br>Negative_Sentiment=%{customdata[0]}<extra></extra>",
         "legendgroup": "​cowboy-like-me",
         "marker": {
          "color": "rgb(102, 197, 204)",
          "size": [
           0.101
          ],
          "sizemode": "area",
          "sizeref": 0.001045,
          "symbol": "circle"
         },
         "mode": "markers",
         "name": "​cowboy-like-me",
         "orientation": "v",
         "showlegend": true,
         "type": "scatter",
         "x": [
          2020
         ],
         "xaxis": "x",
         "y": [
          -0.8132
         ],
         "yaxis": "y"
        },
        {
         "customdata": [
          [
           0.178
          ]
         ],
         "hovertemplate": "Song=​evermore<br>Year=%{x}<br>Normalized_Sentiment=%{y}<br>Positive_Sentiment=%{marker.size}<br>Negative_Sentiment=%{customdata[0]}<extra></extra>",
         "legendgroup": "​evermore",
         "marker": {
          "color": "rgb(246, 207, 113)",
          "size": [
           0.05
          ],
          "sizemode": "area",
          "sizeref": 0.001045,
          "symbol": "circle"
         },
         "mode": "markers",
         "name": "​evermore",
         "orientation": "v",
         "showlegend": true,
         "type": "scatter",
         "x": [
          2020
         ],
         "xaxis": "x",
         "y": [
          -0.9944
         ],
         "yaxis": "y"
        },
        {
         "customdata": [
          [
           0.073
          ]
         ],
         "hovertemplate": "Song=​tolerate-it<br>Year=%{x}<br>Normalized_Sentiment=%{y}<br>Positive_Sentiment=%{marker.size}<br>Negative_Sentiment=%{customdata[0]}<extra></extra>",
         "legendgroup": "​tolerate-it",
         "marker": {
          "color": "rgb(248, 156, 116)",
          "size": [
           0.151
          ],
          "sizemode": "area",
          "sizeref": 0.001045,
          "symbol": "circle"
         },
         "mode": "markers",
         "name": "​tolerate-it",
         "orientation": "v",
         "showlegend": true,
         "type": "scatter",
         "x": [
          2020
         ],
         "xaxis": "x",
         "y": [
          0.9759
         ],
         "yaxis": "y"
        },
        {
         "customdata": [
          [
           0.169
          ]
         ],
         "hovertemplate": "Song=​no-body,-no-crime<br>Year=%{x}<br>Normalized_Sentiment=%{y}<br>Positive_Sentiment=%{marker.size}<br>Negative_Sentiment=%{customdata[0]}<extra></extra>",
         "legendgroup": "​no-body,-no-crime",
         "marker": {
          "color": "rgb(220, 176, 242)",
          "size": [
           0.13
          ],
          "sizemode": "area",
          "sizeref": 0.001045,
          "symbol": "circle"
         },
         "mode": "markers",
         "name": "​no-body,-no-crime",
         "orientation": "v",
         "showlegend": true,
         "type": "scatter",
         "x": [
          2020
         ],
         "xaxis": "x",
         "y": [
          -0.9799
         ],
         "yaxis": "y"
        },
        {
         "customdata": [
          [
           0.102
          ]
         ],
         "hovertemplate": "Song=​coney-island<br>Year=%{x}<br>Normalized_Sentiment=%{y}<br>Positive_Sentiment=%{marker.size}<br>Negative_Sentiment=%{customdata[0]}<extra></extra>",
         "legendgroup": "​coney-island",
         "marker": {
          "color": "rgb(135, 197, 95)",
          "size": [
           0.11
          ],
          "sizemode": "area",
          "sizeref": 0.001045,
          "symbol": "circle"
         },
         "mode": "markers",
         "name": "​coney-island",
         "orientation": "v",
         "showlegend": true,
         "type": "scatter",
         "x": [
          2020
         ],
         "xaxis": "x",
         "y": [
          0.855
         ],
         "yaxis": "y"
        },
        {
         "customdata": [
          [
           0.152
          ]
         ],
         "hovertemplate": "Song=​champagne-problems<br>Year=%{x}<br>Normalized_Sentiment=%{y}<br>Positive_Sentiment=%{marker.size}<br>Negative_Sentiment=%{customdata[0]}<extra></extra>",
         "legendgroup": "​champagne-problems",
         "marker": {
          "color": "rgb(158, 185, 243)",
          "size": [
           0.141
          ],
          "sizemode": "area",
          "sizeref": 0.001045,
          "symbol": "circle"
         },
         "mode": "markers",
         "name": "​champagne-problems",
         "orientation": "v",
         "showlegend": true,
         "type": "scatter",
         "x": [
          2020
         ],
         "xaxis": "x",
         "y": [
          -0.6832
         ],
         "yaxis": "y"
        },
        {
         "customdata": [
          [
           0.169
          ]
         ],
         "hovertemplate": "Song=​ivy<br>Year=%{x}<br>Normalized_Sentiment=%{y}<br>Positive_Sentiment=%{marker.size}<br>Negative_Sentiment=%{customdata[0]}<extra></extra>",
         "legendgroup": "​ivy",
         "marker": {
          "color": "rgb(254, 136, 177)",
          "size": [
           0.135
          ],
          "sizemode": "area",
          "sizeref": 0.001045,
          "symbol": "circle"
         },
         "mode": "markers",
         "name": "​ivy",
         "orientation": "v",
         "showlegend": true,
         "type": "scatter",
         "x": [
          2020
         ],
         "xaxis": "x",
         "y": [
          -0.9615
         ],
         "yaxis": "y"
        }
       ],
       "layout": {
        "legend": {
         "itemsizing": "constant",
         "title": {
          "text": "Song"
         },
         "tracegroupgap": 0
        },
        "margin": {
         "t": 60
        },
        "template": {
         "data": {
          "bar": [
           {
            "error_x": {
             "color": "#2a3f5f"
            },
            "error_y": {
             "color": "#2a3f5f"
            },
            "marker": {
             "line": {
              "color": "#E5ECF6",
              "width": 0.5
             },
             "pattern": {
              "fillmode": "overlay",
              "size": 10,
              "solidity": 0.2
             }
            },
            "type": "bar"
           }
          ],
          "barpolar": [
           {
            "marker": {
             "line": {
              "color": "#E5ECF6",
              "width": 0.5
             },
             "pattern": {
              "fillmode": "overlay",
              "size": 10,
              "solidity": 0.2
             }
            },
            "type": "barpolar"
           }
          ],
          "carpet": [
           {
            "aaxis": {
             "endlinecolor": "#2a3f5f",
             "gridcolor": "white",
             "linecolor": "white",
             "minorgridcolor": "white",
             "startlinecolor": "#2a3f5f"
            },
            "baxis": {
             "endlinecolor": "#2a3f5f",
             "gridcolor": "white",
             "linecolor": "white",
             "minorgridcolor": "white",
             "startlinecolor": "#2a3f5f"
            },
            "type": "carpet"
           }
          ],
          "choropleth": [
           {
            "colorbar": {
             "outlinewidth": 0,
             "ticks": ""
            },
            "type": "choropleth"
           }
          ],
          "contour": [
           {
            "colorbar": {
             "outlinewidth": 0,
             "ticks": ""
            },
            "colorscale": [
             [
              0,
              "#0d0887"
             ],
             [
              0.1111111111111111,
              "#46039f"
             ],
             [
              0.2222222222222222,
              "#7201a8"
             ],
             [
              0.3333333333333333,
              "#9c179e"
             ],
             [
              0.4444444444444444,
              "#bd3786"
             ],
             [
              0.5555555555555556,
              "#d8576b"
             ],
             [
              0.6666666666666666,
              "#ed7953"
             ],
             [
              0.7777777777777778,
              "#fb9f3a"
             ],
             [
              0.8888888888888888,
              "#fdca26"
             ],
             [
              1,
              "#f0f921"
             ]
            ],
            "type": "contour"
           }
          ],
          "contourcarpet": [
           {
            "colorbar": {
             "outlinewidth": 0,
             "ticks": ""
            },
            "type": "contourcarpet"
           }
          ],
          "heatmap": [
           {
            "colorbar": {
             "outlinewidth": 0,
             "ticks": ""
            },
            "colorscale": [
             [
              0,
              "#0d0887"
             ],
             [
              0.1111111111111111,
              "#46039f"
             ],
             [
              0.2222222222222222,
              "#7201a8"
             ],
             [
              0.3333333333333333,
              "#9c179e"
             ],
             [
              0.4444444444444444,
              "#bd3786"
             ],
             [
              0.5555555555555556,
              "#d8576b"
             ],
             [
              0.6666666666666666,
              "#ed7953"
             ],
             [
              0.7777777777777778,
              "#fb9f3a"
             ],
             [
              0.8888888888888888,
              "#fdca26"
             ],
             [
              1,
              "#f0f921"
             ]
            ],
            "type": "heatmap"
           }
          ],
          "heatmapgl": [
           {
            "colorbar": {
             "outlinewidth": 0,
             "ticks": ""
            },
            "colorscale": [
             [
              0,
              "#0d0887"
             ],
             [
              0.1111111111111111,
              "#46039f"
             ],
             [
              0.2222222222222222,
              "#7201a8"
             ],
             [
              0.3333333333333333,
              "#9c179e"
             ],
             [
              0.4444444444444444,
              "#bd3786"
             ],
             [
              0.5555555555555556,
              "#d8576b"
             ],
             [
              0.6666666666666666,
              "#ed7953"
             ],
             [
              0.7777777777777778,
              "#fb9f3a"
             ],
             [
              0.8888888888888888,
              "#fdca26"
             ],
             [
              1,
              "#f0f921"
             ]
            ],
            "type": "heatmapgl"
           }
          ],
          "histogram": [
           {
            "marker": {
             "pattern": {
              "fillmode": "overlay",
              "size": 10,
              "solidity": 0.2
             }
            },
            "type": "histogram"
           }
          ],
          "histogram2d": [
           {
            "colorbar": {
             "outlinewidth": 0,
             "ticks": ""
            },
            "colorscale": [
             [
              0,
              "#0d0887"
             ],
             [
              0.1111111111111111,
              "#46039f"
             ],
             [
              0.2222222222222222,
              "#7201a8"
             ],
             [
              0.3333333333333333,
              "#9c179e"
             ],
             [
              0.4444444444444444,
              "#bd3786"
             ],
             [
              0.5555555555555556,
              "#d8576b"
             ],
             [
              0.6666666666666666,
              "#ed7953"
             ],
             [
              0.7777777777777778,
              "#fb9f3a"
             ],
             [
              0.8888888888888888,
              "#fdca26"
             ],
             [
              1,
              "#f0f921"
             ]
            ],
            "type": "histogram2d"
           }
          ],
          "histogram2dcontour": [
           {
            "colorbar": {
             "outlinewidth": 0,
             "ticks": ""
            },
            "colorscale": [
             [
              0,
              "#0d0887"
             ],
             [
              0.1111111111111111,
              "#46039f"
             ],
             [
              0.2222222222222222,
              "#7201a8"
             ],
             [
              0.3333333333333333,
              "#9c179e"
             ],
             [
              0.4444444444444444,
              "#bd3786"
             ],
             [
              0.5555555555555556,
              "#d8576b"
             ],
             [
              0.6666666666666666,
              "#ed7953"
             ],
             [
              0.7777777777777778,
              "#fb9f3a"
             ],
             [
              0.8888888888888888,
              "#fdca26"
             ],
             [
              1,
              "#f0f921"
             ]
            ],
            "type": "histogram2dcontour"
           }
          ],
          "mesh3d": [
           {
            "colorbar": {
             "outlinewidth": 0,
             "ticks": ""
            },
            "type": "mesh3d"
           }
          ],
          "parcoords": [
           {
            "line": {
             "colorbar": {
              "outlinewidth": 0,
              "ticks": ""
             }
            },
            "type": "parcoords"
           }
          ],
          "pie": [
           {
            "automargin": true,
            "type": "pie"
           }
          ],
          "scatter": [
           {
            "marker": {
             "colorbar": {
              "outlinewidth": 0,
              "ticks": ""
             }
            },
            "type": "scatter"
           }
          ],
          "scatter3d": [
           {
            "line": {
             "colorbar": {
              "outlinewidth": 0,
              "ticks": ""
             }
            },
            "marker": {
             "colorbar": {
              "outlinewidth": 0,
              "ticks": ""
             }
            },
            "type": "scatter3d"
           }
          ],
          "scattercarpet": [
           {
            "marker": {
             "colorbar": {
              "outlinewidth": 0,
              "ticks": ""
             }
            },
            "type": "scattercarpet"
           }
          ],
          "scattergeo": [
           {
            "marker": {
             "colorbar": {
              "outlinewidth": 0,
              "ticks": ""
             }
            },
            "type": "scattergeo"
           }
          ],
          "scattergl": [
           {
            "marker": {
             "colorbar": {
              "outlinewidth": 0,
              "ticks": ""
             }
            },
            "type": "scattergl"
           }
          ],
          "scattermapbox": [
           {
            "marker": {
             "colorbar": {
              "outlinewidth": 0,
              "ticks": ""
             }
            },
            "type": "scattermapbox"
           }
          ],
          "scatterpolar": [
           {
            "marker": {
             "colorbar": {
              "outlinewidth": 0,
              "ticks": ""
             }
            },
            "type": "scatterpolar"
           }
          ],
          "scatterpolargl": [
           {
            "marker": {
             "colorbar": {
              "outlinewidth": 0,
              "ticks": ""
             }
            },
            "type": "scatterpolargl"
           }
          ],
          "scatterternary": [
           {
            "marker": {
             "colorbar": {
              "outlinewidth": 0,
              "ticks": ""
             }
            },
            "type": "scatterternary"
           }
          ],
          "surface": [
           {
            "colorbar": {
             "outlinewidth": 0,
             "ticks": ""
            },
            "colorscale": [
             [
              0,
              "#0d0887"
             ],
             [
              0.1111111111111111,
              "#46039f"
             ],
             [
              0.2222222222222222,
              "#7201a8"
             ],
             [
              0.3333333333333333,
              "#9c179e"
             ],
             [
              0.4444444444444444,
              "#bd3786"
             ],
             [
              0.5555555555555556,
              "#d8576b"
             ],
             [
              0.6666666666666666,
              "#ed7953"
             ],
             [
              0.7777777777777778,
              "#fb9f3a"
             ],
             [
              0.8888888888888888,
              "#fdca26"
             ],
             [
              1,
              "#f0f921"
             ]
            ],
            "type": "surface"
           }
          ],
          "table": [
           {
            "cells": {
             "fill": {
              "color": "#EBF0F8"
             },
             "line": {
              "color": "white"
             }
            },
            "header": {
             "fill": {
              "color": "#C8D4E3"
             },
             "line": {
              "color": "white"
             }
            },
            "type": "table"
           }
          ]
         },
         "layout": {
          "annotationdefaults": {
           "arrowcolor": "#2a3f5f",
           "arrowhead": 0,
           "arrowwidth": 1
          },
          "autotypenumbers": "strict",
          "coloraxis": {
           "colorbar": {
            "outlinewidth": 0,
            "ticks": ""
           }
          },
          "colorscale": {
           "diverging": [
            [
             0,
             "#8e0152"
            ],
            [
             0.1,
             "#c51b7d"
            ],
            [
             0.2,
             "#de77ae"
            ],
            [
             0.3,
             "#f1b6da"
            ],
            [
             0.4,
             "#fde0ef"
            ],
            [
             0.5,
             "#f7f7f7"
            ],
            [
             0.6,
             "#e6f5d0"
            ],
            [
             0.7,
             "#b8e186"
            ],
            [
             0.8,
             "#7fbc41"
            ],
            [
             0.9,
             "#4d9221"
            ],
            [
             1,
             "#276419"
            ]
           ],
           "sequential": [
            [
             0,
             "#0d0887"
            ],
            [
             0.1111111111111111,
             "#46039f"
            ],
            [
             0.2222222222222222,
             "#7201a8"
            ],
            [
             0.3333333333333333,
             "#9c179e"
            ],
            [
             0.4444444444444444,
             "#bd3786"
            ],
            [
             0.5555555555555556,
             "#d8576b"
            ],
            [
             0.6666666666666666,
             "#ed7953"
            ],
            [
             0.7777777777777778,
             "#fb9f3a"
            ],
            [
             0.8888888888888888,
             "#fdca26"
            ],
            [
             1,
             "#f0f921"
            ]
           ],
           "sequentialminus": [
            [
             0,
             "#0d0887"
            ],
            [
             0.1111111111111111,
             "#46039f"
            ],
            [
             0.2222222222222222,
             "#7201a8"
            ],
            [
             0.3333333333333333,
             "#9c179e"
            ],
            [
             0.4444444444444444,
             "#bd3786"
            ],
            [
             0.5555555555555556,
             "#d8576b"
            ],
            [
             0.6666666666666666,
             "#ed7953"
            ],
            [
             0.7777777777777778,
             "#fb9f3a"
            ],
            [
             0.8888888888888888,
             "#fdca26"
            ],
            [
             1,
             "#f0f921"
            ]
           ]
          },
          "colorway": [
           "#636efa",
           "#EF553B",
           "#00cc96",
           "#ab63fa",
           "#FFA15A",
           "#19d3f3",
           "#FF6692",
           "#B6E880",
           "#FF97FF",
           "#FECB52"
          ],
          "font": {
           "color": "#2a3f5f"
          },
          "geo": {
           "bgcolor": "white",
           "lakecolor": "white",
           "landcolor": "#E5ECF6",
           "showlakes": true,
           "showland": true,
           "subunitcolor": "white"
          },
          "hoverlabel": {
           "align": "left"
          },
          "hovermode": "closest",
          "mapbox": {
           "style": "light"
          },
          "paper_bgcolor": "white",
          "plot_bgcolor": "#E5ECF6",
          "polar": {
           "angularaxis": {
            "gridcolor": "white",
            "linecolor": "white",
            "ticks": ""
           },
           "bgcolor": "#E5ECF6",
           "radialaxis": {
            "gridcolor": "white",
            "linecolor": "white",
            "ticks": ""
           }
          },
          "scene": {
           "xaxis": {
            "backgroundcolor": "#E5ECF6",
            "gridcolor": "white",
            "gridwidth": 2,
            "linecolor": "white",
            "showbackground": true,
            "ticks": "",
            "zerolinecolor": "white"
           },
           "yaxis": {
            "backgroundcolor": "#E5ECF6",
            "gridcolor": "white",
            "gridwidth": 2,
            "linecolor": "white",
            "showbackground": true,
            "ticks": "",
            "zerolinecolor": "white"
           },
           "zaxis": {
            "backgroundcolor": "#E5ECF6",
            "gridcolor": "white",
            "gridwidth": 2,
            "linecolor": "white",
            "showbackground": true,
            "ticks": "",
            "zerolinecolor": "white"
           }
          },
          "shapedefaults": {
           "line": {
            "color": "#2a3f5f"
           }
          },
          "ternary": {
           "aaxis": {
            "gridcolor": "white",
            "linecolor": "white",
            "ticks": ""
           },
           "baxis": {
            "gridcolor": "white",
            "linecolor": "white",
            "ticks": ""
           },
           "bgcolor": "#E5ECF6",
           "caxis": {
            "gridcolor": "white",
            "linecolor": "white",
            "ticks": ""
           }
          },
          "title": {
           "x": 0.05
          },
          "xaxis": {
           "automargin": true,
           "gridcolor": "white",
           "linecolor": "white",
           "ticks": "",
           "title": {
            "standoff": 15
           },
           "zerolinecolor": "white",
           "zerolinewidth": 2
          },
          "yaxis": {
           "automargin": true,
           "gridcolor": "white",
           "linecolor": "white",
           "ticks": "",
           "title": {
            "standoff": 15
           },
           "zerolinecolor": "white",
           "zerolinewidth": 2
          }
         }
        },
        "xaxis": {
         "anchor": "y",
         "domain": [
          0,
          1
         ],
         "title": {
          "text": "Year"
         }
        },
        "yaxis": {
         "anchor": "x",
         "domain": [
          0,
          1
         ],
         "title": {
          "text": "Normalized_Sentiment"
         }
        }
       }
      },
      "text/html": [
       "<div>                            <div id=\"7eac7373-6842-45de-aa95-d3f2d62d0039\" class=\"plotly-graph-div\" style=\"height:525px; width:100%;\"></div>            <script type=\"text/javascript\">                require([\"plotly\"], function(Plotly) {                    window.PLOTLYENV=window.PLOTLYENV || {};                                    if (document.getElementById(\"7eac7373-6842-45de-aa95-d3f2d62d0039\")) {                    Plotly.newPlot(                        \"7eac7373-6842-45de-aa95-d3f2d62d0039\",                        [{\"customdata\":[[0.028]],\"hovertemplate\":\"Song=Mary's-Song-(Oh-My-My-My)<br>Year=%{x}<br>Normalized_Sentiment=%{y}<br>Positive_Sentiment=%{marker.size}<br>Negative_Sentiment=%{customdata[0]}<extra></extra>\",\"legendgroup\":\"Mary's-Song-(Oh-My-My-My)\",\"marker\":{\"color\":\"rgb(102, 197, 204)\",\"size\":[0.132],\"sizemode\":\"area\",\"sizeref\":0.001045,\"symbol\":\"circle\"},\"mode\":\"markers\",\"name\":\"Mary's-Song-(Oh-My-My-My)\",\"orientation\":\"v\",\"showlegend\":true,\"type\":\"scatter\",\"x\":[2006],\"xaxis\":\"x\",\"y\":[0.9882],\"yaxis\":\"y\"},{\"customdata\":[[0.079]],\"hovertemplate\":\"Song=Sugar,-We're-Going-Down<br>Year=%{x}<br>Normalized_Sentiment=%{y}<br>Positive_Sentiment=%{marker.size}<br>Negative_Sentiment=%{customdata[0]}<extra></extra>\",\"legendgroup\":\"Sugar,-We're-Going-Down\",\"marker\":{\"color\":\"rgb(246, 207, 113)\",\"size\":[0.086],\"sizemode\":\"area\",\"sizeref\":0.001045,\"symbol\":\"circle\"},\"mode\":\"markers\",\"name\":\"Sugar,-We're-Going-Down\",\"orientation\":\"v\",\"showlegend\":true,\"type\":\"scatter\",\"x\":[2006],\"xaxis\":\"x\",\"y\":[-0.5541],\"yaxis\":\"y\"},{\"customdata\":[[0.006]],\"hovertemplate\":\"Song=A-Perfectly-Good-Heart<br>Year=%{x}<br>Normalized_Sentiment=%{y}<br>Positive_Sentiment=%{marker.size}<br>Negative_Sentiment=%{customdata[0]}<extra></extra>\",\"legendgroup\":\"A-Perfectly-Good-Heart\",\"marker\":{\"color\":\"rgb(248, 156, 116)\",\"size\":[0.287],\"sizemode\":\"area\",\"sizeref\":0.001045,\"symbol\":\"circle\"},\"mode\":\"markers\",\"name\":\"A-Perfectly-Good-Heart\",\"orientation\":\"v\",\"showlegend\":true,\"type\":\"scatter\",\"x\":[2006],\"xaxis\":\"x\",\"y\":[0.9979],\"yaxis\":\"y\"},{\"customdata\":[[0.032]],\"hovertemplate\":\"Song=Tim-McGraw<br>Year=%{x}<br>Normalized_Sentiment=%{y}<br>Positive_Sentiment=%{marker.size}<br>Negative_Sentiment=%{customdata[0]}<extra></extra>\",\"legendgroup\":\"Tim-McGraw\",\"marker\":{\"color\":\"rgb(220, 176, 242)\",\"size\":[0.158],\"sizemode\":\"area\",\"sizeref\":0.001045,\"symbol\":\"circle\"},\"mode\":\"markers\",\"name\":\"Tim-McGraw\",\"orientation\":\"v\",\"showlegend\":true,\"type\":\"scatter\",\"x\":[2006],\"xaxis\":\"x\",\"y\":[0.9935],\"yaxis\":\"y\"},{\"customdata\":[[0.072]],\"hovertemplate\":\"Song=I\\u2019m-Only-Me-When-I\\u2019m-with-You<br>Year=%{x}<br>Normalized_Sentiment=%{y}<br>Positive_Sentiment=%{marker.size}<br>Negative_Sentiment=%{customdata[0]}<extra></extra>\",\"legendgroup\":\"I\\u2019m-Only-Me-When-I\\u2019m-with-You\",\"marker\":{\"color\":\"rgb(135, 197, 95)\",\"size\":[0.115],\"sizemode\":\"area\",\"sizeref\":0.001045,\"symbol\":\"circle\"},\"mode\":\"markers\",\"name\":\"I\\u2019m-Only-Me-When-I\\u2019m-with-You\",\"orientation\":\"v\",\"showlegend\":true,\"type\":\"scatter\",\"x\":[2006],\"xaxis\":\"x\",\"y\":[0.8705],\"yaxis\":\"y\"},{\"customdata\":[[0.039]],\"hovertemplate\":\"Song=Teardrops-on-My-Guitar<br>Year=%{x}<br>Normalized_Sentiment=%{y}<br>Positive_Sentiment=%{marker.size}<br>Negative_Sentiment=%{customdata[0]}<extra></extra>\",\"legendgroup\":\"Teardrops-on-My-Guitar\",\"marker\":{\"color\":\"rgb(158, 185, 243)\",\"size\":[0.126],\"sizemode\":\"area\",\"sizeref\":0.001045,\"symbol\":\"circle\"},\"mode\":\"markers\",\"name\":\"Teardrops-on-My-Guitar\",\"orientation\":\"v\",\"showlegend\":true,\"type\":\"scatter\",\"x\":[2006],\"xaxis\":\"x\",\"y\":[0.9599],\"yaxis\":\"y\"},{\"customdata\":[[0.138]],\"hovertemplate\":\"Song=Cold-as-You<br>Year=%{x}<br>Normalized_Sentiment=%{y}<br>Positive_Sentiment=%{marker.size}<br>Negative_Sentiment=%{customdata[0]}<extra></extra>\",\"legendgroup\":\"Cold-as-You\",\"marker\":{\"color\":\"rgb(254, 136, 177)\",\"size\":[0.115],\"sizemode\":\"area\",\"sizeref\":0.001045,\"symbol\":\"circle\"},\"mode\":\"markers\",\"name\":\"Cold-as-You\",\"orientation\":\"v\",\"showlegend\":true,\"type\":\"scatter\",\"x\":[2006],\"xaxis\":\"x\",\"y\":[-0.8357],\"yaxis\":\"y\"},{\"customdata\":[[0.098]],\"hovertemplate\":\"Song=The-Outside<br>Year=%{x}<br>Normalized_Sentiment=%{y}<br>Positive_Sentiment=%{marker.size}<br>Negative_Sentiment=%{customdata[0]}<extra></extra>\",\"legendgroup\":\"The-Outside\",\"marker\":{\"color\":\"rgb(201, 219, 116)\",\"size\":[0.052],\"sizemode\":\"area\",\"sizeref\":0.001045,\"symbol\":\"circle\"},\"mode\":\"markers\",\"name\":\"The-Outside\",\"orientation\":\"v\",\"showlegend\":true,\"type\":\"scatter\",\"x\":[2006],\"xaxis\":\"x\",\"y\":[-0.8967],\"yaxis\":\"y\"},{\"customdata\":[[0.093]],\"hovertemplate\":\"Song=Should've-Said-No<br>Year=%{x}<br>Normalized_Sentiment=%{y}<br>Positive_Sentiment=%{marker.size}<br>Negative_Sentiment=%{customdata[0]}<extra></extra>\",\"legendgroup\":\"Should've-Said-No\",\"marker\":{\"color\":\"rgb(139, 224, 164)\",\"size\":[0.054],\"sizemode\":\"area\",\"sizeref\":0.001045,\"symbol\":\"circle\"},\"mode\":\"markers\",\"name\":\"Should've-Said-No\",\"orientation\":\"v\",\"showlegend\":true,\"type\":\"scatter\",\"x\":[2006],\"xaxis\":\"x\",\"y\":[-0.9254],\"yaxis\":\"y\"},{\"customdata\":[[0.083]],\"hovertemplate\":\"Song=A-Place-In-This-World<br>Year=%{x}<br>Normalized_Sentiment=%{y}<br>Positive_Sentiment=%{marker.size}<br>Negative_Sentiment=%{customdata[0]}<extra></extra>\",\"legendgroup\":\"A-Place-In-This-World\",\"marker\":{\"color\":\"rgb(180, 151, 231)\",\"size\":[0.125],\"sizemode\":\"area\",\"sizeref\":0.001045,\"symbol\":\"circle\"},\"mode\":\"markers\",\"name\":\"A-Place-In-This-World\",\"orientation\":\"v\",\"showlegend\":true,\"type\":\"scatter\",\"x\":[2006],\"xaxis\":\"x\",\"y\":[0.923],\"yaxis\":\"y\"},{\"customdata\":[[0.033]],\"hovertemplate\":\"Song=Our-Song<br>Year=%{x}<br>Normalized_Sentiment=%{y}<br>Positive_Sentiment=%{marker.size}<br>Negative_Sentiment=%{customdata[0]}<extra></extra>\",\"legendgroup\":\"Our-Song\",\"marker\":{\"color\":\"rgb(179, 179, 179)\",\"size\":[0.095],\"sizemode\":\"area\",\"sizeref\":0.001045,\"symbol\":\"circle\"},\"mode\":\"markers\",\"name\":\"Our-Song\",\"orientation\":\"v\",\"showlegend\":true,\"type\":\"scatter\",\"x\":[2006],\"xaxis\":\"x\",\"y\":[0.9652],\"yaxis\":\"y\"},{\"customdata\":[[0.314]],\"hovertemplate\":\"Song=Picture-to-Burn<br>Year=%{x}<br>Normalized_Sentiment=%{y}<br>Positive_Sentiment=%{marker.size}<br>Negative_Sentiment=%{customdata[0]}<extra></extra>\",\"legendgroup\":\"Picture-to-Burn\",\"marker\":{\"color\":\"rgb(102, 197, 204)\",\"size\":[0.067],\"sizemode\":\"area\",\"sizeref\":0.001045,\"symbol\":\"circle\"},\"mode\":\"markers\",\"name\":\"Picture-to-Burn\",\"orientation\":\"v\",\"showlegend\":true,\"type\":\"scatter\",\"x\":[2006],\"xaxis\":\"x\",\"y\":[-0.998],\"yaxis\":\"y\"},{\"customdata\":[[0.009]],\"hovertemplate\":\"Song=Stay-Beautiful<br>Year=%{x}<br>Normalized_Sentiment=%{y}<br>Positive_Sentiment=%{marker.size}<br>Negative_Sentiment=%{customdata[0]}<extra></extra>\",\"legendgroup\":\"Stay-Beautiful\",\"marker\":{\"color\":\"rgb(246, 207, 113)\",\"size\":[0.307],\"sizemode\":\"area\",\"sizeref\":0.001045,\"symbol\":\"circle\"},\"mode\":\"markers\",\"name\":\"Stay-Beautiful\",\"orientation\":\"v\",\"showlegend\":true,\"type\":\"scatter\",\"x\":[2006],\"xaxis\":\"x\",\"y\":[0.9988],\"yaxis\":\"y\"},{\"customdata\":[[0.067]],\"hovertemplate\":\"Song=Invisible<br>Year=%{x}<br>Normalized_Sentiment=%{y}<br>Positive_Sentiment=%{marker.size}<br>Negative_Sentiment=%{customdata[0]}<extra></extra>\",\"legendgroup\":\"Invisible\",\"marker\":{\"color\":\"rgb(248, 156, 116)\",\"size\":[0.198],\"sizemode\":\"area\",\"sizeref\":0.001045,\"symbol\":\"circle\"},\"mode\":\"markers\",\"name\":\"Invisible\",\"orientation\":\"v\",\"showlegend\":true,\"type\":\"scatter\",\"x\":[2006],\"xaxis\":\"x\",\"y\":[0.9858],\"yaxis\":\"y\"},{\"customdata\":[[0.131]],\"hovertemplate\":\"Song=Tied-Together-with-a-Smile<br>Year=%{x}<br>Normalized_Sentiment=%{y}<br>Positive_Sentiment=%{marker.size}<br>Negative_Sentiment=%{customdata[0]}<extra></extra>\",\"legendgroup\":\"Tied-Together-with-a-Smile\",\"marker\":{\"color\":\"rgb(220, 176, 242)\",\"size\":[0.123],\"sizemode\":\"area\",\"sizeref\":0.001045,\"symbol\":\"circle\"},\"mode\":\"markers\",\"name\":\"Tied-Together-with-a-Smile\",\"orientation\":\"v\",\"showlegend\":true,\"type\":\"scatter\",\"x\":[2006],\"xaxis\":\"x\",\"y\":[0.5402],\"yaxis\":\"y\"},{\"customdata\":[[0.031]],\"hovertemplate\":\"Song=Teardrops-on-My-Guitar-(Pop-Version)<br>Year=%{x}<br>Normalized_Sentiment=%{y}<br>Positive_Sentiment=%{marker.size}<br>Negative_Sentiment=%{customdata[0]}<extra></extra>\",\"legendgroup\":\"Teardrops-on-My-Guitar-(Pop-Version)\",\"marker\":{\"color\":\"rgb(135, 197, 95)\",\"size\":[0.127],\"sizemode\":\"area\",\"sizeref\":0.001045,\"symbol\":\"circle\"},\"mode\":\"markers\",\"name\":\"Teardrops-on-My-Guitar-(Pop-Version)\",\"orientation\":\"v\",\"showlegend\":true,\"type\":\"scatter\",\"x\":[2006],\"xaxis\":\"x\",\"y\":[0.9674],\"yaxis\":\"y\"},{\"customdata\":[[0.053]],\"hovertemplate\":\"Song=Bye-Bye-Baby-(Taylor's-Version)-[From-the-Vault]<br>Year=%{x}<br>Normalized_Sentiment=%{y}<br>Positive_Sentiment=%{marker.size}<br>Negative_Sentiment=%{customdata[0]}<extra></extra>\",\"legendgroup\":\"Bye-Bye-Baby-(Taylor's-Version)-[From-the-Vault]\",\"marker\":{\"color\":\"rgb(158, 185, 243)\",\"size\":[0.082],\"sizemode\":\"area\",\"sizeref\":0.001045,\"symbol\":\"circle\"},\"mode\":\"markers\",\"name\":\"Bye-Bye-Baby-(Taylor's-Version)-[From-the-Vault]\",\"orientation\":\"v\",\"showlegend\":true,\"type\":\"scatter\",\"x\":[2008],\"xaxis\":\"x\",\"y\":[0.7884],\"yaxis\":\"y\"},{\"customdata\":[[0.022]],\"hovertemplate\":\"Song=The-Best-Day-(Taylor's-Version)<br>Year=%{x}<br>Normalized_Sentiment=%{y}<br>Positive_Sentiment=%{marker.size}<br>Negative_Sentiment=%{customdata[0]}<extra></extra>\",\"legendgroup\":\"The-Best-Day-(Taylor's-Version)\",\"marker\":{\"color\":\"rgb(254, 136, 177)\",\"size\":[0.194],\"sizemode\":\"area\",\"sizeref\":0.001045,\"symbol\":\"circle\"},\"mode\":\"markers\",\"name\":\"The-Best-Day-(Taylor's-Version)\",\"orientation\":\"v\",\"showlegend\":true,\"type\":\"scatter\",\"x\":[2008],\"xaxis\":\"x\",\"y\":[0.9963],\"yaxis\":\"y\"},{\"customdata\":[[0.006]],\"hovertemplate\":\"Song=Fifteen-(Taylor's-Version)<br>Year=%{x}<br>Normalized_Sentiment=%{y}<br>Positive_Sentiment=%{marker.size}<br>Negative_Sentiment=%{customdata[0]}<extra></extra>\",\"legendgroup\":\"Fifteen-(Taylor's-Version)\",\"marker\":{\"color\":\"rgb(201, 219, 116)\",\"size\":[0.113],\"sizemode\":\"area\",\"sizeref\":0.001045,\"symbol\":\"circle\"},\"mode\":\"markers\",\"name\":\"Fifteen-(Taylor's-Version)\",\"orientation\":\"v\",\"showlegend\":true,\"type\":\"scatter\",\"x\":[2008],\"xaxis\":\"x\",\"y\":[0.9911],\"yaxis\":\"y\"},{\"customdata\":[[0.073]],\"hovertemplate\":\"Song=That's-When-(Taylor's-Version)-[From-the-Vault]<br>Year=%{x}<br>Normalized_Sentiment=%{y}<br>Positive_Sentiment=%{marker.size}<br>Negative_Sentiment=%{customdata[0]}<extra></extra>\",\"legendgroup\":\"That's-When-(Taylor's-Version)-[From-the-Vault]\",\"marker\":{\"color\":\"rgb(139, 224, 164)\",\"size\":[0.1],\"sizemode\":\"area\",\"sizeref\":0.001045,\"symbol\":\"circle\"},\"mode\":\"markers\",\"name\":\"That's-When-(Taylor's-Version)-[From-the-Vault]\",\"orientation\":\"v\",\"showlegend\":true,\"type\":\"scatter\",\"x\":[2008],\"xaxis\":\"x\",\"y\":[0.8988],\"yaxis\":\"y\"},{\"customdata\":[[0.083]],\"hovertemplate\":\"Song=The-Other-Side-of-the-Door-(Taylor's-Version)<br>Year=%{x}<br>Normalized_Sentiment=%{y}<br>Positive_Sentiment=%{marker.size}<br>Negative_Sentiment=%{customdata[0]}<extra></extra>\",\"legendgroup\":\"The-Other-Side-of-the-Door-(Taylor's-Version)\",\"marker\":{\"color\":\"rgb(180, 151, 231)\",\"size\":[0.116],\"sizemode\":\"area\",\"sizeref\":0.001045,\"symbol\":\"circle\"},\"mode\":\"markers\",\"name\":\"The-Other-Side-of-the-Door-(Taylor's-Version)\",\"orientation\":\"v\",\"showlegend\":true,\"type\":\"scatter\",\"x\":[2008],\"xaxis\":\"x\",\"y\":[0.9198],\"yaxis\":\"y\"},{\"customdata\":[[0.113]],\"hovertemplate\":\"Song=The-Way-I-Loved-You-(Taylor's-Version)<br>Year=%{x}<br>Normalized_Sentiment=%{y}<br>Positive_Sentiment=%{marker.size}<br>Negative_Sentiment=%{customdata[0]}<extra></extra>\",\"legendgroup\":\"The-Way-I-Loved-You-(Taylor's-Version)\",\"marker\":{\"color\":\"rgb(179, 179, 179)\",\"size\":[0.208],\"sizemode\":\"area\",\"sizeref\":0.001045,\"symbol\":\"circle\"},\"mode\":\"markers\",\"name\":\"The-Way-I-Loved-You-(Taylor's-Version)\",\"orientation\":\"v\",\"showlegend\":true,\"type\":\"scatter\",\"x\":[2008],\"xaxis\":\"x\",\"y\":[0.9936],\"yaxis\":\"y\"},{\"customdata\":[[0.03]],\"hovertemplate\":\"Song=You-Belong-With-Me-(Taylor's-Version)<br>Year=%{x}<br>Normalized_Sentiment=%{y}<br>Positive_Sentiment=%{marker.size}<br>Negative_Sentiment=%{customdata[0]}<extra></extra>\",\"legendgroup\":\"You-Belong-With-Me-(Taylor's-Version)\",\"marker\":{\"color\":\"rgb(102, 197, 204)\",\"size\":[0.09],\"sizemode\":\"area\",\"sizeref\":0.001045,\"symbol\":\"circle\"},\"mode\":\"markers\",\"name\":\"You-Belong-With-Me-(Taylor's-Version)\",\"orientation\":\"v\",\"showlegend\":true,\"type\":\"scatter\",\"x\":[2008],\"xaxis\":\"x\",\"y\":[0.9742],\"yaxis\":\"y\"},{\"customdata\":[[0.031]],\"hovertemplate\":\"Song=Fearless-(Taylor's-Version)<br>Year=%{x}<br>Normalized_Sentiment=%{y}<br>Positive_Sentiment=%{marker.size}<br>Negative_Sentiment=%{customdata[0]}<extra></extra>\",\"legendgroup\":\"Fearless-(Taylor's-Version)\",\"marker\":{\"color\":\"rgb(246, 207, 113)\",\"size\":[0.282],\"sizemode\":\"area\",\"sizeref\":0.001045,\"symbol\":\"circle\"},\"mode\":\"markers\",\"name\":\"Fearless-(Taylor's-Version)\",\"orientation\":\"v\",\"showlegend\":true,\"type\":\"scatter\",\"x\":[2008],\"xaxis\":\"x\",\"y\":[0.9986],\"yaxis\":\"y\"},{\"customdata\":[[0.0]],\"hovertemplate\":\"Song=Untouchable-(Taylor's-Version)<br>Year=%{x}<br>Normalized_Sentiment=%{y}<br>Positive_Sentiment=%{marker.size}<br>Negative_Sentiment=%{customdata[0]}<extra></extra>\",\"legendgroup\":\"Untouchable-(Taylor's-Version)\",\"marker\":{\"color\":\"rgb(248, 156, 116)\",\"size\":[0.151],\"sizemode\":\"area\",\"sizeref\":0.001045,\"symbol\":\"circle\"},\"mode\":\"markers\",\"name\":\"Untouchable-(Taylor's-Version)\",\"orientation\":\"v\",\"showlegend\":true,\"type\":\"scatter\",\"x\":[2008],\"xaxis\":\"x\",\"y\":[0.9947],\"yaxis\":\"y\"},{\"customdata\":[[0.056]],\"hovertemplate\":\"Song=White-Horse-(Taylor's-Version)<br>Year=%{x}<br>Normalized_Sentiment=%{y}<br>Positive_Sentiment=%{marker.size}<br>Negative_Sentiment=%{customdata[0]}<extra></extra>\",\"legendgroup\":\"White-Horse-(Taylor's-Version)\",\"marker\":{\"color\":\"rgb(220, 176, 242)\",\"size\":[0.086],\"sizemode\":\"area\",\"sizeref\":0.001045,\"symbol\":\"circle\"},\"mode\":\"markers\",\"name\":\"White-Horse-(Taylor's-Version)\",\"orientation\":\"v\",\"showlegend\":true,\"type\":\"scatter\",\"x\":[2008],\"xaxis\":\"x\",\"y\":[0.9068],\"yaxis\":\"y\"},{\"customdata\":[[0.07]],\"hovertemplate\":\"Song=Change-(Taylor's-Version)<br>Year=%{x}<br>Normalized_Sentiment=%{y}<br>Positive_Sentiment=%{marker.size}<br>Negative_Sentiment=%{customdata[0]}<extra></extra>\",\"legendgroup\":\"Change-(Taylor's-Version)\",\"marker\":{\"color\":\"rgb(135, 197, 95)\",\"size\":[0.163],\"sizemode\":\"area\",\"sizeref\":0.001045,\"symbol\":\"circle\"},\"mode\":\"markers\",\"name\":\"Change-(Taylor's-Version)\",\"orientation\":\"v\",\"showlegend\":true,\"type\":\"scatter\",\"x\":[2008],\"xaxis\":\"x\",\"y\":[0.9895],\"yaxis\":\"y\"},{\"customdata\":[[0.056]],\"hovertemplate\":\"Song=Love-Story-(Taylor's-Version)<br>Year=%{x}<br>Normalized_Sentiment=%{y}<br>Positive_Sentiment=%{marker.size}<br>Negative_Sentiment=%{customdata[0]}<extra></extra>\",\"legendgroup\":\"Love-Story-(Taylor's-Version)\",\"marker\":{\"color\":\"rgb(158, 185, 243)\",\"size\":[0.111],\"sizemode\":\"area\",\"sizeref\":0.001045,\"symbol\":\"circle\"},\"mode\":\"markers\",\"name\":\"Love-Story-(Taylor's-Version)\",\"orientation\":\"v\",\"showlegend\":true,\"type\":\"scatter\",\"x\":[2008],\"xaxis\":\"x\",\"y\":[0.9733],\"yaxis\":\"y\"},{\"customdata\":[[0.036]],\"hovertemplate\":\"Song=Jump-Then-Fall-(Taylor's-Version)<br>Year=%{x}<br>Normalized_Sentiment=%{y}<br>Positive_Sentiment=%{marker.size}<br>Negative_Sentiment=%{customdata[0]}<extra></extra>\",\"legendgroup\":\"Jump-Then-Fall-(Taylor's-Version)\",\"marker\":{\"color\":\"rgb(254, 136, 177)\",\"size\":[0.141],\"sizemode\":\"area\",\"sizeref\":0.001045,\"symbol\":\"circle\"},\"mode\":\"markers\",\"name\":\"Jump-Then-Fall-(Taylor's-Version)\",\"orientation\":\"v\",\"showlegend\":true,\"type\":\"scatter\",\"x\":[2008],\"xaxis\":\"x\",\"y\":[0.9879],\"yaxis\":\"y\"},{\"customdata\":[[0.125]],\"hovertemplate\":\"Song=Hey-Stephen-(Taylor's-Version)<br>Year=%{x}<br>Normalized_Sentiment=%{y}<br>Positive_Sentiment=%{marker.size}<br>Negative_Sentiment=%{customdata[0]}<extra></extra>\",\"legendgroup\":\"Hey-Stephen-(Taylor's-Version)\",\"marker\":{\"color\":\"rgb(201, 219, 116)\",\"size\":[0.111],\"sizemode\":\"area\",\"sizeref\":0.001045,\"symbol\":\"circle\"},\"mode\":\"markers\",\"name\":\"Hey-Stephen-(Taylor's-Version)\",\"orientation\":\"v\",\"showlegend\":true,\"type\":\"scatter\",\"x\":[2008],\"xaxis\":\"x\",\"y\":[-0.2325],\"yaxis\":\"y\"},{\"customdata\":[[0.076]],\"hovertemplate\":\"Song=Breathe-(Taylor's-Version)<br>Year=%{x}<br>Normalized_Sentiment=%{y}<br>Positive_Sentiment=%{marker.size}<br>Negative_Sentiment=%{customdata[0]}<extra></extra>\",\"legendgroup\":\"Breathe-(Taylor's-Version)\",\"marker\":{\"color\":\"rgb(139, 224, 164)\",\"size\":[0.231],\"sizemode\":\"area\",\"sizeref\":0.001045,\"symbol\":\"circle\"},\"mode\":\"markers\",\"name\":\"Breathe-(Taylor's-Version)\",\"orientation\":\"v\",\"showlegend\":true,\"type\":\"scatter\",\"x\":[2008],\"xaxis\":\"x\",\"y\":[0.9951],\"yaxis\":\"y\"},{\"customdata\":[[0.105]],\"hovertemplate\":\"Song=Superstar-(Taylor's-Version)<br>Year=%{x}<br>Normalized_Sentiment=%{y}<br>Positive_Sentiment=%{marker.size}<br>Negative_Sentiment=%{customdata[0]}<extra></extra>\",\"legendgroup\":\"Superstar-(Taylor's-Version)\",\"marker\":{\"color\":\"rgb(180, 151, 231)\",\"size\":[0.238],\"sizemode\":\"area\",\"sizeref\":0.001045,\"symbol\":\"circle\"},\"mode\":\"markers\",\"name\":\"Superstar-(Taylor's-Version)\",\"orientation\":\"v\",\"showlegend\":true,\"type\":\"scatter\",\"x\":[2008],\"xaxis\":\"x\",\"y\":[0.9945],\"yaxis\":\"y\"},{\"customdata\":[[0.146]],\"hovertemplate\":\"Song=You-All-Over-Me-(Taylor's-Version)-[From-the-Vault]<br>Year=%{x}<br>Normalized_Sentiment=%{y}<br>Positive_Sentiment=%{marker.size}<br>Negative_Sentiment=%{customdata[0]}<extra></extra>\",\"legendgroup\":\"You-All-Over-Me-(Taylor's-Version)-[From-the-Vault]\",\"marker\":{\"color\":\"rgb(179, 179, 179)\",\"size\":[0.162],\"sizemode\":\"area\",\"sizeref\":0.001045,\"symbol\":\"circle\"},\"mode\":\"markers\",\"name\":\"You-All-Over-Me-(Taylor's-Version)-[From-the-Vault]\",\"orientation\":\"v\",\"showlegend\":true,\"type\":\"scatter\",\"x\":[2008],\"xaxis\":\"x\",\"y\":[0.8926],\"yaxis\":\"y\"},{\"customdata\":[[0.026]],\"hovertemplate\":\"Song=Today-Was-a-Fairytale-(Taylor's-Version)<br>Year=%{x}<br>Normalized_Sentiment=%{y}<br>Positive_Sentiment=%{marker.size}<br>Negative_Sentiment=%{customdata[0]}<extra></extra>\",\"legendgroup\":\"Today-Was-a-Fairytale-(Taylor's-Version)\",\"marker\":{\"color\":\"rgb(102, 197, 204)\",\"size\":[0.127],\"sizemode\":\"area\",\"sizeref\":0.001045,\"symbol\":\"circle\"},\"mode\":\"markers\",\"name\":\"Today-Was-a-Fairytale-(Taylor's-Version)\",\"orientation\":\"v\",\"showlegend\":true,\"type\":\"scatter\",\"x\":[2008],\"xaxis\":\"x\",\"y\":[0.9873],\"yaxis\":\"y\"},{\"customdata\":[[0.103]],\"hovertemplate\":\"Song=Mr.-Perfectly-Fine-(Taylor's-Version)-[From-the-Vault]<br>Year=%{x}<br>Normalized_Sentiment=%{y}<br>Positive_Sentiment=%{marker.size}<br>Negative_Sentiment=%{customdata[0]}<extra></extra>\",\"legendgroup\":\"Mr.-Perfectly-Fine-(Taylor's-Version)-[From-the-Vault]\",\"marker\":{\"color\":\"rgb(246, 207, 113)\",\"size\":[0.175],\"sizemode\":\"area\",\"sizeref\":0.001045,\"symbol\":\"circle\"},\"mode\":\"markers\",\"name\":\"Mr.-Perfectly-Fine-(Taylor's-Version)-[From-the-Vault]\",\"orientation\":\"v\",\"showlegend\":true,\"type\":\"scatter\",\"x\":[2008],\"xaxis\":\"x\",\"y\":[0.9865],\"yaxis\":\"y\"},{\"customdata\":[[0.169]],\"hovertemplate\":\"Song=Tell-Me-Why-(Taylor's-Version)<br>Year=%{x}<br>Normalized_Sentiment=%{y}<br>Positive_Sentiment=%{marker.size}<br>Negative_Sentiment=%{customdata[0]}<extra></extra>\",\"legendgroup\":\"Tell-Me-Why-(Taylor's-Version)\",\"marker\":{\"color\":\"rgb(248, 156, 116)\",\"size\":[0.129],\"sizemode\":\"area\",\"sizeref\":0.001045,\"symbol\":\"circle\"},\"mode\":\"markers\",\"name\":\"Tell-Me-Why-(Taylor's-Version)\",\"orientation\":\"v\",\"showlegend\":true,\"type\":\"scatter\",\"x\":[2008],\"xaxis\":\"x\",\"y\":[-0.9643],\"yaxis\":\"y\"},{\"customdata\":[[0.08]],\"hovertemplate\":\"Song=Don't-You-(Taylor's-Version)-[From-the-Vault]<br>Year=%{x}<br>Normalized_Sentiment=%{y}<br>Positive_Sentiment=%{marker.size}<br>Negative_Sentiment=%{customdata[0]}<extra></extra>\",\"legendgroup\":\"Don't-You-(Taylor's-Version)-[From-the-Vault]\",\"marker\":{\"color\":\"rgb(220, 176, 242)\",\"size\":[0.117],\"sizemode\":\"area\",\"sizeref\":0.001045,\"symbol\":\"circle\"},\"mode\":\"markers\",\"name\":\"Don't-You-(Taylor's-Version)-[From-the-Vault]\",\"orientation\":\"v\",\"showlegend\":true,\"type\":\"scatter\",\"x\":[2008],\"xaxis\":\"x\",\"y\":[0.9368],\"yaxis\":\"y\"},{\"customdata\":[[0.058]],\"hovertemplate\":\"Song=You're-Not-Sorry-(Taylor's-Version)<br>Year=%{x}<br>Normalized_Sentiment=%{y}<br>Positive_Sentiment=%{marker.size}<br>Negative_Sentiment=%{customdata[0]}<extra></extra>\",\"legendgroup\":\"You're-Not-Sorry-(Taylor's-Version)\",\"marker\":{\"color\":\"rgb(135, 197, 95)\",\"size\":[0.273],\"sizemode\":\"area\",\"sizeref\":0.001045,\"symbol\":\"circle\"},\"mode\":\"markers\",\"name\":\"You're-Not-Sorry-(Taylor's-Version)\",\"orientation\":\"v\",\"showlegend\":true,\"type\":\"scatter\",\"x\":[2008],\"xaxis\":\"x\",\"y\":[0.9971],\"yaxis\":\"y\"},{\"customdata\":[[0.071]],\"hovertemplate\":\"Song=Come-In-With-the-Rain-(Taylor's-Version)<br>Year=%{x}<br>Normalized_Sentiment=%{y}<br>Positive_Sentiment=%{marker.size}<br>Negative_Sentiment=%{customdata[0]}<extra></extra>\",\"legendgroup\":\"Come-In-With-the-Rain-(Taylor's-Version)\",\"marker\":{\"color\":\"rgb(158, 185, 243)\",\"size\":[0.077],\"sizemode\":\"area\",\"sizeref\":0.001045,\"symbol\":\"circle\"},\"mode\":\"markers\",\"name\":\"Come-In-With-the-Rain-(Taylor's-Version)\",\"orientation\":\"v\",\"showlegend\":true,\"type\":\"scatter\",\"x\":[2008],\"xaxis\":\"x\",\"y\":[0.6621],\"yaxis\":\"y\"},{\"customdata\":[[0.091]],\"hovertemplate\":\"Song=Forever-&-Always-(Taylor's-Version)<br>Year=%{x}<br>Normalized_Sentiment=%{y}<br>Positive_Sentiment=%{marker.size}<br>Negative_Sentiment=%{customdata[0]}<extra></extra>\",\"legendgroup\":\"Forever-&-Always-(Taylor's-Version)\",\"marker\":{\"color\":\"rgb(254, 136, 177)\",\"size\":[0.035],\"sizemode\":\"area\",\"sizeref\":0.001045,\"symbol\":\"circle\"},\"mode\":\"markers\",\"name\":\"Forever-&-Always-(Taylor's-Version)\",\"orientation\":\"v\",\"showlegend\":true,\"type\":\"scatter\",\"x\":[2008],\"xaxis\":\"x\",\"y\":[-0.9729],\"yaxis\":\"y\"},{\"customdata\":[[0.051]],\"hovertemplate\":\"Song=We-Were-Happy-(Taylor's-Version)-[From-the-Vault]<br>Year=%{x}<br>Normalized_Sentiment=%{y}<br>Positive_Sentiment=%{marker.size}<br>Negative_Sentiment=%{customdata[0]}<extra></extra>\",\"legendgroup\":\"We-Were-Happy-(Taylor's-Version)-[From-the-Vault]\",\"marker\":{\"color\":\"rgb(201, 219, 116)\",\"size\":[0.241],\"sizemode\":\"area\",\"sizeref\":0.001045,\"symbol\":\"circle\"},\"mode\":\"markers\",\"name\":\"We-Were-Happy-(Taylor's-Version)-[From-the-Vault]\",\"orientation\":\"v\",\"showlegend\":true,\"type\":\"scatter\",\"x\":[2008],\"xaxis\":\"x\",\"y\":[0.9956],\"yaxis\":\"y\"},{\"customdata\":[[0.098]],\"hovertemplate\":\"Song=Mine<br>Year=%{x}<br>Normalized_Sentiment=%{y}<br>Positive_Sentiment=%{marker.size}<br>Negative_Sentiment=%{customdata[0]}<extra></extra>\",\"legendgroup\":\"Mine\",\"marker\":{\"color\":\"rgb(139, 224, 164)\",\"size\":[0.147],\"sizemode\":\"area\",\"sizeref\":0.001045,\"symbol\":\"circle\"},\"mode\":\"markers\",\"name\":\"Mine\",\"orientation\":\"v\",\"showlegend\":true,\"type\":\"scatter\",\"x\":[2010],\"xaxis\":\"x\",\"y\":[0.9753],\"yaxis\":\"y\"},{\"customdata\":[[0.059]],\"hovertemplate\":\"Song=Back-to-December<br>Year=%{x}<br>Normalized_Sentiment=%{y}<br>Positive_Sentiment=%{marker.size}<br>Negative_Sentiment=%{customdata[0]}<extra></extra>\",\"legendgroup\":\"Back-to-December\",\"marker\":{\"color\":\"rgb(180, 151, 231)\",\"size\":[0.176],\"sizemode\":\"area\",\"sizeref\":0.001045,\"symbol\":\"circle\"},\"mode\":\"markers\",\"name\":\"Back-to-December\",\"orientation\":\"v\",\"showlegend\":true,\"type\":\"scatter\",\"x\":[2010],\"xaxis\":\"x\",\"y\":[0.9963],\"yaxis\":\"y\"},{\"customdata\":[[0.138]],\"hovertemplate\":\"Song=Dear-John<br>Year=%{x}<br>Normalized_Sentiment=%{y}<br>Positive_Sentiment=%{marker.size}<br>Negative_Sentiment=%{customdata[0]}<extra></extra>\",\"legendgroup\":\"Dear-John\",\"marker\":{\"color\":\"rgb(179, 179, 179)\",\"size\":[0.091],\"sizemode\":\"area\",\"sizeref\":0.001045,\"symbol\":\"circle\"},\"mode\":\"markers\",\"name\":\"Dear-John\",\"orientation\":\"v\",\"showlegend\":true,\"type\":\"scatter\",\"x\":[2010],\"xaxis\":\"x\",\"y\":[-0.9384],\"yaxis\":\"y\"},{\"customdata\":[[0.072]],\"hovertemplate\":\"Song=Better-Than-Revenge<br>Year=%{x}<br>Normalized_Sentiment=%{y}<br>Positive_Sentiment=%{marker.size}<br>Negative_Sentiment=%{customdata[0]}<extra></extra>\",\"legendgroup\":\"Better-Than-Revenge\",\"marker\":{\"color\":\"rgb(102, 197, 204)\",\"size\":[0.129],\"sizemode\":\"area\",\"sizeref\":0.001045,\"symbol\":\"circle\"},\"mode\":\"markers\",\"name\":\"Better-Than-Revenge\",\"orientation\":\"v\",\"showlegend\":true,\"type\":\"scatter\",\"x\":[2010],\"xaxis\":\"x\",\"y\":[0.9831],\"yaxis\":\"y\"},{\"customdata\":[[0.096]],\"hovertemplate\":\"Song=Sparks-Fly<br>Year=%{x}<br>Normalized_Sentiment=%{y}<br>Positive_Sentiment=%{marker.size}<br>Negative_Sentiment=%{customdata[0]}<extra></extra>\",\"legendgroup\":\"Sparks-Fly\",\"marker\":{\"color\":\"rgb(246, 207, 113)\",\"size\":[0.123],\"sizemode\":\"area\",\"sizeref\":0.001045,\"symbol\":\"circle\"},\"mode\":\"markers\",\"name\":\"Sparks-Fly\",\"orientation\":\"v\",\"showlegend\":true,\"type\":\"scatter\",\"x\":[2010],\"xaxis\":\"x\",\"y\":[0.8571],\"yaxis\":\"y\"},{\"customdata\":[[0.067]],\"hovertemplate\":\"Song=Long-Live<br>Year=%{x}<br>Normalized_Sentiment=%{y}<br>Positive_Sentiment=%{marker.size}<br>Negative_Sentiment=%{customdata[0]}<extra></extra>\",\"legendgroup\":\"Long-Live\",\"marker\":{\"color\":\"rgb(248, 156, 116)\",\"size\":[0.048],\"sizemode\":\"area\",\"sizeref\":0.001045,\"symbol\":\"circle\"},\"mode\":\"markers\",\"name\":\"Long-Live\",\"orientation\":\"v\",\"showlegend\":true,\"type\":\"scatter\",\"x\":[2010],\"xaxis\":\"x\",\"y\":[-0.8113],\"yaxis\":\"y\"},{\"customdata\":[[0.025]],\"hovertemplate\":\"Song=Never-Grow-Up<br>Year=%{x}<br>Normalized_Sentiment=%{y}<br>Positive_Sentiment=%{marker.size}<br>Negative_Sentiment=%{customdata[0]}<extra></extra>\",\"legendgroup\":\"Never-Grow-Up\",\"marker\":{\"color\":\"rgb(220, 176, 242)\",\"size\":[0.136],\"sizemode\":\"area\",\"sizeref\":0.001045,\"symbol\":\"circle\"},\"mode\":\"markers\",\"name\":\"Never-Grow-Up\",\"orientation\":\"v\",\"showlegend\":true,\"type\":\"scatter\",\"x\":[2010],\"xaxis\":\"x\",\"y\":[0.9934],\"yaxis\":\"y\"},{\"customdata\":[[0.173]],\"hovertemplate\":\"Song=The-Story-of-Us<br>Year=%{x}<br>Normalized_Sentiment=%{y}<br>Positive_Sentiment=%{marker.size}<br>Negative_Sentiment=%{customdata[0]}<extra></extra>\",\"legendgroup\":\"The-Story-of-Us\",\"marker\":{\"color\":\"rgb(135, 197, 95)\",\"size\":[0.133],\"sizemode\":\"area\",\"sizeref\":0.001045,\"symbol\":\"circle\"},\"mode\":\"markers\",\"name\":\"The-Story-of-Us\",\"orientation\":\"v\",\"showlegend\":true,\"type\":\"scatter\",\"x\":[2010],\"xaxis\":\"x\",\"y\":[-0.9838],\"yaxis\":\"y\"},{\"customdata\":[[0.081]],\"hovertemplate\":\"Song=Speak-Now<br>Year=%{x}<br>Normalized_Sentiment=%{y}<br>Positive_Sentiment=%{marker.size}<br>Negative_Sentiment=%{customdata[0]}<extra></extra>\",\"legendgroup\":\"Speak-Now\",\"marker\":{\"color\":\"rgb(158, 185, 243)\",\"size\":[0.085],\"sizemode\":\"area\",\"sizeref\":0.001045,\"symbol\":\"circle\"},\"mode\":\"markers\",\"name\":\"Speak-Now\",\"orientation\":\"v\",\"showlegend\":true,\"type\":\"scatter\",\"x\":[2010],\"xaxis\":\"x\",\"y\":[0.3513],\"yaxis\":\"y\"},{\"customdata\":[[0.031]],\"hovertemplate\":\"Song=Last-Kiss<br>Year=%{x}<br>Normalized_Sentiment=%{y}<br>Positive_Sentiment=%{marker.size}<br>Negative_Sentiment=%{customdata[0]}<extra></extra>\",\"legendgroup\":\"Last-Kiss\",\"marker\":{\"color\":\"rgb(254, 136, 177)\",\"size\":[0.165],\"sizemode\":\"area\",\"sizeref\":0.001045,\"symbol\":\"circle\"},\"mode\":\"markers\",\"name\":\"Last-Kiss\",\"orientation\":\"v\",\"showlegend\":true,\"type\":\"scatter\",\"x\":[2010],\"xaxis\":\"x\",\"y\":[0.9952],\"yaxis\":\"y\"},{\"customdata\":[[0.033]],\"hovertemplate\":\"Song=Enchanted<br>Year=%{x}<br>Normalized_Sentiment=%{y}<br>Positive_Sentiment=%{marker.size}<br>Negative_Sentiment=%{customdata[0]}<extra></extra>\",\"legendgroup\":\"Enchanted\",\"marker\":{\"color\":\"rgb(201, 219, 116)\",\"size\":[0.192],\"sizemode\":\"area\",\"sizeref\":0.001045,\"symbol\":\"circle\"},\"mode\":\"markers\",\"name\":\"Enchanted\",\"orientation\":\"v\",\"showlegend\":true,\"type\":\"scatter\",\"x\":[2010],\"xaxis\":\"x\",\"y\":[0.9966],\"yaxis\":\"y\"},{\"customdata\":[[0.078]],\"hovertemplate\":\"Song=Mean<br>Year=%{x}<br>Normalized_Sentiment=%{y}<br>Positive_Sentiment=%{marker.size}<br>Negative_Sentiment=%{customdata[0]}<extra></extra>\",\"legendgroup\":\"Mean\",\"marker\":{\"color\":\"rgb(139, 224, 164)\",\"size\":[0.036],\"sizemode\":\"area\",\"sizeref\":0.001045,\"symbol\":\"circle\"},\"mode\":\"markers\",\"name\":\"Mean\",\"orientation\":\"v\",\"showlegend\":true,\"type\":\"scatter\",\"x\":[2010],\"xaxis\":\"x\",\"y\":[-0.9616],\"yaxis\":\"y\"},{\"customdata\":[[0.111]],\"hovertemplate\":\"Song=Haunted<br>Year=%{x}<br>Normalized_Sentiment=%{y}<br>Positive_Sentiment=%{marker.size}<br>Negative_Sentiment=%{customdata[0]}<extra></extra>\",\"legendgroup\":\"Haunted\",\"marker\":{\"color\":\"rgb(180, 151, 231)\",\"size\":[0.097],\"sizemode\":\"area\",\"sizeref\":0.001045,\"symbol\":\"circle\"},\"mode\":\"markers\",\"name\":\"Haunted\",\"orientation\":\"v\",\"showlegend\":true,\"type\":\"scatter\",\"x\":[2010],\"xaxis\":\"x\",\"y\":[-0.9309],\"yaxis\":\"y\"},{\"customdata\":[[0.077]],\"hovertemplate\":\"Song=Innocent<br>Year=%{x}<br>Normalized_Sentiment=%{y}<br>Positive_Sentiment=%{marker.size}<br>Negative_Sentiment=%{customdata[0]}<extra></extra>\",\"legendgroup\":\"Innocent\",\"marker\":{\"color\":\"rgb(179, 179, 179)\",\"size\":[0.138],\"sizemode\":\"area\",\"sizeref\":0.001045,\"symbol\":\"circle\"},\"mode\":\"markers\",\"name\":\"Innocent\",\"orientation\":\"v\",\"showlegend\":true,\"type\":\"scatter\",\"x\":[2010],\"xaxis\":\"x\",\"y\":[0.9482],\"yaxis\":\"y\"},{\"customdata\":[[0.033]],\"hovertemplate\":\"Song=The-Lucky-One<br>Year=%{x}<br>Normalized_Sentiment=%{y}<br>Positive_Sentiment=%{marker.size}<br>Negative_Sentiment=%{customdata[0]}<extra></extra>\",\"legendgroup\":\"The-Lucky-One\",\"marker\":{\"color\":\"rgb(102, 197, 204)\",\"size\":[0.205],\"sizemode\":\"area\",\"sizeref\":0.001045,\"symbol\":\"circle\"},\"mode\":\"markers\",\"name\":\"The-Lucky-One\",\"orientation\":\"v\",\"showlegend\":true,\"type\":\"scatter\",\"x\":[2012],\"xaxis\":\"x\",\"y\":[0.9955],\"yaxis\":\"y\"},{\"customdata\":[[0.086]],\"hovertemplate\":\"Song=State-of-Grace<br>Year=%{x}<br>Normalized_Sentiment=%{y}<br>Positive_Sentiment=%{marker.size}<br>Negative_Sentiment=%{customdata[0]}<extra></extra>\",\"legendgroup\":\"State-of-Grace\",\"marker\":{\"color\":\"rgb(246, 207, 113)\",\"size\":[0.205],\"sizemode\":\"area\",\"sizeref\":0.001045,\"symbol\":\"circle\"},\"mode\":\"markers\",\"name\":\"State-of-Grace\",\"orientation\":\"v\",\"showlegend\":true,\"type\":\"scatter\",\"x\":[2012],\"xaxis\":\"x\",\"y\":[0.9902],\"yaxis\":\"y\"},{\"customdata\":[[0.069]],\"hovertemplate\":\"Song=The-Moment-I-Knew<br>Year=%{x}<br>Normalized_Sentiment=%{y}<br>Positive_Sentiment=%{marker.size}<br>Negative_Sentiment=%{customdata[0]}<extra></extra>\",\"legendgroup\":\"The-Moment-I-Knew\",\"marker\":{\"color\":\"rgb(248, 156, 116)\",\"size\":[0.142],\"sizemode\":\"area\",\"sizeref\":0.001045,\"symbol\":\"circle\"},\"mode\":\"markers\",\"name\":\"The-Moment-I-Knew\",\"orientation\":\"v\",\"showlegend\":true,\"type\":\"scatter\",\"x\":[2012],\"xaxis\":\"x\",\"y\":[0.9842],\"yaxis\":\"y\"},{\"customdata\":[[0.06]],\"hovertemplate\":\"Song=We-Are-Never-Ever-Getting-Back-Together<br>Year=%{x}<br>Normalized_Sentiment=%{y}<br>Positive_Sentiment=%{marker.size}<br>Negative_Sentiment=%{customdata[0]}<extra></extra>\",\"legendgroup\":\"We-Are-Never-Ever-Getting-Back-Together\",\"marker\":{\"color\":\"rgb(220, 176, 242)\",\"size\":[0.159],\"sizemode\":\"area\",\"sizeref\":0.001045,\"symbol\":\"circle\"},\"mode\":\"markers\",\"name\":\"We-Are-Never-Ever-Getting-Back-Together\",\"orientation\":\"v\",\"showlegend\":true,\"type\":\"scatter\",\"x\":[2012],\"xaxis\":\"x\",\"y\":[0.9939],\"yaxis\":\"y\"},{\"customdata\":[[0.075]],\"hovertemplate\":\"Song=Treacherous<br>Year=%{x}<br>Normalized_Sentiment=%{y}<br>Positive_Sentiment=%{marker.size}<br>Negative_Sentiment=%{customdata[0]}<extra></extra>\",\"legendgroup\":\"Treacherous\",\"marker\":{\"color\":\"rgb(135, 197, 95)\",\"size\":[0.058],\"sizemode\":\"area\",\"sizeref\":0.001045,\"symbol\":\"circle\"},\"mode\":\"markers\",\"name\":\"Treacherous\",\"orientation\":\"v\",\"showlegend\":true,\"type\":\"scatter\",\"x\":[2012],\"xaxis\":\"x\",\"y\":[-0.3907],\"yaxis\":\"y\"},{\"customdata\":[[0.072]],\"hovertemplate\":\"Song=I-Almost-Do<br>Year=%{x}<br>Normalized_Sentiment=%{y}<br>Positive_Sentiment=%{marker.size}<br>Negative_Sentiment=%{customdata[0]}<extra></extra>\",\"legendgroup\":\"I-Almost-Do\",\"marker\":{\"color\":\"rgb(158, 185, 243)\",\"size\":[0.117],\"sizemode\":\"area\",\"sizeref\":0.001045,\"symbol\":\"circle\"},\"mode\":\"markers\",\"name\":\"I-Almost-Do\",\"orientation\":\"v\",\"showlegend\":true,\"type\":\"scatter\",\"x\":[2012],\"xaxis\":\"x\",\"y\":[0.8484],\"yaxis\":\"y\"},{\"customdata\":[[0.01]],\"hovertemplate\":\"Song=Everything-Has-Changed<br>Year=%{x}<br>Normalized_Sentiment=%{y}<br>Positive_Sentiment=%{marker.size}<br>Negative_Sentiment=%{customdata[0]}<extra></extra>\",\"legendgroup\":\"Everything-Has-Changed\",\"marker\":{\"color\":\"rgb(254, 136, 177)\",\"size\":[0.2],\"sizemode\":\"area\",\"sizeref\":0.001045,\"symbol\":\"circle\"},\"mode\":\"markers\",\"name\":\"Everything-Has-Changed\",\"orientation\":\"v\",\"showlegend\":true,\"type\":\"scatter\",\"x\":[2012],\"xaxis\":\"x\",\"y\":[0.9978],\"yaxis\":\"y\"},{\"customdata\":[[0.057]],\"hovertemplate\":\"Song=Come-Back...-Be-Here<br>Year=%{x}<br>Normalized_Sentiment=%{y}<br>Positive_Sentiment=%{marker.size}<br>Negative_Sentiment=%{customdata[0]}<extra></extra>\",\"legendgroup\":\"Come-Back...-Be-Here\",\"marker\":{\"color\":\"rgb(201, 219, 116)\",\"size\":[0.106],\"sizemode\":\"area\",\"sizeref\":0.001045,\"symbol\":\"circle\"},\"mode\":\"markers\",\"name\":\"Come-Back...-Be-Here\",\"orientation\":\"v\",\"showlegend\":true,\"type\":\"scatter\",\"x\":[2012],\"xaxis\":\"x\",\"y\":[0.892],\"yaxis\":\"y\"},{\"customdata\":[[0.07]],\"hovertemplate\":\"Song=Begin-Again<br>Year=%{x}<br>Normalized_Sentiment=%{y}<br>Positive_Sentiment=%{marker.size}<br>Negative_Sentiment=%{customdata[0]}<extra></extra>\",\"legendgroup\":\"Begin-Again\",\"marker\":{\"color\":\"rgb(139, 224, 164)\",\"size\":[0.131],\"sizemode\":\"area\",\"sizeref\":0.001045,\"symbol\":\"circle\"},\"mode\":\"markers\",\"name\":\"Begin-Again\",\"orientation\":\"v\",\"showlegend\":true,\"type\":\"scatter\",\"x\":[2012],\"xaxis\":\"x\",\"y\":[0.9831],\"yaxis\":\"y\"},{\"customdata\":[[0.039]],\"hovertemplate\":\"Song=The-Last-Time<br>Year=%{x}<br>Normalized_Sentiment=%{y}<br>Positive_Sentiment=%{marker.size}<br>Negative_Sentiment=%{customdata[0]}<extra></extra>\",\"legendgroup\":\"The-Last-Time\",\"marker\":{\"color\":\"rgb(180, 151, 231)\",\"size\":[0.065],\"sizemode\":\"area\",\"sizeref\":0.001045,\"symbol\":\"circle\"},\"mode\":\"markers\",\"name\":\"The-Last-Time\",\"orientation\":\"v\",\"showlegend\":true,\"type\":\"scatter\",\"x\":[2012],\"xaxis\":\"x\",\"y\":[0.8668],\"yaxis\":\"y\"},{\"customdata\":[[0.042]],\"hovertemplate\":\"Song=Starlight<br>Year=%{x}<br>Normalized_Sentiment=%{y}<br>Positive_Sentiment=%{marker.size}<br>Negative_Sentiment=%{customdata[0]}<extra></extra>\",\"legendgroup\":\"Starlight\",\"marker\":{\"color\":\"rgb(179, 179, 179)\",\"size\":[0.219],\"sizemode\":\"area\",\"sizeref\":0.001045,\"symbol\":\"circle\"},\"mode\":\"markers\",\"name\":\"Starlight\",\"orientation\":\"v\",\"showlegend\":true,\"type\":\"scatter\",\"x\":[2012],\"xaxis\":\"x\",\"y\":[0.9965],\"yaxis\":\"y\"},{\"customdata\":[[0.064]],\"hovertemplate\":\"Song=All-Too-Well<br>Year=%{x}<br>Normalized_Sentiment=%{y}<br>Positive_Sentiment=%{marker.size}<br>Negative_Sentiment=%{customdata[0]}<extra></extra>\",\"legendgroup\":\"All-Too-Well\",\"marker\":{\"color\":\"rgb(102, 197, 204)\",\"size\":[0.139],\"sizemode\":\"area\",\"sizeref\":0.001045,\"symbol\":\"circle\"},\"mode\":\"markers\",\"name\":\"All-Too-Well\",\"orientation\":\"v\",\"showlegend\":true,\"type\":\"scatter\",\"x\":[2012],\"xaxis\":\"x\",\"y\":[0.9881],\"yaxis\":\"y\"},{\"customdata\":[[0.101]],\"hovertemplate\":\"Song=Red<br>Year=%{x}<br>Normalized_Sentiment=%{y}<br>Positive_Sentiment=%{marker.size}<br>Negative_Sentiment=%{customdata[0]}<extra></extra>\",\"legendgroup\":\"Red\",\"marker\":{\"color\":\"rgb(246, 207, 113)\",\"size\":[0.267],\"sizemode\":\"area\",\"sizeref\":0.001045,\"symbol\":\"circle\"},\"mode\":\"markers\",\"name\":\"Red\",\"orientation\":\"v\",\"showlegend\":true,\"type\":\"scatter\",\"x\":[2012],\"xaxis\":\"x\",\"y\":[0.9948],\"yaxis\":\"y\"},{\"customdata\":[[0.059]],\"hovertemplate\":\"Song=Girl-at-Home<br>Year=%{x}<br>Normalized_Sentiment=%{y}<br>Positive_Sentiment=%{marker.size}<br>Negative_Sentiment=%{customdata[0]}<extra></extra>\",\"legendgroup\":\"Girl-at-Home\",\"marker\":{\"color\":\"rgb(248, 156, 116)\",\"size\":[0.072],\"sizemode\":\"area\",\"sizeref\":0.001045,\"symbol\":\"circle\"},\"mode\":\"markers\",\"name\":\"Girl-at-Home\",\"orientation\":\"v\",\"showlegend\":true,\"type\":\"scatter\",\"x\":[2012],\"xaxis\":\"x\",\"y\":[-0.1547],\"yaxis\":\"y\"},{\"customdata\":[[0.31]],\"hovertemplate\":\"Song=I-Knew-You-Were-Trouble.<br>Year=%{x}<br>Normalized_Sentiment=%{y}<br>Positive_Sentiment=%{marker.size}<br>Negative_Sentiment=%{customdata[0]}<extra></extra>\",\"legendgroup\":\"I-Knew-You-Were-Trouble.\",\"marker\":{\"color\":\"rgb(220, 176, 242)\",\"size\":[0.021],\"sizemode\":\"area\",\"sizeref\":0.001045,\"symbol\":\"circle\"},\"mode\":\"markers\",\"name\":\"I-Knew-You-Were-Trouble.\",\"orientation\":\"v\",\"showlegend\":true,\"type\":\"scatter\",\"x\":[2012],\"xaxis\":\"x\",\"y\":[-0.999],\"yaxis\":\"y\"},{\"customdata\":[[0.094]],\"hovertemplate\":\"Song=22<br>Year=%{x}<br>Normalized_Sentiment=%{y}<br>Positive_Sentiment=%{marker.size}<br>Negative_Sentiment=%{customdata[0]}<extra></extra>\",\"legendgroup\":\"22\",\"marker\":{\"color\":\"rgb(135, 197, 95)\",\"size\":[0.227],\"sizemode\":\"area\",\"sizeref\":0.001045,\"symbol\":\"circle\"},\"mode\":\"markers\",\"name\":\"22\",\"orientation\":\"v\",\"showlegend\":true,\"type\":\"scatter\",\"x\":[2012],\"xaxis\":\"x\",\"y\":[0.9951],\"yaxis\":\"y\"},{\"customdata\":[[0.16]],\"hovertemplate\":\"Song=Stay-Stay-Stay<br>Year=%{x}<br>Normalized_Sentiment=%{y}<br>Positive_Sentiment=%{marker.size}<br>Negative_Sentiment=%{customdata[0]}<extra></extra>\",\"legendgroup\":\"Stay-Stay-Stay\",\"marker\":{\"color\":\"rgb(158, 185, 243)\",\"size\":[0.22],\"sizemode\":\"area\",\"sizeref\":0.001045,\"symbol\":\"circle\"},\"mode\":\"markers\",\"name\":\"Stay-Stay-Stay\",\"orientation\":\"v\",\"showlegend\":true,\"type\":\"scatter\",\"x\":[2012],\"xaxis\":\"x\",\"y\":[0.9818],\"yaxis\":\"y\"},{\"customdata\":[[0.141]],\"hovertemplate\":\"Song=Sad-Beautiful-Tragic<br>Year=%{x}<br>Normalized_Sentiment=%{y}<br>Positive_Sentiment=%{marker.size}<br>Negative_Sentiment=%{customdata[0]}<extra></extra>\",\"legendgroup\":\"Sad-Beautiful-Tragic\",\"marker\":{\"color\":\"rgb(254, 136, 177)\",\"size\":[0.392],\"sizemode\":\"area\",\"sizeref\":0.001045,\"symbol\":\"circle\"},\"mode\":\"markers\",\"name\":\"Sad-Beautiful-Tragic\",\"orientation\":\"v\",\"showlegend\":true,\"type\":\"scatter\",\"x\":[2012],\"xaxis\":\"x\",\"y\":[0.9973],\"yaxis\":\"y\"},{\"customdata\":[[0.023]],\"hovertemplate\":\"Song=Holy-Ground<br>Year=%{x}<br>Normalized_Sentiment=%{y}<br>Positive_Sentiment=%{marker.size}<br>Negative_Sentiment=%{customdata[0]}<extra></extra>\",\"legendgroup\":\"Holy-Ground\",\"marker\":{\"color\":\"rgb(201, 219, 116)\",\"size\":[0.124],\"sizemode\":\"area\",\"sizeref\":0.001045,\"symbol\":\"circle\"},\"mode\":\"markers\",\"name\":\"Holy-Ground\",\"orientation\":\"v\",\"showlegend\":true,\"type\":\"scatter\",\"x\":[2012],\"xaxis\":\"x\",\"y\":[0.9806],\"yaxis\":\"y\"},{\"customdata\":[[0.066]],\"hovertemplate\":\"Song=How-You-Get-the-Girl<br>Year=%{x}<br>Normalized_Sentiment=%{y}<br>Positive_Sentiment=%{marker.size}<br>Negative_Sentiment=%{customdata[0]}<extra></extra>\",\"legendgroup\":\"How-You-Get-the-Girl\",\"marker\":{\"color\":\"rgb(139, 224, 164)\",\"size\":[0.076],\"sizemode\":\"area\",\"sizeref\":0.001045,\"symbol\":\"circle\"},\"mode\":\"markers\",\"name\":\"How-You-Get-the-Girl\",\"orientation\":\"v\",\"showlegend\":true,\"type\":\"scatter\",\"x\":[2014],\"xaxis\":\"x\",\"y\":[-0.1779],\"yaxis\":\"y\"},{\"customdata\":[[0.059]],\"hovertemplate\":\"Song=This-Love<br>Year=%{x}<br>Normalized_Sentiment=%{y}<br>Positive_Sentiment=%{marker.size}<br>Negative_Sentiment=%{customdata[0]}<extra></extra>\",\"legendgroup\":\"This-Love\",\"marker\":{\"color\":\"rgb(180, 151, 231)\",\"size\":[0.418],\"sizemode\":\"area\",\"sizeref\":0.001045,\"symbol\":\"circle\"},\"mode\":\"markers\",\"name\":\"This-Love\",\"orientation\":\"v\",\"showlegend\":true,\"type\":\"scatter\",\"x\":[2014],\"xaxis\":\"x\",\"y\":[0.9997],\"yaxis\":\"y\"},{\"customdata\":[[0.053]],\"hovertemplate\":\"Song=I-Know-Places<br>Year=%{x}<br>Normalized_Sentiment=%{y}<br>Positive_Sentiment=%{marker.size}<br>Negative_Sentiment=%{customdata[0]}<extra></extra>\",\"legendgroup\":\"I-Know-Places\",\"marker\":{\"color\":\"rgb(179, 179, 179)\",\"size\":[0.05],\"sizemode\":\"area\",\"sizeref\":0.001045,\"symbol\":\"circle\"},\"mode\":\"markers\",\"name\":\"I-Know-Places\",\"orientation\":\"v\",\"showlegend\":true,\"type\":\"scatter\",\"x\":[2014],\"xaxis\":\"x\",\"y\":[-0.4687],\"yaxis\":\"y\"},{\"customdata\":[[0.063]],\"hovertemplate\":\"Song=Wildest-Dreams<br>Year=%{x}<br>Normalized_Sentiment=%{y}<br>Positive_Sentiment=%{marker.size}<br>Negative_Sentiment=%{customdata[0]}<extra></extra>\",\"legendgroup\":\"Wildest-Dreams\",\"marker\":{\"color\":\"rgb(102, 197, 204)\",\"size\":[0.214],\"sizemode\":\"area\",\"sizeref\":0.001045,\"symbol\":\"circle\"},\"mode\":\"markers\",\"name\":\"Wildest-Dreams\",\"orientation\":\"v\",\"showlegend\":true,\"type\":\"scatter\",\"x\":[2014],\"xaxis\":\"x\",\"y\":[0.9968],\"yaxis\":\"y\"},{\"customdata\":[[0.38]],\"hovertemplate\":\"Song=Shake-It-Off<br>Year=%{x}<br>Normalized_Sentiment=%{y}<br>Positive_Sentiment=%{marker.size}<br>Negative_Sentiment=%{customdata[0]}<extra></extra>\",\"legendgroup\":\"Shake-It-Off\",\"marker\":{\"color\":\"rgb(246, 207, 113)\",\"size\":[0.085],\"sizemode\":\"area\",\"sizeref\":0.001045,\"symbol\":\"circle\"},\"mode\":\"markers\",\"name\":\"Shake-It-Off\",\"orientation\":\"v\",\"showlegend\":true,\"type\":\"scatter\",\"x\":[2014],\"xaxis\":\"x\",\"y\":[-0.9995],\"yaxis\":\"y\"},{\"customdata\":[[0.167]],\"hovertemplate\":\"Song=Blank-Space<br>Year=%{x}<br>Normalized_Sentiment=%{y}<br>Positive_Sentiment=%{marker.size}<br>Negative_Sentiment=%{customdata[0]}<extra></extra>\",\"legendgroup\":\"Blank-Space\",\"marker\":{\"color\":\"rgb(248, 156, 116)\",\"size\":[0.147],\"sizemode\":\"area\",\"sizeref\":0.001045,\"symbol\":\"circle\"},\"mode\":\"markers\",\"name\":\"Blank-Space\",\"orientation\":\"v\",\"showlegend\":true,\"type\":\"scatter\",\"x\":[2014],\"xaxis\":\"x\",\"y\":[-0.7785],\"yaxis\":\"y\"},{\"customdata\":[[0.015]],\"hovertemplate\":\"Song=Welcome-to-New-York<br>Year=%{x}<br>Normalized_Sentiment=%{y}<br>Positive_Sentiment=%{marker.size}<br>Negative_Sentiment=%{customdata[0]}<extra></extra>\",\"legendgroup\":\"Welcome-to-New-York\",\"marker\":{\"color\":\"rgb(220, 176, 242)\",\"size\":[0.381],\"sizemode\":\"area\",\"sizeref\":0.001045,\"symbol\":\"circle\"},\"mode\":\"markers\",\"name\":\"Welcome-to-New-York\",\"orientation\":\"v\",\"showlegend\":true,\"type\":\"scatter\",\"x\":[2014],\"xaxis\":\"x\",\"y\":[0.9995],\"yaxis\":\"y\"},{\"customdata\":[[0.007]],\"hovertemplate\":\"Song=Style<br>Year=%{x}<br>Normalized_Sentiment=%{y}<br>Positive_Sentiment=%{marker.size}<br>Negative_Sentiment=%{customdata[0]}<extra></extra>\",\"legendgroup\":\"Style\",\"marker\":{\"color\":\"rgb(135, 197, 95)\",\"size\":[0.091],\"sizemode\":\"area\",\"sizeref\":0.001045,\"symbol\":\"circle\"},\"mode\":\"markers\",\"name\":\"Style\",\"orientation\":\"v\",\"showlegend\":true,\"type\":\"scatter\",\"x\":[2014],\"xaxis\":\"x\",\"y\":[0.9878],\"yaxis\":\"y\"},{\"customdata\":[[0.202]],\"hovertemplate\":\"Song=Bad-Blood<br>Year=%{x}<br>Normalized_Sentiment=%{y}<br>Positive_Sentiment=%{marker.size}<br>Negative_Sentiment=%{customdata[0]}<extra></extra>\",\"legendgroup\":\"Bad-Blood\",\"marker\":{\"color\":\"rgb(158, 185, 243)\",\"size\":[0.108],\"sizemode\":\"area\",\"sizeref\":0.001045,\"symbol\":\"circle\"},\"mode\":\"markers\",\"name\":\"Bad-Blood\",\"orientation\":\"v\",\"showlegend\":true,\"type\":\"scatter\",\"x\":[2014],\"xaxis\":\"x\",\"y\":[-0.9953],\"yaxis\":\"y\"},{\"customdata\":[[0.012]],\"hovertemplate\":\"Song=Out-of-the-Woods<br>Year=%{x}<br>Normalized_Sentiment=%{y}<br>Positive_Sentiment=%{marker.size}<br>Negative_Sentiment=%{customdata[0]}<extra></extra>\",\"legendgroup\":\"Out-of-the-Woods\",\"marker\":{\"color\":\"rgb(254, 136, 177)\",\"size\":[0.174],\"sizemode\":\"area\",\"sizeref\":0.001045,\"symbol\":\"circle\"},\"mode\":\"markers\",\"name\":\"Out-of-the-Woods\",\"orientation\":\"v\",\"showlegend\":true,\"type\":\"scatter\",\"x\":[2014],\"xaxis\":\"x\",\"y\":[0.9986],\"yaxis\":\"y\"},{\"customdata\":[[0.005]],\"hovertemplate\":\"Song=All-You-Had-to-Do-Was-Stay<br>Year=%{x}<br>Normalized_Sentiment=%{y}<br>Positive_Sentiment=%{marker.size}<br>Negative_Sentiment=%{customdata[0]}<extra></extra>\",\"legendgroup\":\"All-You-Had-to-Do-Was-Stay\",\"marker\":{\"color\":\"rgb(201, 219, 116)\",\"size\":[0.138],\"sizemode\":\"area\",\"sizeref\":0.001045,\"symbol\":\"circle\"},\"mode\":\"markers\",\"name\":\"All-You-Had-to-Do-Was-Stay\",\"orientation\":\"v\",\"showlegend\":true,\"type\":\"scatter\",\"x\":[2014],\"xaxis\":\"x\",\"y\":[0.9952],\"yaxis\":\"y\"},{\"customdata\":[[0.077]],\"hovertemplate\":\"Song=Clean<br>Year=%{x}<br>Normalized_Sentiment=%{y}<br>Positive_Sentiment=%{marker.size}<br>Negative_Sentiment=%{customdata[0]}<extra></extra>\",\"legendgroup\":\"Clean\",\"marker\":{\"color\":\"rgb(139, 224, 164)\",\"size\":[0.124],\"sizemode\":\"area\",\"sizeref\":0.001045,\"symbol\":\"circle\"},\"mode\":\"markers\",\"name\":\"Clean\",\"orientation\":\"v\",\"showlegend\":true,\"type\":\"scatter\",\"x\":[2014],\"xaxis\":\"x\",\"y\":[0.8887],\"yaxis\":\"y\"},{\"customdata\":[[0.21]],\"hovertemplate\":\"Song=I-Wish-You-Would<br>Year=%{x}<br>Normalized_Sentiment=%{y}<br>Positive_Sentiment=%{marker.size}<br>Negative_Sentiment=%{customdata[0]}<extra></extra>\",\"legendgroup\":\"I-Wish-You-Would\",\"marker\":{\"color\":\"rgb(180, 151, 231)\",\"size\":[0.153],\"sizemode\":\"area\",\"sizeref\":0.001045,\"symbol\":\"circle\"},\"mode\":\"markers\",\"name\":\"I-Wish-You-Would\",\"orientation\":\"v\",\"showlegend\":true,\"type\":\"scatter\",\"x\":[2014],\"xaxis\":\"x\",\"y\":[-0.9729],\"yaxis\":\"y\"},{\"customdata\":[[0.098]],\"hovertemplate\":\"Song=...Ready-for-It?<br>Year=%{x}<br>Normalized_Sentiment=%{y}<br>Positive_Sentiment=%{marker.size}<br>Negative_Sentiment=%{customdata[0]}<extra></extra>\",\"legendgroup\":\"...Ready-for-It?\",\"marker\":{\"color\":\"rgb(179, 179, 179)\",\"size\":[0.128],\"sizemode\":\"area\",\"sizeref\":0.001045,\"symbol\":\"circle\"},\"mode\":\"markers\",\"name\":\"...Ready-for-It?\",\"orientation\":\"v\",\"showlegend\":true,\"type\":\"scatter\",\"x\":[2017],\"xaxis\":\"x\",\"y\":[0.9429],\"yaxis\":\"y\"},{\"customdata\":[[0.047]],\"hovertemplate\":\"Song=Delicate<br>Year=%{x}<br>Normalized_Sentiment=%{y}<br>Positive_Sentiment=%{marker.size}<br>Negative_Sentiment=%{customdata[0]}<extra></extra>\",\"legendgroup\":\"Delicate\",\"marker\":{\"color\":\"rgb(102, 197, 204)\",\"size\":[0.147],\"sizemode\":\"area\",\"sizeref\":0.001045,\"symbol\":\"circle\"},\"mode\":\"markers\",\"name\":\"Delicate\",\"orientation\":\"v\",\"showlegend\":true,\"type\":\"scatter\",\"x\":[2017],\"xaxis\":\"x\",\"y\":[0.9883],\"yaxis\":\"y\"},{\"customdata\":[[0.05]],\"hovertemplate\":\"Song=This-Is-Why-We-Can\\u2019t-Have-Nice-Things<br>Year=%{x}<br>Normalized_Sentiment=%{y}<br>Positive_Sentiment=%{marker.size}<br>Negative_Sentiment=%{customdata[0]}<extra></extra>\",\"legendgroup\":\"This-Is-Why-We-Can\\u2019t-Have-Nice-Things\",\"marker\":{\"color\":\"rgb(246, 207, 113)\",\"size\":[0.205],\"sizemode\":\"area\",\"sizeref\":0.001045,\"symbol\":\"circle\"},\"mode\":\"markers\",\"name\":\"This-Is-Why-We-Can\\u2019t-Have-Nice-Things\",\"orientation\":\"v\",\"showlegend\":true,\"type\":\"scatter\",\"x\":[2017],\"xaxis\":\"x\",\"y\":[0.9971],\"yaxis\":\"y\"},{\"customdata\":[[0.116]],\"hovertemplate\":\"Song=Getaway-Car<br>Year=%{x}<br>Normalized_Sentiment=%{y}<br>Positive_Sentiment=%{marker.size}<br>Negative_Sentiment=%{customdata[0]}<extra></extra>\",\"legendgroup\":\"Getaway-Car\",\"marker\":{\"color\":\"rgb(248, 156, 116)\",\"size\":[0.054],\"sizemode\":\"area\",\"sizeref\":0.001045,\"symbol\":\"circle\"},\"mode\":\"markers\",\"name\":\"Getaway-Car\",\"orientation\":\"v\",\"showlegend\":true,\"type\":\"scatter\",\"x\":[2017],\"xaxis\":\"x\",\"y\":[-0.9831],\"yaxis\":\"y\"},{\"customdata\":[[0.114]],\"hovertemplate\":\"Song=Don't-Blame-Me<br>Year=%{x}<br>Normalized_Sentiment=%{y}<br>Positive_Sentiment=%{marker.size}<br>Negative_Sentiment=%{customdata[0]}<extra></extra>\",\"legendgroup\":\"Don't-Blame-Me\",\"marker\":{\"color\":\"rgb(220, 176, 242)\",\"size\":[0.098],\"sizemode\":\"area\",\"sizeref\":0.001045,\"symbol\":\"circle\"},\"mode\":\"markers\",\"name\":\"Don't-Blame-Me\",\"orientation\":\"v\",\"showlegend\":true,\"type\":\"scatter\",\"x\":[2017],\"xaxis\":\"x\",\"y\":[-0.8158],\"yaxis\":\"y\"},{\"customdata\":[[0.07]],\"hovertemplate\":\"Song=End-Game<br>Year=%{x}<br>Normalized_Sentiment=%{y}<br>Positive_Sentiment=%{marker.size}<br>Negative_Sentiment=%{customdata[0]}<extra></extra>\",\"legendgroup\":\"End-Game\",\"marker\":{\"color\":\"rgb(135, 197, 95)\",\"size\":[0.08],\"sizemode\":\"area\",\"sizeref\":0.001045,\"symbol\":\"circle\"},\"mode\":\"markers\",\"name\":\"End-Game\",\"orientation\":\"v\",\"showlegend\":true,\"type\":\"scatter\",\"x\":[2017],\"xaxis\":\"x\",\"y\":[0.9494],\"yaxis\":\"y\"},{\"customdata\":[[0.112]],\"hovertemplate\":\"Song=Dancing-with-Our-Hands-Tied<br>Year=%{x}<br>Normalized_Sentiment=%{y}<br>Positive_Sentiment=%{marker.size}<br>Negative_Sentiment=%{customdata[0]}<extra></extra>\",\"legendgroup\":\"Dancing-with-Our-Hands-Tied\",\"marker\":{\"color\":\"rgb(158, 185, 243)\",\"size\":[0.146],\"sizemode\":\"area\",\"sizeref\":0.001045,\"symbol\":\"circle\"},\"mode\":\"markers\",\"name\":\"Dancing-with-Our-Hands-Tied\",\"orientation\":\"v\",\"showlegend\":true,\"type\":\"scatter\",\"x\":[2017],\"xaxis\":\"x\",\"y\":[0.7998],\"yaxis\":\"y\"},{\"customdata\":[[0.014]],\"hovertemplate\":\"Song=King-of-My-Heart<br>Year=%{x}<br>Normalized_Sentiment=%{y}<br>Positive_Sentiment=%{marker.size}<br>Negative_Sentiment=%{customdata[0]}<extra></extra>\",\"legendgroup\":\"King-of-My-Heart\",\"marker\":{\"color\":\"rgb(254, 136, 177)\",\"size\":[0.056],\"sizemode\":\"area\",\"sizeref\":0.001045,\"symbol\":\"circle\"},\"mode\":\"markers\",\"name\":\"King-of-My-Heart\",\"orientation\":\"v\",\"showlegend\":true,\"type\":\"scatter\",\"x\":[2017],\"xaxis\":\"x\",\"y\":[0.9559],\"yaxis\":\"y\"},{\"customdata\":[[0.066]],\"hovertemplate\":\"Song=New-Year's-Day<br>Year=%{x}<br>Normalized_Sentiment=%{y}<br>Positive_Sentiment=%{marker.size}<br>Negative_Sentiment=%{customdata[0]}<extra></extra>\",\"legendgroup\":\"New-Year's-Day\",\"marker\":{\"color\":\"rgb(201, 219, 116)\",\"size\":[0.119],\"sizemode\":\"area\",\"sizeref\":0.001045,\"symbol\":\"circle\"},\"mode\":\"markers\",\"name\":\"New-Year's-Day\",\"orientation\":\"v\",\"showlegend\":true,\"type\":\"scatter\",\"x\":[2017],\"xaxis\":\"x\",\"y\":[0.9643],\"yaxis\":\"y\"},{\"customdata\":[[0.174]],\"hovertemplate\":\"Song=Gorgeous<br>Year=%{x}<br>Normalized_Sentiment=%{y}<br>Positive_Sentiment=%{marker.size}<br>Negative_Sentiment=%{customdata[0]}<extra></extra>\",\"legendgroup\":\"Gorgeous\",\"marker\":{\"color\":\"rgb(139, 224, 164)\",\"size\":[0.217],\"sizemode\":\"area\",\"sizeref\":0.001045,\"symbol\":\"circle\"},\"mode\":\"markers\",\"name\":\"Gorgeous\",\"orientation\":\"v\",\"showlegend\":true,\"type\":\"scatter\",\"x\":[2017],\"xaxis\":\"x\",\"y\":[0.9882],\"yaxis\":\"y\"},{\"customdata\":[[0.032]],\"hovertemplate\":\"Song=Call-It-What-You-Want<br>Year=%{x}<br>Normalized_Sentiment=%{y}<br>Positive_Sentiment=%{marker.size}<br>Negative_Sentiment=%{customdata[0]}<extra></extra>\",\"legendgroup\":\"Call-It-What-You-Want\",\"marker\":{\"color\":\"rgb(180, 151, 231)\",\"size\":[0.261],\"sizemode\":\"area\",\"sizeref\":0.001045,\"symbol\":\"circle\"},\"mode\":\"markers\",\"name\":\"Call-It-What-You-Want\",\"orientation\":\"v\",\"showlegend\":true,\"type\":\"scatter\",\"x\":[2017],\"xaxis\":\"x\",\"y\":[0.9987],\"yaxis\":\"y\"},{\"customdata\":[[0.097]],\"hovertemplate\":\"Song=Dress<br>Year=%{x}<br>Normalized_Sentiment=%{y}<br>Positive_Sentiment=%{marker.size}<br>Negative_Sentiment=%{customdata[0]}<extra></extra>\",\"legendgroup\":\"Dress\",\"marker\":{\"color\":\"rgb(179, 179, 179)\",\"size\":[0.181],\"sizemode\":\"area\",\"sizeref\":0.001045,\"symbol\":\"circle\"},\"mode\":\"markers\",\"name\":\"Dress\",\"orientation\":\"v\",\"showlegend\":true,\"type\":\"scatter\",\"x\":[2017],\"xaxis\":\"x\",\"y\":[0.9949],\"yaxis\":\"y\"},{\"customdata\":[[0.11]],\"hovertemplate\":\"Song=Look-What-You-Made-Me-Do<br>Year=%{x}<br>Normalized_Sentiment=%{y}<br>Positive_Sentiment=%{marker.size}<br>Negative_Sentiment=%{customdata[0]}<extra></extra>\",\"legendgroup\":\"Look-What-You-Made-Me-Do\",\"marker\":{\"color\":\"rgb(102, 197, 204)\",\"size\":[0.073],\"sizemode\":\"area\",\"sizeref\":0.001045,\"symbol\":\"circle\"},\"mode\":\"markers\",\"name\":\"Look-What-You-Made-Me-Do\",\"orientation\":\"v\",\"showlegend\":true,\"type\":\"scatter\",\"x\":[2017],\"xaxis\":\"x\",\"y\":[-0.949],\"yaxis\":\"y\"},{\"customdata\":[[0.049]],\"hovertemplate\":\"Song=So-It-Goes...<br>Year=%{x}<br>Normalized_Sentiment=%{y}<br>Positive_Sentiment=%{marker.size}<br>Negative_Sentiment=%{customdata[0]}<extra></extra>\",\"legendgroup\":\"So-It-Goes...\",\"marker\":{\"color\":\"rgb(246, 207, 113)\",\"size\":[0.11],\"sizemode\":\"area\",\"sizeref\":0.001045,\"symbol\":\"circle\"},\"mode\":\"markers\",\"name\":\"So-It-Goes...\",\"orientation\":\"v\",\"showlegend\":true,\"type\":\"scatter\",\"x\":[2017],\"xaxis\":\"x\",\"y\":[0.9795],\"yaxis\":\"y\"},{\"customdata\":[[0.09]],\"hovertemplate\":\"Song=I-Did-Something-Bad<br>Year=%{x}<br>Normalized_Sentiment=%{y}<br>Positive_Sentiment=%{marker.size}<br>Negative_Sentiment=%{customdata[0]}<extra></extra>\",\"legendgroup\":\"I-Did-Something-Bad\",\"marker\":{\"color\":\"rgb(248, 156, 116)\",\"size\":[0.245],\"sizemode\":\"area\",\"sizeref\":0.001045,\"symbol\":\"circle\"},\"mode\":\"markers\",\"name\":\"I-Did-Something-Bad\",\"orientation\":\"v\",\"showlegend\":true,\"type\":\"scatter\",\"x\":[2017],\"xaxis\":\"x\",\"y\":[0.9987],\"yaxis\":\"y\"},{\"customdata\":[[0.016]],\"hovertemplate\":\"Song=I-Think-He-Knows<br>Year=%{x}<br>Normalized_Sentiment=%{y}<br>Positive_Sentiment=%{marker.size}<br>Negative_Sentiment=%{customdata[0]}<extra></extra>\",\"legendgroup\":\"I-Think-He-Knows\",\"marker\":{\"color\":\"rgb(220, 176, 242)\",\"size\":[0.236],\"sizemode\":\"area\",\"sizeref\":0.001045,\"symbol\":\"circle\"},\"mode\":\"markers\",\"name\":\"I-Think-He-Knows\",\"orientation\":\"v\",\"showlegend\":true,\"type\":\"scatter\",\"x\":[2019],\"xaxis\":\"x\",\"y\":[0.9969],\"yaxis\":\"y\"},{\"customdata\":[[0.003]],\"hovertemplate\":\"Song=London-Boy<br>Year=%{x}<br>Normalized_Sentiment=%{y}<br>Positive_Sentiment=%{marker.size}<br>Negative_Sentiment=%{customdata[0]}<extra></extra>\",\"legendgroup\":\"London-Boy\",\"marker\":{\"color\":\"rgb(135, 197, 95)\",\"size\":[0.278],\"sizemode\":\"area\",\"sizeref\":0.001045,\"symbol\":\"circle\"},\"mode\":\"markers\",\"name\":\"London-Boy\",\"orientation\":\"v\",\"showlegend\":true,\"type\":\"scatter\",\"x\":[2019],\"xaxis\":\"x\",\"y\":[0.9992],\"yaxis\":\"y\"},{\"customdata\":[[0.087]],\"hovertemplate\":\"Song=Paper-Rings<br>Year=%{x}<br>Normalized_Sentiment=%{y}<br>Positive_Sentiment=%{marker.size}<br>Negative_Sentiment=%{customdata[0]}<extra></extra>\",\"legendgroup\":\"Paper-Rings\",\"marker\":{\"color\":\"rgb(158, 185, 243)\",\"size\":[0.231],\"sizemode\":\"area\",\"sizeref\":0.001045,\"symbol\":\"circle\"},\"mode\":\"markers\",\"name\":\"Paper-Rings\",\"orientation\":\"v\",\"showlegend\":true,\"type\":\"scatter\",\"x\":[2019],\"xaxis\":\"x\",\"y\":[0.9963],\"yaxis\":\"y\"},{\"customdata\":[[0.255]],\"hovertemplate\":\"Song=Miss-Americana-&-The-Heartbreak-Prince<br>Year=%{x}<br>Normalized_Sentiment=%{y}<br>Positive_Sentiment=%{marker.size}<br>Negative_Sentiment=%{customdata[0]}<extra></extra>\",\"legendgroup\":\"Miss-Americana-&-The-Heartbreak-Prince\",\"marker\":{\"color\":\"rgb(254, 136, 177)\",\"size\":[0.077],\"sizemode\":\"area\",\"sizeref\":0.001045,\"symbol\":\"circle\"},\"mode\":\"markers\",\"name\":\"Miss-Americana-&-The-Heartbreak-Prince\",\"orientation\":\"v\",\"showlegend\":true,\"type\":\"scatter\",\"x\":[2019],\"xaxis\":\"x\",\"y\":[-0.9989],\"yaxis\":\"y\"},{\"customdata\":[[0.035]],\"hovertemplate\":\"Song=Lover<br>Year=%{x}<br>Normalized_Sentiment=%{y}<br>Positive_Sentiment=%{marker.size}<br>Negative_Sentiment=%{customdata[0]}<extra></extra>\",\"legendgroup\":\"Lover\",\"marker\":{\"color\":\"rgb(201, 219, 116)\",\"size\":[0.229],\"sizemode\":\"area\",\"sizeref\":0.001045,\"symbol\":\"circle\"},\"mode\":\"markers\",\"name\":\"Lover\",\"orientation\":\"v\",\"showlegend\":true,\"type\":\"scatter\",\"x\":[2019],\"xaxis\":\"x\",\"y\":[0.9963],\"yaxis\":\"y\"},{\"customdata\":[[0.119]],\"hovertemplate\":\"Song=False-God<br>Year=%{x}<br>Normalized_Sentiment=%{y}<br>Positive_Sentiment=%{marker.size}<br>Negative_Sentiment=%{customdata[0]}<extra></extra>\",\"legendgroup\":\"False-God\",\"marker\":{\"color\":\"rgb(139, 224, 164)\",\"size\":[0.262],\"sizemode\":\"area\",\"sizeref\":0.001045,\"symbol\":\"circle\"},\"mode\":\"markers\",\"name\":\"False-God\",\"orientation\":\"v\",\"showlegend\":true,\"type\":\"scatter\",\"x\":[2019],\"xaxis\":\"x\",\"y\":[0.9956],\"yaxis\":\"y\"},{\"customdata\":[[0.036]],\"hovertemplate\":\"Song=It\\u2019s-Nice-to-Have-a-Friend<br>Year=%{x}<br>Normalized_Sentiment=%{y}<br>Positive_Sentiment=%{marker.size}<br>Negative_Sentiment=%{customdata[0]}<extra></extra>\",\"legendgroup\":\"It\\u2019s-Nice-to-Have-a-Friend\",\"marker\":{\"color\":\"rgb(180, 151, 231)\",\"size\":[0.335],\"sizemode\":\"area\",\"sizeref\":0.001045,\"symbol\":\"circle\"},\"mode\":\"markers\",\"name\":\"It\\u2019s-Nice-to-Have-a-Friend\",\"orientation\":\"v\",\"showlegend\":true,\"type\":\"scatter\",\"x\":[2019],\"xaxis\":\"x\",\"y\":[0.9948],\"yaxis\":\"y\"},{\"customdata\":[[0.077]],\"hovertemplate\":\"Song=Cornelia-Street<br>Year=%{x}<br>Normalized_Sentiment=%{y}<br>Positive_Sentiment=%{marker.size}<br>Negative_Sentiment=%{customdata[0]}<extra></extra>\",\"legendgroup\":\"Cornelia-Street\",\"marker\":{\"color\":\"rgb(179, 179, 179)\",\"size\":[0.111],\"sizemode\":\"area\",\"sizeref\":0.001045,\"symbol\":\"circle\"},\"mode\":\"markers\",\"name\":\"Cornelia-Street\",\"orientation\":\"v\",\"showlegend\":true,\"type\":\"scatter\",\"x\":[2019],\"xaxis\":\"x\",\"y\":[0.7862],\"yaxis\":\"y\"},{\"customdata\":[[0.181]],\"hovertemplate\":\"Song=Afterglow<br>Year=%{x}<br>Normalized_Sentiment=%{y}<br>Positive_Sentiment=%{marker.size}<br>Negative_Sentiment=%{customdata[0]}<extra></extra>\",\"legendgroup\":\"Afterglow\",\"marker\":{\"color\":\"rgb(102, 197, 204)\",\"size\":[0.103],\"sizemode\":\"area\",\"sizeref\":0.001045,\"symbol\":\"circle\"},\"mode\":\"markers\",\"name\":\"Afterglow\",\"orientation\":\"v\",\"showlegend\":true,\"type\":\"scatter\",\"x\":[2019],\"xaxis\":\"x\",\"y\":[-0.9884],\"yaxis\":\"y\"},{\"customdata\":[[0.142]],\"hovertemplate\":\"Song=I-Forgot-That-You-Existed<br>Year=%{x}<br>Normalized_Sentiment=%{y}<br>Positive_Sentiment=%{marker.size}<br>Negative_Sentiment=%{customdata[0]}<extra></extra>\",\"legendgroup\":\"I-Forgot-That-You-Existed\",\"marker\":{\"color\":\"rgb(246, 207, 113)\",\"size\":[0.189],\"sizemode\":\"area\",\"sizeref\":0.001045,\"symbol\":\"circle\"},\"mode\":\"markers\",\"name\":\"I-Forgot-That-You-Existed\",\"orientation\":\"v\",\"showlegend\":true,\"type\":\"scatter\",\"x\":[2019],\"xaxis\":\"x\",\"y\":[0.975],\"yaxis\":\"y\"},{\"customdata\":[[0.126]],\"hovertemplate\":\"Song=The-Man<br>Year=%{x}<br>Normalized_Sentiment=%{y}<br>Positive_Sentiment=%{marker.size}<br>Negative_Sentiment=%{customdata[0]}<extra></extra>\",\"legendgroup\":\"The-Man\",\"marker\":{\"color\":\"rgb(248, 156, 116)\",\"size\":[0.071],\"sizemode\":\"area\",\"sizeref\":0.001045,\"symbol\":\"circle\"},\"mode\":\"markers\",\"name\":\"The-Man\",\"orientation\":\"v\",\"showlegend\":true,\"type\":\"scatter\",\"x\":[2019],\"xaxis\":\"x\",\"y\":[-0.9829],\"yaxis\":\"y\"},{\"customdata\":[[0.076]],\"hovertemplate\":\"Song=ME!<br>Year=%{x}<br>Normalized_Sentiment=%{y}<br>Positive_Sentiment=%{marker.size}<br>Negative_Sentiment=%{customdata[0]}<extra></extra>\",\"legendgroup\":\"ME!\",\"marker\":{\"color\":\"rgb(220, 176, 242)\",\"size\":[0.178],\"sizemode\":\"area\",\"sizeref\":0.001045,\"symbol\":\"circle\"},\"mode\":\"markers\",\"name\":\"ME!\",\"orientation\":\"v\",\"showlegend\":true,\"type\":\"scatter\",\"x\":[2019],\"xaxis\":\"x\",\"y\":[0.9944],\"yaxis\":\"y\"},{\"customdata\":[[0.06]],\"hovertemplate\":\"Song=Soon-You'll-Get-Better<br>Year=%{x}<br>Normalized_Sentiment=%{y}<br>Positive_Sentiment=%{marker.size}<br>Negative_Sentiment=%{customdata[0]}<extra></extra>\",\"legendgroup\":\"Soon-You'll-Get-Better\",\"marker\":{\"color\":\"rgb(135, 197, 95)\",\"size\":[0.218],\"sizemode\":\"area\",\"sizeref\":0.001045,\"symbol\":\"circle\"},\"mode\":\"markers\",\"name\":\"Soon-You'll-Get-Better\",\"orientation\":\"v\",\"showlegend\":true,\"type\":\"scatter\",\"x\":[2019],\"xaxis\":\"x\",\"y\":[0.9905],\"yaxis\":\"y\"},{\"customdata\":[[0.168]],\"hovertemplate\":\"Song=Death-by-a-Thousand-Cuts<br>Year=%{x}<br>Normalized_Sentiment=%{y}<br>Positive_Sentiment=%{marker.size}<br>Negative_Sentiment=%{customdata[0]}<extra></extra>\",\"legendgroup\":\"Death-by-a-Thousand-Cuts\",\"marker\":{\"color\":\"rgb(158, 185, 243)\",\"size\":[0.165],\"sizemode\":\"area\",\"sizeref\":0.001045,\"symbol\":\"circle\"},\"mode\":\"markers\",\"name\":\"Death-by-a-Thousand-Cuts\",\"orientation\":\"v\",\"showlegend\":true,\"type\":\"scatter\",\"x\":[2019],\"xaxis\":\"x\",\"y\":[0.6016],\"yaxis\":\"y\"},{\"customdata\":[[0.065]],\"hovertemplate\":\"Song=You-Need-To-Calm-Down<br>Year=%{x}<br>Normalized_Sentiment=%{y}<br>Positive_Sentiment=%{marker.size}<br>Negative_Sentiment=%{customdata[0]}<extra></extra>\",\"legendgroup\":\"You-Need-To-Calm-Down\",\"marker\":{\"color\":\"rgb(254, 136, 177)\",\"size\":[0.164],\"sizemode\":\"area\",\"sizeref\":0.001045,\"symbol\":\"circle\"},\"mode\":\"markers\",\"name\":\"You-Need-To-Calm-Down\",\"orientation\":\"v\",\"showlegend\":true,\"type\":\"scatter\",\"x\":[2019],\"xaxis\":\"x\",\"y\":[0.9856],\"yaxis\":\"y\"},{\"customdata\":[[0.144]],\"hovertemplate\":\"Song=Cruel-Summer<br>Year=%{x}<br>Normalized_Sentiment=%{y}<br>Positive_Sentiment=%{marker.size}<br>Negative_Sentiment=%{customdata[0]}<extra></extra>\",\"legendgroup\":\"Cruel-Summer\",\"marker\":{\"color\":\"rgb(201, 219, 116)\",\"size\":[0.159],\"sizemode\":\"area\",\"sizeref\":0.001045,\"symbol\":\"circle\"},\"mode\":\"markers\",\"name\":\"Cruel-Summer\",\"orientation\":\"v\",\"showlegend\":true,\"type\":\"scatter\",\"x\":[2019],\"xaxis\":\"x\",\"y\":[0.2197],\"yaxis\":\"y\"},{\"customdata\":[[0.158]],\"hovertemplate\":\"Song=The-Archer<br>Year=%{x}<br>Normalized_Sentiment=%{y}<br>Positive_Sentiment=%{marker.size}<br>Negative_Sentiment=%{customdata[0]}<extra></extra>\",\"legendgroup\":\"The-Archer\",\"marker\":{\"color\":\"rgb(139, 224, 164)\",\"size\":[0.17],\"sizemode\":\"area\",\"sizeref\":0.001045,\"symbol\":\"circle\"},\"mode\":\"markers\",\"name\":\"The-Archer\",\"orientation\":\"v\",\"showlegend\":true,\"type\":\"scatter\",\"x\":[2019],\"xaxis\":\"x\",\"y\":[0.9042],\"yaxis\":\"y\"},{\"customdata\":[[0.222]],\"hovertemplate\":\"Song=\\u200bmad-woman<br>Year=%{x}<br>Normalized_Sentiment=%{y}<br>Positive_Sentiment=%{marker.size}<br>Negative_Sentiment=%{customdata[0]}<extra></extra>\",\"legendgroup\":\"\\u200bmad-woman\",\"marker\":{\"color\":\"rgb(180, 151, 231)\",\"size\":[0.123],\"sizemode\":\"area\",\"sizeref\":0.001045,\"symbol\":\"circle\"},\"mode\":\"markers\",\"name\":\"\\u200bmad-woman\",\"orientation\":\"v\",\"showlegend\":true,\"type\":\"scatter\",\"x\":[2020],\"xaxis\":\"x\",\"y\":[-0.9862],\"yaxis\":\"y\"},{\"customdata\":[[0.1]],\"hovertemplate\":\"Song=\\u200bthis-is-me-trying<br>Year=%{x}<br>Normalized_Sentiment=%{y}<br>Positive_Sentiment=%{marker.size}<br>Negative_Sentiment=%{customdata[0]}<extra></extra>\",\"legendgroup\":\"\\u200bthis-is-me-trying\",\"marker\":{\"color\":\"rgb(179, 179, 179)\",\"size\":[0.05],\"sizemode\":\"area\",\"sizeref\":0.001045,\"symbol\":\"circle\"},\"mode\":\"markers\",\"name\":\"\\u200bthis-is-me-trying\",\"orientation\":\"v\",\"showlegend\":true,\"type\":\"scatter\",\"x\":[2020],\"xaxis\":\"x\",\"y\":[-0.9012],\"yaxis\":\"y\"},{\"customdata\":[[0.0]],\"hovertemplate\":\"Song=\\u200bepiphany<br>Year=%{x}<br>Normalized_Sentiment=%{y}<br>Positive_Sentiment=%{marker.size}<br>Negative_Sentiment=%{customdata[0]}<extra></extra>\",\"legendgroup\":\"\\u200bepiphany\",\"marker\":{\"color\":\"rgb(102, 197, 204)\",\"size\":[0.074],\"sizemode\":\"area\",\"sizeref\":0.001045,\"symbol\":\"circle\"},\"mode\":\"markers\",\"name\":\"\\u200bepiphany\",\"orientation\":\"v\",\"showlegend\":true,\"type\":\"scatter\",\"x\":[2020],\"xaxis\":\"x\",\"y\":[0.9081],\"yaxis\":\"y\"},{\"customdata\":[[0.052]],\"hovertemplate\":\"Song=\\u200binvisible-string<br>Year=%{x}<br>Normalized_Sentiment=%{y}<br>Positive_Sentiment=%{marker.size}<br>Negative_Sentiment=%{customdata[0]}<extra></extra>\",\"legendgroup\":\"\\u200binvisible-string\",\"marker\":{\"color\":\"rgb(246, 207, 113)\",\"size\":[0.095],\"sizemode\":\"area\",\"sizeref\":0.001045,\"symbol\":\"circle\"},\"mode\":\"markers\",\"name\":\"\\u200binvisible-string\",\"orientation\":\"v\",\"showlegend\":true,\"type\":\"scatter\",\"x\":[2020],\"xaxis\":\"x\",\"y\":[0.947],\"yaxis\":\"y\"},{\"customdata\":[[0.043]],\"hovertemplate\":\"Song=\\u200bmirrorball<br>Year=%{x}<br>Normalized_Sentiment=%{y}<br>Positive_Sentiment=%{marker.size}<br>Negative_Sentiment=%{customdata[0]}<extra></extra>\",\"legendgroup\":\"\\u200bmirrorball\",\"marker\":{\"color\":\"rgb(248, 156, 116)\",\"size\":[0.087],\"sizemode\":\"area\",\"sizeref\":0.001045,\"symbol\":\"circle\"},\"mode\":\"markers\",\"name\":\"\\u200bmirrorball\",\"orientation\":\"v\",\"showlegend\":true,\"type\":\"scatter\",\"x\":[2020],\"xaxis\":\"x\",\"y\":[0.8566],\"yaxis\":\"y\"},{\"customdata\":[[0.091]],\"hovertemplate\":\"Song=\\u200bexile<br>Year=%{x}<br>Normalized_Sentiment=%{y}<br>Positive_Sentiment=%{marker.size}<br>Negative_Sentiment=%{customdata[0]}<extra></extra>\",\"legendgroup\":\"\\u200bexile\",\"marker\":{\"color\":\"rgb(220, 176, 242)\",\"size\":[0.081],\"sizemode\":\"area\",\"sizeref\":0.001045,\"symbol\":\"circle\"},\"mode\":\"markers\",\"name\":\"\\u200bexile\",\"orientation\":\"v\",\"showlegend\":true,\"type\":\"scatter\",\"x\":[2020],\"xaxis\":\"x\",\"y\":[-0.7698],\"yaxis\":\"y\"},{\"customdata\":[[0.181]],\"hovertemplate\":\"Song=\\u200bmy-tears-ricochet<br>Year=%{x}<br>Normalized_Sentiment=%{y}<br>Positive_Sentiment=%{marker.size}<br>Negative_Sentiment=%{customdata[0]}<extra></extra>\",\"legendgroup\":\"\\u200bmy-tears-ricochet\",\"marker\":{\"color\":\"rgb(135, 197, 95)\",\"size\":[0.088],\"sizemode\":\"area\",\"sizeref\":0.001045,\"symbol\":\"circle\"},\"mode\":\"markers\",\"name\":\"\\u200bmy-tears-ricochet\",\"orientation\":\"v\",\"showlegend\":true,\"type\":\"scatter\",\"x\":[2020],\"xaxis\":\"x\",\"y\":[-0.9829],\"yaxis\":\"y\"},{\"customdata\":[[0.135]],\"hovertemplate\":\"Song=\\u200bpeace<br>Year=%{x}<br>Normalized_Sentiment=%{y}<br>Positive_Sentiment=%{marker.size}<br>Negative_Sentiment=%{customdata[0]}<extra></extra>\",\"legendgroup\":\"\\u200bpeace\",\"marker\":{\"color\":\"rgb(158, 185, 243)\",\"size\":[0.119],\"sizemode\":\"area\",\"sizeref\":0.001045,\"symbol\":\"circle\"},\"mode\":\"markers\",\"name\":\"\\u200bpeace\",\"orientation\":\"v\",\"showlegend\":true,\"type\":\"scatter\",\"x\":[2020],\"xaxis\":\"x\",\"y\":[-0.5022],\"yaxis\":\"y\"},{\"customdata\":[[0.063]],\"hovertemplate\":\"Song=\\u200bseven<br>Year=%{x}<br>Normalized_Sentiment=%{y}<br>Positive_Sentiment=%{marker.size}<br>Negative_Sentiment=%{customdata[0]}<extra></extra>\",\"legendgroup\":\"\\u200bseven\",\"marker\":{\"color\":\"rgb(254, 136, 177)\",\"size\":[0.224],\"sizemode\":\"area\",\"sizeref\":0.001045,\"symbol\":\"circle\"},\"mode\":\"markers\",\"name\":\"\\u200bseven\",\"orientation\":\"v\",\"showlegend\":true,\"type\":\"scatter\",\"x\":[2020],\"xaxis\":\"x\",\"y\":[0.9908],\"yaxis\":\"y\"},{\"customdata\":[[0.092]],\"hovertemplate\":\"Song=\\u200bthe-last-great-american-dynasty<br>Year=%{x}<br>Normalized_Sentiment=%{y}<br>Positive_Sentiment=%{marker.size}<br>Negative_Sentiment=%{customdata[0]}<extra></extra>\",\"legendgroup\":\"\\u200bthe-last-great-american-dynasty\",\"marker\":{\"color\":\"rgb(201, 219, 116)\",\"size\":[0.157],\"sizemode\":\"area\",\"sizeref\":0.001045,\"symbol\":\"circle\"},\"mode\":\"markers\",\"name\":\"\\u200bthe-last-great-american-dynasty\",\"orientation\":\"v\",\"showlegend\":true,\"type\":\"scatter\",\"x\":[2020],\"xaxis\":\"x\",\"y\":[0.9825],\"yaxis\":\"y\"},{\"customdata\":[[0.051]],\"hovertemplate\":\"Song=\\u200bcardigan<br>Year=%{x}<br>Normalized_Sentiment=%{y}<br>Positive_Sentiment=%{marker.size}<br>Negative_Sentiment=%{customdata[0]}<extra></extra>\",\"legendgroup\":\"\\u200bcardigan\",\"marker\":{\"color\":\"rgb(139, 224, 164)\",\"size\":[0.157],\"sizemode\":\"area\",\"sizeref\":0.001045,\"symbol\":\"circle\"},\"mode\":\"markers\",\"name\":\"\\u200bcardigan\",\"orientation\":\"v\",\"showlegend\":true,\"type\":\"scatter\",\"x\":[2020],\"xaxis\":\"x\",\"y\":[0.9867],\"yaxis\":\"y\"},{\"customdata\":[[0.228]],\"hovertemplate\":\"Song=\\u200bhoax<br>Year=%{x}<br>Normalized_Sentiment=%{y}<br>Positive_Sentiment=%{marker.size}<br>Negative_Sentiment=%{customdata[0]}<extra></extra>\",\"legendgroup\":\"\\u200bhoax\",\"marker\":{\"color\":\"rgb(180, 151, 231)\",\"size\":[0.104],\"sizemode\":\"area\",\"sizeref\":0.001045,\"symbol\":\"circle\"},\"mode\":\"markers\",\"name\":\"\\u200bhoax\",\"orientation\":\"v\",\"showlegend\":true,\"type\":\"scatter\",\"x\":[2020],\"xaxis\":\"x\",\"y\":[-0.9825],\"yaxis\":\"y\"},{\"customdata\":[[0.027]],\"hovertemplate\":\"Song=\\u200baugust<br>Year=%{x}<br>Normalized_Sentiment=%{y}<br>Positive_Sentiment=%{marker.size}<br>Negative_Sentiment=%{customdata[0]}<extra></extra>\",\"legendgroup\":\"\\u200baugust\",\"marker\":{\"color\":\"rgb(179, 179, 179)\",\"size\":[0.126],\"sizemode\":\"area\",\"sizeref\":0.001045,\"symbol\":\"circle\"},\"mode\":\"markers\",\"name\":\"\\u200baugust\",\"orientation\":\"v\",\"showlegend\":true,\"type\":\"scatter\",\"x\":[2020],\"xaxis\":\"x\",\"y\":[0.9905],\"yaxis\":\"y\"},{\"customdata\":[[0.117]],\"hovertemplate\":\"Song=\\u200billicit-affairs<br>Year=%{x}<br>Normalized_Sentiment=%{y}<br>Positive_Sentiment=%{marker.size}<br>Negative_Sentiment=%{customdata[0]}<extra></extra>\",\"legendgroup\":\"\\u200billicit-affairs\",\"marker\":{\"color\":\"rgb(102, 197, 204)\",\"size\":[0.067],\"sizemode\":\"area\",\"sizeref\":0.001045,\"symbol\":\"circle\"},\"mode\":\"markers\",\"name\":\"\\u200billicit-affairs\",\"orientation\":\"v\",\"showlegend\":true,\"type\":\"scatter\",\"x\":[2020],\"xaxis\":\"x\",\"y\":[-0.8987],\"yaxis\":\"y\"},{\"customdata\":[[0.064]],\"hovertemplate\":\"Song=\\u200bthe-1<br>Year=%{x}<br>Normalized_Sentiment=%{y}<br>Positive_Sentiment=%{marker.size}<br>Negative_Sentiment=%{customdata[0]}<extra></extra>\",\"legendgroup\":\"\\u200bthe-1\",\"marker\":{\"color\":\"rgb(246, 207, 113)\",\"size\":[0.15],\"sizemode\":\"area\",\"sizeref\":0.001045,\"symbol\":\"circle\"},\"mode\":\"markers\",\"name\":\"\\u200bthe-1\",\"orientation\":\"v\",\"showlegend\":true,\"type\":\"scatter\",\"x\":[2020],\"xaxis\":\"x\",\"y\":[0.9808],\"yaxis\":\"y\"},{\"customdata\":[[0.114]],\"hovertemplate\":\"Song=\\u200bbetty<br>Year=%{x}<br>Normalized_Sentiment=%{y}<br>Positive_Sentiment=%{marker.size}<br>Negative_Sentiment=%{customdata[0]}<extra></extra>\",\"legendgroup\":\"\\u200bbetty\",\"marker\":{\"color\":\"rgb(248, 156, 116)\",\"size\":[0.155],\"sizemode\":\"area\",\"sizeref\":0.001045,\"symbol\":\"circle\"},\"mode\":\"markers\",\"name\":\"\\u200bbetty\",\"orientation\":\"v\",\"showlegend\":true,\"type\":\"scatter\",\"x\":[2020],\"xaxis\":\"x\",\"y\":[0.9572],\"yaxis\":\"y\"},{\"customdata\":[[0.098]],\"hovertemplate\":\"Song=\\u200bclosure<br>Year=%{x}<br>Normalized_Sentiment=%{y}<br>Positive_Sentiment=%{marker.size}<br>Negative_Sentiment=%{customdata[0]}<extra></extra>\",\"legendgroup\":\"\\u200bclosure\",\"marker\":{\"color\":\"rgb(220, 176, 242)\",\"size\":[0.231],\"sizemode\":\"area\",\"sizeref\":0.001045,\"symbol\":\"circle\"},\"mode\":\"markers\",\"name\":\"\\u200bclosure\",\"orientation\":\"v\",\"showlegend\":true,\"type\":\"scatter\",\"x\":[2020],\"xaxis\":\"x\",\"y\":[0.9859],\"yaxis\":\"y\"},{\"customdata\":[[0.117]],\"hovertemplate\":\"Song=\\u200bl\\u200bong-story-short<br>Year=%{x}<br>Normalized_Sentiment=%{y}<br>Positive_Sentiment=%{marker.size}<br>Negative_Sentiment=%{customdata[0]}<extra></extra>\",\"legendgroup\":\"\\u200bl\\u200bong-story-short\",\"marker\":{\"color\":\"rgb(135, 197, 95)\",\"size\":[0.112],\"sizemode\":\"area\",\"sizeref\":0.001045,\"symbol\":\"circle\"},\"mode\":\"markers\",\"name\":\"\\u200bl\\u200bong-story-short\",\"orientation\":\"v\",\"showlegend\":true,\"type\":\"scatter\",\"x\":[2020],\"xaxis\":\"x\",\"y\":[-0.8145],\"yaxis\":\"y\"},{\"customdata\":[[0.087]],\"hovertemplate\":\"Song=\\u200bwillow<br>Year=%{x}<br>Normalized_Sentiment=%{y}<br>Positive_Sentiment=%{marker.size}<br>Negative_Sentiment=%{customdata[0]}<extra></extra>\",\"legendgroup\":\"\\u200bwillow\",\"marker\":{\"color\":\"rgb(158, 185, 243)\",\"size\":[0.145],\"sizemode\":\"area\",\"sizeref\":0.001045,\"symbol\":\"circle\"},\"mode\":\"markers\",\"name\":\"\\u200bwillow\",\"orientation\":\"v\",\"showlegend\":true,\"type\":\"scatter\",\"x\":[2020],\"xaxis\":\"x\",\"y\":[0.9829],\"yaxis\":\"y\"},{\"customdata\":[[0.107]],\"hovertemplate\":\"Song=\\u200bdorothea<br>Year=%{x}<br>Normalized_Sentiment=%{y}<br>Positive_Sentiment=%{marker.size}<br>Negative_Sentiment=%{customdata[0]}<extra></extra>\",\"legendgroup\":\"\\u200bdorothea\",\"marker\":{\"color\":\"rgb(254, 136, 177)\",\"size\":[0.068],\"sizemode\":\"area\",\"sizeref\":0.001045,\"symbol\":\"circle\"},\"mode\":\"markers\",\"name\":\"\\u200bdorothea\",\"orientation\":\"v\",\"showlegend\":true,\"type\":\"scatter\",\"x\":[2020],\"xaxis\":\"x\",\"y\":[-0.8534],\"yaxis\":\"y\"},{\"customdata\":[[0.074]],\"hovertemplate\":\"Song=\\u200b'tis-the-damn-season<br>Year=%{x}<br>Normalized_Sentiment=%{y}<br>Positive_Sentiment=%{marker.size}<br>Negative_Sentiment=%{customdata[0]}<extra></extra>\",\"legendgroup\":\"\\u200b'tis-the-damn-season\",\"marker\":{\"color\":\"rgb(201, 219, 116)\",\"size\":[0.098],\"sizemode\":\"area\",\"sizeref\":0.001045,\"symbol\":\"circle\"},\"mode\":\"markers\",\"name\":\"\\u200b'tis-the-damn-season\",\"orientation\":\"v\",\"showlegend\":true,\"type\":\"scatter\",\"x\":[2020],\"xaxis\":\"x\",\"y\":[0.9313],\"yaxis\":\"y\"},{\"customdata\":[[0.051]],\"hovertemplate\":\"Song=\\u200bgold-rush<br>Year=%{x}<br>Normalized_Sentiment=%{y}<br>Positive_Sentiment=%{marker.size}<br>Negative_Sentiment=%{customdata[0]}<extra></extra>\",\"legendgroup\":\"\\u200bgold-rush\",\"marker\":{\"color\":\"rgb(139, 224, 164)\",\"size\":[0.258],\"sizemode\":\"area\",\"sizeref\":0.001045,\"symbol\":\"circle\"},\"mode\":\"markers\",\"name\":\"\\u200bgold-rush\",\"orientation\":\"v\",\"showlegend\":true,\"type\":\"scatter\",\"x\":[2020],\"xaxis\":\"x\",\"y\":[0.9969],\"yaxis\":\"y\"},{\"customdata\":[[0.175]],\"hovertemplate\":\"Song=\\u200bmarjorie<br>Year=%{x}<br>Normalized_Sentiment=%{y}<br>Positive_Sentiment=%{marker.size}<br>Negative_Sentiment=%{customdata[0]}<extra></extra>\",\"legendgroup\":\"\\u200bmarjorie\",\"marker\":{\"color\":\"rgb(180, 151, 231)\",\"size\":[0.223],\"sizemode\":\"area\",\"sizeref\":0.001045,\"symbol\":\"circle\"},\"mode\":\"markers\",\"name\":\"\\u200bmarjorie\",\"orientation\":\"v\",\"showlegend\":true,\"type\":\"scatter\",\"x\":[2020],\"xaxis\":\"x\",\"y\":[0.9684],\"yaxis\":\"y\"},{\"customdata\":[[0.114]],\"hovertemplate\":\"Song=\\u200bhappiness<br>Year=%{x}<br>Normalized_Sentiment=%{y}<br>Positive_Sentiment=%{marker.size}<br>Negative_Sentiment=%{customdata[0]}<extra></extra>\",\"legendgroup\":\"\\u200bhappiness\",\"marker\":{\"color\":\"rgb(179, 179, 179)\",\"size\":[0.208],\"sizemode\":\"area\",\"sizeref\":0.001045,\"symbol\":\"circle\"},\"mode\":\"markers\",\"name\":\"\\u200bhappiness\",\"orientation\":\"v\",\"showlegend\":true,\"type\":\"scatter\",\"x\":[2020],\"xaxis\":\"x\",\"y\":[0.9949],\"yaxis\":\"y\"},{\"customdata\":[[0.128]],\"hovertemplate\":\"Song=\\u200bcowboy-like-me<br>Year=%{x}<br>Normalized_Sentiment=%{y}<br>Positive_Sentiment=%{marker.size}<br>Negative_Sentiment=%{customdata[0]}<extra></extra>\",\"legendgroup\":\"\\u200bcowboy-like-me\",\"marker\":{\"color\":\"rgb(102, 197, 204)\",\"size\":[0.101],\"sizemode\":\"area\",\"sizeref\":0.001045,\"symbol\":\"circle\"},\"mode\":\"markers\",\"name\":\"\\u200bcowboy-like-me\",\"orientation\":\"v\",\"showlegend\":true,\"type\":\"scatter\",\"x\":[2020],\"xaxis\":\"x\",\"y\":[-0.8132],\"yaxis\":\"y\"},{\"customdata\":[[0.178]],\"hovertemplate\":\"Song=\\u200bevermore<br>Year=%{x}<br>Normalized_Sentiment=%{y}<br>Positive_Sentiment=%{marker.size}<br>Negative_Sentiment=%{customdata[0]}<extra></extra>\",\"legendgroup\":\"\\u200bevermore\",\"marker\":{\"color\":\"rgb(246, 207, 113)\",\"size\":[0.05],\"sizemode\":\"area\",\"sizeref\":0.001045,\"symbol\":\"circle\"},\"mode\":\"markers\",\"name\":\"\\u200bevermore\",\"orientation\":\"v\",\"showlegend\":true,\"type\":\"scatter\",\"x\":[2020],\"xaxis\":\"x\",\"y\":[-0.9944],\"yaxis\":\"y\"},{\"customdata\":[[0.073]],\"hovertemplate\":\"Song=\\u200btolerate-it<br>Year=%{x}<br>Normalized_Sentiment=%{y}<br>Positive_Sentiment=%{marker.size}<br>Negative_Sentiment=%{customdata[0]}<extra></extra>\",\"legendgroup\":\"\\u200btolerate-it\",\"marker\":{\"color\":\"rgb(248, 156, 116)\",\"size\":[0.151],\"sizemode\":\"area\",\"sizeref\":0.001045,\"symbol\":\"circle\"},\"mode\":\"markers\",\"name\":\"\\u200btolerate-it\",\"orientation\":\"v\",\"showlegend\":true,\"type\":\"scatter\",\"x\":[2020],\"xaxis\":\"x\",\"y\":[0.9759],\"yaxis\":\"y\"},{\"customdata\":[[0.169]],\"hovertemplate\":\"Song=\\u200bno-body,-no-crime<br>Year=%{x}<br>Normalized_Sentiment=%{y}<br>Positive_Sentiment=%{marker.size}<br>Negative_Sentiment=%{customdata[0]}<extra></extra>\",\"legendgroup\":\"\\u200bno-body,-no-crime\",\"marker\":{\"color\":\"rgb(220, 176, 242)\",\"size\":[0.13],\"sizemode\":\"area\",\"sizeref\":0.001045,\"symbol\":\"circle\"},\"mode\":\"markers\",\"name\":\"\\u200bno-body,-no-crime\",\"orientation\":\"v\",\"showlegend\":true,\"type\":\"scatter\",\"x\":[2020],\"xaxis\":\"x\",\"y\":[-0.9799],\"yaxis\":\"y\"},{\"customdata\":[[0.102]],\"hovertemplate\":\"Song=\\u200bconey-island<br>Year=%{x}<br>Normalized_Sentiment=%{y}<br>Positive_Sentiment=%{marker.size}<br>Negative_Sentiment=%{customdata[0]}<extra></extra>\",\"legendgroup\":\"\\u200bconey-island\",\"marker\":{\"color\":\"rgb(135, 197, 95)\",\"size\":[0.11],\"sizemode\":\"area\",\"sizeref\":0.001045,\"symbol\":\"circle\"},\"mode\":\"markers\",\"name\":\"\\u200bconey-island\",\"orientation\":\"v\",\"showlegend\":true,\"type\":\"scatter\",\"x\":[2020],\"xaxis\":\"x\",\"y\":[0.855],\"yaxis\":\"y\"},{\"customdata\":[[0.152]],\"hovertemplate\":\"Song=\\u200bchampagne-problems<br>Year=%{x}<br>Normalized_Sentiment=%{y}<br>Positive_Sentiment=%{marker.size}<br>Negative_Sentiment=%{customdata[0]}<extra></extra>\",\"legendgroup\":\"\\u200bchampagne-problems\",\"marker\":{\"color\":\"rgb(158, 185, 243)\",\"size\":[0.141],\"sizemode\":\"area\",\"sizeref\":0.001045,\"symbol\":\"circle\"},\"mode\":\"markers\",\"name\":\"\\u200bchampagne-problems\",\"orientation\":\"v\",\"showlegend\":true,\"type\":\"scatter\",\"x\":[2020],\"xaxis\":\"x\",\"y\":[-0.6832],\"yaxis\":\"y\"},{\"customdata\":[[0.169]],\"hovertemplate\":\"Song=\\u200bivy<br>Year=%{x}<br>Normalized_Sentiment=%{y}<br>Positive_Sentiment=%{marker.size}<br>Negative_Sentiment=%{customdata[0]}<extra></extra>\",\"legendgroup\":\"\\u200bivy\",\"marker\":{\"color\":\"rgb(254, 136, 177)\",\"size\":[0.135],\"sizemode\":\"area\",\"sizeref\":0.001045,\"symbol\":\"circle\"},\"mode\":\"markers\",\"name\":\"\\u200bivy\",\"orientation\":\"v\",\"showlegend\":true,\"type\":\"scatter\",\"x\":[2020],\"xaxis\":\"x\",\"y\":[-0.9615],\"yaxis\":\"y\"}],                        {\"legend\":{\"itemsizing\":\"constant\",\"title\":{\"text\":\"Song\"},\"tracegroupgap\":0},\"margin\":{\"t\":60},\"template\":{\"data\":{\"bar\":[{\"error_x\":{\"color\":\"#2a3f5f\"},\"error_y\":{\"color\":\"#2a3f5f\"},\"marker\":{\"line\":{\"color\":\"#E5ECF6\",\"width\":0.5},\"pattern\":{\"fillmode\":\"overlay\",\"size\":10,\"solidity\":0.2}},\"type\":\"bar\"}],\"barpolar\":[{\"marker\":{\"line\":{\"color\":\"#E5ECF6\",\"width\":0.5},\"pattern\":{\"fillmode\":\"overlay\",\"size\":10,\"solidity\":0.2}},\"type\":\"barpolar\"}],\"carpet\":[{\"aaxis\":{\"endlinecolor\":\"#2a3f5f\",\"gridcolor\":\"white\",\"linecolor\":\"white\",\"minorgridcolor\":\"white\",\"startlinecolor\":\"#2a3f5f\"},\"baxis\":{\"endlinecolor\":\"#2a3f5f\",\"gridcolor\":\"white\",\"linecolor\":\"white\",\"minorgridcolor\":\"white\",\"startlinecolor\":\"#2a3f5f\"},\"type\":\"carpet\"}],\"choropleth\":[{\"colorbar\":{\"outlinewidth\":0,\"ticks\":\"\"},\"type\":\"choropleth\"}],\"contour\":[{\"colorbar\":{\"outlinewidth\":0,\"ticks\":\"\"},\"colorscale\":[[0.0,\"#0d0887\"],[0.1111111111111111,\"#46039f\"],[0.2222222222222222,\"#7201a8\"],[0.3333333333333333,\"#9c179e\"],[0.4444444444444444,\"#bd3786\"],[0.5555555555555556,\"#d8576b\"],[0.6666666666666666,\"#ed7953\"],[0.7777777777777778,\"#fb9f3a\"],[0.8888888888888888,\"#fdca26\"],[1.0,\"#f0f921\"]],\"type\":\"contour\"}],\"contourcarpet\":[{\"colorbar\":{\"outlinewidth\":0,\"ticks\":\"\"},\"type\":\"contourcarpet\"}],\"heatmap\":[{\"colorbar\":{\"outlinewidth\":0,\"ticks\":\"\"},\"colorscale\":[[0.0,\"#0d0887\"],[0.1111111111111111,\"#46039f\"],[0.2222222222222222,\"#7201a8\"],[0.3333333333333333,\"#9c179e\"],[0.4444444444444444,\"#bd3786\"],[0.5555555555555556,\"#d8576b\"],[0.6666666666666666,\"#ed7953\"],[0.7777777777777778,\"#fb9f3a\"],[0.8888888888888888,\"#fdca26\"],[1.0,\"#f0f921\"]],\"type\":\"heatmap\"}],\"heatmapgl\":[{\"colorbar\":{\"outlinewidth\":0,\"ticks\":\"\"},\"colorscale\":[[0.0,\"#0d0887\"],[0.1111111111111111,\"#46039f\"],[0.2222222222222222,\"#7201a8\"],[0.3333333333333333,\"#9c179e\"],[0.4444444444444444,\"#bd3786\"],[0.5555555555555556,\"#d8576b\"],[0.6666666666666666,\"#ed7953\"],[0.7777777777777778,\"#fb9f3a\"],[0.8888888888888888,\"#fdca26\"],[1.0,\"#f0f921\"]],\"type\":\"heatmapgl\"}],\"histogram\":[{\"marker\":{\"pattern\":{\"fillmode\":\"overlay\",\"size\":10,\"solidity\":0.2}},\"type\":\"histogram\"}],\"histogram2d\":[{\"colorbar\":{\"outlinewidth\":0,\"ticks\":\"\"},\"colorscale\":[[0.0,\"#0d0887\"],[0.1111111111111111,\"#46039f\"],[0.2222222222222222,\"#7201a8\"],[0.3333333333333333,\"#9c179e\"],[0.4444444444444444,\"#bd3786\"],[0.5555555555555556,\"#d8576b\"],[0.6666666666666666,\"#ed7953\"],[0.7777777777777778,\"#fb9f3a\"],[0.8888888888888888,\"#fdca26\"],[1.0,\"#f0f921\"]],\"type\":\"histogram2d\"}],\"histogram2dcontour\":[{\"colorbar\":{\"outlinewidth\":0,\"ticks\":\"\"},\"colorscale\":[[0.0,\"#0d0887\"],[0.1111111111111111,\"#46039f\"],[0.2222222222222222,\"#7201a8\"],[0.3333333333333333,\"#9c179e\"],[0.4444444444444444,\"#bd3786\"],[0.5555555555555556,\"#d8576b\"],[0.6666666666666666,\"#ed7953\"],[0.7777777777777778,\"#fb9f3a\"],[0.8888888888888888,\"#fdca26\"],[1.0,\"#f0f921\"]],\"type\":\"histogram2dcontour\"}],\"mesh3d\":[{\"colorbar\":{\"outlinewidth\":0,\"ticks\":\"\"},\"type\":\"mesh3d\"}],\"parcoords\":[{\"line\":{\"colorbar\":{\"outlinewidth\":0,\"ticks\":\"\"}},\"type\":\"parcoords\"}],\"pie\":[{\"automargin\":true,\"type\":\"pie\"}],\"scatter\":[{\"marker\":{\"colorbar\":{\"outlinewidth\":0,\"ticks\":\"\"}},\"type\":\"scatter\"}],\"scatter3d\":[{\"line\":{\"colorbar\":{\"outlinewidth\":0,\"ticks\":\"\"}},\"marker\":{\"colorbar\":{\"outlinewidth\":0,\"ticks\":\"\"}},\"type\":\"scatter3d\"}],\"scattercarpet\":[{\"marker\":{\"colorbar\":{\"outlinewidth\":0,\"ticks\":\"\"}},\"type\":\"scattercarpet\"}],\"scattergeo\":[{\"marker\":{\"colorbar\":{\"outlinewidth\":0,\"ticks\":\"\"}},\"type\":\"scattergeo\"}],\"scattergl\":[{\"marker\":{\"colorbar\":{\"outlinewidth\":0,\"ticks\":\"\"}},\"type\":\"scattergl\"}],\"scattermapbox\":[{\"marker\":{\"colorbar\":{\"outlinewidth\":0,\"ticks\":\"\"}},\"type\":\"scattermapbox\"}],\"scatterpolar\":[{\"marker\":{\"colorbar\":{\"outlinewidth\":0,\"ticks\":\"\"}},\"type\":\"scatterpolar\"}],\"scatterpolargl\":[{\"marker\":{\"colorbar\":{\"outlinewidth\":0,\"ticks\":\"\"}},\"type\":\"scatterpolargl\"}],\"scatterternary\":[{\"marker\":{\"colorbar\":{\"outlinewidth\":0,\"ticks\":\"\"}},\"type\":\"scatterternary\"}],\"surface\":[{\"colorbar\":{\"outlinewidth\":0,\"ticks\":\"\"},\"colorscale\":[[0.0,\"#0d0887\"],[0.1111111111111111,\"#46039f\"],[0.2222222222222222,\"#7201a8\"],[0.3333333333333333,\"#9c179e\"],[0.4444444444444444,\"#bd3786\"],[0.5555555555555556,\"#d8576b\"],[0.6666666666666666,\"#ed7953\"],[0.7777777777777778,\"#fb9f3a\"],[0.8888888888888888,\"#fdca26\"],[1.0,\"#f0f921\"]],\"type\":\"surface\"}],\"table\":[{\"cells\":{\"fill\":{\"color\":\"#EBF0F8\"},\"line\":{\"color\":\"white\"}},\"header\":{\"fill\":{\"color\":\"#C8D4E3\"},\"line\":{\"color\":\"white\"}},\"type\":\"table\"}]},\"layout\":{\"annotationdefaults\":{\"arrowcolor\":\"#2a3f5f\",\"arrowhead\":0,\"arrowwidth\":1},\"autotypenumbers\":\"strict\",\"coloraxis\":{\"colorbar\":{\"outlinewidth\":0,\"ticks\":\"\"}},\"colorscale\":{\"diverging\":[[0,\"#8e0152\"],[0.1,\"#c51b7d\"],[0.2,\"#de77ae\"],[0.3,\"#f1b6da\"],[0.4,\"#fde0ef\"],[0.5,\"#f7f7f7\"],[0.6,\"#e6f5d0\"],[0.7,\"#b8e186\"],[0.8,\"#7fbc41\"],[0.9,\"#4d9221\"],[1,\"#276419\"]],\"sequential\":[[0.0,\"#0d0887\"],[0.1111111111111111,\"#46039f\"],[0.2222222222222222,\"#7201a8\"],[0.3333333333333333,\"#9c179e\"],[0.4444444444444444,\"#bd3786\"],[0.5555555555555556,\"#d8576b\"],[0.6666666666666666,\"#ed7953\"],[0.7777777777777778,\"#fb9f3a\"],[0.8888888888888888,\"#fdca26\"],[1.0,\"#f0f921\"]],\"sequentialminus\":[[0.0,\"#0d0887\"],[0.1111111111111111,\"#46039f\"],[0.2222222222222222,\"#7201a8\"],[0.3333333333333333,\"#9c179e\"],[0.4444444444444444,\"#bd3786\"],[0.5555555555555556,\"#d8576b\"],[0.6666666666666666,\"#ed7953\"],[0.7777777777777778,\"#fb9f3a\"],[0.8888888888888888,\"#fdca26\"],[1.0,\"#f0f921\"]]},\"colorway\":[\"#636efa\",\"#EF553B\",\"#00cc96\",\"#ab63fa\",\"#FFA15A\",\"#19d3f3\",\"#FF6692\",\"#B6E880\",\"#FF97FF\",\"#FECB52\"],\"font\":{\"color\":\"#2a3f5f\"},\"geo\":{\"bgcolor\":\"white\",\"lakecolor\":\"white\",\"landcolor\":\"#E5ECF6\",\"showlakes\":true,\"showland\":true,\"subunitcolor\":\"white\"},\"hoverlabel\":{\"align\":\"left\"},\"hovermode\":\"closest\",\"mapbox\":{\"style\":\"light\"},\"paper_bgcolor\":\"white\",\"plot_bgcolor\":\"#E5ECF6\",\"polar\":{\"angularaxis\":{\"gridcolor\":\"white\",\"linecolor\":\"white\",\"ticks\":\"\"},\"bgcolor\":\"#E5ECF6\",\"radialaxis\":{\"gridcolor\":\"white\",\"linecolor\":\"white\",\"ticks\":\"\"}},\"scene\":{\"xaxis\":{\"backgroundcolor\":\"#E5ECF6\",\"gridcolor\":\"white\",\"gridwidth\":2,\"linecolor\":\"white\",\"showbackground\":true,\"ticks\":\"\",\"zerolinecolor\":\"white\"},\"yaxis\":{\"backgroundcolor\":\"#E5ECF6\",\"gridcolor\":\"white\",\"gridwidth\":2,\"linecolor\":\"white\",\"showbackground\":true,\"ticks\":\"\",\"zerolinecolor\":\"white\"},\"zaxis\":{\"backgroundcolor\":\"#E5ECF6\",\"gridcolor\":\"white\",\"gridwidth\":2,\"linecolor\":\"white\",\"showbackground\":true,\"ticks\":\"\",\"zerolinecolor\":\"white\"}},\"shapedefaults\":{\"line\":{\"color\":\"#2a3f5f\"}},\"ternary\":{\"aaxis\":{\"gridcolor\":\"white\",\"linecolor\":\"white\",\"ticks\":\"\"},\"baxis\":{\"gridcolor\":\"white\",\"linecolor\":\"white\",\"ticks\":\"\"},\"bgcolor\":\"#E5ECF6\",\"caxis\":{\"gridcolor\":\"white\",\"linecolor\":\"white\",\"ticks\":\"\"}},\"title\":{\"x\":0.05},\"xaxis\":{\"automargin\":true,\"gridcolor\":\"white\",\"linecolor\":\"white\",\"ticks\":\"\",\"title\":{\"standoff\":15},\"zerolinecolor\":\"white\",\"zerolinewidth\":2},\"yaxis\":{\"automargin\":true,\"gridcolor\":\"white\",\"linecolor\":\"white\",\"ticks\":\"\",\"title\":{\"standoff\":15},\"zerolinecolor\":\"white\",\"zerolinewidth\":2}}},\"xaxis\":{\"anchor\":\"y\",\"domain\":[0.0,1.0],\"title\":{\"text\":\"Year\"}},\"yaxis\":{\"anchor\":\"x\",\"domain\":[0.0,1.0],\"title\":{\"text\":\"Normalized_Sentiment\"}}},                        {\"responsive\": true}                    ).then(function(){\n",
       "                            \n",
       "var gd = document.getElementById('7eac7373-6842-45de-aa95-d3f2d62d0039');\n",
       "var x = new MutationObserver(function (mutations, observer) {{\n",
       "        var display = window.getComputedStyle(gd).display;\n",
       "        if (!display || display === 'none') {{\n",
       "            console.log([gd, 'removed!']);\n",
       "            Plotly.purge(gd);\n",
       "            observer.disconnect();\n",
       "        }}\n",
       "}});\n",
       "\n",
       "// Listen for the removal of the full notebook cells\n",
       "var notebookContainer = gd.closest('#notebook-container');\n",
       "if (notebookContainer) {{\n",
       "    x.observe(notebookContainer, {childList: true});\n",
       "}}\n",
       "\n",
       "// Listen for the clearing of the current output cell\n",
       "var outputEl = gd.closest('.output');\n",
       "if (outputEl) {{\n",
       "    x.observe(outputEl, {childList: true});\n",
       "}}\n",
       "\n",
       "                        })                };                });            </script>        </div>"
      ]
     },
     "metadata": {},
     "output_type": "display_data"
    }
   ],
   "source": [
    "import plotly.express as px\n",
    "\n",
    "fig = px.scatter(AlbumLyricsDF, x=\"Year\", y=\"Normalized_Sentiment\", color=\"Song\",\n",
    "                 size='Positive_Sentiment', hover_data=['Negative_Sentiment'],\n",
    "                 color_discrete_sequence=px.colors.qualitative.Pastel)\n",
    "fig.show()"
   ]
  },
  {
   "cell_type": "code",
   "execution_count": 279,
   "metadata": {},
   "outputs": [
    {
     "data": {
      "text/html": [
       "<div>\n",
       "<style scoped>\n",
       "    .dataframe tbody tr th:only-of-type {\n",
       "        vertical-align: middle;\n",
       "    }\n",
       "\n",
       "    .dataframe tbody tr th {\n",
       "        vertical-align: top;\n",
       "    }\n",
       "\n",
       "    .dataframe thead th {\n",
       "        text-align: right;\n",
       "    }\n",
       "</style>\n",
       "<table border=\"1\" class=\"dataframe\">\n",
       "  <thead>\n",
       "    <tr style=\"text-align: right;\">\n",
       "      <th></th>\n",
       "      <th>sepal_length</th>\n",
       "      <th>sepal_width</th>\n",
       "      <th>petal_length</th>\n",
       "      <th>petal_width</th>\n",
       "      <th>species</th>\n",
       "      <th>species_id</th>\n",
       "    </tr>\n",
       "  </thead>\n",
       "  <tbody>\n",
       "    <tr>\n",
       "      <th>0</th>\n",
       "      <td>5.1</td>\n",
       "      <td>3.5</td>\n",
       "      <td>1.4</td>\n",
       "      <td>0.2</td>\n",
       "      <td>setosa</td>\n",
       "      <td>1</td>\n",
       "    </tr>\n",
       "    <tr>\n",
       "      <th>1</th>\n",
       "      <td>4.9</td>\n",
       "      <td>3.0</td>\n",
       "      <td>1.4</td>\n",
       "      <td>0.2</td>\n",
       "      <td>setosa</td>\n",
       "      <td>1</td>\n",
       "    </tr>\n",
       "    <tr>\n",
       "      <th>2</th>\n",
       "      <td>4.7</td>\n",
       "      <td>3.2</td>\n",
       "      <td>1.3</td>\n",
       "      <td>0.2</td>\n",
       "      <td>setosa</td>\n",
       "      <td>1</td>\n",
       "    </tr>\n",
       "    <tr>\n",
       "      <th>3</th>\n",
       "      <td>4.6</td>\n",
       "      <td>3.1</td>\n",
       "      <td>1.5</td>\n",
       "      <td>0.2</td>\n",
       "      <td>setosa</td>\n",
       "      <td>1</td>\n",
       "    </tr>\n",
       "    <tr>\n",
       "      <th>4</th>\n",
       "      <td>5.0</td>\n",
       "      <td>3.6</td>\n",
       "      <td>1.4</td>\n",
       "      <td>0.2</td>\n",
       "      <td>setosa</td>\n",
       "      <td>1</td>\n",
       "    </tr>\n",
       "    <tr>\n",
       "      <th>...</th>\n",
       "      <td>...</td>\n",
       "      <td>...</td>\n",
       "      <td>...</td>\n",
       "      <td>...</td>\n",
       "      <td>...</td>\n",
       "      <td>...</td>\n",
       "    </tr>\n",
       "    <tr>\n",
       "      <th>145</th>\n",
       "      <td>6.7</td>\n",
       "      <td>3.0</td>\n",
       "      <td>5.2</td>\n",
       "      <td>2.3</td>\n",
       "      <td>virginica</td>\n",
       "      <td>3</td>\n",
       "    </tr>\n",
       "    <tr>\n",
       "      <th>146</th>\n",
       "      <td>6.3</td>\n",
       "      <td>2.5</td>\n",
       "      <td>5.0</td>\n",
       "      <td>1.9</td>\n",
       "      <td>virginica</td>\n",
       "      <td>3</td>\n",
       "    </tr>\n",
       "    <tr>\n",
       "      <th>147</th>\n",
       "      <td>6.5</td>\n",
       "      <td>3.0</td>\n",
       "      <td>5.2</td>\n",
       "      <td>2.0</td>\n",
       "      <td>virginica</td>\n",
       "      <td>3</td>\n",
       "    </tr>\n",
       "    <tr>\n",
       "      <th>148</th>\n",
       "      <td>6.2</td>\n",
       "      <td>3.4</td>\n",
       "      <td>5.4</td>\n",
       "      <td>2.3</td>\n",
       "      <td>virginica</td>\n",
       "      <td>3</td>\n",
       "    </tr>\n",
       "    <tr>\n",
       "      <th>149</th>\n",
       "      <td>5.9</td>\n",
       "      <td>3.0</td>\n",
       "      <td>5.1</td>\n",
       "      <td>1.8</td>\n",
       "      <td>virginica</td>\n",
       "      <td>3</td>\n",
       "    </tr>\n",
       "  </tbody>\n",
       "</table>\n",
       "<p>150 rows × 6 columns</p>\n",
       "</div>"
      ],
      "text/plain": [
       "     sepal_length  sepal_width  petal_length  petal_width    species  \\\n",
       "0             5.1          3.5           1.4          0.2     setosa   \n",
       "1             4.9          3.0           1.4          0.2     setosa   \n",
       "2             4.7          3.2           1.3          0.2     setosa   \n",
       "3             4.6          3.1           1.5          0.2     setosa   \n",
       "4             5.0          3.6           1.4          0.2     setosa   \n",
       "..            ...          ...           ...          ...        ...   \n",
       "145           6.7          3.0           5.2          2.3  virginica   \n",
       "146           6.3          2.5           5.0          1.9  virginica   \n",
       "147           6.5          3.0           5.2          2.0  virginica   \n",
       "148           6.2          3.4           5.4          2.3  virginica   \n",
       "149           5.9          3.0           5.1          1.8  virginica   \n",
       "\n",
       "     species_id  \n",
       "0             1  \n",
       "1             1  \n",
       "2             1  \n",
       "3             1  \n",
       "4             1  \n",
       "..          ...  \n",
       "145           3  \n",
       "146           3  \n",
       "147           3  \n",
       "148           3  \n",
       "149           3  \n",
       "\n",
       "[150 rows x 6 columns]"
      ]
     },
     "execution_count": 279,
     "metadata": {},
     "output_type": "execute_result"
    }
   ],
   "source": [
    "df = px.data.iris()\n",
    "df"
   ]
  },
  {
   "cell_type": "markdown",
   "metadata": {},
   "source": [
    "#### Histogram (normalized by 100)"
   ]
  },
  {
   "cell_type": "markdown",
   "metadata": {},
   "source": [
    "##### Method 1 using `matplotlib`\n",
    "NOTE: The color options are quite limited in `matplotlib`."
   ]
  },
  {
   "cell_type": "code",
   "execution_count": 275,
   "metadata": {},
   "outputs": [
    {
     "data": {
      "text/plain": [
       "<AxesSubplot:xlabel='Year'>"
      ]
     },
     "execution_count": 275,
     "metadata": {},
     "output_type": "execute_result"
    },
    {
     "data": {
      "image/png": "[encoded data removed]",
      "text/plain": [
       "<Figure size 576x396 with 1 Axes>"
      ]
     },
     "metadata": {},
     "output_type": "display_data"
    }
   ],
   "source": [
    "AlbumLyricsDF.groupby('Year')['Sentiment_Label'].value_counts(normalize=True).unstack('Sentiment_Label').plot.bar(stacked=True)\n"
   ]
  },
  {
   "cell_type": "markdown",
   "metadata": {},
   "source": [
    "##### Method 2 using `plotly`\n",
    "\n",
    "NOTE: Sorting the bars by a particular order isn't possible right now - it's only possible to sort by the total values. Of course, you can always sort your data before plotting it if you need more customization."
   ]
  },
  {
   "cell_type": "code",
   "execution_count": 344,
   "metadata": {},
   "outputs": [
    {
     "data": {
      "text/html": [
       "<div>\n",
       "<style scoped>\n",
       "    .dataframe tbody tr th:only-of-type {\n",
       "        vertical-align: middle;\n",
       "    }\n",
       "\n",
       "    .dataframe tbody tr th {\n",
       "        vertical-align: top;\n",
       "    }\n",
       "\n",
       "    .dataframe thead th {\n",
       "        text-align: right;\n",
       "    }\n",
       "</style>\n",
       "<table border=\"1\" class=\"dataframe\">\n",
       "  <thead>\n",
       "    <tr style=\"text-align: right;\">\n",
       "      <th></th>\n",
       "      <th>Year</th>\n",
       "      <th>SentimentLabel</th>\n",
       "      <th>counts</th>\n",
       "    </tr>\n",
       "  </thead>\n",
       "  <tbody>\n",
       "    <tr>\n",
       "      <th>6</th>\n",
       "      <td>2006</td>\n",
       "      <td>Positive</td>\n",
       "      <td>11</td>\n",
       "    </tr>\n",
       "    <tr>\n",
       "      <th>9</th>\n",
       "      <td>2006</td>\n",
       "      <td>Negative</td>\n",
       "      <td>5</td>\n",
       "    </tr>\n",
       "    <tr>\n",
       "      <th>0</th>\n",
       "      <td>2008</td>\n",
       "      <td>Positive</td>\n",
       "      <td>22</td>\n",
       "    </tr>\n",
       "    <tr>\n",
       "      <th>20</th>\n",
       "      <td>2008</td>\n",
       "      <td>Neutral</td>\n",
       "      <td>1</td>\n",
       "    </tr>\n",
       "    <tr>\n",
       "      <th>15</th>\n",
       "      <td>2008</td>\n",
       "      <td>Negative</td>\n",
       "      <td>2</td>\n",
       "    </tr>\n",
       "    <tr>\n",
       "      <th>7</th>\n",
       "      <td>2010</td>\n",
       "      <td>Positive</td>\n",
       "      <td>8</td>\n",
       "    </tr>\n",
       "    <tr>\n",
       "      <th>19</th>\n",
       "      <td>2010</td>\n",
       "      <td>Neutral</td>\n",
       "      <td>1</td>\n",
       "    </tr>\n",
       "    <tr>\n",
       "      <th>10</th>\n",
       "      <td>2010</td>\n",
       "      <td>Negative</td>\n",
       "      <td>5</td>\n",
       "    </tr>\n",
       "    <tr>\n",
       "      <th>2</th>\n",
       "      <td>2012</td>\n",
       "      <td>Positive</td>\n",
       "      <td>16</td>\n",
       "    </tr>\n",
       "    <tr>\n",
       "      <th>16</th>\n",
       "      <td>2012</td>\n",
       "      <td>Neutral</td>\n",
       "      <td>2</td>\n",
       "    </tr>\n",
       "    <tr>\n",
       "      <th>18</th>\n",
       "      <td>2012</td>\n",
       "      <td>Negative</td>\n",
       "      <td>1</td>\n",
       "    </tr>\n",
       "    <tr>\n",
       "      <th>8</th>\n",
       "      <td>2014</td>\n",
       "      <td>Positive</td>\n",
       "      <td>7</td>\n",
       "    </tr>\n",
       "    <tr>\n",
       "      <th>14</th>\n",
       "      <td>2014</td>\n",
       "      <td>Neutral</td>\n",
       "      <td>2</td>\n",
       "    </tr>\n",
       "    <tr>\n",
       "      <th>11</th>\n",
       "      <td>2014</td>\n",
       "      <td>Negative</td>\n",
       "      <td>4</td>\n",
       "    </tr>\n",
       "    <tr>\n",
       "      <th>5</th>\n",
       "      <td>2017</td>\n",
       "      <td>Positive</td>\n",
       "      <td>12</td>\n",
       "    </tr>\n",
       "    <tr>\n",
       "      <th>12</th>\n",
       "      <td>2017</td>\n",
       "      <td>Negative</td>\n",
       "      <td>3</td>\n",
       "    </tr>\n",
       "    <tr>\n",
       "      <th>4</th>\n",
       "      <td>2019</td>\n",
       "      <td>Positive</td>\n",
       "      <td>13</td>\n",
       "    </tr>\n",
       "    <tr>\n",
       "      <th>17</th>\n",
       "      <td>2019</td>\n",
       "      <td>Neutral</td>\n",
       "      <td>1</td>\n",
       "    </tr>\n",
       "    <tr>\n",
       "      <th>13</th>\n",
       "      <td>2019</td>\n",
       "      <td>Negative</td>\n",
       "      <td>3</td>\n",
       "    </tr>\n",
       "    <tr>\n",
       "      <th>1</th>\n",
       "      <td>2020</td>\n",
       "      <td>Positive</td>\n",
       "      <td>17</td>\n",
       "    </tr>\n",
       "    <tr>\n",
       "      <th>3</th>\n",
       "      <td>2020</td>\n",
       "      <td>Negative</td>\n",
       "      <td>14</td>\n",
       "    </tr>\n",
       "  </tbody>\n",
       "</table>\n",
       "</div>"
      ],
      "text/plain": [
       "    Year SentimentLabel  counts\n",
       "6   2006       Positive      11\n",
       "9   2006       Negative       5\n",
       "0   2008       Positive      22\n",
       "20  2008        Neutral       1\n",
       "15  2008       Negative       2\n",
       "7   2010       Positive       8\n",
       "19  2010        Neutral       1\n",
       "10  2010       Negative       5\n",
       "2   2012       Positive      16\n",
       "16  2012        Neutral       2\n",
       "18  2012       Negative       1\n",
       "8   2014       Positive       7\n",
       "14  2014        Neutral       2\n",
       "11  2014       Negative       4\n",
       "5   2017       Positive      12\n",
       "12  2017       Negative       3\n",
       "4   2019       Positive      13\n",
       "17  2019        Neutral       1\n",
       "13  2019       Negative       3\n",
       "1   2020       Positive      17\n",
       "3   2020       Negative      14"
      ]
     },
     "execution_count": 344,
     "metadata": {},
     "output_type": "execute_result"
    }
   ],
   "source": [
    "FreqTable = AlbumLyricsDF[['Year','Sentiment_Label']].value_counts().rename_axis(['Year','SentimentLabel']).reset_index(name='counts')\n",
    "FreqTable\n",
    "\n",
    "#Sort the album diachronically\n",
    "#album_order = [\"Taylor-Swift\",\"Fearless-Taylor-s-Version\",\"Speak-Now\",\"Red\",\"1989\",\"reputation\",\"Lover\",\"folklore\",\"evermore\"]\n",
    "#FreqTable['Album'] = pd.Categorical(FreqTable.Album, categories=album_order, ordered=True)\n",
    "#Sort the order in SentimentLabel\n",
    "FreqTableSorted = FreqTable.sort_values(['Year','SentimentLabel'], ascending = [True, False])\n",
    "FreqTableSorted\n"
   ]
  },
  {
   "cell_type": "code",
   "execution_count": 345,
   "metadata": {},
   "outputs": [
    {
     "data": {
      "application/vnd.plotly.v1+json": {
       "config": {
        "plotlyServerURL": "https://plot.ly"
       },
       "data": [
        {
         "alignmentgroup": "True",
         "bingroup": "x",
         "histfunc": "sum",
         "hovertemplate": "color=Positive<br>Years=%{x}<br>sum of Sentiment (normalized as percent)=%{y}<extra></extra>",
         "legendgroup": "Positive",
         "marker": {
          "color": "rgb(102, 197, 204)",
          "pattern": {
           "shape": ""
          }
         },
         "name": "Positive",
         "offsetgroup": "Positive",
         "orientation": "v",
         "showlegend": true,
         "type": "histogram",
         "x": [
          2006,
          2008,
          2010,
          2012,
          2014,
          2017,
          2019,
          2020
         ],
         "xaxis": "x",
         "y": [
          11,
          22,
          8,
          16,
          7,
          12,
          13,
          17
         ],
         "yaxis": "y"
        },
        {
         "alignmentgroup": "True",
         "bingroup": "x",
         "histfunc": "sum",
         "hovertemplate": "color=Negative<br>Years=%{x}<br>sum of Sentiment (normalized as percent)=%{y}<extra></extra>",
         "legendgroup": "Negative",
         "marker": {
          "color": "rgb(246, 207, 113)",
          "pattern": {
           "shape": ""
          }
         },
         "name": "Negative",
         "offsetgroup": "Negative",
         "orientation": "v",
         "showlegend": true,
         "type": "histogram",
         "x": [
          2006,
          2008,
          2010,
          2012,
          2014,
          2017,
          2019,
          2020
         ],
         "xaxis": "x",
         "y": [
          5,
          2,
          5,
          1,
          4,
          3,
          3,
          14
         ],
         "yaxis": "y"
        },
        {
         "alignmentgroup": "True",
         "bingroup": "x",
         "histfunc": "sum",
         "hovertemplate": "color=Neutral<br>Years=%{x}<br>sum of Sentiment (normalized as percent)=%{y}<extra></extra>",
         "legendgroup": "Neutral",
         "marker": {
          "color": "rgb(248, 156, 116)",
          "pattern": {
           "shape": ""
          }
         },
         "name": "Neutral",
         "offsetgroup": "Neutral",
         "orientation": "v",
         "showlegend": true,
         "type": "histogram",
         "x": [
          2008,
          2010,
          2012,
          2014,
          2019
         ],
         "xaxis": "x",
         "y": [
          1,
          1,
          2,
          2,
          1
         ],
         "yaxis": "y"
        }
       ],
       "layout": {
        "barmode": "relative",
        "barnorm": "percent",
        "height": 600,
        "legend": {
         "title": {
          "text": "color"
         },
         "tracegroupgap": 0
        },
        "template": {
         "data": {
          "bar": [
           {
            "error_x": {
             "color": "#2a3f5f"
            },
            "error_y": {
             "color": "#2a3f5f"
            },
            "marker": {
             "line": {
              "color": "#E5ECF6",
              "width": 0.5
             },
             "pattern": {
              "fillmode": "overlay",
              "size": 10,
              "solidity": 0.2
             }
            },
            "type": "bar"
           }
          ],
          "barpolar": [
           {
            "marker": {
             "line": {
              "color": "#E5ECF6",
              "width": 0.5
             },
             "pattern": {
              "fillmode": "overlay",
              "size": 10,
              "solidity": 0.2
             }
            },
            "type": "barpolar"
           }
          ],
          "carpet": [
           {
            "aaxis": {
             "endlinecolor": "#2a3f5f",
             "gridcolor": "white",
             "linecolor": "white",
             "minorgridcolor": "white",
             "startlinecolor": "#2a3f5f"
            },
            "baxis": {
             "endlinecolor": "#2a3f5f",
             "gridcolor": "white",
             "linecolor": "white",
             "minorgridcolor": "white",
             "startlinecolor": "#2a3f5f"
            },
            "type": "carpet"
           }
          ],
          "choropleth": [
           {
            "colorbar": {
             "outlinewidth": 0,
             "ticks": ""
            },
            "type": "choropleth"
           }
          ],
          "contour": [
           {
            "colorbar": {
             "outlinewidth": 0,
             "ticks": ""
            },
            "colorscale": [
             [
              0,
              "#0d0887"
             ],
             [
              0.1111111111111111,
              "#46039f"
             ],
             [
              0.2222222222222222,
              "#7201a8"
             ],
             [
              0.3333333333333333,
              "#9c179e"
             ],
             [
              0.4444444444444444,
              "#bd3786"
             ],
             [
              0.5555555555555556,
              "#d8576b"
             ],
             [
              0.6666666666666666,
              "#ed7953"
             ],
             [
              0.7777777777777778,
              "#fb9f3a"
             ],
             [
              0.8888888888888888,
              "#fdca26"
             ],
             [
              1,
              "#f0f921"
             ]
            ],
            "type": "contour"
           }
          ],
          "contourcarpet": [
           {
            "colorbar": {
             "outlinewidth": 0,
             "ticks": ""
            },
            "type": "contourcarpet"
           }
          ],
          "heatmap": [
           {
            "colorbar": {
             "outlinewidth": 0,
             "ticks": ""
            },
            "colorscale": [
             [
              0,
              "#0d0887"
             ],
             [
              0.1111111111111111,
              "#46039f"
             ],
             [
              0.2222222222222222,
              "#7201a8"
             ],
             [
              0.3333333333333333,
              "#9c179e"
             ],
             [
              0.4444444444444444,
              "#bd3786"
             ],
             [
              0.5555555555555556,
              "#d8576b"
             ],
             [
              0.6666666666666666,
              "#ed7953"
             ],
             [
              0.7777777777777778,
              "#fb9f3a"
             ],
             [
              0.8888888888888888,
              "#fdca26"
             ],
             [
              1,
              "#f0f921"
             ]
            ],
            "type": "heatmap"
           }
          ],
          "heatmapgl": [
           {
            "colorbar": {
             "outlinewidth": 0,
             "ticks": ""
            },
            "colorscale": [
             [
              0,
              "#0d0887"
             ],
             [
              0.1111111111111111,
              "#46039f"
             ],
             [
              0.2222222222222222,
              "#7201a8"
             ],
             [
              0.3333333333333333,
              "#9c179e"
             ],
             [
              0.4444444444444444,
              "#bd3786"
             ],
             [
              0.5555555555555556,
              "#d8576b"
             ],
             [
              0.6666666666666666,
              "#ed7953"
             ],
             [
              0.7777777777777778,
              "#fb9f3a"
             ],
             [
              0.8888888888888888,
              "#fdca26"
             ],
             [
              1,
              "#f0f921"
             ]
            ],
            "type": "heatmapgl"
           }
          ],
          "histogram": [
           {
            "marker": {
             "pattern": {
              "fillmode": "overlay",
              "size": 10,
              "solidity": 0.2
             }
            },
            "type": "histogram"
           }
          ],
          "histogram2d": [
           {
            "colorbar": {
             "outlinewidth": 0,
             "ticks": ""
            },
            "colorscale": [
             [
              0,
              "#0d0887"
             ],
             [
              0.1111111111111111,
              "#46039f"
             ],
             [
              0.2222222222222222,
              "#7201a8"
             ],
             [
              0.3333333333333333,
              "#9c179e"
             ],
             [
              0.4444444444444444,
              "#bd3786"
             ],
             [
              0.5555555555555556,
              "#d8576b"
             ],
             [
              0.6666666666666666,
              "#ed7953"
             ],
             [
              0.7777777777777778,
              "#fb9f3a"
             ],
             [
              0.8888888888888888,
              "#fdca26"
             ],
             [
              1,
              "#f0f921"
             ]
            ],
            "type": "histogram2d"
           }
          ],
          "histogram2dcontour": [
           {
            "colorbar": {
             "outlinewidth": 0,
             "ticks": ""
            },
            "colorscale": [
             [
              0,
              "#0d0887"
             ],
             [
              0.1111111111111111,
              "#46039f"
             ],
             [
              0.2222222222222222,
              "#7201a8"
             ],
             [
              0.3333333333333333,
              "#9c179e"
             ],
             [
              0.4444444444444444,
              "#bd3786"
             ],
             [
              0.5555555555555556,
              "#d8576b"
             ],
             [
              0.6666666666666666,
              "#ed7953"
             ],
             [
              0.7777777777777778,
              "#fb9f3a"
             ],
             [
              0.8888888888888888,
              "#fdca26"
             ],
             [
              1,
              "#f0f921"
             ]
            ],
            "type": "histogram2dcontour"
           }
          ],
          "mesh3d": [
           {
            "colorbar": {
             "outlinewidth": 0,
             "ticks": ""
            },
            "type": "mesh3d"
           }
          ],
          "parcoords": [
           {
            "line": {
             "colorbar": {
              "outlinewidth": 0,
              "ticks": ""
             }
            },
            "type": "parcoords"
           }
          ],
          "pie": [
           {
            "automargin": true,
            "type": "pie"
           }
          ],
          "scatter": [
           {
            "marker": {
             "colorbar": {
              "outlinewidth": 0,
              "ticks": ""
             }
            },
            "type": "scatter"
           }
          ],
          "scatter3d": [
           {
            "line": {
             "colorbar": {
              "outlinewidth": 0,
              "ticks": ""
             }
            },
            "marker": {
             "colorbar": {
              "outlinewidth": 0,
              "ticks": ""
             }
            },
            "type": "scatter3d"
           }
          ],
          "scattercarpet": [
           {
            "marker": {
             "colorbar": {
              "outlinewidth": 0,
              "ticks": ""
             }
            },
            "type": "scattercarpet"
           }
          ],
          "scattergeo": [
           {
            "marker": {
             "colorbar": {
              "outlinewidth": 0,
              "ticks": ""
             }
            },
            "type": "scattergeo"
           }
          ],
          "scattergl": [
           {
            "marker": {
             "colorbar": {
              "outlinewidth": 0,
              "ticks": ""
             }
            },
            "type": "scattergl"
           }
          ],
          "scattermapbox": [
           {
            "marker": {
             "colorbar": {
              "outlinewidth": 0,
              "ticks": ""
             }
            },
            "type": "scattermapbox"
           }
          ],
          "scatterpolar": [
           {
            "marker": {
             "colorbar": {
              "outlinewidth": 0,
              "ticks": ""
             }
            },
            "type": "scatterpolar"
           }
          ],
          "scatterpolargl": [
           {
            "marker": {
             "colorbar": {
              "outlinewidth": 0,
              "ticks": ""
             }
            },
            "type": "scatterpolargl"
           }
          ],
          "scatterternary": [
           {
            "marker": {
             "colorbar": {
              "outlinewidth": 0,
              "ticks": ""
             }
            },
            "type": "scatterternary"
           }
          ],
          "surface": [
           {
            "colorbar": {
             "outlinewidth": 0,
             "ticks": ""
            },
            "colorscale": [
             [
              0,
              "#0d0887"
             ],
             [
              0.1111111111111111,
              "#46039f"
             ],
             [
              0.2222222222222222,
              "#7201a8"
             ],
             [
              0.3333333333333333,
              "#9c179e"
             ],
             [
              0.4444444444444444,
              "#bd3786"
             ],
             [
              0.5555555555555556,
              "#d8576b"
             ],
             [
              0.6666666666666666,
              "#ed7953"
             ],
             [
              0.7777777777777778,
              "#fb9f3a"
             ],
             [
              0.8888888888888888,
              "#fdca26"
             ],
             [
              1,
              "#f0f921"
             ]
            ],
            "type": "surface"
           }
          ],
          "table": [
           {
            "cells": {
             "fill": {
              "color": "#EBF0F8"
             },
             "line": {
              "color": "white"
             }
            },
            "header": {
             "fill": {
              "color": "#C8D4E3"
             },
             "line": {
              "color": "white"
             }
            },
            "type": "table"
           }
          ]
         },
         "layout": {
          "annotationdefaults": {
           "arrowcolor": "#2a3f5f",
           "arrowhead": 0,
           "arrowwidth": 1
          },
          "autotypenumbers": "strict",
          "coloraxis": {
           "colorbar": {
            "outlinewidth": 0,
            "ticks": ""
           }
          },
          "colorscale": {
           "diverging": [
            [
             0,
             "#8e0152"
            ],
            [
             0.1,
             "#c51b7d"
            ],
            [
             0.2,
             "#de77ae"
            ],
            [
             0.3,
             "#f1b6da"
            ],
            [
             0.4,
             "#fde0ef"
            ],
            [
             0.5,
             "#f7f7f7"
            ],
            [
             0.6,
             "#e6f5d0"
            ],
            [
             0.7,
             "#b8e186"
            ],
            [
             0.8,
             "#7fbc41"
            ],
            [
             0.9,
             "#4d9221"
            ],
            [
             1,
             "#276419"
            ]
           ],
           "sequential": [
            [
             0,
             "#0d0887"
            ],
            [
             0.1111111111111111,
             "#46039f"
            ],
            [
             0.2222222222222222,
             "#7201a8"
            ],
            [
             0.3333333333333333,
             "#9c179e"
            ],
            [
             0.4444444444444444,
             "#bd3786"
            ],
            [
             0.5555555555555556,
             "#d8576b"
            ],
            [
             0.6666666666666666,
             "#ed7953"
            ],
            [
             0.7777777777777778,
             "#fb9f3a"
            ],
            [
             0.8888888888888888,
             "#fdca26"
            ],
            [
             1,
             "#f0f921"
            ]
           ],
           "sequentialminus": [
            [
             0,
             "#0d0887"
            ],
            [
             0.1111111111111111,
             "#46039f"
            ],
            [
             0.2222222222222222,
             "#7201a8"
            ],
            [
             0.3333333333333333,
             "#9c179e"
            ],
            [
             0.4444444444444444,
             "#bd3786"
            ],
            [
             0.5555555555555556,
             "#d8576b"
            ],
            [
             0.6666666666666666,
             "#ed7953"
            ],
            [
             0.7777777777777778,
             "#fb9f3a"
            ],
            [
             0.8888888888888888,
             "#fdca26"
            ],
            [
             1,
             "#f0f921"
            ]
           ]
          },
          "colorway": [
           "#636efa",
           "#EF553B",
           "#00cc96",
           "#ab63fa",
           "#FFA15A",
           "#19d3f3",
           "#FF6692",
           "#B6E880",
           "#FF97FF",
           "#FECB52"
          ],
          "font": {
           "color": "#2a3f5f"
          },
          "geo": {
           "bgcolor": "white",
           "lakecolor": "white",
           "landcolor": "#E5ECF6",
           "showlakes": true,
           "showland": true,
           "subunitcolor": "white"
          },
          "hoverlabel": {
           "align": "left"
          },
          "hovermode": "closest",
          "mapbox": {
           "style": "light"
          },
          "paper_bgcolor": "white",
          "plot_bgcolor": "#E5ECF6",
          "polar": {
           "angularaxis": {
            "gridcolor": "white",
            "linecolor": "white",
            "ticks": ""
           },
           "bgcolor": "#E5ECF6",
           "radialaxis": {
            "gridcolor": "white",
            "linecolor": "white",
            "ticks": ""
           }
          },
          "scene": {
           "xaxis": {
            "backgroundcolor": "#E5ECF6",
            "gridcolor": "white",
            "gridwidth": 2,
            "linecolor": "white",
            "showbackground": true,
            "ticks": "",
            "zerolinecolor": "white"
           },
           "yaxis": {
            "backgroundcolor": "#E5ECF6",
            "gridcolor": "white",
            "gridwidth": 2,
            "linecolor": "white",
            "showbackground": true,
            "ticks": "",
            "zerolinecolor": "white"
           },
           "zaxis": {
            "backgroundcolor": "#E5ECF6",
            "gridcolor": "white",
            "gridwidth": 2,
            "linecolor": "white",
            "showbackground": true,
            "ticks": "",
            "zerolinecolor": "white"
           }
          },
          "shapedefaults": {
           "line": {
            "color": "#2a3f5f"
           }
          },
          "ternary": {
           "aaxis": {
            "gridcolor": "white",
            "linecolor": "white",
            "ticks": ""
           },
           "baxis": {
            "gridcolor": "white",
            "linecolor": "white",
            "ticks": ""
           },
           "bgcolor": "#E5ECF6",
           "caxis": {
            "gridcolor": "white",
            "linecolor": "white",
            "ticks": ""
           }
          },
          "title": {
           "x": 0.05
          },
          "xaxis": {
           "automargin": true,
           "gridcolor": "white",
           "linecolor": "white",
           "ticks": "",
           "title": {
            "standoff": 15
           },
           "zerolinecolor": "white",
           "zerolinewidth": 2
          },
          "yaxis": {
           "automargin": true,
           "gridcolor": "white",
           "linecolor": "white",
           "ticks": "",
           "title": {
            "standoff": 15
           },
           "zerolinecolor": "white",
           "zerolinewidth": 2
          }
         }
        },
        "title": {
         "text": "Sentiments in Taylor Swift Songs by Year"
        },
        "width": 800,
        "xaxis": {
         "anchor": "y",
         "domain": [
          0,
          1
         ],
         "title": {
          "text": "Years"
         },
         "type": "category"
        },
        "yaxis": {
         "anchor": "x",
         "domain": [
          0,
          1
         ],
         "title": {
          "text": "sum of Sentiment (normalized as percent)"
         }
        }
       }
      },
      "text/html": [
       "<div>                            <div id=\"1cae3880-4a67-452d-8a2b-df59b026beb6\" class=\"plotly-graph-div\" style=\"height:600px; width:800px;\"></div>            <script type=\"text/javascript\">                require([\"plotly\"], function(Plotly) {                    window.PLOTLYENV=window.PLOTLYENV || {};                                    if (document.getElementById(\"1cae3880-4a67-452d-8a2b-df59b026beb6\")) {                    Plotly.newPlot(                        \"1cae3880-4a67-452d-8a2b-df59b026beb6\",                        [{\"alignmentgroup\":\"True\",\"bingroup\":\"x\",\"histfunc\":\"sum\",\"hovertemplate\":\"color=Positive<br>Years=%{x}<br>sum of Sentiment (normalized as percent)=%{y}<extra></extra>\",\"legendgroup\":\"Positive\",\"marker\":{\"color\":\"rgb(102, 197, 204)\",\"pattern\":{\"shape\":\"\"}},\"name\":\"Positive\",\"offsetgroup\":\"Positive\",\"orientation\":\"v\",\"showlegend\":true,\"type\":\"histogram\",\"x\":[2006,2008,2010,2012,2014,2017,2019,2020],\"xaxis\":\"x\",\"y\":[11,22,8,16,7,12,13,17],\"yaxis\":\"y\"},{\"alignmentgroup\":\"True\",\"bingroup\":\"x\",\"histfunc\":\"sum\",\"hovertemplate\":\"color=Negative<br>Years=%{x}<br>sum of Sentiment (normalized as percent)=%{y}<extra></extra>\",\"legendgroup\":\"Negative\",\"marker\":{\"color\":\"rgb(246, 207, 113)\",\"pattern\":{\"shape\":\"\"}},\"name\":\"Negative\",\"offsetgroup\":\"Negative\",\"orientation\":\"v\",\"showlegend\":true,\"type\":\"histogram\",\"x\":[2006,2008,2010,2012,2014,2017,2019,2020],\"xaxis\":\"x\",\"y\":[5,2,5,1,4,3,3,14],\"yaxis\":\"y\"},{\"alignmentgroup\":\"True\",\"bingroup\":\"x\",\"histfunc\":\"sum\",\"hovertemplate\":\"color=Neutral<br>Years=%{x}<br>sum of Sentiment (normalized as percent)=%{y}<extra></extra>\",\"legendgroup\":\"Neutral\",\"marker\":{\"color\":\"rgb(248, 156, 116)\",\"pattern\":{\"shape\":\"\"}},\"name\":\"Neutral\",\"offsetgroup\":\"Neutral\",\"orientation\":\"v\",\"showlegend\":true,\"type\":\"histogram\",\"x\":[2008,2010,2012,2014,2019],\"xaxis\":\"x\",\"y\":[1,1,2,2,1],\"yaxis\":\"y\"}],                        {\"barmode\":\"relative\",\"barnorm\":\"percent\",\"height\":600,\"legend\":{\"title\":{\"text\":\"color\"},\"tracegroupgap\":0},\"template\":{\"data\":{\"bar\":[{\"error_x\":{\"color\":\"#2a3f5f\"},\"error_y\":{\"color\":\"#2a3f5f\"},\"marker\":{\"line\":{\"color\":\"#E5ECF6\",\"width\":0.5},\"pattern\":{\"fillmode\":\"overlay\",\"size\":10,\"solidity\":0.2}},\"type\":\"bar\"}],\"barpolar\":[{\"marker\":{\"line\":{\"color\":\"#E5ECF6\",\"width\":0.5},\"pattern\":{\"fillmode\":\"overlay\",\"size\":10,\"solidity\":0.2}},\"type\":\"barpolar\"}],\"carpet\":[{\"aaxis\":{\"endlinecolor\":\"#2a3f5f\",\"gridcolor\":\"white\",\"linecolor\":\"white\",\"minorgridcolor\":\"white\",\"startlinecolor\":\"#2a3f5f\"},\"baxis\":{\"endlinecolor\":\"#2a3f5f\",\"gridcolor\":\"white\",\"linecolor\":\"white\",\"minorgridcolor\":\"white\",\"startlinecolor\":\"#2a3f5f\"},\"type\":\"carpet\"}],\"choropleth\":[{\"colorbar\":{\"outlinewidth\":0,\"ticks\":\"\"},\"type\":\"choropleth\"}],\"contour\":[{\"colorbar\":{\"outlinewidth\":0,\"ticks\":\"\"},\"colorscale\":[[0.0,\"#0d0887\"],[0.1111111111111111,\"#46039f\"],[0.2222222222222222,\"#7201a8\"],[0.3333333333333333,\"#9c179e\"],[0.4444444444444444,\"#bd3786\"],[0.5555555555555556,\"#d8576b\"],[0.6666666666666666,\"#ed7953\"],[0.7777777777777778,\"#fb9f3a\"],[0.8888888888888888,\"#fdca26\"],[1.0,\"#f0f921\"]],\"type\":\"contour\"}],\"contourcarpet\":[{\"colorbar\":{\"outlinewidth\":0,\"ticks\":\"\"},\"type\":\"contourcarpet\"}],\"heatmap\":[{\"colorbar\":{\"outlinewidth\":0,\"ticks\":\"\"},\"colorscale\":[[0.0,\"#0d0887\"],[0.1111111111111111,\"#46039f\"],[0.2222222222222222,\"#7201a8\"],[0.3333333333333333,\"#9c179e\"],[0.4444444444444444,\"#bd3786\"],[0.5555555555555556,\"#d8576b\"],[0.6666666666666666,\"#ed7953\"],[0.7777777777777778,\"#fb9f3a\"],[0.8888888888888888,\"#fdca26\"],[1.0,\"#f0f921\"]],\"type\":\"heatmap\"}],\"heatmapgl\":[{\"colorbar\":{\"outlinewidth\":0,\"ticks\":\"\"},\"colorscale\":[[0.0,\"#0d0887\"],[0.1111111111111111,\"#46039f\"],[0.2222222222222222,\"#7201a8\"],[0.3333333333333333,\"#9c179e\"],[0.4444444444444444,\"#bd3786\"],[0.5555555555555556,\"#d8576b\"],[0.6666666666666666,\"#ed7953\"],[0.7777777777777778,\"#fb9f3a\"],[0.8888888888888888,\"#fdca26\"],[1.0,\"#f0f921\"]],\"type\":\"heatmapgl\"}],\"histogram\":[{\"marker\":{\"pattern\":{\"fillmode\":\"overlay\",\"size\":10,\"solidity\":0.2}},\"type\":\"histogram\"}],\"histogram2d\":[{\"colorbar\":{\"outlinewidth\":0,\"ticks\":\"\"},\"colorscale\":[[0.0,\"#0d0887\"],[0.1111111111111111,\"#46039f\"],[0.2222222222222222,\"#7201a8\"],[0.3333333333333333,\"#9c179e\"],[0.4444444444444444,\"#bd3786\"],[0.5555555555555556,\"#d8576b\"],[0.6666666666666666,\"#ed7953\"],[0.7777777777777778,\"#fb9f3a\"],[0.8888888888888888,\"#fdca26\"],[1.0,\"#f0f921\"]],\"type\":\"histogram2d\"}],\"histogram2dcontour\":[{\"colorbar\":{\"outlinewidth\":0,\"ticks\":\"\"},\"colorscale\":[[0.0,\"#0d0887\"],[0.1111111111111111,\"#46039f\"],[0.2222222222222222,\"#7201a8\"],[0.3333333333333333,\"#9c179e\"],[0.4444444444444444,\"#bd3786\"],[0.5555555555555556,\"#d8576b\"],[0.6666666666666666,\"#ed7953\"],[0.7777777777777778,\"#fb9f3a\"],[0.8888888888888888,\"#fdca26\"],[1.0,\"#f0f921\"]],\"type\":\"histogram2dcontour\"}],\"mesh3d\":[{\"colorbar\":{\"outlinewidth\":0,\"ticks\":\"\"},\"type\":\"mesh3d\"}],\"parcoords\":[{\"line\":{\"colorbar\":{\"outlinewidth\":0,\"ticks\":\"\"}},\"type\":\"parcoords\"}],\"pie\":[{\"automargin\":true,\"type\":\"pie\"}],\"scatter\":[{\"marker\":{\"colorbar\":{\"outlinewidth\":0,\"ticks\":\"\"}},\"type\":\"scatter\"}],\"scatter3d\":[{\"line\":{\"colorbar\":{\"outlinewidth\":0,\"ticks\":\"\"}},\"marker\":{\"colorbar\":{\"outlinewidth\":0,\"ticks\":\"\"}},\"type\":\"scatter3d\"}],\"scattercarpet\":[{\"marker\":{\"colorbar\":{\"outlinewidth\":0,\"ticks\":\"\"}},\"type\":\"scattercarpet\"}],\"scattergeo\":[{\"marker\":{\"colorbar\":{\"outlinewidth\":0,\"ticks\":\"\"}},\"type\":\"scattergeo\"}],\"scattergl\":[{\"marker\":{\"colorbar\":{\"outlinewidth\":0,\"ticks\":\"\"}},\"type\":\"scattergl\"}],\"scattermapbox\":[{\"marker\":{\"colorbar\":{\"outlinewidth\":0,\"ticks\":\"\"}},\"type\":\"scattermapbox\"}],\"scatterpolar\":[{\"marker\":{\"colorbar\":{\"outlinewidth\":0,\"ticks\":\"\"}},\"type\":\"scatterpolar\"}],\"scatterpolargl\":[{\"marker\":{\"colorbar\":{\"outlinewidth\":0,\"ticks\":\"\"}},\"type\":\"scatterpolargl\"}],\"scatterternary\":[{\"marker\":{\"colorbar\":{\"outlinewidth\":0,\"ticks\":\"\"}},\"type\":\"scatterternary\"}],\"surface\":[{\"colorbar\":{\"outlinewidth\":0,\"ticks\":\"\"},\"colorscale\":[[0.0,\"#0d0887\"],[0.1111111111111111,\"#46039f\"],[0.2222222222222222,\"#7201a8\"],[0.3333333333333333,\"#9c179e\"],[0.4444444444444444,\"#bd3786\"],[0.5555555555555556,\"#d8576b\"],[0.6666666666666666,\"#ed7953\"],[0.7777777777777778,\"#fb9f3a\"],[0.8888888888888888,\"#fdca26\"],[1.0,\"#f0f921\"]],\"type\":\"surface\"}],\"table\":[{\"cells\":{\"fill\":{\"color\":\"#EBF0F8\"},\"line\":{\"color\":\"white\"}},\"header\":{\"fill\":{\"color\":\"#C8D4E3\"},\"line\":{\"color\":\"white\"}},\"type\":\"table\"}]},\"layout\":{\"annotationdefaults\":{\"arrowcolor\":\"#2a3f5f\",\"arrowhead\":0,\"arrowwidth\":1},\"autotypenumbers\":\"strict\",\"coloraxis\":{\"colorbar\":{\"outlinewidth\":0,\"ticks\":\"\"}},\"colorscale\":{\"diverging\":[[0,\"#8e0152\"],[0.1,\"#c51b7d\"],[0.2,\"#de77ae\"],[0.3,\"#f1b6da\"],[0.4,\"#fde0ef\"],[0.5,\"#f7f7f7\"],[0.6,\"#e6f5d0\"],[0.7,\"#b8e186\"],[0.8,\"#7fbc41\"],[0.9,\"#4d9221\"],[1,\"#276419\"]],\"sequential\":[[0.0,\"#0d0887\"],[0.1111111111111111,\"#46039f\"],[0.2222222222222222,\"#7201a8\"],[0.3333333333333333,\"#9c179e\"],[0.4444444444444444,\"#bd3786\"],[0.5555555555555556,\"#d8576b\"],[0.6666666666666666,\"#ed7953\"],[0.7777777777777778,\"#fb9f3a\"],[0.8888888888888888,\"#fdca26\"],[1.0,\"#f0f921\"]],\"sequentialminus\":[[0.0,\"#0d0887\"],[0.1111111111111111,\"#46039f\"],[0.2222222222222222,\"#7201a8\"],[0.3333333333333333,\"#9c179e\"],[0.4444444444444444,\"#bd3786\"],[0.5555555555555556,\"#d8576b\"],[0.6666666666666666,\"#ed7953\"],[0.7777777777777778,\"#fb9f3a\"],[0.8888888888888888,\"#fdca26\"],[1.0,\"#f0f921\"]]},\"colorway\":[\"#636efa\",\"#EF553B\",\"#00cc96\",\"#ab63fa\",\"#FFA15A\",\"#19d3f3\",\"#FF6692\",\"#B6E880\",\"#FF97FF\",\"#FECB52\"],\"font\":{\"color\":\"#2a3f5f\"},\"geo\":{\"bgcolor\":\"white\",\"lakecolor\":\"white\",\"landcolor\":\"#E5ECF6\",\"showlakes\":true,\"showland\":true,\"subunitcolor\":\"white\"},\"hoverlabel\":{\"align\":\"left\"},\"hovermode\":\"closest\",\"mapbox\":{\"style\":\"light\"},\"paper_bgcolor\":\"white\",\"plot_bgcolor\":\"#E5ECF6\",\"polar\":{\"angularaxis\":{\"gridcolor\":\"white\",\"linecolor\":\"white\",\"ticks\":\"\"},\"bgcolor\":\"#E5ECF6\",\"radialaxis\":{\"gridcolor\":\"white\",\"linecolor\":\"white\",\"ticks\":\"\"}},\"scene\":{\"xaxis\":{\"backgroundcolor\":\"#E5ECF6\",\"gridcolor\":\"white\",\"gridwidth\":2,\"linecolor\":\"white\",\"showbackground\":true,\"ticks\":\"\",\"zerolinecolor\":\"white\"},\"yaxis\":{\"backgroundcolor\":\"#E5ECF6\",\"gridcolor\":\"white\",\"gridwidth\":2,\"linecolor\":\"white\",\"showbackground\":true,\"ticks\":\"\",\"zerolinecolor\":\"white\"},\"zaxis\":{\"backgroundcolor\":\"#E5ECF6\",\"gridcolor\":\"white\",\"gridwidth\":2,\"linecolor\":\"white\",\"showbackground\":true,\"ticks\":\"\",\"zerolinecolor\":\"white\"}},\"shapedefaults\":{\"line\":{\"color\":\"#2a3f5f\"}},\"ternary\":{\"aaxis\":{\"gridcolor\":\"white\",\"linecolor\":\"white\",\"ticks\":\"\"},\"baxis\":{\"gridcolor\":\"white\",\"linecolor\":\"white\",\"ticks\":\"\"},\"bgcolor\":\"#E5ECF6\",\"caxis\":{\"gridcolor\":\"white\",\"linecolor\":\"white\",\"ticks\":\"\"}},\"title\":{\"x\":0.05},\"xaxis\":{\"automargin\":true,\"gridcolor\":\"white\",\"linecolor\":\"white\",\"ticks\":\"\",\"title\":{\"standoff\":15},\"zerolinecolor\":\"white\",\"zerolinewidth\":2},\"yaxis\":{\"automargin\":true,\"gridcolor\":\"white\",\"linecolor\":\"white\",\"ticks\":\"\",\"title\":{\"standoff\":15},\"zerolinecolor\":\"white\",\"zerolinewidth\":2}}},\"title\":{\"text\":\"Sentiments in Taylor Swift Songs by Year\"},\"width\":800,\"xaxis\":{\"anchor\":\"y\",\"domain\":[0.0,1.0],\"title\":{\"text\":\"Years\"},\"type\":\"category\"},\"yaxis\":{\"anchor\":\"x\",\"domain\":[0.0,1.0],\"title\":{\"text\":\"sum of Sentiment (normalized as percent)\"}}},                        {\"responsive\": true}                    ).then(function(){\n",
       "                            \n",
       "var gd = document.getElementById('1cae3880-4a67-452d-8a2b-df59b026beb6');\n",
       "var x = new MutationObserver(function (mutations, observer) {{\n",
       "        var display = window.getComputedStyle(gd).display;\n",
       "        if (!display || display === 'none') {{\n",
       "            console.log([gd, 'removed!']);\n",
       "            Plotly.purge(gd);\n",
       "            observer.disconnect();\n",
       "        }}\n",
       "}});\n",
       "\n",
       "// Listen for the removal of the full notebook cells\n",
       "var notebookContainer = gd.closest('#notebook-container');\n",
       "if (notebookContainer) {{\n",
       "    x.observe(notebookContainer, {childList: true});\n",
       "}}\n",
       "\n",
       "// Listen for the clearing of the current output cell\n",
       "var outputEl = gd.closest('.output');\n",
       "if (outputEl) {{\n",
       "    x.observe(outputEl, {childList: true});\n",
       "}}\n",
       "\n",
       "                        })                };                });            </script>        </div>"
      ]
     },
     "metadata": {},
     "output_type": "display_data"
    }
   ],
   "source": [
    "import plotly.express as px\n",
    "\n",
    "fig = px.histogram(x=FreqTableSorted.Year, y=FreqTableSorted.counts, color=FreqTableSorted.SentimentLabel,\n",
    "                   color_discrete_sequence=px.colors.qualitative.Pastel,\n",
    "                   title=\"Sentiments in Taylor Swift Songs by Year\",\n",
    "                   labels={'x':'Years','y':'Sentiment'},\n",
    "                   barnorm='percent',\n",
    "                   height=600, width=800)\n",
    "\n",
    "fig.update_xaxes(type=\"category\") #this is necessary if the variable for x axis if numeric, such as years\n",
    "fig.show()"
   ]
  },
  {
   "cell_type": "markdown",
   "metadata": {},
   "source": [
    "## Sentiment Analysis using `TextBlob`"
   ]
  },
  {
   "cell_type": "code",
   "execution_count": 296,
   "metadata": {},
   "outputs": [],
   "source": [
    "# Importing TextBlob\n",
    "from textblob import TextBlob\n",
    "from textblob.sentiments import NaiveBayesAnalyzer"
   ]
  },
  {
   "cell_type": "code",
   "execution_count": 319,
   "metadata": {},
   "outputs": [
    {
     "data": {
      "text/plain": [
       "\"I stay out too late Got nothing in my brain That's what people say, mmm-mmm That's what people say, mmm-mmm I go on too many dates But I can't make them stay At least that's what people say, mmm-mmm That's what people say, mmm-mmm  But I keep cruisin' Can't stop, won't stop movin' It's like I got this music in my mind Sayin' it's gonna be alright  'Cause the players gonna play, play, play, play, play And the haters gonna hate, hate, hate, hate, hate Baby, I'm just gonna shake, shake, shake, shake, shake I shake it off, I shake it off Heartbreakers gonna break, break, break, break, break And the fakers gonna fake, fake, fake, fake, fake Baby, I'm just gonna shake, shake, shake, shake, shake I shake it off, I shake it off I never miss a beat I'm lightning on my feet And that's what they don’t see, mmm-mmm That's what they don’t see, mmm-mmm I'm dancin' on my own (Dancin' on my own) I make the moves up as I go (Moves up as I go) And that's what they don't know, mmm-mmm That’s what they don’t know, mmm-mmm  But I keep cruisin' Can't stop, won't stop groovin' It's like I got this music in my mind Sayin' it's gonna be alright  'Cause the players gonna play, play, play, play, play And the haters gonna hate, hate, hate, hate, hate Baby, I'm just gonna shake, shake, shake, shake, shake I shake it off, I shake it off Heartbreakers gonna break, break, break, break, break And the fakers gonna fake, fake, fake, fake, fake Baby, I'm just gonna shake, shake, shake, shake, shake I shake it off, I shake it off Shake it off, I shake it off I, I, I shake it off, I shake it off I, I, I shake it off, I shake it off I, I, I shake it off, I shake it off  Hey, hey, hey Just think, while you've been gettin' down and out about the liars And the dirty, dirty cheats of the world You could've been gettin' down To this sick beat  My ex-man brought his new girlfriend She's like, “Oh my God!” But I'm just gonna shake And to the fella over there with the hella good hair Won't you come on over, baby? We can shake, shake, shake Yeah, oh, oh, oh  'Cause the players gonna play, play, play, play, play And the haters gonna hate, hate, hate, hate, hate (Haters gonna hate) Baby, I'm just gonna shake, shake, shake, shake, shake I shake it off, I shake it off Heartbreakers gonna break, break, break, break, break (Mmm) And the fakers gonna fake, fake, fake, fake, fake (And fake, and fake, and fake) Baby, I'm just gonna shake, shake, shake, shake, shake I shake it off, I shake it off Shake it off, I shake it off I, I, I shake it off, I shake it off I, I, I shake it off, I shake it off I, I, I shake it off, I shake it off Shake it off, I shake it off I, I, I shake it off, I shake it off I, I, I shake it off, I shake it off I, I, I shake it off, I shake it off (Yeah) Shake it off, I shake it off I, I, I shake it off, I shake it off (You got to) I, I, I shake it off, I shake it off I, I, I shake it off, I shake it off\""
      ]
     },
     "execution_count": 319,
     "metadata": {},
     "output_type": "execute_result"
    }
   ],
   "source": [
    "# Preparing an input sentence\n",
    "sentence = AlbumLyricsDF.loc[AlbumLyricsDF['Song'] == \"Shake-It-Off\", 'Lyrics_Parsed'].item()\n",
    "sentence"
   ]
  },
  {
   "cell_type": "code",
   "execution_count": 317,
   "metadata": {},
   "outputs": [
    {
     "name": "stdout",
     "output_type": "stream",
     "text": [
      "Sentiment(classification='neg', p_pos=0.12591259620177453, p_neg=0.8740874037982165)\n"
     ]
    }
   ],
   "source": [
    "classifier = NaiveBayesAnalyzer()\n",
    "# Applying the NaiveBayesAnalyzer\n",
    "blob_object = TextBlob(sentence, analyzer=classifier)\n",
    "# Running sentiment analysis\n",
    "analysis = blob_object.sentiment\n",
    "print(analysis)"
   ]
  },
  {
   "cell_type": "code",
   "execution_count": 321,
   "metadata": {},
   "outputs": [
    {
     "ename": "AttributeError",
     "evalue": "module 'flair' has no attribute 'nn'",
     "output_type": "error",
     "traceback": [
      "\u001b[0;31m---------------------------------------------------------------------------\u001b[0m",
      "\u001b[0;31mAttributeError\u001b[0m                            Traceback (most recent call last)",
      "\u001b[0;32m<ipython-input-321-07fff9e6a2af>\u001b[0m in \u001b[0;36m<module>\u001b[0;34m\u001b[0m\n\u001b[0;32m----> 1\u001b[0;31m \u001b[0;32mfrom\u001b[0m \u001b[0mflair\u001b[0m\u001b[0;34m.\u001b[0m\u001b[0mmodels\u001b[0m \u001b[0;32mimport\u001b[0m \u001b[0mTextClassifier\u001b[0m\u001b[0;34m\u001b[0m\u001b[0;34m\u001b[0m\u001b[0m\n\u001b[0m\u001b[1;32m      2\u001b[0m \u001b[0;34m\u001b[0m\u001b[0m\n\u001b[1;32m      3\u001b[0m \u001b[0mclassifier\u001b[0m \u001b[0;34m=\u001b[0m \u001b[0mTextClassifier\u001b[0m\u001b[0;34m.\u001b[0m\u001b[0mload\u001b[0m\u001b[0;34m(\u001b[0m\u001b[0;34m'en-sentiment'\u001b[0m\u001b[0;34m)\u001b[0m\u001b[0;34m\u001b[0m\u001b[0;34m\u001b[0m\u001b[0m\n\u001b[1;32m      4\u001b[0m \u001b[0mx\u001b[0m \u001b[0;34m=\u001b[0m \u001b[0mclassifier\u001b[0m\u001b[0;34m.\u001b[0m\u001b[0mpredict\u001b[0m\u001b[0;34m(\u001b[0m\u001b[0msentence\u001b[0m\u001b[0;34m)\u001b[0m\u001b[0;34m\u001b[0m\u001b[0;34m\u001b[0m\u001b[0m\n\u001b[1;32m      5\u001b[0m \u001b[0mx\u001b[0m\u001b[0;34m.\u001b[0m\u001b[0mlabels\u001b[0m\u001b[0;34m\u001b[0m\u001b[0;34m\u001b[0m\u001b[0m\n",
      "\u001b[0;32m~/opt/anaconda3/envs/cat2/lib/python3.7/site-packages/flair/__init__.py\u001b[0m in \u001b[0;36m<module>\u001b[0;34m\u001b[0m\n\u001b[1;32m     18\u001b[0m \u001b[0;34m\u001b[0m\u001b[0m\n\u001b[1;32m     19\u001b[0m \u001b[0;32mfrom\u001b[0m \u001b[0;34m.\u001b[0m \u001b[0;32mimport\u001b[0m \u001b[0mdata\u001b[0m\u001b[0;34m\u001b[0m\u001b[0;34m\u001b[0m\u001b[0m\n\u001b[0;32m---> 20\u001b[0;31m \u001b[0;32mfrom\u001b[0m \u001b[0;34m.\u001b[0m \u001b[0;32mimport\u001b[0m \u001b[0mmodels\u001b[0m\u001b[0;34m\u001b[0m\u001b[0;34m\u001b[0m\u001b[0m\n\u001b[0m\u001b[1;32m     21\u001b[0m \u001b[0;32mfrom\u001b[0m \u001b[0;34m.\u001b[0m \u001b[0;32mimport\u001b[0m \u001b[0mvisual\u001b[0m\u001b[0;34m\u001b[0m\u001b[0;34m\u001b[0m\u001b[0m\n\u001b[1;32m     22\u001b[0m \u001b[0;32mfrom\u001b[0m \u001b[0;34m.\u001b[0m \u001b[0;32mimport\u001b[0m \u001b[0mtrainers\u001b[0m\u001b[0;34m\u001b[0m\u001b[0;34m\u001b[0m\u001b[0m\n",
      "\u001b[0;32m~/opt/anaconda3/envs/cat2/lib/python3.7/site-packages/flair/models/__init__.py\u001b[0m in \u001b[0;36m<module>\u001b[0;34m\u001b[0m\n\u001b[0;32m----> 1\u001b[0;31m \u001b[0;32mfrom\u001b[0m \u001b[0;34m.\u001b[0m\u001b[0msequence_tagger_model\u001b[0m \u001b[0;32mimport\u001b[0m \u001b[0mSequenceTagger\u001b[0m\u001b[0;34m,\u001b[0m \u001b[0mMultiTagger\u001b[0m\u001b[0;34m\u001b[0m\u001b[0;34m\u001b[0m\u001b[0m\n\u001b[0m\u001b[1;32m      2\u001b[0m \u001b[0;32mfrom\u001b[0m \u001b[0;34m.\u001b[0m\u001b[0mlanguage_model\u001b[0m \u001b[0;32mimport\u001b[0m \u001b[0mLanguageModel\u001b[0m\u001b[0;34m\u001b[0m\u001b[0;34m\u001b[0m\u001b[0m\n\u001b[1;32m      3\u001b[0m \u001b[0;32mfrom\u001b[0m \u001b[0;34m.\u001b[0m\u001b[0mtext_classification_model\u001b[0m \u001b[0;32mimport\u001b[0m \u001b[0mTextClassifier\u001b[0m\u001b[0;34m\u001b[0m\u001b[0;34m\u001b[0m\u001b[0m\n\u001b[1;32m      4\u001b[0m \u001b[0;32mfrom\u001b[0m \u001b[0;34m.\u001b[0m\u001b[0mtext_classification_model\u001b[0m \u001b[0;32mimport\u001b[0m \u001b[0mTextPairClassifier\u001b[0m\u001b[0;34m\u001b[0m\u001b[0;34m\u001b[0m\u001b[0m\n",
      "\u001b[0;32m~/opt/anaconda3/envs/cat2/lib/python3.7/site-packages/flair/models/sequence_tagger_model.py\u001b[0m in \u001b[0;36m<module>\u001b[0;34m\u001b[0m\n\u001b[1;32m     67\u001b[0m \u001b[0;34m\u001b[0m\u001b[0m\n\u001b[1;32m     68\u001b[0m \u001b[0;34m\u001b[0m\u001b[0m\n\u001b[0;32m---> 69\u001b[0;31m \u001b[0;32mclass\u001b[0m \u001b[0mSequenceTagger\u001b[0m\u001b[0;34m(\u001b[0m\u001b[0mflair\u001b[0m\u001b[0;34m.\u001b[0m\u001b[0mnn\u001b[0m\u001b[0;34m.\u001b[0m\u001b[0mModel\u001b[0m\u001b[0;34m)\u001b[0m\u001b[0;34m:\u001b[0m\u001b[0;34m\u001b[0m\u001b[0;34m\u001b[0m\u001b[0m\n\u001b[0m\u001b[1;32m     70\u001b[0m     def __init__(\n\u001b[1;32m     71\u001b[0m             \u001b[0mself\u001b[0m\u001b[0;34m,\u001b[0m\u001b[0;34m\u001b[0m\u001b[0;34m\u001b[0m\u001b[0m\n",
      "\u001b[0;31mAttributeError\u001b[0m: module 'flair' has no attribute 'nn'"
     ]
    }
   ],
   "source": [
    "from flair.models import TextClassifier\n",
    "from flair.data import Sentence\n",
    "\n",
    "sentence = AlbumLyricsDF.loc[AlbumLyricsDF['Song'] == \"Shake-It-Off\", 'Lyrics_Parsed'].item()\n",
    "\n",
    "classifier = TextClassifier.load('en-sentiment')\n",
    "s = Sentence(sentence)\n",
    "classifier.predict(s)\n",
    "\n"
   ]
  },
  {
   "cell_type": "code",
   "execution_count": 314,
   "metadata": {},
   "outputs": [
    {
     "name": "stdout",
     "output_type": "stream",
     "text": [
      "Collecting flair\n",
      "  Downloading flair-0.8.0.post1-py3-none-any.whl (284 kB)\n",
      "\u001b[K     |████████████████████████████████| 284 kB 1.3 MB/s eta 0:00:01\n",
      "\u001b[?25hCollecting deprecated>=1.2.4\n",
      "  Downloading Deprecated-1.2.12-py2.py3-none-any.whl (9.5 kB)\n",
      "Collecting mpld3==0.3\n",
      "  Downloading mpld3-0.3.tar.gz (788 kB)\n",
      "\u001b[K     |████████████████████████████████| 788 kB 11.3 MB/s eta 0:00:01     |███████████████████████▊        | 583 kB 11.3 MB/s eta 0:00:01\n",
      "\u001b[?25hCollecting bpemb>=0.3.2\n",
      "  Downloading bpemb-0.3.3-py3-none-any.whl (19 kB)\n",
      "Collecting sqlitedict>=1.6.0\n",
      "  Downloading sqlitedict-1.7.0.tar.gz (28 kB)\n",
      "Requirement already satisfied: matplotlib>=2.2.3 in /Users/marcwu/opt/anaconda3/envs/cat2/lib/python3.7/site-packages (from flair) (3.3.4)\n",
      "Collecting konoha<5.0.0,>=4.0.0\n",
      "  Downloading konoha-4.6.5-py3-none-any.whl (20 kB)\n",
      "Collecting huggingface-hub\n",
      "  Downloading huggingface_hub-0.0.12-py3-none-any.whl (37 kB)\n",
      "Requirement already satisfied: tqdm>=4.26.0 in /Users/marcwu/opt/anaconda3/envs/cat2/lib/python3.7/site-packages (from flair) (4.59.0)\n",
      "Collecting gdown==3.12.2\n",
      "  Downloading gdown-3.12.2.tar.gz (8.2 kB)\n",
      "  Installing build dependencies ... \u001b[?25ldone\n",
      "\u001b[?25h  Getting requirements to build wheel ... \u001b[?25ldone\n",
      "\u001b[?25h    Preparing wheel metadata ... \u001b[?25ldone\n",
      "\u001b[?25hCollecting gensim<=3.8.3,>=3.4.0\n",
      "  Downloading gensim-3.8.3-cp37-cp37m-macosx_10_9_x86_64.whl (24.2 MB)\n",
      "\u001b[K     |████████████████████████████████| 24.2 MB 26.7 MB/s eta 0:00:01\n",
      "\u001b[?25hRequirement already satisfied: transformers>=4.0.0 in /Users/marcwu/opt/anaconda3/envs/cat2/lib/python3.7/site-packages (from flair) (4.2.2)\n",
      "Collecting tabulate\n",
      "  Downloading tabulate-0.8.9-py3-none-any.whl (25 kB)\n",
      "Collecting torch<=1.7.1,>=1.5.0\n",
      "  Downloading torch-1.7.1-cp37-none-macosx_10_9_x86_64.whl (108.8 MB)\n",
      "\u001b[K     |████████████████████████████████| 108.8 MB 11.8 MB/s eta 0:00:01  |██▌                             | 8.5 MB 8.2 MB/s eta 0:00:13     |███▌                            | 12.0 MB 3.6 MB/s eta 0:00:27     |█████████▉                      | 33.6 MB 9.6 MB/s eta 0:00:08     |███████████▋                    | 39.6 MB 7.7 MB/s eta 0:00:09     |██████████████▍                 | 49.0 MB 11.1 MB/s eta 0:00:06     |█████████████████               | 58.1 MB 19.0 MB/s eta 0:00:03     |██████████████████████████████▋ | 104.2 MB 11.5 MB/s eta 0:00:01\n",
      "\u001b[?25hCollecting sentencepiece==0.1.95\n",
      "  Downloading sentencepiece-0.1.95-cp37-cp37m-macosx_10_6_x86_64.whl (1.1 MB)\n",
      "\u001b[K     |████████████████████████████████| 1.1 MB 13.9 MB/s eta 0:00:01\n",
      "\u001b[?25hRequirement already satisfied: regex in /Users/marcwu/opt/anaconda3/envs/cat2/lib/python3.7/site-packages (from flair) (2021.3.17)\n",
      "Requirement already satisfied: scikit-learn>=0.21.3 in /Users/marcwu/opt/anaconda3/envs/cat2/lib/python3.7/site-packages (from flair) (0.24.1)\n",
      "Requirement already satisfied: ftfy in /Users/marcwu/opt/anaconda3/envs/cat2/lib/python3.7/site-packages (from flair) (5.9)\n",
      "Collecting langdetect\n",
      "  Downloading langdetect-1.0.9.tar.gz (981 kB)\n",
      "\u001b[K     |████████████████████████████████| 981 kB 14.2 MB/s eta 0:00:01\n",
      "\u001b[?25hCollecting segtok>=1.5.7\n",
      "  Downloading segtok-1.5.10.tar.gz (25 kB)\n",
      "Collecting hyperopt>=0.1.1\n",
      "  Downloading hyperopt-0.2.5-py2.py3-none-any.whl (965 kB)\n",
      "\u001b[K     |████████████████████████████████| 965 kB 17.1 MB/s eta 0:00:01\n",
      "\u001b[?25hCollecting janome\n",
      "  Downloading Janome-0.4.1-py2.py3-none-any.whl (19.7 MB)\n",
      "\u001b[K     |████████████████████████████████| 19.7 MB 15.3 MB/s eta 0:00:01\n",
      "\u001b[?25hRequirement already satisfied: lxml in /Users/marcwu/opt/anaconda3/envs/cat2/lib/python3.7/site-packages (from flair) (4.6.3)\n",
      "Collecting numpy<1.20.0\n",
      "  Downloading numpy-1.19.5-cp37-cp37m-macosx_10_9_x86_64.whl (15.6 MB)\n",
      "\u001b[K     |████████████████████████████████| 15.6 MB 12.9 MB/s eta 0:00:01    |█████████████▌                  | 6.6 MB 14.4 MB/s eta 0:00:01     |█████████████████▎              | 8.4 MB 14.4 MB/s eta 0:00:01\n",
      "\u001b[?25hRequirement already satisfied: python-dateutil>=2.6.1 in /Users/marcwu/opt/anaconda3/envs/cat2/lib/python3.7/site-packages (from flair) (2.8.1)\n",
      "Requirement already satisfied: filelock in /Users/marcwu/opt/anaconda3/envs/cat2/lib/python3.7/site-packages (from gdown==3.12.2->flair) (3.0.12)\n",
      "Requirement already satisfied: requests[socks] in /Users/marcwu/opt/anaconda3/envs/cat2/lib/python3.7/site-packages (from gdown==3.12.2->flair) (2.25.1)\n",
      "Requirement already satisfied: six in /Users/marcwu/opt/anaconda3/envs/cat2/lib/python3.7/site-packages (from gdown==3.12.2->flair) (1.15.0)\n",
      "Collecting wrapt<2,>=1.10\n",
      "  Using cached wrapt-1.12.1.tar.gz (27 kB)\n",
      "Requirement already satisfied: smart-open>=1.8.1 in /Users/marcwu/opt/anaconda3/envs/cat2/lib/python3.7/site-packages (from gensim<=3.8.3,>=3.4.0->flair) (3.0.0)\n",
      "Requirement already satisfied: scipy>=0.18.1 in /Users/marcwu/opt/anaconda3/envs/cat2/lib/python3.7/site-packages (from gensim<=3.8.3,>=3.4.0->flair) (1.6.2)\n",
      "Collecting cloudpickle\n",
      "  Downloading cloudpickle-1.6.0-py3-none-any.whl (23 kB)\n",
      "Collecting future\n",
      "  Downloading future-0.18.2.tar.gz (829 kB)\n",
      "\u001b[K     |████████████████████████████████| 829 kB 3.4 MB/s eta 0:00:01\n",
      "\u001b[?25hRequirement already satisfied: networkx>=2.2 in /Users/marcwu/opt/anaconda3/envs/cat2/lib/python3.7/site-packages (from hyperopt>=0.1.1->flair) (2.5.1)\n",
      "Collecting overrides<4.0.0,>=3.0.0\n",
      "  Downloading overrides-3.1.0.tar.gz (11 kB)\n",
      "Requirement already satisfied: importlib-metadata<4.0.0,>=3.7.0 in /Users/marcwu/opt/anaconda3/envs/cat2/lib/python3.7/site-packages (from konoha<5.0.0,>=4.0.0->flair) (3.7.3)\n",
      "Requirement already satisfied: zipp>=0.5 in /Users/marcwu/opt/anaconda3/envs/cat2/lib/python3.7/site-packages (from importlib-metadata<4.0.0,>=3.7.0->konoha<5.0.0,>=4.0.0->flair) (3.4.1)\n",
      "Requirement already satisfied: typing-extensions>=3.6.4 in /Users/marcwu/opt/anaconda3/envs/cat2/lib/python3.7/site-packages (from importlib-metadata<4.0.0,>=3.7.0->konoha<5.0.0,>=4.0.0->flair) (3.7.4.3)\n",
      "Requirement already satisfied: cycler>=0.10 in /Users/marcwu/opt/anaconda3/envs/cat2/lib/python3.7/site-packages (from matplotlib>=2.2.3->flair) (0.10.0)\n",
      "Requirement already satisfied: kiwisolver>=1.0.1 in /Users/marcwu/opt/anaconda3/envs/cat2/lib/python3.7/site-packages (from matplotlib>=2.2.3->flair) (1.3.1)\n",
      "Requirement already satisfied: pyparsing!=2.0.4,!=2.1.2,!=2.1.6,>=2.0.3 in /Users/marcwu/opt/anaconda3/envs/cat2/lib/python3.7/site-packages (from matplotlib>=2.2.3->flair) (2.4.7)\n",
      "Requirement already satisfied: pillow>=6.2.0 in /Users/marcwu/opt/anaconda3/envs/cat2/lib/python3.7/site-packages (from matplotlib>=2.2.3->flair) (8.1.2)\n",
      "Requirement already satisfied: decorator<5,>=4.3 in /Users/marcwu/opt/anaconda3/envs/cat2/lib/python3.7/site-packages (from networkx>=2.2->hyperopt>=0.1.1->flair) (4.4.2)\n",
      "Requirement already satisfied: chardet<5,>=3.0.2 in /Users/marcwu/opt/anaconda3/envs/cat2/lib/python3.7/site-packages (from requests[socks]->gdown==3.12.2->flair) (4.0.0)\n",
      "Requirement already satisfied: urllib3<1.27,>=1.21.1 in /Users/marcwu/opt/anaconda3/envs/cat2/lib/python3.7/site-packages (from requests[socks]->gdown==3.12.2->flair) (1.26.4)\n",
      "Requirement already satisfied: certifi>=2017.4.17 in /Users/marcwu/opt/anaconda3/envs/cat2/lib/python3.7/site-packages (from requests[socks]->gdown==3.12.2->flair) (2020.12.5)\n",
      "Requirement already satisfied: idna<3,>=2.5 in /Users/marcwu/opt/anaconda3/envs/cat2/lib/python3.7/site-packages (from requests[socks]->gdown==3.12.2->flair) (2.10)\n",
      "Requirement already satisfied: threadpoolctl>=2.0.0 in /Users/marcwu/opt/anaconda3/envs/cat2/lib/python3.7/site-packages (from scikit-learn>=0.21.3->flair) (2.1.0)\n",
      "Requirement already satisfied: joblib>=0.11 in /Users/marcwu/opt/anaconda3/envs/cat2/lib/python3.7/site-packages (from scikit-learn>=0.21.3->flair) (1.0.1)\n",
      "Requirement already satisfied: packaging in /Users/marcwu/opt/anaconda3/envs/cat2/lib/python3.7/site-packages (from transformers>=4.0.0->flair) (20.9)\n",
      "Requirement already satisfied: tokenizers==0.9.4 in /Users/marcwu/opt/anaconda3/envs/cat2/lib/python3.7/site-packages (from transformers>=4.0.0->flair) (0.9.4)\n",
      "Requirement already satisfied: sacremoses in /Users/marcwu/opt/anaconda3/envs/cat2/lib/python3.7/site-packages (from transformers>=4.0.0->flair) (0.0.43)\n",
      "Requirement already satisfied: wcwidth in /Users/marcwu/opt/anaconda3/envs/cat2/lib/python3.7/site-packages (from ftfy->flair) (0.2.5)\n"
     ]
    },
    {
     "name": "stdout",
     "output_type": "stream",
     "text": [
      "Requirement already satisfied: PySocks!=1.5.7,>=1.5.6 in /Users/marcwu/opt/anaconda3/envs/cat2/lib/python3.7/site-packages (from requests[socks]->gdown==3.12.2->flair) (1.7.1)\n",
      "Requirement already satisfied: click in /Users/marcwu/opt/anaconda3/envs/cat2/lib/python3.7/site-packages (from sacremoses->transformers>=4.0.0->flair) (7.1.2)\n",
      "Building wheels for collected packages: gdown, mpld3, overrides, segtok, sqlitedict, wrapt, future, langdetect\n",
      "  Building wheel for gdown (PEP 517) ... \u001b[?25ldone\n",
      "\u001b[?25h  Created wheel for gdown: filename=gdown-3.12.2-py3-none-any.whl size=9693 sha256=8ededd9ceeb562d12b55bf49b2eba8a8155fdb0daa99a563324274922b84325c\n",
      "  Stored in directory: /Users/marcwu/Library/Caches/pip/wheels/ba/e0/7e/726e872a53f7358b4b96a9975b04e98113b005cd8609a63abc\n",
      "  Building wheel for mpld3 (setup.py) ... \u001b[?25ldone\n",
      "\u001b[?25h  Created wheel for mpld3: filename=mpld3-0.3-py3-none-any.whl size=116678 sha256=79f3b8850c4dfc62661250745fe7135245fc07a6ea7321a746ee981c548ecbb4\n",
      "  Stored in directory: /Users/marcwu/Library/Caches/pip/wheels/26/70/6a/1c79e59951a41b4045497da187b2724f5659ca64033cf4548e\n",
      "  Building wheel for overrides (setup.py) ... \u001b[?25ldone\n",
      "\u001b[?25h  Created wheel for overrides: filename=overrides-3.1.0-py3-none-any.whl size=10175 sha256=5ee62050139fd389e6a4162b544ccde2355473544e5ea71aceac78fb8d6288ab\n",
      "  Stored in directory: /Users/marcwu/Library/Caches/pip/wheels/3a/0d/38/01a9bc6e20dcfaf0a6a7b552d03137558ba1c38aea47644682\n",
      "  Building wheel for segtok (setup.py) ... \u001b[?25ldone\n",
      "\u001b[?25h  Created wheel for segtok: filename=segtok-1.5.10-py3-none-any.whl size=25018 sha256=53500f50abb7d5db07beb39cb42c38d7f12a6696c1d4133210b627feb8571d60\n",
      "  Stored in directory: /Users/marcwu/Library/Caches/pip/wheels/67/b7/d0/a121106e61339eee5ed083bc230b1c8dc422c49a5a28c2addd\n",
      "  Building wheel for sqlitedict (setup.py) ... \u001b[?25ldone\n",
      "\u001b[?25h  Created wheel for sqlitedict: filename=sqlitedict-1.7.0-py3-none-any.whl size=14376 sha256=35aeac13ab9e716bf436b80df04dbad748b192b041acc4165dd9943686ccda6e\n",
      "  Stored in directory: /Users/marcwu/Library/Caches/pip/wheels/af/94/06/18c0e83e9e227da8f3582810b51f319bbfd181e508676a56c8\n",
      "  Building wheel for wrapt (setup.py) ... \u001b[?25ldone\n",
      "\u001b[?25h  Created wheel for wrapt: filename=wrapt-1.12.1-cp37-cp37m-macosx_10_9_x86_64.whl size=32553 sha256=7177fae0b7432750469de4945c2c890b34e7477fd8e69bea82cc4bee7957a109\n",
      "  Stored in directory: /Users/marcwu/Library/Caches/pip/wheels/62/76/4c/aa25851149f3f6d9785f6c869387ad82b3fd37582fa8147ac6\n",
      "  Building wheel for future (setup.py) ... \u001b[?25ldone\n",
      "\u001b[?25h  Created wheel for future: filename=future-0.18.2-py3-none-any.whl size=491059 sha256=3937965be11749edb27f00989db99dfa57a4678fe2110b21aa8896bbc6c81960\n",
      "  Stored in directory: /Users/marcwu/Library/Caches/pip/wheels/56/b0/fe/4410d17b32f1f0c3cf54cdfb2bc04d7b4b8f4ae377e2229ba0\n",
      "  Building wheel for langdetect (setup.py) ... \u001b[?25ldone\n",
      "\u001b[?25h  Created wheel for langdetect: filename=langdetect-1.0.9-py3-none-any.whl size=993221 sha256=e39d912c844b57ef0120904158dd3b65da330313c3c5179c75eccdc1f4aba93f\n",
      "  Stored in directory: /Users/marcwu/Library/Caches/pip/wheels/c5/96/8a/f90c59ed25d75e50a8c10a1b1c2d4c402e4dacfa87f3aff36a\n",
      "Successfully built gdown mpld3 overrides segtok sqlitedict wrapt future langdetect\n",
      "Installing collected packages: numpy, wrapt, sentencepiece, overrides, gensim, future, cloudpickle, torch, tabulate, sqlitedict, segtok, mpld3, langdetect, konoha, janome, hyperopt, huggingface-hub, gdown, deprecated, bpemb, flair\n",
      "  Attempting uninstall: numpy\n",
      "    Found existing installation: numpy 1.20.1\n",
      "    Uninstalling numpy-1.20.1:\n",
      "      Successfully uninstalled numpy-1.20.1\n",
      "  Attempting uninstall: torch\n",
      "    Found existing installation: torch 1.8.0\n",
      "    Uninstalling torch-1.8.0:\n",
      "      Successfully uninstalled torch-1.8.0\n",
      "Successfully installed bpemb-0.3.3 cloudpickle-1.6.0 deprecated-1.2.12 flair-0.8.0.post1 future-0.18.2 gdown-3.12.2 gensim-3.8.3 huggingface-hub-0.0.12 hyperopt-0.2.5 janome-0.4.1 konoha-4.6.5 langdetect-1.0.9 mpld3-0.3 numpy-1.20.1 overrides-3.1.0 segtok-1.5.10 sentencepiece-0.1.95 sqlitedict-1.7.0 tabulate-0.8.9 torch-1.7.1 wrapt-1.12.1\n",
      "Note: you may need to restart the kernel to use updated packages.\n"
     ]
    }
   ],
   "source": [
    "pip install flair"
   ]
  },
  {
   "cell_type": "code",
   "execution_count": null,
   "metadata": {},
   "outputs": [],
   "source": []
  }
 ],
 "metadata": {
  "kernelspec": {
   "display_name": "Python [conda env:cat2]",
   "language": "python",
   "name": "conda-env-cat2-py"
  },
  "language_info": {
   "codemirror_mode": {
    "name": "ipython",
    "version": 3
   },
   "file_extension": ".py",
   "mimetype": "text/x-python",
   "name": "python",
   "nbconvert_exporter": "python",
   "pygments_lexer": "ipython3",
   "version": "3.7.10"
  }
 },
 "nbformat": 4,
 "nbformat_minor": 4
}

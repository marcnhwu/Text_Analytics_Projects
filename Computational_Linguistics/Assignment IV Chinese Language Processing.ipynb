{
 "cells": [
  {
   "cell_type": "markdown",
   "metadata": {},
   "source": [
    "4.1. Question 1\n",
    "\n",
    "The csv file dcard-top100.csv includes top 100 posts from Dcard, which a on-line discussion forum for school life in Taiwan. The texts are in the content column.\n",
    "\n",
    "Please preprocess the data by:\n",
    "\n",
    "removing symbols, punctuations, emoticons or other non-linguistic symbols\n",
    "removing stopwords (Please use the stopword list provided in demo_data/stopwords/tomlinNTUB-chinese-stopwords.txt)\n",
    "performing word segmentation on the corpus using ckip-transformer\n",
    "creating a word frequency list of this tiny corpus\n",
    "including only word tokens which have at least two characters in the frequency list"
   ]
  },
  {
   "cell_type": "code",
   "execution_count": 24,
   "metadata": {},
   "outputs": [
    {
     "data": {
      "text/plain": [
       "'部分回應在B117 \\n謝謝各位的留言，我都有看完\\n好的不好的，我都接受謝謝大家🙇\\u200d♀️\\n\\n\\n（第三次更新在這邊）\\nB258 這邊也有講到怎麼逃生\\n很多人好奇我是怎麼踹門的，\\n在這邊跟大家說一下，\\n因為這台車本來就很老舊，\\n加上我文章說的我有停在路邊檢查，\\n之前有在練空手道，所以比較知道怎麼施力😥\\n謝謝大家的關心，其他比較有問題的我會在留言一一回覆！\\n\\n後續處理的部分\\n租車公司的話，他有很多間公司我當時租車的地方在新莊中原路。 \\n我是在平台上訂的，租車公司沒有跟平台講，\\n是我家人主動跟平台聯繫，所有的馬3都被下架。\\n另外，前幾天有開事故會議，\\n平台的律師態度是覺得不需要賠很多錢，\\n因為他在談話中談到想用5000元跟我和解，\\n但是我燒壞的東西跟經歷了那場浩劫的我\\n實在是沒辦法接受\\n難不成一條人命只值5000嗎⋯⋯\\n對這個平台的律師感到非常不解\\n如果和解談不成的話，可能會上訴\\n目前車子在等待第三方鑑定，\\n鑑定完後會再談一次。\\n\\n以下正文\\n2/19號這天，我跟我的朋友們要去台中吃燒烤，因為大家都住在北部，所以想說租一台車一起下去比高鐵便宜，加上大家都會開車，可以輪流開。\\n\\n租車的人是我本人，因為非常臨時租車，所以我上網查到一個平台是提供租車服務，非常方便也很便宜。\\n\\n這是我租車當時的資料。\\n\\nhttps://i.imgur.com/vjtbzMD.jpg\\n\\nhttps://i.imgur.com/sXtHoFy.jpg\\n\\nhttps://i.imgur.com/WgZ9pnD.jpg\\n\\n\\n\\n沒想到我當天取車的時候，老闆跟我說他派錯人手了，請我搭計程車到新莊的總站去牽車\\nhttps://i.imgur.com/95y2NVW.jpg\\n\\n這是我當時去全家按的計程車證明聯。\\n而到了現場，老闆態度還不錯，\\n但因為我在台中的燒肉店有預約下午一點，\\n我跟他說我已經有點被耽誤了，\\n我還要去桃園接我朋友才能一起下去，\\n所以老闆二話不說叫我簽名蓋指紋章後，\\n立馬把車開到門口讓我出發，\\n是已經發動引擎的狀態。（這邊我知道我不應該沒檢查就開出去，真的很後悔）\\n\\n開出去的時候都還好，\\n但是開了10分鐘後我要上快速道路前，\\n我發現我的車子被限速在60，\\n儀表板上面顯示我的車門沒有關好，\\n所以我停在路邊檢查我的車子，\\n我把門關好之後，又繼續開出去，\\n發現車子可以開到100以上以後，\\n我才開上五楊高架，\\n在這中間我發現我的引擎聲很不對勁，\\n可是我已經上高架橋上了沒辦法停下來，\\n直到我踩到100以上的時候，\\n我的車子開始不受控制，聲音超大開始冒白煙\\n我只能往高乘載道上開，\\n因為後面比較沒車我怕車子爆炸波及到別人\\n這是當時的狀況\\nhttps://i.imgur.com/2SMP49P.jpg\\n\\n因為車子已經無法發動，\\n門也被鎖死我被關在裡面，我沒辦法跑出去\\n當下的心情真的很複雜，我只能想辦法把門踹開\\n我用了全力踹門才衝出去，\\n但是我的包包跟所有東西還全部在副駕上\\n因為煙越來越大，開始冒小火，\\n我沒辦法回去拿\\n只有手機在身上\\n這是當時現場的影片跟照片\\nhttps://i.imgur.com/WXZrWYF.jpg\\n\\n\\nhttps://www.dcard.tw/v2/vivid/videos/49754f1e-c061-44ea-b470-ebd6bd4a0401?r=1.7777777777777777\\n\\n\\nhttps://www.dcard.tw/v2/vivid/videos/e995985d-df5b-410f-931e-1630fdfd45da?r=1.7777777777777777\\n\\nhttps://i.imgur.com/apkOsj8.jpg\\n（當時友人剛好經過提供）\\n\\n火勢真的越來越大，那個廢煙也非常大，\\n我裡面的東西最後有被消防員取出，\\n但部分東西全部燒毀，已經沒有殘骸了。\\n\\n這是我的車子最後被燒毀的模樣\\nhttps://i.imgur.com/pMIiQwW.jpg\\nhttps://i.imgur.com/KZslOFY.jpg\\nhttps://i.imgur.com/mSpX1eu.jpg\\n（照片取自ettoday新聞雲）\\n\\n而消防人員鑑定出來，不是人為問題\\n是汽車的機械問題，\\n看照片看得出來是前面開始起火的。\\n警惕大家，以後上路前，要好好檢查車子。\\n\\n為什麼過了這麼久才發出來，\\n其實內心還是有陰影。\\n幸好當時有逃出來，不然我可能已經沒命了。'"
      ]
     },
     "execution_count": 24,
     "metadata": {},
     "output_type": "execute_result"
    }
   ],
   "source": [
    "dcard = pd.read_csv('dcard-top100.csv') \n",
    "content = dcard['content'] #subset the 'content' column\n"
   ]
  },
  {
   "cell_type": "code",
   "execution_count": 17,
   "metadata": {},
   "outputs": [
    {
     "name": "stdout",
     "output_type": "stream",
     "text": [
      "部分回應在B117  謝謝各位的留言我都有看完 好的不好的我都接受謝謝大家️   第三次更新在這邊 B258 這邊也有講到怎麼逃生 很多人好奇我是怎麼踹門的 在這邊跟大家說一下 因為這台車本來就很老舊 加上我文章說的我有停在路邊檢查 之前有在練空手道所以比較知道怎麼施力 謝謝大家的關心其他比較有問題的我會在留言一一回覆  後續處理的部分 租車公司的話他有很多間公司我當時租車的地方在新莊中原路  我是在平台上訂的租車公司沒有跟平台講 是我家人主動跟平台聯繫所有的馬3都被下架 另外前幾天有開事故會議 平台的律師態度是覺得不需要賠很多錢 因為他在談話中談到想用5000元跟我和解 但是我燒壞的東西跟經歷了那場浩劫的我 實在是沒辦法接受 難不成一條人命只值5000嗎 對這個平台的律師感到非常不解 如果和解談不成的話可能會上訴 目前車子在等待第三方鑑定 鑑定完後會再談一次  以下正文 219號這天我跟我的朋友們要去台中吃燒烤因為大家都住在北部所以想說租一台車一起下去比高鐵便宜加上大家都會開車可以輪流開  租車的人是我本人因為非常臨時租車所以我上網查到一個平台是提供租車服務非常方便也很便宜  這是我租車當時的資料          沒想到我當天取車的時候老闆跟我說他派錯人手了請我搭計程車到新莊的總站去牽車   這是我當時去全家按的計程車證明聯 而到了現場老闆態度還不錯 但因為我在台中的燒肉店有預約下午一點 我跟他說我已經有點被耽誤了 我還要去桃園接我朋友才能一起下去 所以老闆二話不說叫我簽名蓋指紋章後 立馬把車開到門口讓我出發 是已經發動引擎的狀態這邊我知道我不應該沒檢查就開出去真的很後悔  開出去的時候都還好 但是開了10分鐘後我要上快速道路前 我發現我的車子被限速在60 儀表板上面顯示我的車門沒有關好 所以我停在路邊檢查我的車子 我把門關好之後又繼續開出去 發現車子可以開到100以上以後 我才開上五楊高架 在這中間我發現我的引擎聲很不對勁 可是我已經上高架橋上了沒辦法停下來 直到我踩到100以上的時候 我的車子開始不受控制聲音超大開始冒白煙 我只能往高乘載道上開 因為後面比較沒車我怕車子爆炸波及到別人 這是當時的狀況   因為車子已經無法發動 門也被鎖死我被關在裡面我沒辦法跑出去 當下的心情真的很複雜我只能想辦法把門踹開 我用了全力踹門才衝出去 但是我的包包跟所有東西還全部在副駕上 因為煙越來越大開始冒小火 我沒辦法回去拿 只有手機在身上 這是當時現場的影片跟照片          當時友人剛好經過提供  火勢真的越來越大那個廢煙也非常大 我裡面的東西最後有被消防員取出 但部分東西全部燒毀已經沒有殘骸了  這是我的車子最後被燒毀的模樣    照片取自ettoday新聞雲  而消防人員鑑定出來不是人為問題 是汽車的機械問題 看照片看得出來是前面開始起火的 警惕大家以後上路前要好好檢查車子  為什麼過了這麼久才發出來 其實內心還是有陰影 幸好當時有逃出來不然我可能已經沒命了\n"
     ]
    }
   ],
   "source": [
    "#read in \n",
    "import re\n",
    "import pandas as pd \n",
    "\n",
    "dcard = pd.read_csv('dcard-top100.csv') \n",
    "content = dcard['content'] #subset the 'content' column\n",
    "#print(content)\n",
    "#type(content) #pandas.core.series.Series\n",
    "\n",
    "# Data clean up\n",
    "# Remove \\n\n",
    "content1 = []\n",
    "for c in content:\n",
    "    content_temp = re.sub(\"\\n\", \" \", c)\n",
    "    content1.append(content_temp)\n",
    "#print(content1[0])\n",
    "\n",
    "# Remove URL\n",
    "content2 = []\n",
    "for c in content1:\n",
    "    content_temp = re.sub(r'https?:\\/\\/\\S+', '', c, flags=re.MULTILINE)\n",
    "    content2.append(content_temp)\n",
    "#print(content2) #str   #one article per line in a list\n",
    "\n",
    "# Remove puncs/symbols   \n",
    "import unicodedata\n",
    "\n",
    "content3 = []\n",
    "for c in content2:\n",
    "    content4 = []\n",
    "    for ch in c:\n",
    "        if unicodedata.category(ch)[0] not in [\"P\", \"S\"]:\n",
    "            content4.append(ch)\n",
    "    content3.append(\"\".join(content4))\n",
    "#print(content3[0])\n",
    "\n",
    "# Remove emoticons\n",
    "def removeEmoji(text):\n",
    "    regrex_pattern = re.compile(pattern = \"[\"\n",
    "        u\"\\U0001F600-\\U0001F64F\"  # emoticons\n",
    "        u\"\\U0001F300-\\U0001F5FF\"  # symbols & pictographs\n",
    "        u\"\\U0001F680-\\U0001F6FF\"  # transport & map symbols\n",
    "        u\"\\U0001F1E0-\\U0001F1FF\"  # flags (iOS)\n",
    "        u\"\\U0001F1F2-\\U0001F1F4\"  # Macau flag\n",
    "        u\"\\U0001F1E6-\\U0001F1FF\"  # flags\n",
    "        u\"\\U0001F600-\\U0001F64F\"\n",
    "        u\"\\U00002702-\\U000027B0\"\n",
    "        #u\"\\U000024C2-\\U0001F251\" #this probably chinese\n",
    "        u\"\\U0001f926-\\U0001f937\"\n",
    "        u\"\\U0001F1F2\"\n",
    "        u\"\\U0001F1F4\"\n",
    "        u\"\\U0001F620\"\n",
    "        u\"\\u200d\"\n",
    "        u\"\\u2640-\\u2642\"\n",
    "        \"]+\", flags = re.UNICODE)\n",
    "    return regrex_pattern.sub(r'',text)\n",
    "\n",
    "content4 = []\n",
    "for c in content3:\n",
    "    content_temp = removeEmoji(c)\n",
    "    content4.append(content_temp)\n",
    "print(content4[0])\n"
   ]
  },
  {
   "cell_type": "code",
   "execution_count": 18,
   "metadata": {},
   "outputs": [
    {
     "name": "stderr",
     "output_type": "stream",
     "text": [
      "Tokenization: 100%|██████████| 100/100 [00:00<00:00, 838.83it/s]\n",
      "Inference: 100%|██████████| 1/1 [04:53<00:00, 293.96s/it]\n"
     ]
    },
    {
     "data": {
      "text/plain": [
       "'部分'"
      ]
     },
     "execution_count": 18,
     "metadata": {},
     "output_type": "execute_result"
    }
   ],
   "source": [
    "#Word segmentation using CKIP_transformers\n",
    "\n",
    "#To stop kernels from dying, run this first.\n",
    "import os\n",
    "os.environ['KMP_DUPLICATE_LIB_OK']='True'\n",
    "\n",
    "import ckip_transformers\n",
    "from ckip_transformers.nlp import CkipWordSegmenter, CkipPosTagger, CkipNerChunker\n",
    "ws_driver = CkipWordSegmenter(level=3, device=-1)\n",
    "\n",
    "ws = ws_driver(content4)\n",
    "\n",
    "complete_wsLIST = []\n",
    "for w in ws:\n",
    "    for words in w:\n",
    "        complete_wsLIST.append(words)\n",
    "complete_wsLIST[0]  #'部分'\n",
    "\n",
    "\n",
    "# Load stopwords\n",
    "stopwords = pd.read_csv('stopwords/tomlinNTUB-chinese-stopwords.txt') \n",
    "stopwordsLIST = []\n",
    "for i in range(len(stopwords[\"$\"])):\n",
    "    stopwordsLIST.append(stopwords[\"$\"][i])\n",
    "\n",
    "# Remove stopwords\n",
    "cleanLIST = []\n",
    "for w in complete_wsLIST:\n",
    "    if w not in stopwordsLIST:\n",
    "        cleanLIST.append(w)\n",
    "\n",
    "#cleanLIST\n",
    "\n",
    "\n",
    "#Tidy up the messy list\n",
    "\n",
    "cleanLIST2 = []\n",
    "for l in cleanLIST:\n",
    "    temp1 = re.sub(\" \", \"\", l)\n",
    "    temp2 = temp1.strip() # remove space at the two ends\n",
    "    cleanLIST2.append(temp2)\n",
    "\n",
    "\n",
    "complete_wsLIST[0]\n"
   ]
  },
  {
   "cell_type": "code",
   "execution_count": null,
   "metadata": {},
   "outputs": [],
   "source": []
  }
 ],
 "metadata": {
  "kernelspec": {
   "display_name": "Python [conda env:cat2]",
   "language": "python",
   "name": "conda-env-cat2-py"
  },
  "language_info": {
   "codemirror_mode": {
    "name": "ipython",
    "version": 3
   },
   "file_extension": ".py",
   "mimetype": "text/x-python",
   "name": "python",
   "nbconvert_exporter": "python",
   "pygments_lexer": "ipython3",
   "version": "3.7.10"
  }
 },
 "nbformat": 4,
 "nbformat_minor": 4
}
